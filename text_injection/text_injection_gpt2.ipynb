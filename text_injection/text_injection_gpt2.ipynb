{
 "cells": [
  {
   "cell_type": "code",
   "execution_count": 1,
   "id": "a4b19dc6-90cb-4bd0-9e0d-bc30135204fa",
   "metadata": {},
   "outputs": [
    {
     "name": "stderr",
     "output_type": "stream",
     "text": [
      "/kuacc/users/bozyurt20/.conda/envs/hf/lib/python3.8/site-packages/fuzzywuzzy/fuzz.py:11: UserWarning: Using slow pure-python SequenceMatcher. Install python-Levenshtein to remove this warning\n",
      "  warnings.warn('Using slow pure-python SequenceMatcher. Install python-Levenshtein to remove this warning')\n"
     ]
    }
   ],
   "source": [
    "from transformers import GPT2Tokenizer, GPT2Model, GPT2LMHeadModel\n",
    "from transformers import AutoTokenizer, AutoModelForSeq2SeqLM\n",
    "from transformers import pipeline\n",
    "\n",
    "import os\n",
    "import nltk\n",
    "import pandas as pd\n",
    "import torch\n",
    "import numpy as np\n",
    "from jinja2 import Template\n",
    "import pickle\n",
    "from collections import defaultdict\n",
    "\n",
    "from fuzzywuzzy import fuzz\n",
    "\n",
    "from nltk.corpus import stopwords\n",
    "from nltk.tokenize import word_tokenize\n",
    "from util_research import *\n",
    "\n",
    "import matplotlib.pyplot as plt\n",
    "from math import log\n",
    "\n",
    "def predictor(text_injection_instance, write_in_file=False, out_path_prefix=\"Text_injection_GPT2-XL_\"):\n",
    "    \n",
    "    # prompt has the max number of tokens: 1024, and we start at a \" \" char.\n",
    "    \n",
    "    model = text_injection_instance.model\n",
    "    tokenizer = text_injection_instance.tokenizer\n",
    "    device = text_injection_instance.device\n",
    "    chapter1 = text_injection_instance.chapter1\n",
    "    chapter2_tokenized = text_injection_instance.chapter2_tokenized\n",
    "    tokens_to_append = text_injection_instance.tokens_to_append\n",
    "\n",
    "    predictions = {}\n",
    "    all_result_objects = defaultdict(list)\n",
    "\n",
    "    for item in dir_list_annotations:\n",
    "        \n",
    "        print(item)\n",
    "        \n",
    "        story_no = item[len(\"Andersen_story\"):-len(\".txt\")]\n",
    "\n",
    "        f = open(os.path.join(path_andersen, item), 'r') \n",
    "        story = f.read()\n",
    "        f.close()\n",
    "        \n",
    "        predictions[item] = defaultdict(dict)\n",
    "\n",
    "        if write_in_file:\n",
    "            out_path = out_path_prefix + item[:-3] + \"xlsx\"\n",
    "            writer = pd.ExcelWriter(out_path, engine='xlsxwriter')\n",
    "            workbook = writer.book\n",
    "            format = workbook.add_format({'text_wrap': True})\n",
    "\n",
    "        annotations = all_annotations[item]\n",
    "\n",
    "        paragraphs = story.split(\"\\n\\n\")\n",
    "        no_paragraphs = len(paragraphs)\n",
    "        paragraph = paragraphs[0]\n",
    "        paragraph = paragraph.replace(\"\\n\", \" \")\n",
    "        len_title = len(paragraph) + 2        \n",
    "\n",
    "        i = 0 # line number in the annotation file\n",
    "        j = 0 # paragraph number\n",
    "\n",
    "        char_count = len_title   \n",
    "\n",
    "        while i < len(annotations) and j < no_paragraphs:\n",
    "\n",
    "            if char_count + 2 >= annotations[i][0]:\n",
    "\n",
    "                line = annotations[i]\n",
    "\n",
    "                character = line[1]\n",
    "                gold_answer = line[2]\n",
    "                grammatical_number = line[3]\n",
    "                context = paragraph\n",
    "                context = context.rstrip(\", ;-\\n\")\n",
    "\n",
    "                gold_locations = gold_answer.split(\"/\")\n",
    "                my_dic = {\"Prompts\": [gold_answer, \"-\", \"-\", \"-\"]}\n",
    "\n",
    "                for k in range(1, num_llama_templates+1):#range(1, num_templates+1):\n",
    "                    \n",
    "                    print(k)\n",
    "\n",
    "                    y = char_count\n",
    "                    x = y - 2600\n",
    "\n",
    "                    if x < len_title:\n",
    "                        text = story[len_title:y]\n",
    "\n",
    "                    else:\n",
    "                        x = story[x:y].find(\" \") + x\n",
    "                        text = story[x:y]\n",
    "\n",
    "                    text = text_clean_ending(text)\n",
    "                    text = remove_new_lines(text)\n",
    "\n",
    "                    for num_chap2_tokens in tokens_to_append:\n",
    "                        chapter2_part = tokenizer.decode(chapter2_tokenized[:num_chap2_tokens], skip_special_tokens=True)\n",
    "                        chapter2_part = chapter2_part.rstrip(\", ;-\\n\")\n",
    "                        context = text + \"\\n\" + chapter2_part\n",
    "                        prompt = gpt2_prompt_generator(tokenizer, k, context, character, grammatical_number, 1004)\n",
    "                        \n",
    "                        \"\"\"inputs = tokenizer.encode(prompt, return_tensors=\"pt\")\n",
    "                        inputs = inputs.to(device)\n",
    "                        with torch.no_grad():\n",
    "                            outputs = model.generate(inputs)\n",
    "                        out = tokenizer.decode(outputs[0], skip_special_tokens=True)\"\"\"\n",
    "                        \n",
    "                        \"\"\"out = model(prompt, max_new_tokens=40, num_return_sequences=1)[0][\"generated_text\"]\n",
    "                        if out[:len(prompt)] == prompt:\n",
    "                            out = out[len(prompt)+1:]\"\"\"\n",
    "                        \n",
    "                        inputs = tokenizer(prompt, return_tensors=\"pt\")                \n",
    "                        inputs = inputs.to(device)\n",
    "                        with torch.no_grad():\n",
    "                            outputs = model(**inputs)\n",
    "                        my_list = []\n",
    "\n",
    "                        for dec_i in range(20):\n",
    "                            logits = outputs.logits\n",
    "                            past = outputs.past_key_values\n",
    "                            new_input_id = logits.argmax(dim=2)[0][-1]\n",
    "                            if new_input_id.item() == tokenizer.encode(tokenizer.eos_token)[0] and dec_i != 0:\n",
    "                                break\n",
    "                            new_input_id = new_input_id.unsqueeze(0).unsqueeze(0)\n",
    "                            my_list.append(new_input_id)\n",
    "                            with torch.no_grad():\n",
    "                                outputs = model(input_ids=new_input_id, past_key_values=past)\n",
    "\n",
    "                        out = tokenizer.decode(torch.cat((my_list)).squeeze())\n",
    "                        \n",
    "                        ind = out.find(\".\")\n",
    "                        out_to_match = out[:ind]\n",
    "                        match1, match2 = exactly_or_fuzzily_matched(out_to_match, gold_locations)\n",
    "                        predictions[item][k][num_chap2_tokens] = out\n",
    "                        result_object = TextInjectionResults(prompt, out, gold_locations, character, k, num_chap2_tokens, story_no, match1, match2)\n",
    "                        all_result_objects[k].append(result_object)\n",
    "                        if write_in_file:\n",
    "                            my_dic[prompt] = [out, num_chap2_tokens, match1, match2]\n",
    "\n",
    "                if write_in_file:\n",
    "                    df = pd.DataFrame(data=my_dic, index=[\"output\", \"num_tokens_appended\", \"exact match?\", \"fuzzy match?\"])\n",
    "                    df = (df.T)\n",
    "                    df.to_excel(writer, sheet_name=str(i+1))\n",
    "                    worksheet = writer.sheets[str(i+1)]\n",
    "                    for idx, col in enumerate(df):\n",
    "                        max_len = 75\n",
    "                        worksheet.set_column(idx, idx, max_len, format)\n",
    "\n",
    "                i += 1\n",
    "                print(\"line:\", i)\n",
    "            else:\n",
    "\n",
    "                j += 1\n",
    "                paragraph = paragraphs[j]\n",
    "                paragraph = paragraph.replace(\"\\n\", \" \")\n",
    "                char_count += (len(paragraph) + 2)\n",
    "\n",
    "        if write_in_file:\n",
    "            writer.save()\n",
    "\n",
    "    return predictions, all_result_objects\n",
    "\n",
    "all_annotations = {}\n",
    "\n",
    "for item in dir_list_annotations:\n",
    "    \n",
    "    f = open(os.path.join(path_annotations, item), 'r')\n",
    "    annotations = pd.read_csv(f, sep=\"\\t\")\n",
    "    annotations = annotations.values\n",
    "    f.close()\n",
    "    \n",
    "    all_annotations[item] = annotations\n",
    "    \n",
    "class TextInjection():\n",
    "    def __init__(self, model, tokenizer, device, chapter1, chapter2, tokens_to_append):\n",
    "        self.model = model\n",
    "        self.tokenizer = tokenizer\n",
    "        #self.model = self.model.to(device)\n",
    "        self.device = device\n",
    "        self.chapter1 = chapter1\n",
    "        self.chapter2_tokenized = tokenizer.encode(chapter2)\n",
    "        self.tokens_to_append = tokens_to_append\n",
    "        \n",
    "class TextInjectionResults():\n",
    "    def __init__(self, prompt, model_out, gold_locations, character, k, tokens_appended, story_no, exact_match, fuzzy_match):\n",
    "        self.prompt = prompt\n",
    "        self.model_out = model_out\n",
    "        self.gold_locations = gold_locations\n",
    "        self.character = character\n",
    "        self.k = k\n",
    "        self.tokens_appended = tokens_appended\n",
    "        self.story_no = story_no\n",
    "        self.exact_match = exact_match\n",
    "        self.fuzzy_match = fuzzy_match\n",
    "\n",
    "path = \"/scratch/users/bozyurt20/hpc_run/litbank/original/105_persuasion.txt\"\n",
    "\n",
    "with open(path, \"r\") as f:\n",
    "    book = f.read()\n",
    "    \n",
    "indices = []\n",
    "for i in range(1, 100):\n",
    "    chapter_header = \"Chapter \" + str(i) + \"\\n\\n\"\n",
    "    indices.append(book.find(chapter_header))\n",
    "\n",
    "ind1 = indices[0]\n",
    "ind2 = indices[1]\n",
    "i = 2\n",
    "chapters = []\n",
    "while ind2 != -1:\n",
    "    chapters.append(book[ind1:ind2])\n",
    "    ind1 = ind2\n",
    "    ind2 = indices[i]\n",
    "    i += 1   \n",
    "    \n",
    "\n"
   ]
  },
  {
   "cell_type": "code",
   "execution_count": 2,
   "id": "f188328d-e910-4562-b5d8-169858792f4f",
   "metadata": {},
   "outputs": [],
   "source": [
    "device = torch.device(\"cuda\") if torch.cuda.is_available() else torch.device(\"cpu\")\n",
    "tokenizer = GPT2Tokenizer.from_pretrained(\"gpt2-xl\")"
   ]
  },
  {
   "cell_type": "code",
   "execution_count": 3,
   "id": "cfc1652d-c3a8-4325-a2be-02d2036b10d5",
   "metadata": {},
   "outputs": [],
   "source": [
    "model = GPT2LMHeadModel.from_pretrained(\"gpt2-xl\")"
   ]
  },
  {
   "cell_type": "code",
   "execution_count": 4,
   "id": "0198ce6c-35c8-459a-9d37-9c84fd75597d",
   "metadata": {},
   "outputs": [],
   "source": [
    "model = model.to(device)"
   ]
  },
  {
   "cell_type": "code",
   "execution_count": null,
   "id": "fa9517b9-1b71-43a9-860a-2d2120c75384",
   "metadata": {
    "collapsed": true,
    "jupyter": {
     "outputs_hidden": true
    },
    "tags": []
   },
   "outputs": [
    {
     "name": "stderr",
     "output_type": "stream",
     "text": [
      "Token indices sequence length is longer than the specified maximum sequence length for this model (2409 > 1024). Running this sequence through the model will result in indexing errors\n"
     ]
    },
    {
     "name": "stdout",
     "output_type": "stream",
     "text": [
      "Andersen_story2.txt\n",
      "1\n",
      "2\n",
      "3\n",
      "line: 1\n",
      "1\n",
      "2\n",
      "3\n",
      "line: 2\n",
      "1\n",
      "2\n",
      "3\n",
      "line: 3\n",
      "1\n",
      "2\n",
      "3\n",
      "line: 4\n",
      "1\n",
      "2\n",
      "3\n",
      "line: 5\n",
      "1\n",
      "2\n",
      "3\n",
      "line: 6\n",
      "1\n",
      "2\n",
      "3\n",
      "line: 7\n",
      "1\n",
      "2\n",
      "3\n",
      "line: 8\n",
      "1\n",
      "2\n",
      "3\n",
      "line: 9\n",
      "1\n",
      "2\n",
      "3\n",
      "line: 10\n",
      "1\n",
      "2\n",
      "3\n",
      "line: 11\n",
      "1\n",
      "2\n",
      "3\n",
      "line: 12\n",
      "1\n",
      "2\n",
      "3\n",
      "line: 13\n",
      "1\n",
      "2\n",
      "3\n",
      "line: 14\n",
      "1\n",
      "2\n",
      "3\n",
      "line: 15\n",
      "1\n",
      "2\n",
      "3\n",
      "line: 16\n",
      "1\n",
      "2\n",
      "3\n",
      "line: 17\n",
      "1\n",
      "2\n",
      "3\n",
      "line: 18\n",
      "Andersen_story17.txt\n",
      "1\n",
      "2\n",
      "3\n",
      "line: 1\n",
      "1\n",
      "2\n",
      "3\n",
      "line: 2\n",
      "1\n",
      "2\n",
      "3\n",
      "line: 3\n",
      "1\n",
      "2\n",
      "3\n",
      "line: 4\n",
      "1\n",
      "2\n",
      "3\n",
      "line: 5\n",
      "1\n",
      "2\n",
      "3\n",
      "line: 6\n",
      "1\n",
      "2\n",
      "3\n",
      "line: 7\n",
      "1\n",
      "2\n",
      "3\n",
      "line: 8\n",
      "1\n",
      "2\n",
      "3\n",
      "line: 9\n",
      "1\n",
      "2\n",
      "3\n",
      "line: 10\n",
      "Andersen_story3.txt\n",
      "1\n",
      "2\n",
      "3\n",
      "line: 1\n",
      "1\n",
      "2\n",
      "3\n",
      "line: 2\n",
      "1\n",
      "2\n",
      "3\n",
      "line: 3\n",
      "1\n",
      "2\n",
      "3\n",
      "line: 4\n",
      "1\n",
      "2\n",
      "3\n",
      "line: 5\n",
      "1\n",
      "2\n",
      "3\n",
      "line: 6\n",
      "Andersen_story9.txt\n",
      "1\n",
      "2\n",
      "3\n",
      "line: 1\n",
      "1\n",
      "2\n",
      "3\n",
      "line: 2\n",
      "1\n",
      "2\n",
      "3\n",
      "line: 3\n",
      "1\n",
      "2\n",
      "3\n",
      "line: 4\n",
      "1\n",
      "2\n",
      "3\n",
      "line: 5\n",
      "1\n",
      "2\n",
      "3\n",
      "line: 6\n",
      "1\n",
      "2\n",
      "3\n",
      "line: 7\n",
      "1\n",
      "2\n",
      "3\n",
      "line: 8\n",
      "1\n",
      "2\n",
      "3\n",
      "line: 9\n",
      "1\n",
      "2\n",
      "3\n",
      "line: 10\n",
      "1\n",
      "2\n",
      "3\n",
      "line: 11\n",
      "1\n",
      "2\n",
      "3\n",
      "line: 12\n",
      "1\n",
      "2\n",
      "3\n",
      "line: 13\n",
      "1\n",
      "2\n",
      "3\n",
      "line: 14\n",
      "Andersen_story18.txt\n",
      "1\n",
      "2\n",
      "3\n",
      "line: 1\n",
      "1\n"
     ]
    }
   ],
   "source": [
    "#model = pipeline('text-generation', model='gpt2-xl')#, device=0)\n",
    "\n",
    "tokens_to_append = [x for x in range(0, 1001, 40)]\n",
    "\n",
    "chapter1 = remove_new_lines(chapters[0])\n",
    "paragraph_start_ind = chapters[1].find(\"Mr Shepherd\")\n",
    "chapter2 = remove_new_lines(chapters[1][paragraph_start_ind:])\n",
    "\n",
    "text_injection_instance = TextInjection(model, tokenizer, device, chapter1, chapter2, tokens_to_append)\n",
    "\n",
    "predictions, all_result_objects = predictor(text_injection_instance, write_in_file=False, out_path_prefix=\"Text_injection_GPT2-XL_\")\n",
    "\n",
    "with open(\"Text_injection_GPT2-XL_predictions.txt\", \"wb\") as f:\n",
    "    pickle.dump(predictions, f)\n",
    "    \n",
    "with open(\"Text_injection_GPT2-XL_all_result_objects.txt\", \"wb\") as f:\n",
    "    pickle.dump(all_result_objects, f)"
   ]
  },
  {
   "cell_type": "code",
   "execution_count": 91,
   "id": "7210eb53-4ee1-4a7f-ad1e-e54a72c4c1cc",
   "metadata": {},
   "outputs": [
    {
     "data": {
      "text/plain": [
       "6474"
      ]
     },
     "execution_count": 91,
     "metadata": {},
     "output_type": "execute_result"
    }
   ],
   "source": [
    "len(all_result_objects[1])"
   ]
  },
  {
   "cell_type": "code",
   "execution_count": 6,
   "id": "3dad1961-b860-441b-bcbb-61ae50be4f40",
   "metadata": {},
   "outputs": [
    {
     "data": {
      "text/plain": [
       "4"
      ]
     },
     "execution_count": 6,
     "metadata": {},
     "output_type": "execute_result"
    }
   ],
   "source": [
    "2+2"
   ]
  },
  {
   "cell_type": "code",
   "execution_count": null,
   "id": "849d39ac-4338-4813-bea3-02891b3eb0b4",
   "metadata": {},
   "outputs": [],
   "source": []
  },
  {
   "cell_type": "markdown",
   "id": "e2911c91-fbab-4dd9-8626-fd83b8ade58b",
   "metadata": {},
   "source": [
    "# Get the Results"
   ]
  },
  {
   "cell_type": "code",
   "execution_count": 7,
   "id": "c5ceb3af-4fb4-46a3-9d25-77279394d1ee",
   "metadata": {},
   "outputs": [],
   "source": [
    "with open(\"Text_injection_GPT2-XL_predictions.txt\", \"rb\") as f:\n",
    "    predictions = pickle.load(f)"
   ]
  },
  {
   "cell_type": "code",
   "execution_count": 8,
   "id": "48f6347a-59ab-4da8-9e76-f887498441c4",
   "metadata": {},
   "outputs": [],
   "source": [
    "with open(\"Text_injection_GPT2-XL_all_result_objects.txt\", \"rb\") as f:\n",
    "    all_result_objects = pickle.load(f)"
   ]
  },
  {
   "cell_type": "markdown",
   "id": "e7464d1f-ef99-495d-9310-11ae72cca0f6",
   "metadata": {},
   "source": [
    "# Distance Graph"
   ]
  },
  {
   "cell_type": "code",
   "execution_count": 9,
   "id": "c874a27e-1f74-4f46-b781-63170df0a03b",
   "metadata": {},
   "outputs": [],
   "source": [
    "exact_match_distances = {}\n",
    "fuzzy_match_distances = {}\n",
    "non_exact_match_distances = {}\n",
    "non_fuzzy_match_distances = {}\n",
    "\n",
    "number_of_questions_asked = {}\n",
    "not_in_context = {}\n",
    "for k in all_result_objects.keys():\n",
    "\n",
    "    exact_match_distances[k] = []\n",
    "    fuzzy_match_distances[k] = []\n",
    "    non_exact_match_distances[k] = []\n",
    "    non_fuzzy_match_distances[k] = []\n",
    "\n",
    "    #for num_chap2_tokens in all_result_objects[k].keys():\n",
    "    number_of_questions_asked[k] = 0\n",
    "        \n",
    "    for result_object in all_result_objects[k]: #[num_chap2_tokens]:\n",
    "\n",
    "        prompt = result_object.prompt\n",
    "        out = result_object.model_out\n",
    "        gold_locations = result_object.gold_locations\n",
    "        match1 = result_object.exact_match\n",
    "        match2 = result_object.fuzzy_match\n",
    "        \n",
    "        number_of_questions_asked[k] += 1\n",
    "\n",
    "        distances = [1e9 for _ in range(len(gold_locations))]\n",
    "\n",
    "        for num_loc, gold_location in enumerate(gold_locations):\n",
    "            loc_mention = prompt.rfind(gold_location)\n",
    "            if loc_mention != -1:\n",
    "                loc_mention += len(gold_location)\n",
    "                no_tokens = len(tokenizer.encode(prompt[loc_mention:]))\n",
    "                #abs_inv_recency = len(prompt) - loc_mention\n",
    "                #distances[num_loc] = abs_inv_recency\n",
    "                distances[num_loc] = no_tokens\n",
    "                \n",
    "        if min(distances) < 1e8:\n",
    "            \n",
    "            if match1 == \"Yes\":\n",
    "                exact_match_distances[k].append(min(distances))\n",
    "            else:\n",
    "                non_exact_match_distances[k].append(min(distances))\n",
    "\n",
    "            if match2 == \"Yes\":\n",
    "                fuzzy_match_distances[k].append(min(distances))\n",
    "            else:                     \n",
    "                non_fuzzy_match_distances[k].append(min(distances))"
   ]
  },
  {
   "cell_type": "code",
   "execution_count": 11,
   "id": "f390c267-0368-4963-abef-6cb861823e6e",
   "metadata": {},
   "outputs": [],
   "source": [
    "prompt_no = 1\n",
    "loc_mention_graph = []\n",
    "\n",
    "for dist in exact_match_distances[prompt_no]:\n",
    "    loc_mention_graph.append((dist, 1))\n",
    "    \n",
    "for dist in non_exact_match_distances[prompt_no]:\n",
    "    loc_mention_graph.append((dist, 0))"
   ]
  },
  {
   "cell_type": "code",
   "execution_count": 12,
   "id": "44949a74-c6f6-4bd0-8faa-1c408c6a4aa8",
   "metadata": {},
   "outputs": [
    {
     "ename": "ZeroDivisionError",
     "evalue": "division by zero",
     "output_type": "error",
     "traceback": [
      "\u001b[0;31m---------------------------------------------------------------------------\u001b[0m",
      "\u001b[0;31mZeroDivisionError\u001b[0m                         Traceback (most recent call last)",
      "Cell \u001b[0;32mIn[12], line 1\u001b[0m\n\u001b[0;32m----> 1\u001b[0m \u001b[38;5;28;43msum\u001b[39;49m\u001b[43m(\u001b[49m\u001b[43mexact_match_distances\u001b[49m\u001b[43m[\u001b[49m\u001b[43mprompt_no\u001b[49m\u001b[43m]\u001b[49m\u001b[43m)\u001b[49m\u001b[38;5;241;43m/\u001b[39;49m\u001b[38;5;28;43mlen\u001b[39;49m\u001b[43m(\u001b[49m\u001b[43mexact_match_distances\u001b[49m\u001b[43m[\u001b[49m\u001b[43mprompt_no\u001b[49m\u001b[43m]\u001b[49m\u001b[43m)\u001b[49m\n",
      "\u001b[0;31mZeroDivisionError\u001b[0m: division by zero"
     ]
    }
   ],
   "source": [
    "sum(exact_match_distances[prompt_no])/len(exact_match_distances[prompt_no])"
   ]
  },
  {
   "cell_type": "code",
   "execution_count": 13,
   "id": "14219b10-5f9c-48ec-93c8-07f64b5c62a1",
   "metadata": {},
   "outputs": [
    {
     "data": {
      "text/plain": [
       "0"
      ]
     },
     "execution_count": 13,
     "metadata": {},
     "output_type": "execute_result"
    }
   ],
   "source": [
    "len(exact_match_distances[prompt_no])"
   ]
  },
  {
   "cell_type": "code",
   "execution_count": 14,
   "id": "7fc12f8d-b9c2-42cf-9f3d-7be9accf35df",
   "metadata": {},
   "outputs": [
    {
     "data": {
      "text/plain": [
       "502.7812431842966"
      ]
     },
     "execution_count": 14,
     "metadata": {},
     "output_type": "execute_result"
    }
   ],
   "source": [
    "sum(non_exact_match_distances[prompt_no])/len(non_exact_match_distances[prompt_no])"
   ]
  },
  {
   "cell_type": "code",
   "execution_count": 15,
   "id": "40cab075-bdf6-4ebf-b0ff-280bb007b256",
   "metadata": {},
   "outputs": [
    {
     "data": {
      "text/plain": [
       "4585"
      ]
     },
     "execution_count": 15,
     "metadata": {},
     "output_type": "execute_result"
    }
   ],
   "source": [
    "len(non_exact_match_distances[prompt_no])"
   ]
  },
  {
   "cell_type": "code",
   "execution_count": 16,
   "id": "e545f9e7-b2ad-4194-9694-b1fd1258e6b2",
   "metadata": {
    "tags": []
   },
   "outputs": [],
   "source": [
    "all_distances = [x[0] for x in loc_mention_graph]"
   ]
  },
  {
   "cell_type": "code",
   "execution_count": 17,
   "id": "e7830ec1-f6c6-4236-a29a-df2724af0981",
   "metadata": {},
   "outputs": [],
   "source": [
    "all_distances = sorted(all_distances)"
   ]
  },
  {
   "cell_type": "code",
   "execution_count": 18,
   "id": "0c6a926a-96a8-4d59-93bc-3c127fac3f7d",
   "metadata": {},
   "outputs": [
    {
     "data": {
      "text/plain": [
       "2"
      ]
     },
     "execution_count": 18,
     "metadata": {},
     "output_type": "execute_result"
    }
   ],
   "source": [
    "min(all_distances)"
   ]
  },
  {
   "cell_type": "code",
   "execution_count": 19,
   "id": "53fc6da7-7cf1-4479-935e-cb8e014991e7",
   "metadata": {},
   "outputs": [
    {
     "data": {
      "text/plain": [
       "1000"
      ]
     },
     "execution_count": 19,
     "metadata": {},
     "output_type": "execute_result"
    }
   ],
   "source": [
    "all_distances[-1]"
   ]
  },
  {
   "cell_type": "code",
   "execution_count": 20,
   "id": "fef29f5b-8429-408e-ade0-e6f70c11059e",
   "metadata": {},
   "outputs": [],
   "source": [
    "grap = defaultdict(list)\n",
    "num_data_points = {}\n",
    "for tupl in loc_mention_graph:\n",
    "    for i in range(10):\n",
    "        if 100*i<=tupl[0]<100*i+100:\n",
    "            grap[i].append(tupl)\n",
    "for i in range(10):\n",
    "    num_data_points[i] = len(grap[i])\n",
    "    if len(grap[i]) != 0 and len(grap[i]) > 5:\n",
    "        grap[i] = sum([tupl[1] == 1 for tupl in grap[i]]) / len(grap[i]) * 100\n",
    "    else:\n",
    "        grap[i] = 0\n",
    "grap_tuples = [(key, grap[key]) for key in grap]"
   ]
  },
  {
   "cell_type": "code",
   "execution_count": 21,
   "id": "2bbac67e-fcc3-4f08-b9f7-704989d9f1a5",
   "metadata": {},
   "outputs": [
    {
     "data": {
      "text/plain": [
       "[(0, 0.0),\n",
       " (1, 0.0),\n",
       " (2, 0.0),\n",
       " (3, 0.0),\n",
       " (4, 0.0),\n",
       " (5, 0.0),\n",
       " (6, 0.0),\n",
       " (7, 0.0),\n",
       " (8, 0.0),\n",
       " (9, 0.0)]"
      ]
     },
     "execution_count": 21,
     "metadata": {},
     "output_type": "execute_result"
    }
   ],
   "source": [
    "grap_tuples"
   ]
  },
  {
   "cell_type": "code",
   "execution_count": 22,
   "id": "3ecf3931-d2ec-4f5e-9aee-87548bbd6ee3",
   "metadata": {},
   "outputs": [
    {
     "data": {
      "image/png": "[encoded data removed]",
      "text/plain": [
       "<Figure size 1000x500 with 1 Axes>"
      ]
     },
     "metadata": {},
     "output_type": "display_data"
    }
   ],
   "source": [
    "x_points, y_points = zip(*grap_tuples)\n",
    "plt.figure(figsize = (10, 5))\n",
    "plt.bar(x_points, y_points, color=\"orange\")\n",
    "for i in range(len(x_points)):\n",
    "    plt.text(x_points[i], y_points[i], str(round(y_points[i],2)) + \"%\", ha = 'center', bbox = dict(facecolor = 'red', alpha =.2))\n",
    "for i in range(len(x_points)):\n",
    "    plt.text(x_points[i], y_points[i]//2, num_data_points[i],  ha = 'center',\n",
    "             bbox = dict(facecolor = 'white', alpha = .5))\n",
    "plt.xlabel(\"Distance (# tokens)\")\n",
    "plt.ylabel(\"Accuracy (%)\")\n",
    "\n",
    "plt.xticks(np.arange(10), ['0-100', '100-200', '200-300', '300-400', \"400-500\", \"500-600\", \"600-700\", \"700-800\", \"800-900\", \"900-1000\"])\n",
    "plt.savefig('T0pp_exact.png')"
   ]
  },
  {
   "cell_type": "code",
   "execution_count": 23,
   "id": "96493e66-f3e1-45a5-b0f9-0555f50d8a40",
   "metadata": {},
   "outputs": [
    {
     "data": {
      "text/plain": [
       "(0, 1, 2, 3, 4, 5, 6, 7, 8, 9)"
      ]
     },
     "execution_count": 23,
     "metadata": {},
     "output_type": "execute_result"
    }
   ],
   "source": [
    "x_points"
   ]
  },
  {
   "cell_type": "code",
   "execution_count": 24,
   "id": "c6067e06-6ac1-43ac-bbae-093488ae9b25",
   "metadata": {
    "tags": []
   },
   "outputs": [],
   "source": [
    "exact_matches = {}\n",
    "\n",
    "for k in all_result_objects.keys():\n",
    "    exact_matches[k] = []\n",
    "    \n",
    "    for j, result_object in enumerate(all_result_objects[k]): #[num_chap2_tokens]:\n",
    "\n",
    "        prompt = result_object.prompt\n",
    "        out = result_object.model_out\n",
    "        gold_locations = result_object.gold_locations\n",
    "        match1 = result_object.exact_match\n",
    "        match2 = result_object.fuzzy_match\n",
    "        \n",
    "        if match1 == \"Yes\":\n",
    "            exact_matches[k].append(1)\n",
    "        else:\n",
    "            exact_matches[k].append(0)\n",
    "            "
   ]
  },
  {
   "cell_type": "code",
   "execution_count": 25,
   "id": "37b0d4a2-76d2-4cd7-9206-f7940b7331eb",
   "metadata": {},
   "outputs": [],
   "source": [
    "accuracies = {}\n",
    "for k in all_result_objects.keys():\n",
    "    if exact_matches[k] != []:\n",
    "        accuracies[k] = sum(exact_matches[k])/len(exact_matches[k])"
   ]
  },
  {
   "cell_type": "code",
   "execution_count": 26,
   "id": "bf850b62-4900-4cbf-8f9b-f306733c2ad9",
   "metadata": {},
   "outputs": [
    {
     "data": {
      "text/plain": [
       "{1: 0.0, 2: 0.00030892801977139327, 3: 0.0}"
      ]
     },
     "execution_count": 26,
     "metadata": {},
     "output_type": "execute_result"
    }
   ],
   "source": [
    "accuracies"
   ]
  },
  {
   "cell_type": "code",
   "execution_count": 27,
   "id": "d771103b-7891-4275-aeac-39e81da1c7d4",
   "metadata": {},
   "outputs": [],
   "source": [
    "exact_matches = {}\n",
    "\n",
    "for k in all_result_objects.keys():\n",
    "    exact_matches[k] = {}\n",
    "    \n",
    "    for no_tok in tokens_to_append:\n",
    "        exact_matches[k][no_tok] = []\n",
    "    \n",
    "    for j, result_object in enumerate(all_result_objects[k]): #[num_chap2_tokens]:\n",
    "\n",
    "        prompt = result_object.prompt\n",
    "        out = result_object.model_out\n",
    "        gold_locations = result_object.gold_locations\n",
    "        match1 = result_object.exact_match\n",
    "        match2 = result_object.fuzzy_match\n",
    "        no_tok = result_object.tokens_appended\n",
    "\n",
    "        if match1 == \"Yes\":\n",
    "            exact_matches[k][no_tok].append(1)\n",
    "        else:\n",
    "            exact_matches[k][no_tok].append(0)\n",
    "\n"
   ]
  },
  {
   "cell_type": "code",
   "execution_count": 28,
   "id": "cd0f3b3c-9b39-4bee-b08b-a5e98d417120",
   "metadata": {},
   "outputs": [],
   "source": [
    "accuracies_no_tok_appended = {}\n",
    "for k in all_result_objects.keys():\n",
    "    accuracies_no_tok_appended[k] = {}\n",
    "    for no_tok in exact_matches[k]:\n",
    "        if exact_matches[k][no_tok] != []:\n",
    "            accuracies_no_tok_appended[k][no_tok] = sum(exact_matches[k][no_tok])/len(exact_matches[k][no_tok])"
   ]
  },
  {
   "cell_type": "code",
   "execution_count": 29,
   "id": "c153b494-b220-417c-b8db-487d87f65c0c",
   "metadata": {},
   "outputs": [
    {
     "name": "stdout",
     "output_type": "stream",
     "text": [
      "1\n",
      "{0: 0.0, 40: 0.0, 80: 0.0, 120: 0.0, 160: 0.0, 200: 0.0, 240: 0.0, 280: 0.0, 320: 0.0, 360: 0.0, 400: 0.0, 440: 0.0, 480: 0.0, 520: 0.0, 560: 0.0, 600: 0.0, 640: 0.0, 680: 0.0, 720: 0.0, 760: 0.0, 800: 0.0, 840: 0.0, 880: 0.0, 920: 0.0, 960: 0.0, 1000: 0.0}\n",
      "2\n",
      "{0: 0.0, 40: 0.0, 80: 0.0, 120: 0.0, 160: 0.0, 200: 0.0, 240: 0.0, 280: 0.0, 320: 0.0, 360: 0.0, 400: 0.0, 440: 0.0, 480: 0.0, 520: 0.0, 560: 0.0, 600: 0.008032128514056224, 640: 0.0, 680: 0.0, 720: 0.0, 760: 0.0, 800: 0.0, 840: 0.0, 880: 0.0, 920: 0.0, 960: 0.0, 1000: 0.0}\n",
      "3\n",
      "{0: 0.0, 40: 0.0, 80: 0.0, 120: 0.0, 160: 0.0, 200: 0.0, 240: 0.0, 280: 0.0, 320: 0.0, 360: 0.0, 400: 0.0, 440: 0.0, 480: 0.0, 520: 0.0, 560: 0.0, 600: 0.0, 640: 0.0, 680: 0.0, 720: 0.0, 760: 0.0, 800: 0.0, 840: 0.0, 880: 0.0, 920: 0.0, 960: 0.0, 1000: 0.0}\n"
     ]
    }
   ],
   "source": [
    "for k in all_result_objects.keys():\n",
    "    \n",
    "    if accuracies_no_tok_appended[k]:\n",
    "        print(k)\n",
    "        print(accuracies_no_tok_appended[k])"
   ]
  },
  {
   "cell_type": "code",
   "execution_count": 31,
   "id": "3f3bfcfc-f2ae-46c0-8d8a-53e54b691b7b",
   "metadata": {},
   "outputs": [],
   "source": [
    "prompt_no = 1\n",
    "loc_mention_graph = []\n",
    "\n",
    "for dist in fuzzy_match_distances[prompt_no]:\n",
    "    loc_mention_graph.append((dist, 1))\n",
    "    \n",
    "for dist in non_fuzzy_match_distances[prompt_no]:\n",
    "    loc_mention_graph.append((dist, 0))"
   ]
  },
  {
   "cell_type": "code",
   "execution_count": 32,
   "id": "3d046e0f-55d2-4705-90d3-6ebce778726f",
   "metadata": {},
   "outputs": [
    {
     "data": {
      "text/plain": [
       "375.63380281690144"
      ]
     },
     "execution_count": 32,
     "metadata": {},
     "output_type": "execute_result"
    }
   ],
   "source": [
    "sum(fuzzy_match_distances[prompt_no])/len(fuzzy_match_distances[prompt_no])"
   ]
  },
  {
   "cell_type": "code",
   "execution_count": 33,
   "id": "0d236d61-5c1a-472b-8018-f75573778572",
   "metadata": {},
   "outputs": [
    {
     "data": {
      "text/plain": [
       "71"
      ]
     },
     "execution_count": 33,
     "metadata": {},
     "output_type": "execute_result"
    }
   ],
   "source": [
    "len(fuzzy_match_distances[prompt_no])"
   ]
  },
  {
   "cell_type": "code",
   "execution_count": 34,
   "id": "5dfbc6ce-52cd-4708-81da-33e573fcabda",
   "metadata": {},
   "outputs": [
    {
     "data": {
      "text/plain": [
       "504.7811253876828"
      ]
     },
     "execution_count": 34,
     "metadata": {},
     "output_type": "execute_result"
    }
   ],
   "source": [
    "sum(non_fuzzy_match_distances[prompt_no])/len(non_fuzzy_match_distances[prompt_no])"
   ]
  },
  {
   "cell_type": "code",
   "execution_count": 35,
   "id": "c7abcf66-5103-461f-828e-ef0ba6d7335d",
   "metadata": {},
   "outputs": [
    {
     "data": {
      "text/plain": [
       "4514"
      ]
     },
     "execution_count": 35,
     "metadata": {},
     "output_type": "execute_result"
    }
   ],
   "source": [
    "len(non_fuzzy_match_distances[prompt_no])"
   ]
  },
  {
   "cell_type": "code",
   "execution_count": 36,
   "id": "2d5f6bbd-1738-4f12-901f-052d9fca819d",
   "metadata": {
    "tags": []
   },
   "outputs": [],
   "source": [
    "all_distances = [x[0] for x in loc_mention_graph]"
   ]
  },
  {
   "cell_type": "code",
   "execution_count": 37,
   "id": "183a0d76-fd0f-4465-b482-78a9c7755397",
   "metadata": {},
   "outputs": [],
   "source": [
    "all_distances = sorted(all_distances)"
   ]
  },
  {
   "cell_type": "code",
   "execution_count": 38,
   "id": "2dfcfe8d-21fc-4f6c-b9d0-b8e1f3b5e12d",
   "metadata": {},
   "outputs": [
    {
     "data": {
      "text/plain": [
       "2"
      ]
     },
     "execution_count": 38,
     "metadata": {},
     "output_type": "execute_result"
    }
   ],
   "source": [
    "min(all_distances)"
   ]
  },
  {
   "cell_type": "code",
   "execution_count": 39,
   "id": "e5114caa-ab7f-455f-91bd-2279d7ea34d3",
   "metadata": {},
   "outputs": [
    {
     "data": {
      "text/plain": [
       "1000"
      ]
     },
     "execution_count": 39,
     "metadata": {},
     "output_type": "execute_result"
    }
   ],
   "source": [
    "all_distances[-1]"
   ]
  },
  {
   "cell_type": "code",
   "execution_count": 40,
   "id": "3a37154b-9f29-4b83-9c67-4634abc8f85a",
   "metadata": {},
   "outputs": [],
   "source": [
    "grap = defaultdict(list)\n",
    "num_data_points = {}\n",
    "for tupl in loc_mention_graph:\n",
    "    for i in range(10):\n",
    "        if 100*i<=tupl[0]<100*i+100:\n",
    "            grap[i].append(tupl)\n",
    "for i in range(10):\n",
    "    num_data_points[i] = len(grap[i])\n",
    "    if len(grap[i]) != 0 and len(grap[i]) > 5:\n",
    "        grap[i] = sum([tupl[1] == 1 for tupl in grap[i]]) / len(grap[i]) * 100\n",
    "    else:\n",
    "        grap[i] = 0\n",
    "grap_tuples = [(key, grap[key]) for key in grap]"
   ]
  },
  {
   "cell_type": "code",
   "execution_count": 44,
   "id": "7507edd2-5e8f-43b2-999b-2b5eeb355d02",
   "metadata": {},
   "outputs": [
    {
     "data": {
      "image/png": "[encoded data removed]",
      "text/plain": [
       "<Figure size 1000x500 with 1 Axes>"
      ]
     },
     "metadata": {},
     "output_type": "display_data"
    }
   ],
   "source": [
    "x_points, y_points = zip(*grap_tuples)\n",
    "plt.figure(figsize = (10, 5))\n",
    "plt.bar(x_points, y_points, color=\"orange\")\n",
    "for i in range(len(x_points)):\n",
    "    plt.text(x_points[i], y_points[i], str(round(y_points[i],2)) + \"%\", ha = 'center', bbox = dict(facecolor = 'red', alpha =.2))\n",
    "for i in range(len(x_points)):\n",
    "    plt.text(x_points[i], y_points[i]//2 + 0.25, num_data_points[i],  ha = 'center',\n",
    "             bbox = dict(facecolor = 'white', alpha = .5))\n",
    "plt.xlabel(\"Distance (# tokens)\")\n",
    "plt.ylabel(\"Accuracy (%)\")\n",
    "\n",
    "plt.xticks(np.arange(10), ['0-100', '100-200', '200-300', '300-400', \"400-500\", \"500-600\", \"600-700\", \"700-800\", \"800-900\", \"900-1000\"])\n",
    "plt.savefig('gpt2xl_fuzzy.png')"
   ]
  },
  {
   "cell_type": "code",
   "execution_count": 72,
   "id": "fc36ce6c-6d7a-48da-9516-8198789e420d",
   "metadata": {},
   "outputs": [],
   "source": [
    "prompt_no = 2\n",
    "loc_mention_graph = []\n",
    "\n",
    "for dist in fuzzy_match_distances[prompt_no]:\n",
    "    loc_mention_graph.append((dist, 1))\n",
    "    \n",
    "for dist in non_fuzzy_match_distances[prompt_no]:\n",
    "    loc_mention_graph.append((dist, 0))"
   ]
  },
  {
   "cell_type": "code",
   "execution_count": 73,
   "id": "8acf075d-2e1d-4e1c-89a2-0be668e68774",
   "metadata": {},
   "outputs": [],
   "source": [
    "grap = defaultdict(list)\n",
    "num_data_points = {}\n",
    "for tupl in loc_mention_graph:\n",
    "    for i in range(10):\n",
    "        if 100*i<=tupl[0]<100*i+100:\n",
    "            grap[i].append(tupl)\n",
    "for i in range(10):\n",
    "    num_data_points[i] = len(grap[i])\n",
    "    if len(grap[i]) != 0 and len(grap[i]) > 5:\n",
    "        grap[i] = sum([tupl[1] == 1 for tupl in grap[i]]) / len(grap[i]) * 100\n",
    "    else:\n",
    "        grap[i] = 0\n",
    "grap_tuples = [(key, grap[key]) for key in grap]\n",
    "grap_tuples = sorted(grap_tuples, key=lambda x: x[0])"
   ]
  },
  {
   "cell_type": "code",
   "execution_count": 74,
   "id": "82952235-e1ab-4ddb-961b-06c4e43a0da2",
   "metadata": {},
   "outputs": [
    {
     "data": {
      "image/png": "[encoded data removed]",
      "text/plain": [
       "<Figure size 1000x500 with 1 Axes>"
      ]
     },
     "metadata": {},
     "output_type": "display_data"
    }
   ],
   "source": [
    "x_points, y_points = zip(*grap_tuples)\n",
    "plt.figure(figsize = (10, 5))\n",
    "plt.bar(x_points, y_points, color=\"orange\")\n",
    "for i in range(len(x_points)):\n",
    "    plt.text(x_points[i], y_points[i], str(round(y_points[i],2)) + \"%\", ha = 'center', bbox = dict(facecolor = 'red', alpha =.2))\n",
    "for i in range(len(x_points)):\n",
    "    plt.text(x_points[i], y_points[i]//2 + 0.25, num_data_points[i],  ha = 'center',\n",
    "             bbox = dict(facecolor = 'white', alpha = .5))\n",
    "plt.xlabel(\"Distance (# tokens)\")\n",
    "plt.ylabel(\"Accuracy (%)\")\n",
    "\n",
    "plt.xticks(np.arange(10), ['0-100', '100-200', '200-300', '300-400', \"400-500\", \"500-600\", \"600-700\", \"700-800\", \"800-900\", \"900-1000\"])\n",
    "plt.savefig('gpt2xl_fuzzy_2.png')"
   ]
  },
  {
   "cell_type": "code",
   "execution_count": 80,
   "id": "14aaa378-b052-4259-9d4d-f1cdeacc06fa",
   "metadata": {},
   "outputs": [],
   "source": [
    "with open(\"Text_injection_t5_base_graph_points.txt\", \"rb\") as f:\n",
    "    grap_tuples_t5 = pickle.load(f)"
   ]
  },
  {
   "cell_type": "code",
   "execution_count": 76,
   "id": "261bb291-e567-4465-94e6-148df25718a7",
   "metadata": {},
   "outputs": [],
   "source": [
    "with open(\"Text_injection_T0pp_graph_points.txt\", \"rb\") as f:\n",
    "    grap_tuples_t0pp = pickle.load(f)"
   ]
  },
  {
   "cell_type": "code",
   "execution_count": 62,
   "id": "2138b3dd-887b-45c0-9f8c-0eb35e68e65f",
   "metadata": {},
   "outputs": [
    {
     "data": {
      "text/plain": [
       "(2, 0, 4, 5, 9, 1, 3, 8, 7, 6)"
      ]
     },
     "execution_count": 62,
     "metadata": {},
     "output_type": "execute_result"
    }
   ],
   "source": [
    "x_points"
   ]
  },
  {
   "cell_type": "code",
   "execution_count": 81,
   "id": "8ef297d8-9b39-464b-b8e8-caa0bbfcac9f",
   "metadata": {},
   "outputs": [
    {
     "data": {
      "text/plain": [
       "[(0, 9.202453987730062),\n",
       " (1, 4.506437768240343),\n",
       " (2, 9.073359073359073),\n",
       " (3, 7.44466800804829),\n",
       " (4, 5.1080550098231825),\n",
       " (5, 3.5416666666666665),\n",
       " (6, 2.330508474576271),\n",
       " (7, 2.027027027027027),\n",
       " (8, 3.508771929824561),\n",
       " (9, 1.694915254237288)]"
      ]
     },
     "execution_count": 81,
     "metadata": {},
     "output_type": "execute_result"
    }
   ],
   "source": [
    "grap_tuples"
   ]
  },
  {
   "cell_type": "code",
   "execution_count": 82,
   "id": "e15d40af-82c2-457f-a1fc-501dd9b5a1f9",
   "metadata": {},
   "outputs": [
    {
     "data": {
      "text/plain": [
       "[(1, 16.8141592920354),\n",
       " (2, 15.298507462686567),\n",
       " (0, 13.333333333333334),\n",
       " (3, 7.936507936507936),\n",
       " (4, 4.792332268370607),\n",
       " (5, 0.0),\n",
       " (6, 0),\n",
       " (7, 0),\n",
       " (8, 0),\n",
       " (9, 0)]"
      ]
     },
     "execution_count": 82,
     "metadata": {},
     "output_type": "execute_result"
    }
   ],
   "source": [
    "grap_tuples_t5"
   ]
  },
  {
   "cell_type": "code",
   "execution_count": 84,
   "id": "fd287b80-a873-4838-b9ab-10d762654eae",
   "metadata": {},
   "outputs": [
    {
     "data": {
      "image/png": "[encoded data removed]",
      "text/plain": [
       "<Figure size 1000x500 with 1 Axes>"
      ]
     },
     "metadata": {},
     "output_type": "display_data"
    }
   ],
   "source": [
    "grap_tuples_t5 = sorted(grap_tuples_t5, key=lambda x: x[0])\n",
    "grap_tuples_t0pp = sorted(grap_tuples_t0pp, key=lambda x: x[0])\n",
    "x_t5, y_t5 = zip(*grap_tuples_t5)\n",
    "x_t0pp, y_t0pp = zip(*grap_tuples_t0pp)\n",
    "x_points, y_points = zip(*grap_tuples)\n",
    "plt.figure(figsize = (10, 5))\n",
    "plt.plot(x_t0pp, y_t0pp, color=\"blue\", marker='o', label=\"T0++\")\n",
    "plt.plot(x_points, y_points, color=\"orange\", marker='o', label=\"GPT2-XL\")\n",
    "plt.plot(x_t5[:6], y_t5[:6], color=\"red\", marker='o', label=\"T5-Base\")\n",
    "\n",
    "\"\"\"for i in range(len(x_points)):\n",
    "    plt.text(x_points[i], y_points[i], str(round(y_points[i],2)) + \"%\", ha = 'center', bbox = dict(facecolor = 'red', alpha =.2))\n",
    "for i in range(len(x_points)):\n",
    "    plt.text(x_points[i], y_points[i]//2 + 0.25, num_data_points[i],  ha = 'center',\n",
    "             bbox = dict(facecolor = 'white', alpha = .5))\"\"\"\n",
    "plt.xlabel(\"Distance (# tokens)\")\n",
    "plt.ylabel(\"Accuracy (%)\")\n",
    "plt.legend(loc=\"upper right\")\n",
    "plt.xticks(np.arange(10), ['0-100', '100-200', '200-300', '300-400', \"400-500\", \"500-600\", \"600-700\", \"700-800\", \"800-900\", \"900-1000\"])\n",
    "plt.savefig('3models.png')"
   ]
  },
  {
   "cell_type": "code",
   "execution_count": 48,
   "id": "760aba0f-fb05-4215-a16a-cedde9ec4584",
   "metadata": {},
   "outputs": [],
   "source": [
    "prompt_no = 3\n",
    "loc_mention_graph = []\n",
    "\n",
    "for dist in fuzzy_match_distances[prompt_no]:\n",
    "    loc_mention_graph.append((dist, 1))\n",
    "    \n",
    "for dist in non_fuzzy_match_distances[prompt_no]:\n",
    "    loc_mention_graph.append((dist, 0))"
   ]
  },
  {
   "cell_type": "code",
   "execution_count": 49,
   "id": "68fcffa3-7a87-4fb9-8ea3-d961c2d20f62",
   "metadata": {},
   "outputs": [],
   "source": [
    "grap = defaultdict(list)\n",
    "num_data_points = {}\n",
    "for tupl in loc_mention_graph:\n",
    "    for i in range(10):\n",
    "        if 100*i<=tupl[0]<100*i+100:\n",
    "            grap[i].append(tupl)\n",
    "for i in range(10):\n",
    "    num_data_points[i] = len(grap[i])\n",
    "    if len(grap[i]) != 0 and len(grap[i]) > 5:\n",
    "        grap[i] = sum([tupl[1] == 1 for tupl in grap[i]]) / len(grap[i]) * 100\n",
    "    else:\n",
    "        grap[i] = 0\n",
    "grap_tuples = [(key, grap[key]) for key in grap]"
   ]
  },
  {
   "cell_type": "code",
   "execution_count": 50,
   "id": "5e89bda4-729e-4187-9dfa-88d2a2b3daa3",
   "metadata": {},
   "outputs": [
    {
     "data": {
      "image/png": "[encoded data removed]",
      "text/plain": [
       "<Figure size 1000x500 with 1 Axes>"
      ]
     },
     "metadata": {},
     "output_type": "display_data"
    }
   ],
   "source": [
    "x_points, y_points = zip(*grap_tuples)\n",
    "plt.figure(figsize = (10, 5))\n",
    "plt.bar(x_points, y_points, color=\"orange\")\n",
    "for i in range(len(x_points)):\n",
    "    plt.text(x_points[i], y_points[i], str(round(y_points[i],2)) + \"%\", ha = 'center', bbox = dict(facecolor = 'red', alpha =.2))\n",
    "for i in range(len(x_points)):\n",
    "    plt.text(x_points[i], y_points[i]//2 + 0.25, num_data_points[i],  ha = 'center',\n",
    "             bbox = dict(facecolor = 'white', alpha = .5))\n",
    "plt.xlabel(\"Distance (# tokens)\")\n",
    "plt.ylabel(\"Accuracy (%)\")\n",
    "\n",
    "plt.xticks(np.arange(10), ['0-100', '100-200', '200-300', '300-400', \"400-500\", \"500-600\", \"600-700\", \"700-800\", \"800-900\", \"900-1000\"])\n",
    "plt.savefig('gpt2xl_fuzzy_3.png')"
   ]
  },
  {
   "cell_type": "code",
   "execution_count": 51,
   "id": "cfc4917a-d190-46c0-be62-29174c0b5230",
   "metadata": {
    "tags": []
   },
   "outputs": [],
   "source": [
    "fuzzy_matches = {}\n",
    "\n",
    "for k in all_result_objects.keys():\n",
    "    fuzzy_matches[k] = []\n",
    "    \n",
    "    for j, result_object in enumerate(all_result_objects[k]): #[num_chap2_tokens]:\n",
    "\n",
    "        prompt = result_object.prompt\n",
    "        out = result_object.model_out\n",
    "        gold_locations = result_object.gold_locations\n",
    "        match1 = result_object.exact_match\n",
    "        match2 = result_object.fuzzy_match\n",
    "        \n",
    "        if match2 == \"Yes\":\n",
    "            fuzzy_matches[k].append(1)\n",
    "        else:\n",
    "            fuzzy_matches[k].append(0)\n",
    "            "
   ]
  },
  {
   "cell_type": "code",
   "execution_count": 52,
   "id": "889df089-a92d-4fd7-8f36-6a8be9e3010e",
   "metadata": {},
   "outputs": [],
   "source": [
    "accuracies = {}\n",
    "for k in all_result_objects.keys():\n",
    "    if fuzzy_matches[k] != []:\n",
    "        accuracies[k] = sum(fuzzy_matches[k])/len(fuzzy_matches[k])"
   ]
  },
  {
   "cell_type": "code",
   "execution_count": 53,
   "id": "81ca523d-369a-4214-9a06-1ed6e928d3f8",
   "metadata": {},
   "outputs": [
    {
     "data": {
      "text/plain": [
       "{1: 0.013438368860055607, 2: 0.03954278653073834, 3: 0.018072289156626505}"
      ]
     },
     "execution_count": 53,
     "metadata": {},
     "output_type": "execute_result"
    }
   ],
   "source": [
    "accuracies"
   ]
  },
  {
   "cell_type": "code",
   "execution_count": 50,
   "id": "e1a287cf-1f91-4343-a7f8-7222587ac4b2",
   "metadata": {},
   "outputs": [],
   "source": [
    "fuzzy_matches = {}\n",
    "\n",
    "for k in all_result_objects.keys():\n",
    "    fuzzy_matches[k] = {}\n",
    "    \n",
    "    for no_tok in tokens_to_append:\n",
    "        fuzzy_matches[k][no_tok] = []\n",
    "    \n",
    "    for j, result_object in enumerate(all_result_objects[k]): #[num_chap2_tokens]:\n",
    "\n",
    "        prompt = result_object.prompt\n",
    "        out = result_object.model_out\n",
    "        gold_locations = result_object.gold_locations\n",
    "        match1 = result_object.exact_match\n",
    "        match2 = result_object.fuzzy_match\n",
    "        no_tok = result_object.tokens_appended\n",
    "\n",
    "        if match2 == \"Yes\":\n",
    "            fuzzy_matches[k][no_tok].append(1)\n",
    "        else:\n",
    "            fuzzy_matches[k][no_tok].append(0)\n",
    "\n"
   ]
  },
  {
   "cell_type": "code",
   "execution_count": 51,
   "id": "1e2912b8-7956-4c26-a66e-bdf9dd0892c9",
   "metadata": {},
   "outputs": [],
   "source": [
    "accuracies_no_tok_appended = {}\n",
    "for k in all_result_objects.keys():\n",
    "    accuracies_no_tok_appended[k] = {}\n",
    "    for no_tok in exact_matches[k]:\n",
    "        if fuzzy_matches[k][no_tok] != []:\n",
    "            accuracies_no_tok_appended[k][no_tok] = sum(fuzzy_matches[k][no_tok])/len(fuzzy_matches[k][no_tok])"
   ]
  },
  {
   "cell_type": "code",
   "execution_count": 52,
   "id": "98b39dd0-3644-4a7d-ad0d-df8d908939fa",
   "metadata": {},
   "outputs": [
    {
     "name": "stdout",
     "output_type": "stream",
     "text": [
      "6\n",
      "{0: 0.46586345381526106, 50: 0.3373493975903614, 100: 0.4497991967871486, 150: 0.46184738955823296, 200: 0.43373493975903615, 250: 0.4538152610441767, 300: 0.40160642570281124, 400: 0.4497991967871486, 500: 0.40562248995983935, 600: 0.3855421686746988, 700: 0.3172690763052209, 800: 0.3855421686746988}\n",
      "10\n",
      "{0: 0.44176706827309237, 50: 0.40562248995983935, 100: 0.3895582329317269, 150: 0.3453815261044177, 200: 0.36947791164658633, 250: 0.3534136546184739, 300: 0.3413654618473896, 400: 0.40963855421686746, 500: 0.3534136546184739, 600: 0.3855421686746988, 700: 0.24096385542168675, 800: 0.28112449799196787}\n",
      "13\n",
      "{0: 0.4859437751004016, 50: 0.5020080321285141, 100: 0.4738955823293173, 150: 0.4578313253012048, 200: 0.4779116465863454, 250: 0.4738955823293173, 300: 0.46184738955823296, 400: 0.4738955823293173, 500: 0.43775100401606426, 600: 0.4578313253012048, 700: 0.3855421686746988, 800: 0.44176706827309237}\n",
      "17\n",
      "{0: 0.4738955823293173, 50: 0.46586345381526106, 100: 0.46184738955823296, 150: 0.46586345381526106, 200: 0.4779116465863454, 250: 0.46184738955823296, 300: 0.46987951807228917, 400: 0.4939759036144578, 500: 0.44176706827309237, 600: 0.4939759036144578, 700: 0.44176706827309237, 800: 0.4538152610441767}\n",
      "21\n",
      "{0: 0.46184738955823296, 50: 0.4819277108433735, 100: 0.46586345381526106, 150: 0.4738955823293173, 200: 0.4457831325301205, 250: 0.43775100401606426, 300: 0.43373493975903615, 400: 0.44176706827309237, 500: 0.42570281124497994, 600: 0.42971887550200805, 700: 0.3654618473895582, 800: 0.39357429718875503}\n"
     ]
    }
   ],
   "source": [
    "for k in all_result_objects.keys():\n",
    "    \n",
    "    if accuracies_no_tok_appended[k]:\n",
    "        print(k)\n",
    "        print(accuracies_no_tok_appended[k])"
   ]
  },
  {
   "cell_type": "markdown",
   "id": "caaf8e9e-a32c-4e9b-be5e-5973663405c7",
   "metadata": {},
   "source": [
    "# Visualization"
   ]
  },
  {
   "cell_type": "code",
   "execution_count": 10,
   "id": "e590f7ea-9366-4378-a92f-33a1a1525228",
   "metadata": {},
   "outputs": [],
   "source": [
    "with open(\"Text_injection_T0pp_all_result_objects.txt\", \"rb\") as f:\n",
    "    all_result_objects = pickle.load(f)"
   ]
  },
  {
   "cell_type": "code",
   "execution_count": 13,
   "id": "77f47a31-2f97-4f21-a099-7d03e94a561b",
   "metadata": {},
   "outputs": [
    {
     "name": "stderr",
     "output_type": "stream",
     "text": [
      "/tmp/ipykernel_17369/2041282757.py:28: FutureWarning: save is not part of the public API, usage can give unexpected results and will be removed in a future version\n",
      "  writer.save()\n"
     ]
    }
   ],
   "source": [
    "for k in [13]: #all_result_objects.keys():\n",
    "    \n",
    "    out_path = \"text_injection_t0pp_outputs_k\" + str(k) + \".xlsx\"\n",
    "    writer = pd.ExcelWriter(out_path, engine='xlsxwriter')\n",
    "    workbook = writer.book\n",
    "    format = workbook.add_format({'text_wrap': True})\n",
    "    my_dic = {\"Prompts\": [\"-\", \"-\", \"-\", \"-\", \"-\"]}\n",
    "    \n",
    "    for j, result_object in enumerate(all_result_objects[k]): #[num_chap2_tokens]:\n",
    "\n",
    "        prompt = result_object.prompt\n",
    "        out = result_object.model_out\n",
    "        gold_locations = result_object.gold_locations\n",
    "        match1 = result_object.exact_match\n",
    "        match2 = result_object.fuzzy_match\n",
    "        num_chap2_tokens = result_object.tokens_appended\n",
    "        \n",
    "        my_dic[prompt] = [gold_locations, out, num_chap2_tokens, match1, match2]\n",
    "        \n",
    "    df = pd.DataFrame(data=my_dic, index=[\"gold_locations\", \"output\", \"num_tokens_appended\", \"exact match?\", \"fuzzy match?\"])\n",
    "    df = (df.T)\n",
    "    df.to_excel(writer, sheet_name=\"output\")\n",
    "    worksheet = writer.sheets[\"output\"]\n",
    "    for idx, col in enumerate(df):\n",
    "        max_len = 75\n",
    "        worksheet.set_column(idx, idx, max_len, format)\n",
    "\n",
    "    writer.save()\n",
    "\n"
   ]
  },
  {
   "cell_type": "code",
   "execution_count": null,
   "id": "f37412cd-dc54-4c25-bca4-a7d8ffcb1af7",
   "metadata": {},
   "outputs": [],
   "source": []
  },
  {
   "cell_type": "code",
   "execution_count": 1,
   "id": "ad447aed-670e-48a0-92d5-8f7f7e3df68e",
   "metadata": {},
   "outputs": [],
   "source": [
    "from transformers import T5ForConditionalGeneration, AutoTokenizer\n",
    "import torch"
   ]
  },
  {
   "cell_type": "code",
   "execution_count": 2,
   "id": "334df888-67ce-4757-9b0f-d1ce02212026",
   "metadata": {},
   "outputs": [
    {
     "name": "stdout",
     "output_type": "stream",
     "text": [
      "\n",
      "===================================BUG REPORT===================================\n",
      "Welcome to bitsandbytes. For bug reports, please submit your error trace to: https://github.com/TimDettmers/bitsandbytes/issues\n",
      "================================================================================\n",
      "CUDA SETUP: CUDA runtime path found: /kuacc/users/bozyurt20/.conda/envs/hf/lib/libcudart.so\n",
      "CUDA SETUP: Highest compute capability among GPUs detected: 7.0\n",
      "CUDA SETUP: Detected CUDA version 110\n",
      "CUDA SETUP: Loading binary /kuacc/users/bozyurt20/.conda/envs/hf/lib/python3.8/site-packages/bitsandbytes/libbitsandbytes_cuda110_nocublaslt.so...\n"
     ]
    },
    {
     "name": "stderr",
     "output_type": "stream",
     "text": [
      "/kuacc/users/bozyurt20/.conda/envs/hf/lib/python3.8/site-packages/bitsandbytes/cuda_setup/main.py:136: UserWarning: WARNING: Compute capability < 7.5 detected! Only slow 8-bit matmul is supported for your GPU!\n",
      "  warn(msg)\n"
     ]
    },
    {
     "data": {
      "application/vnd.jupyter.widget-view+json": {
       "model_id": "8cd6a0dbdf0d4c20b13764c1806926e3",
       "version_major": 2,
       "version_minor": 0
      },
      "text/plain": [
       "Loading checkpoint shards:   0%|          | 0/8 [00:00<?, ?it/s]"
      ]
     },
     "metadata": {},
     "output_type": "display_data"
    }
   ],
   "source": [
    "model = T5ForConditionalGeneration.from_pretrained(\"google/flan-ul2\", device_map=\"auto\", load_in_8bit=True)     "
   ]
  },
  {
   "cell_type": "code",
   "execution_count": 3,
   "id": "bc8a0aa9-3698-4d1e-98b7-a4307e5bdde3",
   "metadata": {},
   "outputs": [
    {
     "data": {
      "application/vnd.jupyter.widget-view+json": {
       "model_id": "77ad147937434d34b553661ef919fa08",
       "version_major": 2,
       "version_minor": 0
      },
      "text/plain": [
       "Downloading (…)okenizer_config.json:   0%|          | 0.00/2.35k [00:00<?, ?B/s]"
      ]
     },
     "metadata": {},
     "output_type": "display_data"
    },
    {
     "data": {
      "application/vnd.jupyter.widget-view+json": {
       "model_id": "7dcce010c20947ac84c09b128a458e7f",
       "version_major": 2,
       "version_minor": 0
      },
      "text/plain": [
       "Downloading (…)\"spiece.model\";:   0%|          | 0.00/792k [00:00<?, ?B/s]"
      ]
     },
     "metadata": {},
     "output_type": "display_data"
    },
    {
     "data": {
      "application/vnd.jupyter.widget-view+json": {
       "model_id": "7347ba926d0c45a2a696a0023aeb3ea9",
       "version_major": 2,
       "version_minor": 0
      },
      "text/plain": [
       "Downloading (…)/main/tokenizer.json:   0%|          | 0.00/2.43M [00:00<?, ?B/s]"
      ]
     },
     "metadata": {},
     "output_type": "display_data"
    },
    {
     "data": {
      "application/vnd.jupyter.widget-view+json": {
       "model_id": "33253169930b46bf8bc6a05f5a7d9988",
       "version_major": 2,
       "version_minor": 0
      },
      "text/plain": [
       "Downloading (…)in/added_tokens.json:   0%|          | 0.00/665 [00:00<?, ?B/s]"
      ]
     },
     "metadata": {},
     "output_type": "display_data"
    },
    {
     "data": {
      "application/vnd.jupyter.widget-view+json": {
       "model_id": "99692d9f3271439189613de3861600c3",
       "version_major": 2,
       "version_minor": 0
      },
      "text/plain": [
       "Downloading (…)cial_tokens_map.json:   0%|          | 0.00/2.20k [00:00<?, ?B/s]"
      ]
     },
     "metadata": {},
     "output_type": "display_data"
    },
    {
     "ename": "RuntimeError",
     "evalue": "CUDA error: CUBLAS_STATUS_NOT_INITIALIZED when calling `cublasCreate(handle)`",
     "output_type": "error",
     "traceback": [
      "\u001b[0;31m---------------------------------------------------------------------------\u001b[0m",
      "\u001b[0;31mRuntimeError\u001b[0m                              Traceback (most recent call last)",
      "Cell \u001b[0;32mIn[3], line 6\u001b[0m\n\u001b[1;32m      3\u001b[0m input_string \u001b[38;5;241m=\u001b[39m \u001b[38;5;124m\"\u001b[39m\u001b[38;5;124mAnswer the following question by reasoning step by step. The cafeteria had 23 apples. If they used 20 for lunch, and bought 6 more, how many apple do they have?\u001b[39m\u001b[38;5;124m\"\u001b[39m                                               \n\u001b[1;32m      5\u001b[0m inputs \u001b[38;5;241m=\u001b[39m tokenizer(input_string, return_tensors\u001b[38;5;241m=\u001b[39m\u001b[38;5;124m\"\u001b[39m\u001b[38;5;124mpt\u001b[39m\u001b[38;5;124m\"\u001b[39m)\u001b[38;5;241m.\u001b[39minput_ids\u001b[38;5;241m.\u001b[39mto(\u001b[38;5;124m\"\u001b[39m\u001b[38;5;124mcuda\u001b[39m\u001b[38;5;124m\"\u001b[39m)\n\u001b[0;32m----> 6\u001b[0m outputs \u001b[38;5;241m=\u001b[39m \u001b[43mmodel\u001b[49m\u001b[38;5;241;43m.\u001b[39;49m\u001b[43mgenerate\u001b[49m\u001b[43m(\u001b[49m\u001b[43minputs\u001b[49m\u001b[43m,\u001b[49m\u001b[43m \u001b[49m\u001b[43mmax_length\u001b[49m\u001b[38;5;241;43m=\u001b[39;49m\u001b[38;5;241;43m200\u001b[39;49m\u001b[43m)\u001b[49m\n\u001b[1;32m      8\u001b[0m \u001b[38;5;28mprint\u001b[39m(tokenizer\u001b[38;5;241m.\u001b[39mdecode(outputs[\u001b[38;5;241m0\u001b[39m]))\n",
      "File \u001b[0;32m~/.conda/envs/hf/lib/python3.8/site-packages/torch/autograd/grad_mode.py:27\u001b[0m, in \u001b[0;36m_DecoratorContextManager.__call__.<locals>.decorate_context\u001b[0;34m(*args, **kwargs)\u001b[0m\n\u001b[1;32m     24\u001b[0m \u001b[38;5;129m@functools\u001b[39m\u001b[38;5;241m.\u001b[39mwraps(func)\n\u001b[1;32m     25\u001b[0m \u001b[38;5;28;01mdef\u001b[39;00m \u001b[38;5;21mdecorate_context\u001b[39m(\u001b[38;5;241m*\u001b[39margs, \u001b[38;5;241m*\u001b[39m\u001b[38;5;241m*\u001b[39mkwargs):\n\u001b[1;32m     26\u001b[0m     \u001b[38;5;28;01mwith\u001b[39;00m \u001b[38;5;28mself\u001b[39m\u001b[38;5;241m.\u001b[39mclone():\n\u001b[0;32m---> 27\u001b[0m         \u001b[38;5;28;01mreturn\u001b[39;00m \u001b[43mfunc\u001b[49m\u001b[43m(\u001b[49m\u001b[38;5;241;43m*\u001b[39;49m\u001b[43margs\u001b[49m\u001b[43m,\u001b[49m\u001b[43m \u001b[49m\u001b[38;5;241;43m*\u001b[39;49m\u001b[38;5;241;43m*\u001b[39;49m\u001b[43mkwargs\u001b[49m\u001b[43m)\u001b[49m\n",
      "File \u001b[0;32m~/.conda/envs/hf/lib/python3.8/site-packages/transformers/generation/utils.py:1252\u001b[0m, in \u001b[0;36mGenerationMixin.generate\u001b[0;34m(self, inputs, generation_config, logits_processor, stopping_criteria, prefix_allowed_tokens_fn, synced_gpus, **kwargs)\u001b[0m\n\u001b[1;32m   1244\u001b[0m         logger\u001b[38;5;241m.\u001b[39mwarning(\n\u001b[1;32m   1245\u001b[0m             \u001b[38;5;124m\"\u001b[39m\u001b[38;5;124mA decoder-only architecture is being used, but right-padding was detected! For correct \u001b[39m\u001b[38;5;124m\"\u001b[39m\n\u001b[1;32m   1246\u001b[0m             \u001b[38;5;124m\"\u001b[39m\u001b[38;5;124mgeneration results, please set `padding_side=\u001b[39m\u001b[38;5;124m'\u001b[39m\u001b[38;5;124mleft\u001b[39m\u001b[38;5;124m'\u001b[39m\u001b[38;5;124m` when initializing the tokenizer.\u001b[39m\u001b[38;5;124m\"\u001b[39m\n\u001b[1;32m   1247\u001b[0m         )\n\u001b[1;32m   1249\u001b[0m \u001b[38;5;28;01mif\u001b[39;00m \u001b[38;5;28mself\u001b[39m\u001b[38;5;241m.\u001b[39mconfig\u001b[38;5;241m.\u001b[39mis_encoder_decoder \u001b[38;5;129;01mand\u001b[39;00m \u001b[38;5;124m\"\u001b[39m\u001b[38;5;124mencoder_outputs\u001b[39m\u001b[38;5;124m\"\u001b[39m \u001b[38;5;129;01mnot\u001b[39;00m \u001b[38;5;129;01min\u001b[39;00m model_kwargs:\n\u001b[1;32m   1250\u001b[0m     \u001b[38;5;66;03m# if model is encoder decoder encoder_outputs are created\u001b[39;00m\n\u001b[1;32m   1251\u001b[0m     \u001b[38;5;66;03m# and added to `model_kwargs`\u001b[39;00m\n\u001b[0;32m-> 1252\u001b[0m     model_kwargs \u001b[38;5;241m=\u001b[39m \u001b[38;5;28;43mself\u001b[39;49m\u001b[38;5;241;43m.\u001b[39;49m\u001b[43m_prepare_encoder_decoder_kwargs_for_generation\u001b[49m\u001b[43m(\u001b[49m\n\u001b[1;32m   1253\u001b[0m \u001b[43m        \u001b[49m\u001b[43minputs_tensor\u001b[49m\u001b[43m,\u001b[49m\u001b[43m \u001b[49m\u001b[43mmodel_kwargs\u001b[49m\u001b[43m,\u001b[49m\u001b[43m \u001b[49m\u001b[43mmodel_input_name\u001b[49m\n\u001b[1;32m   1254\u001b[0m \u001b[43m    \u001b[49m\u001b[43m)\u001b[49m\n\u001b[1;32m   1256\u001b[0m \u001b[38;5;66;03m# 5. Prepare `input_ids` which will be used for auto-regressive generation\u001b[39;00m\n\u001b[1;32m   1257\u001b[0m \u001b[38;5;28;01mif\u001b[39;00m \u001b[38;5;28mself\u001b[39m\u001b[38;5;241m.\u001b[39mconfig\u001b[38;5;241m.\u001b[39mis_encoder_decoder:\n",
      "File \u001b[0;32m~/.conda/envs/hf/lib/python3.8/site-packages/transformers/generation/utils.py:617\u001b[0m, in \u001b[0;36mGenerationMixin._prepare_encoder_decoder_kwargs_for_generation\u001b[0;34m(self, inputs_tensor, model_kwargs, model_input_name)\u001b[0m\n\u001b[1;32m    615\u001b[0m encoder_kwargs[\u001b[38;5;124m\"\u001b[39m\u001b[38;5;124mreturn_dict\u001b[39m\u001b[38;5;124m\"\u001b[39m] \u001b[38;5;241m=\u001b[39m \u001b[38;5;28;01mTrue\u001b[39;00m\n\u001b[1;32m    616\u001b[0m encoder_kwargs[model_input_name] \u001b[38;5;241m=\u001b[39m inputs_tensor\n\u001b[0;32m--> 617\u001b[0m model_kwargs[\u001b[38;5;124m\"\u001b[39m\u001b[38;5;124mencoder_outputs\u001b[39m\u001b[38;5;124m\"\u001b[39m]: ModelOutput \u001b[38;5;241m=\u001b[39m \u001b[43mencoder\u001b[49m\u001b[43m(\u001b[49m\u001b[38;5;241;43m*\u001b[39;49m\u001b[38;5;241;43m*\u001b[39;49m\u001b[43mencoder_kwargs\u001b[49m\u001b[43m)\u001b[49m\n\u001b[1;32m    619\u001b[0m \u001b[38;5;28;01mreturn\u001b[39;00m model_kwargs\n",
      "File \u001b[0;32m~/.conda/envs/hf/lib/python3.8/site-packages/torch/nn/modules/module.py:1194\u001b[0m, in \u001b[0;36mModule._call_impl\u001b[0;34m(self, *input, **kwargs)\u001b[0m\n\u001b[1;32m   1190\u001b[0m \u001b[38;5;66;03m# If we don't have any hooks, we want to skip the rest of the logic in\u001b[39;00m\n\u001b[1;32m   1191\u001b[0m \u001b[38;5;66;03m# this function, and just call forward.\u001b[39;00m\n\u001b[1;32m   1192\u001b[0m \u001b[38;5;28;01mif\u001b[39;00m \u001b[38;5;129;01mnot\u001b[39;00m (\u001b[38;5;28mself\u001b[39m\u001b[38;5;241m.\u001b[39m_backward_hooks \u001b[38;5;129;01mor\u001b[39;00m \u001b[38;5;28mself\u001b[39m\u001b[38;5;241m.\u001b[39m_forward_hooks \u001b[38;5;129;01mor\u001b[39;00m \u001b[38;5;28mself\u001b[39m\u001b[38;5;241m.\u001b[39m_forward_pre_hooks \u001b[38;5;129;01mor\u001b[39;00m _global_backward_hooks\n\u001b[1;32m   1193\u001b[0m         \u001b[38;5;129;01mor\u001b[39;00m _global_forward_hooks \u001b[38;5;129;01mor\u001b[39;00m _global_forward_pre_hooks):\n\u001b[0;32m-> 1194\u001b[0m     \u001b[38;5;28;01mreturn\u001b[39;00m \u001b[43mforward_call\u001b[49m\u001b[43m(\u001b[49m\u001b[38;5;241;43m*\u001b[39;49m\u001b[38;5;28;43minput\u001b[39;49m\u001b[43m,\u001b[49m\u001b[43m \u001b[49m\u001b[38;5;241;43m*\u001b[39;49m\u001b[38;5;241;43m*\u001b[39;49m\u001b[43mkwargs\u001b[49m\u001b[43m)\u001b[49m\n\u001b[1;32m   1195\u001b[0m \u001b[38;5;66;03m# Do not call functions when jit is used\u001b[39;00m\n\u001b[1;32m   1196\u001b[0m full_backward_hooks, non_full_backward_hooks \u001b[38;5;241m=\u001b[39m [], []\n",
      "File \u001b[0;32m~/.conda/envs/hf/lib/python3.8/site-packages/accelerate/hooks.py:165\u001b[0m, in \u001b[0;36madd_hook_to_module.<locals>.new_forward\u001b[0;34m(*args, **kwargs)\u001b[0m\n\u001b[1;32m    163\u001b[0m         output \u001b[38;5;241m=\u001b[39m old_forward(\u001b[38;5;241m*\u001b[39margs, \u001b[38;5;241m*\u001b[39m\u001b[38;5;241m*\u001b[39mkwargs)\n\u001b[1;32m    164\u001b[0m \u001b[38;5;28;01melse\u001b[39;00m:\n\u001b[0;32m--> 165\u001b[0m     output \u001b[38;5;241m=\u001b[39m \u001b[43mold_forward\u001b[49m\u001b[43m(\u001b[49m\u001b[38;5;241;43m*\u001b[39;49m\u001b[43margs\u001b[49m\u001b[43m,\u001b[49m\u001b[43m \u001b[49m\u001b[38;5;241;43m*\u001b[39;49m\u001b[38;5;241;43m*\u001b[39;49m\u001b[43mkwargs\u001b[49m\u001b[43m)\u001b[49m\n\u001b[1;32m    166\u001b[0m \u001b[38;5;28;01mreturn\u001b[39;00m module\u001b[38;5;241m.\u001b[39m_hf_hook\u001b[38;5;241m.\u001b[39mpost_forward(module, output)\n",
      "File \u001b[0;32m~/.conda/envs/hf/lib/python3.8/site-packages/transformers/models/t5/modeling_t5.py:1052\u001b[0m, in \u001b[0;36mT5Stack.forward\u001b[0;34m(self, input_ids, attention_mask, encoder_hidden_states, encoder_attention_mask, inputs_embeds, head_mask, cross_attn_head_mask, past_key_values, use_cache, output_attentions, output_hidden_states, return_dict)\u001b[0m\n\u001b[1;32m   1039\u001b[0m     layer_outputs \u001b[38;5;241m=\u001b[39m checkpoint(\n\u001b[1;32m   1040\u001b[0m         create_custom_forward(layer_module),\n\u001b[1;32m   1041\u001b[0m         hidden_states,\n\u001b[0;32m   (...)\u001b[0m\n\u001b[1;32m   1049\u001b[0m         \u001b[38;5;28;01mNone\u001b[39;00m,  \u001b[38;5;66;03m# past_key_value is always None with gradient checkpointing\u001b[39;00m\n\u001b[1;32m   1050\u001b[0m     )\n\u001b[1;32m   1051\u001b[0m \u001b[38;5;28;01melse\u001b[39;00m:\n\u001b[0;32m-> 1052\u001b[0m     layer_outputs \u001b[38;5;241m=\u001b[39m \u001b[43mlayer_module\u001b[49m\u001b[43m(\u001b[49m\n\u001b[1;32m   1053\u001b[0m \u001b[43m        \u001b[49m\u001b[43mhidden_states\u001b[49m\u001b[43m,\u001b[49m\n\u001b[1;32m   1054\u001b[0m \u001b[43m        \u001b[49m\u001b[43mattention_mask\u001b[49m\u001b[38;5;241;43m=\u001b[39;49m\u001b[43mextended_attention_mask\u001b[49m\u001b[43m,\u001b[49m\n\u001b[1;32m   1055\u001b[0m \u001b[43m        \u001b[49m\u001b[43mposition_bias\u001b[49m\u001b[38;5;241;43m=\u001b[39;49m\u001b[43mposition_bias\u001b[49m\u001b[43m,\u001b[49m\n\u001b[1;32m   1056\u001b[0m \u001b[43m        \u001b[49m\u001b[43mencoder_hidden_states\u001b[49m\u001b[38;5;241;43m=\u001b[39;49m\u001b[43mencoder_hidden_states\u001b[49m\u001b[43m,\u001b[49m\n\u001b[1;32m   1057\u001b[0m \u001b[43m        \u001b[49m\u001b[43mencoder_attention_mask\u001b[49m\u001b[38;5;241;43m=\u001b[39;49m\u001b[43mencoder_extended_attention_mask\u001b[49m\u001b[43m,\u001b[49m\n\u001b[1;32m   1058\u001b[0m \u001b[43m        \u001b[49m\u001b[43mencoder_decoder_position_bias\u001b[49m\u001b[38;5;241;43m=\u001b[39;49m\u001b[43mencoder_decoder_position_bias\u001b[49m\u001b[43m,\u001b[49m\n\u001b[1;32m   1059\u001b[0m \u001b[43m        \u001b[49m\u001b[43mlayer_head_mask\u001b[49m\u001b[38;5;241;43m=\u001b[39;49m\u001b[43mlayer_head_mask\u001b[49m\u001b[43m,\u001b[49m\n\u001b[1;32m   1060\u001b[0m \u001b[43m        \u001b[49m\u001b[43mcross_attn_layer_head_mask\u001b[49m\u001b[38;5;241;43m=\u001b[39;49m\u001b[43mcross_attn_layer_head_mask\u001b[49m\u001b[43m,\u001b[49m\n\u001b[1;32m   1061\u001b[0m \u001b[43m        \u001b[49m\u001b[43mpast_key_value\u001b[49m\u001b[38;5;241;43m=\u001b[39;49m\u001b[43mpast_key_value\u001b[49m\u001b[43m,\u001b[49m\n\u001b[1;32m   1062\u001b[0m \u001b[43m        \u001b[49m\u001b[43muse_cache\u001b[49m\u001b[38;5;241;43m=\u001b[39;49m\u001b[43muse_cache\u001b[49m\u001b[43m,\u001b[49m\n\u001b[1;32m   1063\u001b[0m \u001b[43m        \u001b[49m\u001b[43moutput_attentions\u001b[49m\u001b[38;5;241;43m=\u001b[39;49m\u001b[43moutput_attentions\u001b[49m\u001b[43m,\u001b[49m\n\u001b[1;32m   1064\u001b[0m \u001b[43m    \u001b[49m\u001b[43m)\u001b[49m\n\u001b[1;32m   1066\u001b[0m \u001b[38;5;66;03m# layer_outputs is a tuple with:\u001b[39;00m\n\u001b[1;32m   1067\u001b[0m \u001b[38;5;66;03m# hidden-states, key-value-states, (self-attention position bias), (self-attention weights), (cross-attention position bias), (cross-attention weights)\u001b[39;00m\n\u001b[1;32m   1068\u001b[0m \u001b[38;5;28;01mif\u001b[39;00m use_cache \u001b[38;5;129;01mis\u001b[39;00m \u001b[38;5;28;01mFalse\u001b[39;00m:\n",
      "File \u001b[0;32m~/.conda/envs/hf/lib/python3.8/site-packages/torch/nn/modules/module.py:1194\u001b[0m, in \u001b[0;36mModule._call_impl\u001b[0;34m(self, *input, **kwargs)\u001b[0m\n\u001b[1;32m   1190\u001b[0m \u001b[38;5;66;03m# If we don't have any hooks, we want to skip the rest of the logic in\u001b[39;00m\n\u001b[1;32m   1191\u001b[0m \u001b[38;5;66;03m# this function, and just call forward.\u001b[39;00m\n\u001b[1;32m   1192\u001b[0m \u001b[38;5;28;01mif\u001b[39;00m \u001b[38;5;129;01mnot\u001b[39;00m (\u001b[38;5;28mself\u001b[39m\u001b[38;5;241m.\u001b[39m_backward_hooks \u001b[38;5;129;01mor\u001b[39;00m \u001b[38;5;28mself\u001b[39m\u001b[38;5;241m.\u001b[39m_forward_hooks \u001b[38;5;129;01mor\u001b[39;00m \u001b[38;5;28mself\u001b[39m\u001b[38;5;241m.\u001b[39m_forward_pre_hooks \u001b[38;5;129;01mor\u001b[39;00m _global_backward_hooks\n\u001b[1;32m   1193\u001b[0m         \u001b[38;5;129;01mor\u001b[39;00m _global_forward_hooks \u001b[38;5;129;01mor\u001b[39;00m _global_forward_pre_hooks):\n\u001b[0;32m-> 1194\u001b[0m     \u001b[38;5;28;01mreturn\u001b[39;00m \u001b[43mforward_call\u001b[49m\u001b[43m(\u001b[49m\u001b[38;5;241;43m*\u001b[39;49m\u001b[38;5;28;43minput\u001b[39;49m\u001b[43m,\u001b[49m\u001b[43m \u001b[49m\u001b[38;5;241;43m*\u001b[39;49m\u001b[38;5;241;43m*\u001b[39;49m\u001b[43mkwargs\u001b[49m\u001b[43m)\u001b[49m\n\u001b[1;32m   1195\u001b[0m \u001b[38;5;66;03m# Do not call functions when jit is used\u001b[39;00m\n\u001b[1;32m   1196\u001b[0m full_backward_hooks, non_full_backward_hooks \u001b[38;5;241m=\u001b[39m [], []\n",
      "File \u001b[0;32m~/.conda/envs/hf/lib/python3.8/site-packages/accelerate/hooks.py:165\u001b[0m, in \u001b[0;36madd_hook_to_module.<locals>.new_forward\u001b[0;34m(*args, **kwargs)\u001b[0m\n\u001b[1;32m    163\u001b[0m         output \u001b[38;5;241m=\u001b[39m old_forward(\u001b[38;5;241m*\u001b[39margs, \u001b[38;5;241m*\u001b[39m\u001b[38;5;241m*\u001b[39mkwargs)\n\u001b[1;32m    164\u001b[0m \u001b[38;5;28;01melse\u001b[39;00m:\n\u001b[0;32m--> 165\u001b[0m     output \u001b[38;5;241m=\u001b[39m \u001b[43mold_forward\u001b[49m\u001b[43m(\u001b[49m\u001b[38;5;241;43m*\u001b[39;49m\u001b[43margs\u001b[49m\u001b[43m,\u001b[49m\u001b[43m \u001b[49m\u001b[38;5;241;43m*\u001b[39;49m\u001b[38;5;241;43m*\u001b[39;49m\u001b[43mkwargs\u001b[49m\u001b[43m)\u001b[49m\n\u001b[1;32m    166\u001b[0m \u001b[38;5;28;01mreturn\u001b[39;00m module\u001b[38;5;241m.\u001b[39m_hf_hook\u001b[38;5;241m.\u001b[39mpost_forward(module, output)\n",
      "File \u001b[0;32m~/.conda/envs/hf/lib/python3.8/site-packages/transformers/models/t5/modeling_t5.py:684\u001b[0m, in \u001b[0;36mT5Block.forward\u001b[0;34m(self, hidden_states, attention_mask, position_bias, encoder_hidden_states, encoder_attention_mask, encoder_decoder_position_bias, layer_head_mask, cross_attn_layer_head_mask, past_key_value, use_cache, output_attentions, return_dict)\u001b[0m\n\u001b[1;32m    681\u001b[0m \u001b[38;5;28;01melse\u001b[39;00m:\n\u001b[1;32m    682\u001b[0m     self_attn_past_key_value, cross_attn_past_key_value \u001b[38;5;241m=\u001b[39m \u001b[38;5;28;01mNone\u001b[39;00m, \u001b[38;5;28;01mNone\u001b[39;00m\n\u001b[0;32m--> 684\u001b[0m self_attention_outputs \u001b[38;5;241m=\u001b[39m \u001b[38;5;28;43mself\u001b[39;49m\u001b[38;5;241;43m.\u001b[39;49m\u001b[43mlayer\u001b[49m\u001b[43m[\u001b[49m\u001b[38;5;241;43m0\u001b[39;49m\u001b[43m]\u001b[49m\u001b[43m(\u001b[49m\n\u001b[1;32m    685\u001b[0m \u001b[43m    \u001b[49m\u001b[43mhidden_states\u001b[49m\u001b[43m,\u001b[49m\n\u001b[1;32m    686\u001b[0m \u001b[43m    \u001b[49m\u001b[43mattention_mask\u001b[49m\u001b[38;5;241;43m=\u001b[39;49m\u001b[43mattention_mask\u001b[49m\u001b[43m,\u001b[49m\n\u001b[1;32m    687\u001b[0m \u001b[43m    \u001b[49m\u001b[43mposition_bias\u001b[49m\u001b[38;5;241;43m=\u001b[39;49m\u001b[43mposition_bias\u001b[49m\u001b[43m,\u001b[49m\n\u001b[1;32m    688\u001b[0m \u001b[43m    \u001b[49m\u001b[43mlayer_head_mask\u001b[49m\u001b[38;5;241;43m=\u001b[39;49m\u001b[43mlayer_head_mask\u001b[49m\u001b[43m,\u001b[49m\n\u001b[1;32m    689\u001b[0m \u001b[43m    \u001b[49m\u001b[43mpast_key_value\u001b[49m\u001b[38;5;241;43m=\u001b[39;49m\u001b[43mself_attn_past_key_value\u001b[49m\u001b[43m,\u001b[49m\n\u001b[1;32m    690\u001b[0m \u001b[43m    \u001b[49m\u001b[43muse_cache\u001b[49m\u001b[38;5;241;43m=\u001b[39;49m\u001b[43muse_cache\u001b[49m\u001b[43m,\u001b[49m\n\u001b[1;32m    691\u001b[0m \u001b[43m    \u001b[49m\u001b[43moutput_attentions\u001b[49m\u001b[38;5;241;43m=\u001b[39;49m\u001b[43moutput_attentions\u001b[49m\u001b[43m,\u001b[49m\n\u001b[1;32m    692\u001b[0m \u001b[43m\u001b[49m\u001b[43m)\u001b[49m\n\u001b[1;32m    693\u001b[0m hidden_states, present_key_value_state \u001b[38;5;241m=\u001b[39m self_attention_outputs[:\u001b[38;5;241m2\u001b[39m]\n\u001b[1;32m    694\u001b[0m attention_outputs \u001b[38;5;241m=\u001b[39m self_attention_outputs[\u001b[38;5;241m2\u001b[39m:]  \u001b[38;5;66;03m# Keep self-attention outputs and relative position weights\u001b[39;00m\n",
      "File \u001b[0;32m~/.conda/envs/hf/lib/python3.8/site-packages/torch/nn/modules/module.py:1194\u001b[0m, in \u001b[0;36mModule._call_impl\u001b[0;34m(self, *input, **kwargs)\u001b[0m\n\u001b[1;32m   1190\u001b[0m \u001b[38;5;66;03m# If we don't have any hooks, we want to skip the rest of the logic in\u001b[39;00m\n\u001b[1;32m   1191\u001b[0m \u001b[38;5;66;03m# this function, and just call forward.\u001b[39;00m\n\u001b[1;32m   1192\u001b[0m \u001b[38;5;28;01mif\u001b[39;00m \u001b[38;5;129;01mnot\u001b[39;00m (\u001b[38;5;28mself\u001b[39m\u001b[38;5;241m.\u001b[39m_backward_hooks \u001b[38;5;129;01mor\u001b[39;00m \u001b[38;5;28mself\u001b[39m\u001b[38;5;241m.\u001b[39m_forward_hooks \u001b[38;5;129;01mor\u001b[39;00m \u001b[38;5;28mself\u001b[39m\u001b[38;5;241m.\u001b[39m_forward_pre_hooks \u001b[38;5;129;01mor\u001b[39;00m _global_backward_hooks\n\u001b[1;32m   1193\u001b[0m         \u001b[38;5;129;01mor\u001b[39;00m _global_forward_hooks \u001b[38;5;129;01mor\u001b[39;00m _global_forward_pre_hooks):\n\u001b[0;32m-> 1194\u001b[0m     \u001b[38;5;28;01mreturn\u001b[39;00m \u001b[43mforward_call\u001b[49m\u001b[43m(\u001b[49m\u001b[38;5;241;43m*\u001b[39;49m\u001b[38;5;28;43minput\u001b[39;49m\u001b[43m,\u001b[49m\u001b[43m \u001b[49m\u001b[38;5;241;43m*\u001b[39;49m\u001b[38;5;241;43m*\u001b[39;49m\u001b[43mkwargs\u001b[49m\u001b[43m)\u001b[49m\n\u001b[1;32m   1195\u001b[0m \u001b[38;5;66;03m# Do not call functions when jit is used\u001b[39;00m\n\u001b[1;32m   1196\u001b[0m full_backward_hooks, non_full_backward_hooks \u001b[38;5;241m=\u001b[39m [], []\n",
      "File \u001b[0;32m~/.conda/envs/hf/lib/python3.8/site-packages/accelerate/hooks.py:165\u001b[0m, in \u001b[0;36madd_hook_to_module.<locals>.new_forward\u001b[0;34m(*args, **kwargs)\u001b[0m\n\u001b[1;32m    163\u001b[0m         output \u001b[38;5;241m=\u001b[39m old_forward(\u001b[38;5;241m*\u001b[39margs, \u001b[38;5;241m*\u001b[39m\u001b[38;5;241m*\u001b[39mkwargs)\n\u001b[1;32m    164\u001b[0m \u001b[38;5;28;01melse\u001b[39;00m:\n\u001b[0;32m--> 165\u001b[0m     output \u001b[38;5;241m=\u001b[39m \u001b[43mold_forward\u001b[49m\u001b[43m(\u001b[49m\u001b[38;5;241;43m*\u001b[39;49m\u001b[43margs\u001b[49m\u001b[43m,\u001b[49m\u001b[43m \u001b[49m\u001b[38;5;241;43m*\u001b[39;49m\u001b[38;5;241;43m*\u001b[39;49m\u001b[43mkwargs\u001b[49m\u001b[43m)\u001b[49m\n\u001b[1;32m    166\u001b[0m \u001b[38;5;28;01mreturn\u001b[39;00m module\u001b[38;5;241m.\u001b[39m_hf_hook\u001b[38;5;241m.\u001b[39mpost_forward(module, output)\n",
      "File \u001b[0;32m~/.conda/envs/hf/lib/python3.8/site-packages/transformers/models/t5/modeling_t5.py:590\u001b[0m, in \u001b[0;36mT5LayerSelfAttention.forward\u001b[0;34m(self, hidden_states, attention_mask, position_bias, layer_head_mask, past_key_value, use_cache, output_attentions)\u001b[0m\n\u001b[1;32m    579\u001b[0m \u001b[38;5;28;01mdef\u001b[39;00m \u001b[38;5;21mforward\u001b[39m(\n\u001b[1;32m    580\u001b[0m     \u001b[38;5;28mself\u001b[39m,\n\u001b[1;32m    581\u001b[0m     hidden_states,\n\u001b[0;32m   (...)\u001b[0m\n\u001b[1;32m    587\u001b[0m     output_attentions\u001b[38;5;241m=\u001b[39m\u001b[38;5;28;01mFalse\u001b[39;00m,\n\u001b[1;32m    588\u001b[0m ):\n\u001b[1;32m    589\u001b[0m     normed_hidden_states \u001b[38;5;241m=\u001b[39m \u001b[38;5;28mself\u001b[39m\u001b[38;5;241m.\u001b[39mlayer_norm(hidden_states)\n\u001b[0;32m--> 590\u001b[0m     attention_output \u001b[38;5;241m=\u001b[39m \u001b[38;5;28;43mself\u001b[39;49m\u001b[38;5;241;43m.\u001b[39;49m\u001b[43mSelfAttention\u001b[49m\u001b[43m(\u001b[49m\n\u001b[1;32m    591\u001b[0m \u001b[43m        \u001b[49m\u001b[43mnormed_hidden_states\u001b[49m\u001b[43m,\u001b[49m\n\u001b[1;32m    592\u001b[0m \u001b[43m        \u001b[49m\u001b[43mmask\u001b[49m\u001b[38;5;241;43m=\u001b[39;49m\u001b[43mattention_mask\u001b[49m\u001b[43m,\u001b[49m\n\u001b[1;32m    593\u001b[0m \u001b[43m        \u001b[49m\u001b[43mposition_bias\u001b[49m\u001b[38;5;241;43m=\u001b[39;49m\u001b[43mposition_bias\u001b[49m\u001b[43m,\u001b[49m\n\u001b[1;32m    594\u001b[0m \u001b[43m        \u001b[49m\u001b[43mlayer_head_mask\u001b[49m\u001b[38;5;241;43m=\u001b[39;49m\u001b[43mlayer_head_mask\u001b[49m\u001b[43m,\u001b[49m\n\u001b[1;32m    595\u001b[0m \u001b[43m        \u001b[49m\u001b[43mpast_key_value\u001b[49m\u001b[38;5;241;43m=\u001b[39;49m\u001b[43mpast_key_value\u001b[49m\u001b[43m,\u001b[49m\n\u001b[1;32m    596\u001b[0m \u001b[43m        \u001b[49m\u001b[43muse_cache\u001b[49m\u001b[38;5;241;43m=\u001b[39;49m\u001b[43muse_cache\u001b[49m\u001b[43m,\u001b[49m\n\u001b[1;32m    597\u001b[0m \u001b[43m        \u001b[49m\u001b[43moutput_attentions\u001b[49m\u001b[38;5;241;43m=\u001b[39;49m\u001b[43moutput_attentions\u001b[49m\u001b[43m,\u001b[49m\n\u001b[1;32m    598\u001b[0m \u001b[43m    \u001b[49m\u001b[43m)\u001b[49m\n\u001b[1;32m    599\u001b[0m     hidden_states \u001b[38;5;241m=\u001b[39m hidden_states \u001b[38;5;241m+\u001b[39m \u001b[38;5;28mself\u001b[39m\u001b[38;5;241m.\u001b[39mdropout(attention_output[\u001b[38;5;241m0\u001b[39m])\n\u001b[1;32m    600\u001b[0m     outputs \u001b[38;5;241m=\u001b[39m (hidden_states,) \u001b[38;5;241m+\u001b[39m attention_output[\u001b[38;5;241m1\u001b[39m:]  \u001b[38;5;66;03m# add attentions if we output them\u001b[39;00m\n",
      "File \u001b[0;32m~/.conda/envs/hf/lib/python3.8/site-packages/torch/nn/modules/module.py:1194\u001b[0m, in \u001b[0;36mModule._call_impl\u001b[0;34m(self, *input, **kwargs)\u001b[0m\n\u001b[1;32m   1190\u001b[0m \u001b[38;5;66;03m# If we don't have any hooks, we want to skip the rest of the logic in\u001b[39;00m\n\u001b[1;32m   1191\u001b[0m \u001b[38;5;66;03m# this function, and just call forward.\u001b[39;00m\n\u001b[1;32m   1192\u001b[0m \u001b[38;5;28;01mif\u001b[39;00m \u001b[38;5;129;01mnot\u001b[39;00m (\u001b[38;5;28mself\u001b[39m\u001b[38;5;241m.\u001b[39m_backward_hooks \u001b[38;5;129;01mor\u001b[39;00m \u001b[38;5;28mself\u001b[39m\u001b[38;5;241m.\u001b[39m_forward_hooks \u001b[38;5;129;01mor\u001b[39;00m \u001b[38;5;28mself\u001b[39m\u001b[38;5;241m.\u001b[39m_forward_pre_hooks \u001b[38;5;129;01mor\u001b[39;00m _global_backward_hooks\n\u001b[1;32m   1193\u001b[0m         \u001b[38;5;129;01mor\u001b[39;00m _global_forward_hooks \u001b[38;5;129;01mor\u001b[39;00m _global_forward_pre_hooks):\n\u001b[0;32m-> 1194\u001b[0m     \u001b[38;5;28;01mreturn\u001b[39;00m \u001b[43mforward_call\u001b[49m\u001b[43m(\u001b[49m\u001b[38;5;241;43m*\u001b[39;49m\u001b[38;5;28;43minput\u001b[39;49m\u001b[43m,\u001b[49m\u001b[43m \u001b[49m\u001b[38;5;241;43m*\u001b[39;49m\u001b[38;5;241;43m*\u001b[39;49m\u001b[43mkwargs\u001b[49m\u001b[43m)\u001b[49m\n\u001b[1;32m   1195\u001b[0m \u001b[38;5;66;03m# Do not call functions when jit is used\u001b[39;00m\n\u001b[1;32m   1196\u001b[0m full_backward_hooks, non_full_backward_hooks \u001b[38;5;241m=\u001b[39m [], []\n",
      "File \u001b[0;32m~/.conda/envs/hf/lib/python3.8/site-packages/accelerate/hooks.py:165\u001b[0m, in \u001b[0;36madd_hook_to_module.<locals>.new_forward\u001b[0;34m(*args, **kwargs)\u001b[0m\n\u001b[1;32m    163\u001b[0m         output \u001b[38;5;241m=\u001b[39m old_forward(\u001b[38;5;241m*\u001b[39margs, \u001b[38;5;241m*\u001b[39m\u001b[38;5;241m*\u001b[39mkwargs)\n\u001b[1;32m    164\u001b[0m \u001b[38;5;28;01melse\u001b[39;00m:\n\u001b[0;32m--> 165\u001b[0m     output \u001b[38;5;241m=\u001b[39m \u001b[43mold_forward\u001b[49m\u001b[43m(\u001b[49m\u001b[38;5;241;43m*\u001b[39;49m\u001b[43margs\u001b[49m\u001b[43m,\u001b[49m\u001b[43m \u001b[49m\u001b[38;5;241;43m*\u001b[39;49m\u001b[38;5;241;43m*\u001b[39;49m\u001b[43mkwargs\u001b[49m\u001b[43m)\u001b[49m\n\u001b[1;32m    166\u001b[0m \u001b[38;5;28;01mreturn\u001b[39;00m module\u001b[38;5;241m.\u001b[39m_hf_hook\u001b[38;5;241m.\u001b[39mpost_forward(module, output)\n",
      "File \u001b[0;32m~/.conda/envs/hf/lib/python3.8/site-packages/transformers/models/t5/modeling_t5.py:509\u001b[0m, in \u001b[0;36mT5Attention.forward\u001b[0;34m(self, hidden_states, mask, key_value_states, position_bias, past_key_value, layer_head_mask, query_length, use_cache, output_attentions)\u001b[0m\n\u001b[1;32m    506\u001b[0m     \u001b[38;5;28;01mreturn\u001b[39;00m hidden_states\n\u001b[1;32m    508\u001b[0m \u001b[38;5;66;03m# get query states\u001b[39;00m\n\u001b[0;32m--> 509\u001b[0m query_states \u001b[38;5;241m=\u001b[39m shape(\u001b[38;5;28;43mself\u001b[39;49m\u001b[38;5;241;43m.\u001b[39;49m\u001b[43mq\u001b[49m\u001b[43m(\u001b[49m\u001b[43mhidden_states\u001b[49m\u001b[43m)\u001b[49m)  \u001b[38;5;66;03m# (batch_size, n_heads, seq_length, dim_per_head)\u001b[39;00m\n\u001b[1;32m    511\u001b[0m \u001b[38;5;66;03m# get key/value states\u001b[39;00m\n\u001b[1;32m    512\u001b[0m key_states \u001b[38;5;241m=\u001b[39m project(\n\u001b[1;32m    513\u001b[0m     hidden_states, \u001b[38;5;28mself\u001b[39m\u001b[38;5;241m.\u001b[39mk, key_value_states, past_key_value[\u001b[38;5;241m0\u001b[39m] \u001b[38;5;28;01mif\u001b[39;00m past_key_value \u001b[38;5;129;01mis\u001b[39;00m \u001b[38;5;129;01mnot\u001b[39;00m \u001b[38;5;28;01mNone\u001b[39;00m \u001b[38;5;28;01melse\u001b[39;00m \u001b[38;5;28;01mNone\u001b[39;00m\n\u001b[1;32m    514\u001b[0m )\n",
      "File \u001b[0;32m~/.conda/envs/hf/lib/python3.8/site-packages/torch/nn/modules/module.py:1194\u001b[0m, in \u001b[0;36mModule._call_impl\u001b[0;34m(self, *input, **kwargs)\u001b[0m\n\u001b[1;32m   1190\u001b[0m \u001b[38;5;66;03m# If we don't have any hooks, we want to skip the rest of the logic in\u001b[39;00m\n\u001b[1;32m   1191\u001b[0m \u001b[38;5;66;03m# this function, and just call forward.\u001b[39;00m\n\u001b[1;32m   1192\u001b[0m \u001b[38;5;28;01mif\u001b[39;00m \u001b[38;5;129;01mnot\u001b[39;00m (\u001b[38;5;28mself\u001b[39m\u001b[38;5;241m.\u001b[39m_backward_hooks \u001b[38;5;129;01mor\u001b[39;00m \u001b[38;5;28mself\u001b[39m\u001b[38;5;241m.\u001b[39m_forward_hooks \u001b[38;5;129;01mor\u001b[39;00m \u001b[38;5;28mself\u001b[39m\u001b[38;5;241m.\u001b[39m_forward_pre_hooks \u001b[38;5;129;01mor\u001b[39;00m _global_backward_hooks\n\u001b[1;32m   1193\u001b[0m         \u001b[38;5;129;01mor\u001b[39;00m _global_forward_hooks \u001b[38;5;129;01mor\u001b[39;00m _global_forward_pre_hooks):\n\u001b[0;32m-> 1194\u001b[0m     \u001b[38;5;28;01mreturn\u001b[39;00m \u001b[43mforward_call\u001b[49m\u001b[43m(\u001b[49m\u001b[38;5;241;43m*\u001b[39;49m\u001b[38;5;28;43minput\u001b[39;49m\u001b[43m,\u001b[49m\u001b[43m \u001b[49m\u001b[38;5;241;43m*\u001b[39;49m\u001b[38;5;241;43m*\u001b[39;49m\u001b[43mkwargs\u001b[49m\u001b[43m)\u001b[49m\n\u001b[1;32m   1195\u001b[0m \u001b[38;5;66;03m# Do not call functions when jit is used\u001b[39;00m\n\u001b[1;32m   1196\u001b[0m full_backward_hooks, non_full_backward_hooks \u001b[38;5;241m=\u001b[39m [], []\n",
      "File \u001b[0;32m~/.conda/envs/hf/lib/python3.8/site-packages/accelerate/hooks.py:165\u001b[0m, in \u001b[0;36madd_hook_to_module.<locals>.new_forward\u001b[0;34m(*args, **kwargs)\u001b[0m\n\u001b[1;32m    163\u001b[0m         output \u001b[38;5;241m=\u001b[39m old_forward(\u001b[38;5;241m*\u001b[39margs, \u001b[38;5;241m*\u001b[39m\u001b[38;5;241m*\u001b[39mkwargs)\n\u001b[1;32m    164\u001b[0m \u001b[38;5;28;01melse\u001b[39;00m:\n\u001b[0;32m--> 165\u001b[0m     output \u001b[38;5;241m=\u001b[39m \u001b[43mold_forward\u001b[49m\u001b[43m(\u001b[49m\u001b[38;5;241;43m*\u001b[39;49m\u001b[43margs\u001b[49m\u001b[43m,\u001b[49m\u001b[43m \u001b[49m\u001b[38;5;241;43m*\u001b[39;49m\u001b[38;5;241;43m*\u001b[39;49m\u001b[43mkwargs\u001b[49m\u001b[43m)\u001b[49m\n\u001b[1;32m    166\u001b[0m \u001b[38;5;28;01mreturn\u001b[39;00m module\u001b[38;5;241m.\u001b[39m_hf_hook\u001b[38;5;241m.\u001b[39mpost_forward(module, output)\n",
      "File \u001b[0;32m~/.conda/envs/hf/lib/python3.8/site-packages/bitsandbytes/nn/modules.py:242\u001b[0m, in \u001b[0;36mLinear8bitLt.forward\u001b[0;34m(self, x)\u001b[0m\n\u001b[1;32m    239\u001b[0m \u001b[38;5;28;01mif\u001b[39;00m \u001b[38;5;28mself\u001b[39m\u001b[38;5;241m.\u001b[39mbias \u001b[38;5;129;01mis\u001b[39;00m \u001b[38;5;129;01mnot\u001b[39;00m \u001b[38;5;28;01mNone\u001b[39;00m \u001b[38;5;129;01mand\u001b[39;00m \u001b[38;5;28mself\u001b[39m\u001b[38;5;241m.\u001b[39mbias\u001b[38;5;241m.\u001b[39mdtype \u001b[38;5;241m!=\u001b[39m x\u001b[38;5;241m.\u001b[39mdtype:\n\u001b[1;32m    240\u001b[0m     \u001b[38;5;28mself\u001b[39m\u001b[38;5;241m.\u001b[39mbias\u001b[38;5;241m.\u001b[39mdata \u001b[38;5;241m=\u001b[39m \u001b[38;5;28mself\u001b[39m\u001b[38;5;241m.\u001b[39mbias\u001b[38;5;241m.\u001b[39mdata\u001b[38;5;241m.\u001b[39mto(x\u001b[38;5;241m.\u001b[39mdtype)\n\u001b[0;32m--> 242\u001b[0m out \u001b[38;5;241m=\u001b[39m \u001b[43mbnb\u001b[49m\u001b[38;5;241;43m.\u001b[39;49m\u001b[43mmatmul\u001b[49m\u001b[43m(\u001b[49m\u001b[43mx\u001b[49m\u001b[43m,\u001b[49m\u001b[43m \u001b[49m\u001b[38;5;28;43mself\u001b[39;49m\u001b[38;5;241;43m.\u001b[39;49m\u001b[43mweight\u001b[49m\u001b[43m,\u001b[49m\u001b[43m \u001b[49m\u001b[43mbias\u001b[49m\u001b[38;5;241;43m=\u001b[39;49m\u001b[38;5;28;43mself\u001b[39;49m\u001b[38;5;241;43m.\u001b[39;49m\u001b[43mbias\u001b[49m\u001b[43m,\u001b[49m\u001b[43m \u001b[49m\u001b[43mstate\u001b[49m\u001b[38;5;241;43m=\u001b[39;49m\u001b[38;5;28;43mself\u001b[39;49m\u001b[38;5;241;43m.\u001b[39;49m\u001b[43mstate\u001b[49m\u001b[43m)\u001b[49m\n\u001b[1;32m    243\u001b[0m \u001b[38;5;28;01mif\u001b[39;00m \u001b[38;5;129;01mnot\u001b[39;00m \u001b[38;5;28mself\u001b[39m\u001b[38;5;241m.\u001b[39mstate\u001b[38;5;241m.\u001b[39mhas_fp16_weights:\n\u001b[1;32m    244\u001b[0m     \u001b[38;5;28;01mif\u001b[39;00m \u001b[38;5;28mself\u001b[39m\u001b[38;5;241m.\u001b[39mstate\u001b[38;5;241m.\u001b[39mCB \u001b[38;5;129;01mis\u001b[39;00m \u001b[38;5;129;01mnot\u001b[39;00m \u001b[38;5;28;01mNone\u001b[39;00m \u001b[38;5;129;01mand\u001b[39;00m \u001b[38;5;28mself\u001b[39m\u001b[38;5;241m.\u001b[39mstate\u001b[38;5;241m.\u001b[39mCxB \u001b[38;5;129;01mis\u001b[39;00m \u001b[38;5;129;01mnot\u001b[39;00m \u001b[38;5;28;01mNone\u001b[39;00m:\n\u001b[1;32m    245\u001b[0m         \u001b[38;5;66;03m# we converted 8-bit row major to turing/ampere format in the first inference pass\u001b[39;00m\n\u001b[1;32m    246\u001b[0m         \u001b[38;5;66;03m# we no longer need the row-major weight\u001b[39;00m\n",
      "File \u001b[0;32m~/.conda/envs/hf/lib/python3.8/site-packages/bitsandbytes/autograd/_functions.py:488\u001b[0m, in \u001b[0;36mmatmul\u001b[0;34m(A, B, out, state, threshold, bias)\u001b[0m\n\u001b[1;32m    486\u001b[0m \u001b[38;5;28;01mif\u001b[39;00m threshold \u001b[38;5;241m>\u001b[39m \u001b[38;5;241m0.0\u001b[39m:\n\u001b[1;32m    487\u001b[0m     state\u001b[38;5;241m.\u001b[39mthreshold \u001b[38;5;241m=\u001b[39m threshold\n\u001b[0;32m--> 488\u001b[0m \u001b[38;5;28;01mreturn\u001b[39;00m \u001b[43mMatMul8bitLt\u001b[49m\u001b[38;5;241;43m.\u001b[39;49m\u001b[43mapply\u001b[49m\u001b[43m(\u001b[49m\u001b[43mA\u001b[49m\u001b[43m,\u001b[49m\u001b[43m \u001b[49m\u001b[43mB\u001b[49m\u001b[43m,\u001b[49m\u001b[43m \u001b[49m\u001b[43mout\u001b[49m\u001b[43m,\u001b[49m\u001b[43m \u001b[49m\u001b[43mbias\u001b[49m\u001b[43m,\u001b[49m\u001b[43m \u001b[49m\u001b[43mstate\u001b[49m\u001b[43m)\u001b[49m\n",
      "File \u001b[0;32m~/.conda/envs/hf/lib/python3.8/site-packages/bitsandbytes/autograd/_functions.py:390\u001b[0m, in \u001b[0;36mMatMul8bitLt.forward\u001b[0;34m(ctx, A, B, out, bias, state)\u001b[0m\n\u001b[1;32m    388\u001b[0m \u001b[38;5;28;01mif\u001b[39;00m state\u001b[38;5;241m.\u001b[39midx \u001b[38;5;129;01mis\u001b[39;00m \u001b[38;5;129;01mnot\u001b[39;00m \u001b[38;5;28;01mNone\u001b[39;00m:\n\u001b[1;32m    389\u001b[0m     A_wo_outliers[:, state\u001b[38;5;241m.\u001b[39midx\u001b[38;5;241m.\u001b[39mlong()] \u001b[38;5;241m=\u001b[39m \u001b[38;5;241m0\u001b[39m\n\u001b[0;32m--> 390\u001b[0m output \u001b[38;5;241m=\u001b[39m \u001b[43mtorch\u001b[49m\u001b[38;5;241;43m.\u001b[39;49m\u001b[43mnn\u001b[49m\u001b[38;5;241;43m.\u001b[39;49m\u001b[43mfunctional\u001b[49m\u001b[38;5;241;43m.\u001b[39;49m\u001b[43mlinear\u001b[49m\u001b[43m(\u001b[49m\u001b[43mA_wo_outliers\u001b[49m\u001b[43m,\u001b[49m\u001b[43m \u001b[49m\u001b[43mstate\u001b[49m\u001b[38;5;241;43m.\u001b[39;49m\u001b[43mCB\u001b[49m\u001b[38;5;241;43m.\u001b[39;49m\u001b[43mto\u001b[49m\u001b[43m(\u001b[49m\u001b[43mA\u001b[49m\u001b[38;5;241;43m.\u001b[39;49m\u001b[43mdtype\u001b[49m\u001b[43m)\u001b[49m\u001b[43m)\u001b[49m\n\u001b[1;32m    391\u001b[0m output \u001b[38;5;241m=\u001b[39m output\u001b[38;5;241m.\u001b[39mmul_(state\u001b[38;5;241m.\u001b[39mSCB\u001b[38;5;241m.\u001b[39munsqueeze(\u001b[38;5;241m0\u001b[39m)\u001b[38;5;241m.\u001b[39mmul(\u001b[38;5;241m1.0\u001b[39m \u001b[38;5;241m/\u001b[39m \u001b[38;5;241m127.0\u001b[39m))\n\u001b[1;32m    392\u001b[0m \u001b[38;5;28;01mif\u001b[39;00m bias \u001b[38;5;129;01mis\u001b[39;00m \u001b[38;5;129;01mnot\u001b[39;00m \u001b[38;5;28;01mNone\u001b[39;00m:\n",
      "\u001b[0;31mRuntimeError\u001b[0m: CUDA error: CUBLAS_STATUS_NOT_INITIALIZED when calling `cublasCreate(handle)`"
     ]
    }
   ],
   "source": [
    "tokenizer = AutoTokenizer.from_pretrained(\"google/flan-ul2\")\n",
    "\n",
    "input_string = \"Answer the following question by reasoning step by step. The cafeteria had 23 apples. If they used 20 for lunch, and bought 6 more, how many apple do they have?\"                                               \n",
    "\n",
    "inputs = tokenizer(input_string, return_tensors=\"pt\").input_ids.to(\"cuda\")\n",
    "outputs = model.generate(inputs, max_length=200)\n",
    "\n",
    "print(tokenizer.decode(outputs[0]))"
   ]
  },
  {
   "cell_type": "code",
   "execution_count": null,
   "id": "5084f8e3-05c1-4ef1-ab99-eed52859a42b",
   "metadata": {},
   "outputs": [],
   "source": []
  }
 ],
 "metadata": {
  "kernelspec": {
   "display_name": "Python 3 (ipykernel)",
   "language": "python",
   "name": "python3"
  },
  "language_info": {
   "codemirror_mode": {
    "name": "ipython",
    "version": 3
   },
   "file_extension": ".py",
   "mimetype": "text/x-python",
   "name": "python",
   "nbconvert_exporter": "python",
   "pygments_lexer": "ipython3",
   "version": "3.8.13"
  }
 },
 "nbformat": 4,
 "nbformat_minor": 5
}
