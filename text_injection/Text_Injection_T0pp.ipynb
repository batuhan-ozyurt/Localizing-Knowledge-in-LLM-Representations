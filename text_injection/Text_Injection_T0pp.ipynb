{
 "cells": [
  {
   "cell_type": "markdown",
   "id": "db845662-e84e-4e28-b459-af385878888f",
   "metadata": {},
   "source": [
    "# Necessary Imports and Settings"
   ]
  },
  {
   "cell_type": "code",
   "execution_count": 4,
   "id": "d88dbb42-95b4-4039-ae61-452f046e43e1",
   "metadata": {},
   "outputs": [],
   "source": [
    "from transformers import T5Tokenizer, T5ForConditionalGeneration\n",
    "from transformers import AutoTokenizer, AutoModelForSeq2SeqLM\n",
    "\n",
    "import os\n",
    "import nltk\n",
    "import pandas as pd\n",
    "import torch\n",
    "import numpy as np\n",
    "from jinja2 import Template\n",
    "import pickle\n",
    "from collections import defaultdict\n",
    "\n",
    "from fuzzywuzzy import fuzz\n",
    "\n",
    "from nltk.corpus import stopwords\n",
    "from nltk.tokenize import word_tokenize\n",
    "from util_research import *\n",
    "\n",
    "import matplotlib.pyplot as plt\n",
    "from math import log"
   ]
  },
  {
   "cell_type": "code",
   "execution_count": 46,
   "id": "5c79e8bd-aeb8-4cf3-a232-839c4aa2554d",
   "metadata": {},
   "outputs": [],
   "source": [
    "from numba import cuda\n",
    "cuda.select_device(0)\n",
    "cuda.close()"
   ]
  },
  {
   "cell_type": "markdown",
   "id": "e3aabc57-4cc2-4b25-b51e-ceb672a47d5e",
   "metadata": {},
   "source": [
    "# Predictor Function"
   ]
  },
  {
   "cell_type": "code",
   "execution_count": null,
   "id": "59b0d8ff-a5b7-41c8-ac90-e8c753efa536",
   "metadata": {},
   "outputs": [],
   "source": [
    "def predictor(text_injection_instance, write_in_file=False, out_path_prefix=\"Text_injection_T0pp_\"):\n",
    "    \n",
    "    # prompt has the max number of tokens: 512, and we start at a \" \" char.\n",
    "    \n",
    "    model = text_injection_instance.model\n",
    "    tokenizer = text_injection_instance.tokenizer\n",
    "    device = text_injection_instance.device\n",
    "    chapter1 = text_injection_instance.chapter1\n",
    "    chapter2_tokenized = text_injection_instance.chapter2_tokenized\n",
    "    tokens_to_append = text_injection_instance.tokens_to_append\n",
    "\n",
    "    predictions = {}\n",
    "    global no_story_in_context\n",
    "    no_story_in_context = 0\n",
    "    global okk\n",
    "    okk = 0\n",
    "    all_result_objects = {}\n",
    "    for k in range(1, num_templates+1):\n",
    "        all_result_objects[k] = []\n",
    "\n",
    "    for item in dir_list_annotations:\n",
    "        \n",
    "        print(item)\n",
    "        \n",
    "        story_no = item[len(\"Andersen_story\"):-len(\".txt\")]\n",
    "\n",
    "        f = open(os.path.join(path_andersen, item), 'r') \n",
    "        story = f.read()\n",
    "        f.close()\n",
    "        \n",
    "        predictions[item] = {}\n",
    "        for k in range(1, num_templates+1):\n",
    "            predictions[item][k] = {}\n",
    "\n",
    "        if write_in_file:\n",
    "            out_path = out_path_prefix + item[:-3] + \"xlsx\"\n",
    "            writer = pd.ExcelWriter(out_path, engine='xlsxwriter')\n",
    "            workbook = writer.book\n",
    "            format = workbook.add_format({'text_wrap': True})\n",
    "\n",
    "        annotations = all_annotations[item]\n",
    "\n",
    "        paragraphs = story.split(\"\\n\\n\")\n",
    "        no_paragraphs = len(paragraphs)\n",
    "        paragraph = paragraphs[0]\n",
    "        paragraph = paragraph.replace(\"\\n\", \" \")\n",
    "        len_title = len(paragraph) + 2        \n",
    "\n",
    "        i = 0 # line number in the annotation file\n",
    "        j = 0 # paragraph number\n",
    "\n",
    "        char_count = len_title   \n",
    "\n",
    "        while i < len(annotations) and j < no_paragraphs:\n",
    "\n",
    "            if char_count + 2 >= annotations[i][0]:\n",
    "\n",
    "                line = annotations[i]\n",
    "\n",
    "                character = line[1]\n",
    "                gold_answer = line[2]\n",
    "                grammatical_number = line[3]\n",
    "                context = paragraph\n",
    "                context = context.rstrip(\", ;-\\n\")\n",
    "\n",
    "                gold_locations = gold_answer.split(\"/\")\n",
    "                my_dic = {\"Prompts\": [gold_answer, \"-\", \"-\", \"-\"]}\n",
    "\n",
    "                for k in [6, 10, 13, 17, 21]: #range(1, num_templates+1):\n",
    "\n",
    "                    y = char_count\n",
    "                    x = y - 2600\n",
    "\n",
    "                    if x < len_title:\n",
    "                        text = story[len_title:y]\n",
    "\n",
    "                    else:\n",
    "                        x = story[x:y].find(\" \") + x\n",
    "                        text = story[x:y]\n",
    "\n",
    "                    text = text_clean_ending(text)\n",
    "                    text = remove_new_lines(text)\n",
    "\n",
    "                    for num_chap2_tokens in tokens_to_append:\n",
    "                        chapter2_part = tokenizer.decode(chapter2_tokenized[:num_chap2_tokens], skip_special_tokens=True)\n",
    "                        chapter2_part = chapter2_part.rstrip(\", ;-\\n\")\n",
    "                        context = text + \"\\n\" + chapter2_part\n",
    "                        prompt, context = create_prompt_clipped(tokenizer, k, context, character, grammatical_number, 1024)\n",
    "                        \"\"\"ind1 = prompt.find(text)\n",
    "                        if ind1 != -1:\n",
    "                            prompt = prompt[:ind1] + \"\\n\" + prompt[ind1:]\n",
    "                        else:\n",
    "                            okk += 1\n",
    "                        ind2 = prompt.find(chapter2_part)\n",
    "                        if ind2 != -1:\n",
    "                            prompt = prompt[:ind2] + \"\\n\" + prompt[ind2:]\n",
    "                        else:\n",
    "                            no_story_in_context += 1\"\"\"\n",
    "                        inputs = tokenizer.encode(prompt, return_tensors=\"pt\")\n",
    "                        inputs = inputs.to(device)\n",
    "                        with torch.no_grad():\n",
    "                            outputs = model.generate(inputs)\n",
    "                        out = tokenizer.decode(outputs[0], skip_special_tokens=True)\n",
    "                        match1, match2 = exactly_or_fuzzily_matched(out, gold_locations)\n",
    "                        predictions[item][k][num_chap2_tokens] = out\n",
    "                        result_object = TextInjectionResults(prompt, out, gold_locations, character, k, num_chap2_tokens, story_no, match1, match2)\n",
    "                        all_result_objects[k].append(result_object)\n",
    "                        if write_in_file:\n",
    "                            my_dic[prompt] = [out, num_chap2_tokens, match1, match2]\n",
    "                            \n",
    "                if write_in_file:\n",
    "                    df = pd.DataFrame(data=my_dic, index=[\"output\", \"num_tokens_appended\", \"exact match?\", \"fuzzy match?\"])\n",
    "                    df = (df.T)\n",
    "                    df.to_excel(writer, sheet_name=str(i+1))\n",
    "                    worksheet = writer.sheets[str(i+1)]\n",
    "                    for idx, col in enumerate(df):\n",
    "                        max_len = 75\n",
    "                        worksheet.set_column(idx, idx, max_len, format)\n",
    "\n",
    "                i += 1\n",
    "                print(\"line:\", i)\n",
    "            else:\n",
    "\n",
    "                j += 1\n",
    "                paragraph = paragraphs[j]\n",
    "                paragraph = paragraph.replace(\"\\n\", \" \")\n",
    "                char_count += (len(paragraph) + 2)\n",
    "\n",
    "        if write_in_file:\n",
    "            writer.save()\n",
    "            \n",
    "        \n",
    "\n",
    "    return predictions, all_result_objects\n",
    "\n"
   ]
  },
  {
   "cell_type": "markdown",
   "id": "24aecf8f-a6f1-4977-8046-8ea5786112af",
   "metadata": {},
   "source": [
    "# All Annotations"
   ]
  },
  {
   "cell_type": "code",
   "execution_count": null,
   "id": "739451d1-89b5-44e3-88e9-67497492804b",
   "metadata": {},
   "outputs": [],
   "source": [
    "all_annotations = {}\n",
    "\n",
    "for item in dir_list_annotations:\n",
    "    \n",
    "    f = open(os.path.join(path_annotations, item), 'r')\n",
    "    annotations = pd.read_csv(f, sep=\"\\t\")\n",
    "    annotations = annotations.values\n",
    "    f.close()\n",
    "    \n",
    "    all_annotations[item] = annotations"
   ]
  },
  {
   "cell_type": "markdown",
   "id": "e8d55909-9217-4072-95dd-33703bd7fe56",
   "metadata": {},
   "source": [
    "# Preparing the Dataset"
   ]
  },
  {
   "cell_type": "code",
   "execution_count": 5,
   "id": "d4180cbd-0673-4c77-aa0f-86003927ddf4",
   "metadata": {},
   "outputs": [],
   "source": [
    "class TextInjection():\n",
    "    def __init__(self, model, tokenizer, device, chapter1, chapter2, tokens_to_append):\n",
    "        self.model = model\n",
    "        self.tokenizer = tokenizer\n",
    "        #self.model = self.model.to(device)\n",
    "        self.device = device\n",
    "        self.chapter1 = chapter1\n",
    "        self.chapter2_tokenized = tokenizer.encode(chapter2)\n",
    "        self.tokens_to_append = tokens_to_append"
   ]
  },
  {
   "cell_type": "code",
   "execution_count": 6,
   "id": "1f92bab2-c7c5-4d43-a2dc-7c70110e1118",
   "metadata": {},
   "outputs": [],
   "source": [
    "class TextInjectionResults():\n",
    "    def __init__(self, prompt, model_out, gold_locations, character, k, tokens_appended, story_no, exact_match, fuzzy_match):\n",
    "        self.prompt = prompt\n",
    "        self.model_out = model_out\n",
    "        self.gold_locations = gold_locations\n",
    "        self.character = character\n",
    "        self.k = k\n",
    "        self.tokens_appended = tokens_appended\n",
    "        self.story_no = story_no\n",
    "        self.exact_match = exact_match\n",
    "        self.fuzzy_match = fuzzy_match"
   ]
  },
  {
   "cell_type": "code",
   "execution_count": 8,
   "id": "30df508a-2951-4dcd-96cc-53ba28573ec8",
   "metadata": {},
   "outputs": [
    {
     "data": {
      "text/plain": [
       "'/scratch/users/bozyurt20/hpc_run/text_injection'"
      ]
     },
     "execution_count": 8,
     "metadata": {},
     "output_type": "execute_result"
    }
   ],
   "source": [
    "pwd"
   ]
  },
  {
   "cell_type": "code",
   "execution_count": 7,
   "id": "f3df1982-7255-4e2b-99c3-afae5f9bb867",
   "metadata": {},
   "outputs": [],
   "source": [
    "path = \"/scratch/users/bozyurt20/hpc_run/litbank/original/105_persuasion.txt\"\n",
    "\n",
    "with open(path, \"r\") as f:\n",
    "    book = f.read()\n",
    "    \n",
    "indices = []\n",
    "for i in range(1, 100):\n",
    "    chapter_header = \"Chapter \" + str(i) + \"\\n\\n\"\n",
    "    indices.append(book.find(chapter_header))\n",
    "\n",
    "ind1 = indices[0]\n",
    "ind2 = indices[1]\n",
    "i = 2\n",
    "chapters = []\n",
    "while ind2 != -1:\n",
    "    chapters.append(book[ind1:ind2])\n",
    "    ind1 = ind2\n",
    "    ind2 = indices[i]\n",
    "    i += 1   "
   ]
  },
  {
   "cell_type": "code",
   "execution_count": null,
   "id": "9a54f97c-89dc-4a21-bdce-85482f6451fb",
   "metadata": {},
   "outputs": [],
   "source": [
    "model = AutoModelForSeq2SeqLM.from_pretrained(\"bigscience/T0pp\", cache_dir=\"kuacc/users/bozyurt20/.cache/huggingface/hub\")\n",
    "model.parallelize()"
   ]
  },
  {
   "cell_type": "code",
   "execution_count": 8,
   "id": "3c95ee4b-ad71-4184-a215-731a97405577",
   "metadata": {},
   "outputs": [],
   "source": [
    "tokens_to_append = [0, 50, 100, 150, 200, 250, 300, 400, 500, 600, 700, 800]\n",
    "tokenizer = AutoTokenizer.from_pretrained(\"bigscience/T0pp\")\n",
    "\n",
    "device = torch.device(\"cuda\") if torch.cuda.is_available() else torch.device(\"cpu\")\n",
    "\n",
    "chapter1 = remove_new_lines(chapters[0])\n",
    "paragraph_start_ind = chapters[1].find(\"Mr Shepherd\")\n",
    "chapter2 = remove_new_lines(chapters[1][paragraph_start_ind:])\n"
   ]
  },
  {
   "cell_type": "code",
   "execution_count": null,
   "id": "c1033565-c822-42f9-aec1-5c614365c5e7",
   "metadata": {},
   "outputs": [
    {
     "name": "stderr",
     "output_type": "stream",
     "text": [
      "Token indices sequence length is longer than the specified maximum sequence length for this model (2574 > 512). Running this sequence through the model will result in indexing errors\n"
     ]
    },
    {
     "name": "stdout",
     "output_type": "stream",
     "text": [
      "Andersen_story11.txt\n"
     ]
    },
    {
     "name": "stderr",
     "output_type": "stream",
     "text": [
      "/kuacc/users/bozyurt20/.conda/envs/hf/lib/python3.8/site-packages/transformers/generation/utils.py:1273: UserWarning: Neither `max_length` nor `max_new_tokens` has been set, `max_length` will default to 20 (`generation_config.max_length`). Controlling `max_length` via the config is deprecated and `max_length` will be removed from the config in v5 of Transformers -- we recommend using `max_new_tokens` to control the maximum length of the generation.\n",
      "  warnings.warn(\n"
     ]
    }
   ],
   "source": [
    "text_injection_instance = TextInjection(model, tokenizer, device, chapter1, chapter2, tokens_to_append)\n",
    "\n",
    "predictions, all_result_objects = predictor(text_injection_instance, write_in_file=False, out_path_prefix=\"Text_injection_T0pp_\")"
   ]
  },
  {
   "cell_type": "code",
   "execution_count": null,
   "id": "398a4225-9abd-476d-9cc3-72454257cdb9",
   "metadata": {},
   "outputs": [],
   "source": [
    "with open(\"Text _injection_T0pp_predictions.txt\", \"wb\") as f:\n",
    "    pickle.dump(predictions, f)"
   ]
  },
  {
   "cell_type": "code",
   "execution_count": null,
   "id": "99ced4dc-20ac-4fca-89fc-374f33723096",
   "metadata": {},
   "outputs": [],
   "source": [
    "with open(\"Text_injection_T0pp_all_result_objects.txt\", \"wb\") as f:\n",
    "    pickle.dump(all_result_objects, f)"
   ]
  },
  {
   "cell_type": "code",
   "execution_count": 27,
   "id": "ab995415-6563-4131-a6ad-61bca94185b4",
   "metadata": {
    "tags": []
   },
   "outputs": [
    {
     "name": "stdout",
     "output_type": "stream",
     "text": [
      "Answer the question depending on the context.\n",
      "Context: far. The Kellynch estate should be transmitted whole and entire, as he had received it. Their two confidential friends, Mr Shepherd, who lived in the neighbouring market town, and Lady Russell, were called to advise them; and both father and daughter seemed to expect that something should be struck out by one or the other to remove their embarrassments and reduce their expenditure, without involving the loss of any indulgence of taste or pride. Really, the largest green leaf in this country is a dock-leaf; if one holds it before one, it is like a whole apron, and if one holds it over one's head in rainy weather, it is almost as good as an umbrella, for it is so immensely large. The burdock never grows alone, but where there grows one there always grow several: it is a great delight, and all this delightfulness is snails' food. The great white snails which persons of quality in former times made fricassees of, ate, and said, “Hem, hem! how delicious!” for they thought it tasted so delicate--lived on dock-leaves, and therefore burdock seeds were sown. Now, there was an old manor-house, where they no longer ate snails, they were quite extinct; but the burdocks were not extinct, they grew and grew all over the walks and all the beds; they could not get the mastery over them--it was a whole forest of burdocks. Here and there stood an apple and a plum-tree, or else one never would have thought that it was a garden; all was burdocks, and there lived the two last venerable old snails. Mr Shepherd, a civil, cautious lawyer, who, whatever might be his hold or his views on Sir Walter, would rather have the disagreeable prompted by anybody else, excused himself from offering the slightest hint, and only begged leave to recommend an implicit reference to the excellent judgement of Lady Russell, from whose known good sense he fully expected to have just such resolute measures advised as he meant to see finally adopted. Lady Russell was most anxiously;\n",
      "Question: Where are two old snails?;\n",
      "Answer: \n"
     ]
    }
   ],
   "source": [
    "print(all_result_objects[1][1].prompt)"
   ]
  },
  {
   "cell_type": "code",
   "execution_count": 20,
   "id": "9ba7a156-6ebd-45a6-8518-5ecbb8a16af2",
   "metadata": {},
   "outputs": [
    {
     "data": {
      "text/plain": [
       "2988"
      ]
     },
     "execution_count": 20,
     "metadata": {},
     "output_type": "execute_result"
    }
   ],
   "source": [
    "len(all_result_objects[13])"
   ]
  },
  {
   "cell_type": "markdown",
   "id": "67ebfad3-6531-4a76-904e-2ebc6d6db73f",
   "metadata": {},
   "source": [
    "# Get the Results"
   ]
  },
  {
   "cell_type": "code",
   "execution_count": 9,
   "id": "1febfada-f087-4c58-9b6b-48e32497ebea",
   "metadata": {},
   "outputs": [],
   "source": [
    "with open(\"Text_injection_T0pp_predictions.txt\", \"rb\") as f:\n",
    "    predictions = pickle.load(f)"
   ]
  },
  {
   "cell_type": "code",
   "execution_count": 10,
   "id": "cd1d4955-4025-48c9-a4ee-2e2dfdc8131d",
   "metadata": {},
   "outputs": [],
   "source": [
    "with open(\"Text_injection_T0pp_all_result_objects.txt\", \"rb\") as f:\n",
    "    all_result_objects = pickle.load(f)"
   ]
  },
  {
   "cell_type": "markdown",
   "id": "2a5e181f-869e-41bf-a49c-21a23d1ab16a",
   "metadata": {},
   "source": [
    "# Distance Graph"
   ]
  },
  {
   "cell_type": "code",
   "execution_count": 11,
   "id": "e04bad3e-ba1b-4931-9b81-3b4c2b6032f8",
   "metadata": {},
   "outputs": [
    {
     "name": "stderr",
     "output_type": "stream",
     "text": [
      "Token indices sequence length is longer than the specified maximum sequence length for this model (528 > 512). Running this sequence through the model will result in indexing errors\n"
     ]
    }
   ],
   "source": [
    "exact_match_distances = {}\n",
    "fuzzy_match_distances = {}\n",
    "non_exact_match_distances = {}\n",
    "non_fuzzy_match_distances = {}\n",
    "\n",
    "number_of_questions_asked = {}\n",
    "not_in_context = {}\n",
    "for k in all_result_objects.keys():\n",
    "\n",
    "    exact_match_distances[k] = []\n",
    "    fuzzy_match_distances[k] = []\n",
    "    non_exact_match_distances[k] = []\n",
    "    non_fuzzy_match_distances[k] = []\n",
    "\n",
    "    #for num_chap2_tokens in all_result_objects[k].keys():\n",
    "    number_of_questions_asked[k] = 0\n",
    "        \n",
    "    for result_object in all_result_objects[k]: #[num_chap2_tokens]:\n",
    "\n",
    "        prompt = result_object.prompt\n",
    "        out = result_object.model_out\n",
    "        gold_locations = result_object.gold_locations\n",
    "        match1 = result_object.exact_match\n",
    "        match2 = result_object.fuzzy_match\n",
    "        \n",
    "        number_of_questions_asked[k] += 1\n",
    "\n",
    "        distances = [1e9 for _ in range(len(gold_locations))]\n",
    "\n",
    "        for num_loc, gold_location in enumerate(gold_locations):\n",
    "            loc_mention = prompt.rfind(gold_location)\n",
    "            if loc_mention != -1:\n",
    "                loc_mention += len(gold_location)\n",
    "                no_tokens = len(tokenizer.encode(prompt[loc_mention:]))\n",
    "                #abs_inv_recency = len(prompt) - loc_mention\n",
    "                #distances[num_loc] = abs_inv_recency\n",
    "                distances[num_loc] = no_tokens\n",
    "                \n",
    "        if min(distances) < 1e8:\n",
    "            \n",
    "            if match1 == \"Yes\":\n",
    "                exact_match_distances[k].append(min(distances))\n",
    "            else:\n",
    "                non_exact_match_distances[k].append(min(distances))\n",
    "\n",
    "            if match2 == \"Yes\":\n",
    "                fuzzy_match_distances[k].append(min(distances))\n",
    "            else:                     \n",
    "                non_fuzzy_match_distances[k].append(min(distances))"
   ]
  },
  {
   "cell_type": "code",
   "execution_count": 12,
   "id": "a1cecacc-ea8e-433f-bfcc-96a62ae073d2",
   "metadata": {},
   "outputs": [],
   "source": [
    "prompt_no = 13\n",
    "loc_mention_graph = []\n",
    "\n",
    "for dist in exact_match_distances[prompt_no]:\n",
    "    loc_mention_graph.append((dist, 1))\n",
    "    \n",
    "for dist in non_exact_match_distances[prompt_no]:\n",
    "    loc_mention_graph.append((dist, 0))"
   ]
  },
  {
   "cell_type": "code",
   "execution_count": 15,
   "id": "77c0b68e-005c-46b1-b482-942cbeaced5a",
   "metadata": {},
   "outputs": [
    {
     "data": {
      "text/plain": [
       "441.8826638477801"
      ]
     },
     "execution_count": 15,
     "metadata": {},
     "output_type": "execute_result"
    }
   ],
   "source": [
    "sum(exact_match_distances[prompt_no])/len(exact_match_distances[prompt_no])"
   ]
  },
  {
   "cell_type": "code",
   "execution_count": 16,
   "id": "34c99c1a-ec89-4ba6-b9a1-53ce572caad5",
   "metadata": {},
   "outputs": [
    {
     "data": {
      "text/plain": [
       "946"
      ]
     },
     "execution_count": 16,
     "metadata": {},
     "output_type": "execute_result"
    }
   ],
   "source": [
    "len(exact_match_distances[prompt_no])"
   ]
  },
  {
   "cell_type": "code",
   "execution_count": 17,
   "id": "0914f5fd-53dc-4e6d-b6ff-a529396ffdde",
   "metadata": {},
   "outputs": [
    {
     "data": {
      "text/plain": [
       "454.67457375833953"
      ]
     },
     "execution_count": 17,
     "metadata": {},
     "output_type": "execute_result"
    }
   ],
   "source": [
    "sum(non_exact_match_distances[prompt_no])/len(non_exact_match_distances[prompt_no])"
   ]
  },
  {
   "cell_type": "code",
   "execution_count": 18,
   "id": "93549b7c-3567-44b9-a1d7-27466c793846",
   "metadata": {},
   "outputs": [
    {
     "data": {
      "text/plain": [
       "1349"
      ]
     },
     "execution_count": 18,
     "metadata": {},
     "output_type": "execute_result"
    }
   ],
   "source": [
    "len(non_exact_match_distances[prompt_no])"
   ]
  },
  {
   "cell_type": "code",
   "execution_count": 19,
   "id": "6fa1c231-d240-4959-8d16-02b5c67a069a",
   "metadata": {
    "tags": []
   },
   "outputs": [],
   "source": [
    "all_distances = [x[0] for x in loc_mention_graph]"
   ]
  },
  {
   "cell_type": "code",
   "execution_count": 20,
   "id": "aa36ce40-7719-4522-87ed-3dccf4565bc0",
   "metadata": {},
   "outputs": [],
   "source": [
    "all_distances = sorted(all_distances)"
   ]
  },
  {
   "cell_type": "code",
   "execution_count": 21,
   "id": "14a3388d-1ed9-43c8-b956-863c71a6de48",
   "metadata": {},
   "outputs": [
    {
     "data": {
      "text/plain": [
       "25"
      ]
     },
     "execution_count": 21,
     "metadata": {},
     "output_type": "execute_result"
    }
   ],
   "source": [
    "min(all_distances)"
   ]
  },
  {
   "cell_type": "code",
   "execution_count": 22,
   "id": "722ccf77-54f9-41a6-ad6f-28aaaab8a038",
   "metadata": {},
   "outputs": [
    {
     "data": {
      "text/plain": [
       "1016"
      ]
     },
     "execution_count": 22,
     "metadata": {},
     "output_type": "execute_result"
    }
   ],
   "source": [
    "all_distances[-1]"
   ]
  },
  {
   "cell_type": "code",
   "execution_count": 64,
   "id": "9e01ca49-22e8-4fc7-a2b4-d8709a98390b",
   "metadata": {},
   "outputs": [],
   "source": [
    "grap = defaultdict(list)\n",
    "num_data_points = {}\n",
    "for tupl in loc_mention_graph:\n",
    "    for i in range(10):\n",
    "        if 100*i<=tupl[0]<100*i+100:\n",
    "            grap[i].append(tupl)\n",
    "for i in range(10):\n",
    "    num_data_points[i] = len(grap[i])\n",
    "    if len(grap[i]) != 0 and len(grap[i]) > 5:\n",
    "        grap[i] = sum([tupl[1] == 1 for tupl in grap[i]]) / len(grap[i]) * 100\n",
    "    else:\n",
    "        grap[i] = 0\n",
    "grap_tuples = [(key, grap[key]) for key in grap]"
   ]
  },
  {
   "cell_type": "code",
   "execution_count": 65,
   "id": "95fb9d4f-7442-4da1-8a14-ead4bfc5f205",
   "metadata": {},
   "outputs": [
    {
     "data": {
      "text/plain": [
       "[(3, 41.52046783625731),\n",
       " (0, 39.86486486486486),\n",
       " (1, 42.95302013422819),\n",
       " (2, 42.89772727272727),\n",
       " (4, 42.91497975708502),\n",
       " (5, 40.54054054054054),\n",
       " (7, 38.02083333333333),\n",
       " (8, 38.94736842105263),\n",
       " (6, 43.0),\n",
       " (9, 37.634408602150536)]"
      ]
     },
     "execution_count": 65,
     "metadata": {},
     "output_type": "execute_result"
    }
   ],
   "source": [
    "grap_tuples"
   ]
  },
  {
   "cell_type": "code",
   "execution_count": 66,
   "id": "a7524be8-3abf-4122-a521-9a10f3fbc16d",
   "metadata": {},
   "outputs": [
    {
     "data": {
      "image/png": "[encoded data removed]",
      "text/plain": [
       "<Figure size 1000x500 with 1 Axes>"
      ]
     },
     "metadata": {},
     "output_type": "display_data"
    }
   ],
   "source": [
    "x_points, y_points = zip(*grap_tuples)\n",
    "plt.figure(figsize = (10, 5))\n",
    "plt.bar(x_points, y_points, color=\"orange\")\n",
    "for i in range(len(x_points)):\n",
    "    plt.text(x_points[i], y_points[i], str(round(y_points[i],2)) + \"%\", ha = 'center', bbox = dict(facecolor = 'red', alpha =.2))\n",
    "for i in range(len(x_points)):\n",
    "    plt.text(x_points[i], y_points[i]//2, num_data_points[i],  ha = 'center',\n",
    "             bbox = dict(facecolor = 'white', alpha = .5))\n",
    "plt.xlabel(\"Distance (# tokens)\")\n",
    "plt.ylabel(\"Accuracy (%)\")\n",
    "\n",
    "plt.xticks(np.arange(10), ['0-100', '100-200', '200-300', '300-400', \"400-500\", \"500-600\", \"600-700\", \"700-800\", \"800-900\", \"900-1000\"])\n",
    "plt.savefig('T0pp_exact.png')"
   ]
  },
  {
   "cell_type": "code",
   "execution_count": 36,
   "id": "45bb4543-7726-40aa-9b1e-18b03f016af1",
   "metadata": {},
   "outputs": [
    {
     "data": {
      "text/plain": [
       "(3, 0, 1, 2, 4, 5, 7, 8, 6, 9)"
      ]
     },
     "execution_count": 36,
     "metadata": {},
     "output_type": "execute_result"
    }
   ],
   "source": [
    "x_points"
   ]
  },
  {
   "cell_type": "code",
   "execution_count": 67,
   "id": "cbef9520-91be-45c5-b519-6e5b9b1cce22",
   "metadata": {
    "tags": []
   },
   "outputs": [],
   "source": [
    "exact_matches = {}\n",
    "\n",
    "for k in all_result_objects.keys():\n",
    "    exact_matches[k] = []\n",
    "    \n",
    "    for j, result_object in enumerate(all_result_objects[k]): #[num_chap2_tokens]:\n",
    "\n",
    "        prompt = result_object.prompt\n",
    "        out = result_object.model_out\n",
    "        gold_locations = result_object.gold_locations\n",
    "        match1 = result_object.exact_match\n",
    "        match2 = result_object.fuzzy_match\n",
    "        \n",
    "        if match1 == \"Yes\":\n",
    "            exact_matches[k].append(1)\n",
    "        else:\n",
    "            exact_matches[k].append(0)\n",
    "            "
   ]
  },
  {
   "cell_type": "code",
   "execution_count": 68,
   "id": "49f45925-bd7f-4f3d-b3f7-211639fac27a",
   "metadata": {},
   "outputs": [],
   "source": [
    "accuracies = {}\n",
    "for k in all_result_objects.keys():\n",
    "    if exact_matches[k] != []:\n",
    "        accuracies[k] = sum(exact_matches[k])/len(exact_matches[k])"
   ]
  },
  {
   "cell_type": "code",
   "execution_count": 69,
   "id": "f06c911d-98be-4044-a51a-9050225cf79f",
   "metadata": {},
   "outputs": [
    {
     "data": {
      "text/plain": [
       "{6: 0.3232931726907631,\n",
       " 10: 0.29417670682730923,\n",
       " 13: 0.37014725568942436,\n",
       " 17: 0.3718206157965194,\n",
       " 21: 0.34605087014725566}"
      ]
     },
     "execution_count": 69,
     "metadata": {},
     "output_type": "execute_result"
    }
   ],
   "source": [
    "accuracies"
   ]
  },
  {
   "cell_type": "code",
   "execution_count": 27,
   "id": "a9c0f803-bd54-46b3-95ef-36bbe69b27dd",
   "metadata": {},
   "outputs": [],
   "source": [
    "exact_matches = {}\n",
    "\n",
    "for k in all_result_objects.keys():\n",
    "    exact_matches[k] = {}\n",
    "    \n",
    "    for no_tok in tokens_to_append:\n",
    "        exact_matches[k][no_tok] = []\n",
    "    \n",
    "    for j, result_object in enumerate(all_result_objects[k]): #[num_chap2_tokens]:\n",
    "\n",
    "        prompt = result_object.prompt\n",
    "        out = result_object.model_out\n",
    "        gold_locations = result_object.gold_locations\n",
    "        match1 = result_object.exact_match\n",
    "        match2 = result_object.fuzzy_match\n",
    "        no_tok = result_object.tokens_appended\n",
    "\n",
    "        if match1 == \"Yes\":\n",
    "            exact_matches[k][no_tok].append(1)\n",
    "        else:\n",
    "            exact_matches[k][no_tok].append(0)\n",
    "\n"
   ]
  },
  {
   "cell_type": "code",
   "execution_count": 28,
   "id": "948655fd-4f23-4530-a1e4-b61b49c6f7ac",
   "metadata": {},
   "outputs": [],
   "source": [
    "accuracies_no_tok_appended = {}\n",
    "for k in all_result_objects.keys():\n",
    "    accuracies_no_tok_appended[k] = {}\n",
    "    for no_tok in exact_matches[k]:\n",
    "        if exact_matches[k][no_tok] != []:\n",
    "            accuracies_no_tok_appended[k][no_tok] = sum(exact_matches[k][no_tok])/len(exact_matches[k][no_tok])"
   ]
  },
  {
   "cell_type": "code",
   "execution_count": 29,
   "id": "4c935684-60f0-4170-b1e9-3693dbb2c981",
   "metadata": {},
   "outputs": [
    {
     "name": "stdout",
     "output_type": "stream",
     "text": [
      "6\n",
      "{0: 0.40963855421686746, 50: 0.22088353413654618, 100: 0.36947791164658633, 150: 0.3895582329317269, 200: 0.3654618473895582, 250: 0.3815261044176707, 300: 0.3373493975903614, 400: 0.3815261044176707, 500: 0.3373493975903614, 600: 0.27710843373493976, 700: 0.1646586345381526, 800: 0.24497991967871485}\n",
      "10\n",
      "{0: 0.37751004016064255, 50: 0.3373493975903614, 100: 0.3333333333333333, 150: 0.27309236947791166, 200: 0.3092369477911647, 250: 0.28112449799196787, 300: 0.2891566265060241, 400: 0.3132530120481928, 500: 0.2891566265060241, 600: 0.30522088353413657, 700: 0.20080321285140562, 800: 0.22088353413654618}\n",
      "13\n",
      "{0: 0.3614457831325301, 50: 0.3855421686746988, 100: 0.3855421686746988, 150: 0.3654618473895582, 200: 0.39357429718875503, 250: 0.39357429718875503, 300: 0.3855421686746988, 400: 0.39357429718875503, 500: 0.3654618473895582, 600: 0.3815261044176707, 700: 0.30120481927710846, 800: 0.3293172690763052}\n",
      "17\n",
      "{0: 0.3453815261044177, 50: 0.36947791164658633, 100: 0.37751004016064255, 150: 0.37751004016064255, 200: 0.3855421686746988, 250: 0.3855421686746988, 300: 0.3855421686746988, 400: 0.39357429718875503, 500: 0.3534136546184739, 600: 0.3815261044176707, 700: 0.3453815261044177, 800: 0.3614457831325301}\n",
      "21\n",
      "{0: 0.357429718875502, 50: 0.37751004016064255, 100: 0.36947791164658633, 150: 0.3855421686746988, 200: 0.3534136546184739, 250: 0.3493975903614458, 300: 0.3413654618473896, 400: 0.357429718875502, 500: 0.3534136546184739, 600: 0.357429718875502, 700: 0.2570281124497992, 800: 0.2931726907630522}\n"
     ]
    }
   ],
   "source": [
    "for k in all_result_objects.keys():\n",
    "    \n",
    "    if accuracies_no_tok_appended[k]:\n",
    "        print(k)\n",
    "        print(accuracies_no_tok_appended[k])"
   ]
  },
  {
   "cell_type": "code",
   "execution_count": 13,
   "id": "74164b11-750f-46fa-b1d1-138d7cf73e98",
   "metadata": {},
   "outputs": [],
   "source": [
    "prompt_no = 13\n",
    "loc_mention_graph = []\n",
    "\n",
    "for dist in fuzzy_match_distances[prompt_no]:\n",
    "    loc_mention_graph.append((dist, 1))\n",
    "    \n",
    "for dist in non_fuzzy_match_distances[prompt_no]:\n",
    "    loc_mention_graph.append((dist, 0))"
   ]
  },
  {
   "cell_type": "code",
   "execution_count": 31,
   "id": "d23102a2-7cc9-446c-bd9e-a58d2bca4e76",
   "metadata": {},
   "outputs": [
    {
     "data": {
      "text/plain": [
       "437.2335701598579"
      ]
     },
     "execution_count": 31,
     "metadata": {},
     "output_type": "execute_result"
    }
   ],
   "source": [
    "sum(fuzzy_match_distances[prompt_no])/len(fuzzy_match_distances[prompt_no])"
   ]
  },
  {
   "cell_type": "code",
   "execution_count": 32,
   "id": "f9b75923-5c13-4faf-a20c-ed3ddf5f99f3",
   "metadata": {},
   "outputs": [
    {
     "data": {
      "text/plain": [
       "1126"
      ]
     },
     "execution_count": 32,
     "metadata": {},
     "output_type": "execute_result"
    }
   ],
   "source": [
    "len(fuzzy_match_distances[prompt_no])"
   ]
  },
  {
   "cell_type": "code",
   "execution_count": 33,
   "id": "9e46f1b4-019a-443e-b639-aa21068a0099",
   "metadata": {},
   "outputs": [
    {
     "data": {
      "text/plain": [
       "461.1223267750214"
      ]
     },
     "execution_count": 33,
     "metadata": {},
     "output_type": "execute_result"
    }
   ],
   "source": [
    "sum(non_fuzzy_match_distances[prompt_no])/len(non_fuzzy_match_distances[prompt_no])"
   ]
  },
  {
   "cell_type": "code",
   "execution_count": 34,
   "id": "41b41120-11d6-463e-b429-6b90388afa48",
   "metadata": {},
   "outputs": [
    {
     "data": {
      "text/plain": [
       "1169"
      ]
     },
     "execution_count": 34,
     "metadata": {},
     "output_type": "execute_result"
    }
   ],
   "source": [
    "len(non_fuzzy_match_distances[prompt_no])"
   ]
  },
  {
   "cell_type": "code",
   "execution_count": 35,
   "id": "44bd3dd8-e558-4889-90f1-86833f50b3ba",
   "metadata": {
    "tags": []
   },
   "outputs": [],
   "source": [
    "all_distances = [x[0] for x in loc_mention_graph]"
   ]
  },
  {
   "cell_type": "code",
   "execution_count": 36,
   "id": "7abedb3f-af06-4aff-b0f5-50c54142a229",
   "metadata": {},
   "outputs": [],
   "source": [
    "all_distances = sorted(all_distances)"
   ]
  },
  {
   "cell_type": "code",
   "execution_count": 37,
   "id": "fc9b451e-2994-4a7c-8615-614da34e0853",
   "metadata": {},
   "outputs": [
    {
     "data": {
      "text/plain": [
       "25"
      ]
     },
     "execution_count": 37,
     "metadata": {},
     "output_type": "execute_result"
    }
   ],
   "source": [
    "min(all_distances)"
   ]
  },
  {
   "cell_type": "code",
   "execution_count": 38,
   "id": "492cc765-79f6-4bb0-94df-179887f8d734",
   "metadata": {},
   "outputs": [
    {
     "data": {
      "text/plain": [
       "1016"
      ]
     },
     "execution_count": 38,
     "metadata": {},
     "output_type": "execute_result"
    }
   ],
   "source": [
    "all_distances[-1]"
   ]
  },
  {
   "cell_type": "code",
   "execution_count": 14,
   "id": "0dd6be6f-a857-4290-b284-ee125692a120",
   "metadata": {},
   "outputs": [],
   "source": [
    "grap = defaultdict(list)\n",
    "num_data_points = {}\n",
    "for tupl in loc_mention_graph:\n",
    "    for i in range(10):\n",
    "        if 100*i<=tupl[0]<100*i+100:\n",
    "            grap[i].append(tupl)\n",
    "for i in range(10):\n",
    "    num_data_points[i] = len(grap[i])\n",
    "    if len(grap[i]) != 0 and len(grap[i]) > 5:\n",
    "        grap[i] = sum([tupl[1] == 1 for tupl in grap[i]]) / len(grap[i]) * 100\n",
    "    else:\n",
    "        grap[i] = 0\n",
    "grap_tuples = [(key, grap[key]) for key in grap]"
   ]
  },
  {
   "cell_type": "code",
   "execution_count": 15,
   "id": "1b2bc281-3a2e-45f9-866c-5bdf5d248c0e",
   "metadata": {},
   "outputs": [
    {
     "data": {
      "image/png": "[encoded data removed]",
      "text/plain": [
       "<Figure size 1000x500 with 1 Axes>"
      ]
     },
     "metadata": {},
     "output_type": "display_data"
    }
   ],
   "source": [
    "x_points, y_points = zip(*grap_tuples)\n",
    "plt.figure(figsize = (10, 5))\n",
    "plt.bar(x_points, y_points, color=\"orange\")\n",
    "for i in range(len(x_points)):\n",
    "    plt.text(x_points[i], y_points[i], str(round(y_points[i],2)) + \"%\", ha = 'center', bbox = dict(facecolor = 'red', alpha =.2))\n",
    "for i in range(len(x_points)):\n",
    "    plt.text(x_points[i], y_points[i]//2, num_data_points[i],  ha = 'center',\n",
    "             bbox = dict(facecolor = 'white', alpha = .5))\n",
    "plt.xlabel(\"Distance (# tokens)\")\n",
    "plt.ylabel(\"Accuracy (%)\")\n",
    "\n",
    "plt.xticks(np.arange(10), ['0-100', '100-200', '200-300', '300-400', \"400-500\", \"500-600\", \"600-700\", \"700-800\", \"800-900\", \"900-1000\"])\n",
    "plt.savefig('T0pp_fuzzy.png')"
   ]
  },
  {
   "cell_type": "code",
   "execution_count": 17,
   "id": "c61073fc-a8d1-4c07-8400-44a5cc196982",
   "metadata": {},
   "outputs": [],
   "source": [
    "with open(\"Text_injection_T0pp_graph_points.txt\", \"wb\") as f:\n",
    "    pickle.dump(grap_tuples, f)"
   ]
  },
  {
   "cell_type": "code",
   "execution_count": 71,
   "id": "b05b61f4-c088-464c-97f7-08c47e0f87d2",
   "metadata": {
    "tags": []
   },
   "outputs": [],
   "source": [
    "fuzzy_matches = {}\n",
    "\n",
    "for k in all_result_objects.keys():\n",
    "    fuzzy_matches[k] = []\n",
    "    \n",
    "    for j, result_object in enumerate(all_result_objects[k]): #[num_chap2_tokens]:\n",
    "\n",
    "        prompt = result_object.prompt\n",
    "        out = result_object.model_out\n",
    "        gold_locations = result_object.gold_locations\n",
    "        match1 = result_object.exact_match\n",
    "        match2 = result_object.fuzzy_match\n",
    "        \n",
    "        if match2 == \"Yes\":\n",
    "            fuzzy_matches[k].append(1)\n",
    "        else:\n",
    "            fuzzy_matches[k].append(0)\n",
    "            "
   ]
  },
  {
   "cell_type": "code",
   "execution_count": 72,
   "id": "0f52e4d2-df7c-44fb-9165-a9c580b6eda4",
   "metadata": {},
   "outputs": [],
   "source": [
    "accuracies = {}\n",
    "for k in all_result_objects.keys():\n",
    "    if fuzzy_matches[k] != []:\n",
    "        accuracies[k] = sum(fuzzy_matches[k])/len(fuzzy_matches[k])"
   ]
  },
  {
   "cell_type": "code",
   "execution_count": 73,
   "id": "49df10dc-72c6-4fe6-bdc4-816ae8bfc292",
   "metadata": {},
   "outputs": [
    {
     "data": {
      "text/plain": [
       "{6: 0.41231593038821956,\n",
       " 10: 0.35977242302543505,\n",
       " 13: 0.4608433734939759,\n",
       " 17: 0.46686746987951805,\n",
       " 21: 0.4380856760374833}"
      ]
     },
     "execution_count": 73,
     "metadata": {},
     "output_type": "execute_result"
    }
   ],
   "source": [
    "accuracies"
   ]
  },
  {
   "cell_type": "code",
   "execution_count": 50,
   "id": "73051e21-c323-470e-b6b6-d92eea94ba79",
   "metadata": {},
   "outputs": [],
   "source": [
    "fuzzy_matches = {}\n",
    "\n",
    "for k in all_result_objects.keys():\n",
    "    fuzzy_matches[k] = {}\n",
    "    \n",
    "    for no_tok in tokens_to_append:\n",
    "        fuzzy_matches[k][no_tok] = []\n",
    "    \n",
    "    for j, result_object in enumerate(all_result_objects[k]): #[num_chap2_tokens]:\n",
    "\n",
    "        prompt = result_object.prompt\n",
    "        out = result_object.model_out\n",
    "        gold_locations = result_object.gold_locations\n",
    "        match1 = result_object.exact_match\n",
    "        match2 = result_object.fuzzy_match\n",
    "        no_tok = result_object.tokens_appended\n",
    "\n",
    "        if match2 == \"Yes\":\n",
    "            fuzzy_matches[k][no_tok].append(1)\n",
    "        else:\n",
    "            fuzzy_matches[k][no_tok].append(0)\n",
    "\n"
   ]
  },
  {
   "cell_type": "code",
   "execution_count": 51,
   "id": "0c7dbd06-cd1d-4759-a15d-94a57685103c",
   "metadata": {},
   "outputs": [],
   "source": [
    "accuracies_no_tok_appended = {}\n",
    "for k in all_result_objects.keys():\n",
    "    accuracies_no_tok_appended[k] = {}\n",
    "    for no_tok in exact_matches[k]:\n",
    "        if fuzzy_matches[k][no_tok] != []:\n",
    "            accuracies_no_tok_appended[k][no_tok] = sum(fuzzy_matches[k][no_tok])/len(fuzzy_matches[k][no_tok])"
   ]
  },
  {
   "cell_type": "code",
   "execution_count": 52,
   "id": "99974c3f-7ffc-481c-85b1-d78885ea98c9",
   "metadata": {},
   "outputs": [
    {
     "name": "stdout",
     "output_type": "stream",
     "text": [
      "6\n",
      "{0: 0.46586345381526106, 50: 0.3373493975903614, 100: 0.4497991967871486, 150: 0.46184738955823296, 200: 0.43373493975903615, 250: 0.4538152610441767, 300: 0.40160642570281124, 400: 0.4497991967871486, 500: 0.40562248995983935, 600: 0.3855421686746988, 700: 0.3172690763052209, 800: 0.3855421686746988}\n",
      "10\n",
      "{0: 0.44176706827309237, 50: 0.40562248995983935, 100: 0.3895582329317269, 150: 0.3453815261044177, 200: 0.36947791164658633, 250: 0.3534136546184739, 300: 0.3413654618473896, 400: 0.40963855421686746, 500: 0.3534136546184739, 600: 0.3855421686746988, 700: 0.24096385542168675, 800: 0.28112449799196787}\n",
      "13\n",
      "{0: 0.4859437751004016, 50: 0.5020080321285141, 100: 0.4738955823293173, 150: 0.4578313253012048, 200: 0.4779116465863454, 250: 0.4738955823293173, 300: 0.46184738955823296, 400: 0.4738955823293173, 500: 0.43775100401606426, 600: 0.4578313253012048, 700: 0.3855421686746988, 800: 0.44176706827309237}\n",
      "17\n",
      "{0: 0.4738955823293173, 50: 0.46586345381526106, 100: 0.46184738955823296, 150: 0.46586345381526106, 200: 0.4779116465863454, 250: 0.46184738955823296, 300: 0.46987951807228917, 400: 0.4939759036144578, 500: 0.44176706827309237, 600: 0.4939759036144578, 700: 0.44176706827309237, 800: 0.4538152610441767}\n",
      "21\n",
      "{0: 0.46184738955823296, 50: 0.4819277108433735, 100: 0.46586345381526106, 150: 0.4738955823293173, 200: 0.4457831325301205, 250: 0.43775100401606426, 300: 0.43373493975903615, 400: 0.44176706827309237, 500: 0.42570281124497994, 600: 0.42971887550200805, 700: 0.3654618473895582, 800: 0.39357429718875503}\n"
     ]
    }
   ],
   "source": [
    "for k in all_result_objects.keys():\n",
    "    \n",
    "    if accuracies_no_tok_appended[k]:\n",
    "        print(k)\n",
    "        print(accuracies_no_tok_appended[k])"
   ]
  },
  {
   "cell_type": "markdown",
   "id": "b45160bb-5334-4c70-b306-4fad8dc5f65f",
   "metadata": {},
   "source": [
    "# Visualization"
   ]
  },
  {
   "cell_type": "code",
   "execution_count": 10,
   "id": "2aa14e82-a848-4e20-b397-285d23115cf6",
   "metadata": {},
   "outputs": [],
   "source": [
    "with open(\"Text_injection_T0pp_all_result_objects.txt\", \"rb\") as f:\n",
    "    all_result_objects = pickle.load(f)"
   ]
  },
  {
   "cell_type": "code",
   "execution_count": 13,
   "id": "2830f79e-ec31-4544-b902-5dd8740e56b7",
   "metadata": {},
   "outputs": [
    {
     "name": "stderr",
     "output_type": "stream",
     "text": [
      "/tmp/ipykernel_17369/2041282757.py:28: FutureWarning: save is not part of the public API, usage can give unexpected results and will be removed in a future version\n",
      "  writer.save()\n"
     ]
    }
   ],
   "source": [
    "for k in [13]: #all_result_objects.keys():\n",
    "    \n",
    "    out_path = \"text_injection_t0pp_outputs_k\" + str(k) + \".xlsx\"\n",
    "    writer = pd.ExcelWriter(out_path, engine='xlsxwriter')\n",
    "    workbook = writer.book\n",
    "    format = workbook.add_format({'text_wrap': True})\n",
    "    my_dic = {\"Prompts\": [\"-\", \"-\", \"-\", \"-\", \"-\"]}\n",
    "    \n",
    "    for j, result_object in enumerate(all_result_objects[k]): #[num_chap2_tokens]:\n",
    "\n",
    "        prompt = result_object.prompt\n",
    "        out = result_object.model_out\n",
    "        gold_locations = result_object.gold_locations\n",
    "        match1 = result_object.exact_match\n",
    "        match2 = result_object.fuzzy_match\n",
    "        num_chap2_tokens = result_object.tokens_appended\n",
    "        \n",
    "        my_dic[prompt] = [gold_locations, out, num_chap2_tokens, match1, match2]\n",
    "        \n",
    "    df = pd.DataFrame(data=my_dic, index=[\"gold_locations\", \"output\", \"num_tokens_appended\", \"exact match?\", \"fuzzy match?\"])\n",
    "    df = (df.T)\n",
    "    df.to_excel(writer, sheet_name=\"output\")\n",
    "    worksheet = writer.sheets[\"output\"]\n",
    "    for idx, col in enumerate(df):\n",
    "        max_len = 75\n",
    "        worksheet.set_column(idx, idx, max_len, format)\n",
    "\n",
    "    writer.save()\n",
    "\n"
   ]
  },
  {
   "cell_type": "code",
   "execution_count": null,
   "id": "9b7b3b42-74b3-4d2a-ac3f-462c3273b285",
   "metadata": {},
   "outputs": [],
   "source": []
  }
 ],
 "metadata": {
  "kernelspec": {
   "display_name": "Python 3 (ipykernel)",
   "language": "python",
   "name": "python3"
  },
  "language_info": {
   "codemirror_mode": {
    "name": "ipython",
    "version": 3
   },
   "file_extension": ".py",
   "mimetype": "text/x-python",
   "name": "python",
   "nbconvert_exporter": "python",
   "pygments_lexer": "ipython3",
   "version": "3.8.13"
  }
 },
 "nbformat": 4,
 "nbformat_minor": 5
}
