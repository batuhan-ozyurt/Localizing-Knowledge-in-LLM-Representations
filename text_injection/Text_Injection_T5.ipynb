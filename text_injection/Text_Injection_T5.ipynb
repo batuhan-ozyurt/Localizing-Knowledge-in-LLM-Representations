{
 "cells": [
  {
   "cell_type": "markdown",
   "id": "db845662-e84e-4e28-b459-af385878888f",
   "metadata": {},
   "source": [
    "# Necessary Imports and Settings"
   ]
  },
  {
   "cell_type": "code",
   "execution_count": 8,
   "id": "6b574de0-b665-4bae-a672-beeaca0b2d6e",
   "metadata": {},
   "outputs": [],
   "source": [
    "!export NLTK_DATA=/kuacc/users/bozyurt20/hpc_run/nltk_data"
   ]
  },
  {
   "cell_type": "code",
   "execution_count": 11,
   "id": "a9d67493-bb7d-4dd2-9686-c73d7a08e896",
   "metadata": {},
   "outputs": [],
   "source": [
    "!printenv NLTK_DATA"
   ]
  },
  {
   "cell_type": "code",
   "execution_count": 1,
   "id": "d88dbb42-95b4-4039-ae61-452f046e43e1",
   "metadata": {},
   "outputs": [
    {
     "name": "stderr",
     "output_type": "stream",
     "text": [
      "/kuacc/users/bozyurt20/.conda/envs/hf/lib/python3.8/site-packages/fuzzywuzzy/fuzz.py:11: UserWarning: Using slow pure-python SequenceMatcher. Install python-Levenshtein to remove this warning\n",
      "  warnings.warn('Using slow pure-python SequenceMatcher. Install python-Levenshtein to remove this warning')\n"
     ]
    }
   ],
   "source": [
    "from transformers import T5Tokenizer, T5ForConditionalGeneration\n",
    "from transformers import AutoTokenizer, AutoModelForSeq2SeqLM\n",
    "\n",
    "import os\n",
    "import nltk\n",
    "import pandas as pd\n",
    "import torch\n",
    "import numpy as np\n",
    "from jinja2 import Template\n",
    "import pickle\n",
    "from collections import defaultdict\n",
    "\n",
    "from fuzzywuzzy import fuzz\n",
    "\n",
    "from nltk.corpus import stopwords\n",
    "from nltk.tokenize import word_tokenize\n",
    "from util_research import *\n",
    "\n",
    "import matplotlib.pyplot as plt"
   ]
  },
  {
   "cell_type": "code",
   "execution_count": 10,
   "id": "3bd8d84d-bfe2-4fbf-ae26-45344b334ec4",
   "metadata": {},
   "outputs": [
    {
     "ename": "CudaAPIError",
     "evalue": "[2] Call to cuDevicePrimaryCtxRetain results in CUDA_ERROR_OUT_OF_MEMORY",
     "output_type": "error",
     "traceback": [
      "\u001b[0;31m---------------------------------------------------------------------------\u001b[0m",
      "\u001b[0;31mCudaAPIError\u001b[0m                              Traceback (most recent call last)",
      "Cell \u001b[0;32mIn[10], line 2\u001b[0m\n\u001b[1;32m      1\u001b[0m \u001b[38;5;28;01mfrom\u001b[39;00m \u001b[38;5;21;01mnumba\u001b[39;00m \u001b[38;5;28;01mimport\u001b[39;00m cuda\n\u001b[0;32m----> 2\u001b[0m \u001b[43mcuda\u001b[49m\u001b[38;5;241;43m.\u001b[39;49m\u001b[43mselect_device\u001b[49m\u001b[43m(\u001b[49m\u001b[38;5;241;43m0\u001b[39;49m\u001b[43m)\u001b[49m\n\u001b[1;32m      3\u001b[0m cuda\u001b[38;5;241m.\u001b[39mclose()\n",
      "File \u001b[0;32m~/.conda/envs/hf/lib/python3.8/site-packages/numba/cuda/api.py:429\u001b[0m, in \u001b[0;36mselect_device\u001b[0;34m(device_id)\u001b[0m\n\u001b[1;32m    421\u001b[0m \u001b[38;5;28;01mdef\u001b[39;00m \u001b[38;5;21mselect_device\u001b[39m(device_id):\n\u001b[1;32m    422\u001b[0m     \u001b[38;5;124;03m\"\"\"\u001b[39;00m\n\u001b[1;32m    423\u001b[0m \u001b[38;5;124;03m    Make the context associated with device *device_id* the current context.\u001b[39;00m\n\u001b[1;32m    424\u001b[0m \n\u001b[0;32m   (...)\u001b[0m\n\u001b[1;32m    427\u001b[0m \u001b[38;5;124;03m    Raises exception on error.\u001b[39;00m\n\u001b[1;32m    428\u001b[0m \u001b[38;5;124;03m    \"\"\"\u001b[39;00m\n\u001b[0;32m--> 429\u001b[0m     context \u001b[38;5;241m=\u001b[39m \u001b[43mdevices\u001b[49m\u001b[38;5;241;43m.\u001b[39;49m\u001b[43mget_context\u001b[49m\u001b[43m(\u001b[49m\u001b[43mdevice_id\u001b[49m\u001b[43m)\u001b[49m\n\u001b[1;32m    430\u001b[0m     \u001b[38;5;28;01mreturn\u001b[39;00m context\u001b[38;5;241m.\u001b[39mdevice\n",
      "File \u001b[0;32m~/.conda/envs/hf/lib/python3.8/site-packages/numba/cuda/cudadrv/devices.py:220\u001b[0m, in \u001b[0;36mget_context\u001b[0;34m(devnum)\u001b[0m\n\u001b[1;32m    216\u001b[0m \u001b[38;5;28;01mdef\u001b[39;00m \u001b[38;5;21mget_context\u001b[39m(devnum\u001b[38;5;241m=\u001b[39m\u001b[38;5;28;01mNone\u001b[39;00m):\n\u001b[1;32m    217\u001b[0m     \u001b[38;5;124;03m\"\"\"Get the current device or use a device by device number, and\u001b[39;00m\n\u001b[1;32m    218\u001b[0m \u001b[38;5;124;03m    return the CUDA context.\u001b[39;00m\n\u001b[1;32m    219\u001b[0m \u001b[38;5;124;03m    \"\"\"\u001b[39;00m\n\u001b[0;32m--> 220\u001b[0m     \u001b[38;5;28;01mreturn\u001b[39;00m \u001b[43m_runtime\u001b[49m\u001b[38;5;241;43m.\u001b[39;49m\u001b[43mget_or_create_context\u001b[49m\u001b[43m(\u001b[49m\u001b[43mdevnum\u001b[49m\u001b[43m)\u001b[49m\n",
      "File \u001b[0;32m~/.conda/envs/hf/lib/python3.8/site-packages/numba/cuda/cudadrv/devices.py:144\u001b[0m, in \u001b[0;36m_Runtime.get_or_create_context\u001b[0;34m(self, devnum)\u001b[0m\n\u001b[1;32m    142\u001b[0m \u001b[38;5;28;01mif\u001b[39;00m USE_NV_BINDING:\n\u001b[1;32m    143\u001b[0m     devnum \u001b[38;5;241m=\u001b[39m \u001b[38;5;28mint\u001b[39m(devnum)\n\u001b[0;32m--> 144\u001b[0m \u001b[38;5;28;01mreturn\u001b[39;00m \u001b[38;5;28;43mself\u001b[39;49m\u001b[38;5;241;43m.\u001b[39;49m\u001b[43m_activate_context_for\u001b[49m\u001b[43m(\u001b[49m\u001b[43mdevnum\u001b[49m\u001b[43m)\u001b[49m\n",
      "File \u001b[0;32m~/.conda/envs/hf/lib/python3.8/site-packages/numba/cuda/cudadrv/devices.py:177\u001b[0m, in \u001b[0;36m_Runtime._activate_context_for\u001b[0;34m(self, devnum)\u001b[0m\n\u001b[1;32m    175\u001b[0m \u001b[38;5;28;01mwith\u001b[39;00m \u001b[38;5;28mself\u001b[39m\u001b[38;5;241m.\u001b[39m_lock:\n\u001b[1;32m    176\u001b[0m     gpu \u001b[38;5;241m=\u001b[39m \u001b[38;5;28mself\u001b[39m\u001b[38;5;241m.\u001b[39mgpus[devnum]\n\u001b[0;32m--> 177\u001b[0m     newctx \u001b[38;5;241m=\u001b[39m \u001b[43mgpu\u001b[49m\u001b[38;5;241;43m.\u001b[39;49m\u001b[43mget_primary_context\u001b[49m\u001b[43m(\u001b[49m\u001b[43m)\u001b[49m\n\u001b[1;32m    178\u001b[0m     \u001b[38;5;66;03m# Detect unexpected context switch\u001b[39;00m\n\u001b[1;32m    179\u001b[0m     cached_ctx \u001b[38;5;241m=\u001b[39m \u001b[38;5;28mself\u001b[39m\u001b[38;5;241m.\u001b[39m_get_attached_context()\n",
      "File \u001b[0;32m~/.conda/envs/hf/lib/python3.8/site-packages/numba/cuda/cudadrv/driver.py:664\u001b[0m, in \u001b[0;36mDevice.get_primary_context\u001b[0;34m(self)\u001b[0m\n\u001b[1;32m    662\u001b[0m \u001b[38;5;28;01melse\u001b[39;00m:\n\u001b[1;32m    663\u001b[0m     hctx \u001b[38;5;241m=\u001b[39m drvapi\u001b[38;5;241m.\u001b[39mcu_context()\n\u001b[0;32m--> 664\u001b[0m     \u001b[43mdriver\u001b[49m\u001b[38;5;241;43m.\u001b[39;49m\u001b[43mcuDevicePrimaryCtxRetain\u001b[49m\u001b[43m(\u001b[49m\u001b[43mbyref\u001b[49m\u001b[43m(\u001b[49m\u001b[43mhctx\u001b[49m\u001b[43m)\u001b[49m\u001b[43m,\u001b[49m\u001b[43m \u001b[49m\u001b[38;5;28;43mself\u001b[39;49m\u001b[38;5;241;43m.\u001b[39;49m\u001b[43mid\u001b[49m\u001b[43m)\u001b[49m\n\u001b[1;32m    666\u001b[0m ctx \u001b[38;5;241m=\u001b[39m Context(weakref\u001b[38;5;241m.\u001b[39mproxy(\u001b[38;5;28mself\u001b[39m), hctx)\n\u001b[1;32m    667\u001b[0m \u001b[38;5;28mself\u001b[39m\u001b[38;5;241m.\u001b[39mprimary_context \u001b[38;5;241m=\u001b[39m ctx\n",
      "File \u001b[0;32m~/.conda/envs/hf/lib/python3.8/site-packages/numba/cuda/cudadrv/driver.py:320\u001b[0m, in \u001b[0;36mDriver._ctypes_wrap_fn.<locals>.safe_cuda_api_call\u001b[0;34m(*args)\u001b[0m\n\u001b[1;32m    318\u001b[0m _logger\u001b[38;5;241m.\u001b[39mdebug(\u001b[38;5;124m'\u001b[39m\u001b[38;5;124mcall driver api: \u001b[39m\u001b[38;5;132;01m%s\u001b[39;00m\u001b[38;5;124m'\u001b[39m, libfn\u001b[38;5;241m.\u001b[39m\u001b[38;5;18m__name__\u001b[39m)\n\u001b[1;32m    319\u001b[0m retcode \u001b[38;5;241m=\u001b[39m libfn(\u001b[38;5;241m*\u001b[39margs)\n\u001b[0;32m--> 320\u001b[0m \u001b[38;5;28;43mself\u001b[39;49m\u001b[38;5;241;43m.\u001b[39;49m\u001b[43m_check_ctypes_error\u001b[49m\u001b[43m(\u001b[49m\u001b[43mfname\u001b[49m\u001b[43m,\u001b[49m\u001b[43m \u001b[49m\u001b[43mretcode\u001b[49m\u001b[43m)\u001b[49m\n",
      "File \u001b[0;32m~/.conda/envs/hf/lib/python3.8/site-packages/numba/cuda/cudadrv/driver.py:388\u001b[0m, in \u001b[0;36mDriver._check_ctypes_error\u001b[0;34m(self, fname, retcode)\u001b[0m\n\u001b[1;32m    386\u001b[0m \u001b[38;5;28;01mif\u001b[39;00m retcode \u001b[38;5;241m==\u001b[39m enums\u001b[38;5;241m.\u001b[39mCUDA_ERROR_NOT_INITIALIZED:\n\u001b[1;32m    387\u001b[0m     \u001b[38;5;28mself\u001b[39m\u001b[38;5;241m.\u001b[39m_detect_fork()\n\u001b[0;32m--> 388\u001b[0m \u001b[38;5;28;01mraise\u001b[39;00m CudaAPIError(retcode, msg)\n",
      "\u001b[0;31mCudaAPIError\u001b[0m: [2] Call to cuDevicePrimaryCtxRetain results in CUDA_ERROR_OUT_OF_MEMORY"
     ]
    }
   ],
   "source": [
    "from numba import cuda\n",
    "cuda.select_device(0)\n",
    "cuda.close()"
   ]
  },
  {
   "cell_type": "markdown",
   "id": "e3aabc57-4cc2-4b25-b51e-ceb672a47d5e",
   "metadata": {},
   "source": [
    "# Predictor Function"
   ]
  },
  {
   "cell_type": "code",
   "execution_count": 2,
   "id": "59b0d8ff-a5b7-41c8-ac90-e8c753efa536",
   "metadata": {},
   "outputs": [],
   "source": [
    "def predictor(text_injection_instance, write_in_file=False, out_path_prefix=\"Text_injection_T5_base_\"):\n",
    "    \n",
    "    # prompt has the max number of tokens: 512, and we start at a \" \" char.\n",
    "    \n",
    "    model = text_injection_instance.model\n",
    "    tokenizer = text_injection_instance.tokenizer\n",
    "    device = text_injection_instance.device\n",
    "    chapter1 = text_injection_instance.chapter1\n",
    "    chapter2_tokenized = text_injection_instance.chapter2_tokenized\n",
    "    tokens_to_append = text_injection_instance.tokens_to_append\n",
    "\n",
    "    predictions = {}\n",
    "    global no_story_in_context\n",
    "    no_story_in_context = 0\n",
    "    global okk\n",
    "    okk = 0\n",
    "    all_result_objects = {}\n",
    "    for k in range(1, num_templates+1):\n",
    "        all_result_objects[k] = []\n",
    "\n",
    "    for item in dir_list_annotations:\n",
    "        \n",
    "        print(item)\n",
    "        \n",
    "        story_no = item[len(\"Andersen_story\"):-len(\".txt\")]\n",
    "\n",
    "        f = open(os.path.join(path_andersen, item), 'r') \n",
    "        story = f.read()\n",
    "        f.close()\n",
    "        \n",
    "        predictions[item] = {}\n",
    "        for k in range(1, num_templates+1):\n",
    "            predictions[item][k] = {}\n",
    "\n",
    "        if write_in_file:\n",
    "            out_path = out_path_prefix + item[:-3] + \"xlsx\"\n",
    "            writer = pd.ExcelWriter(out_path, engine='xlsxwriter')\n",
    "            workbook = writer.book\n",
    "            format = workbook.add_format({'text_wrap': True})\n",
    "\n",
    "        annotations = all_annotations[item]\n",
    "\n",
    "        paragraphs = story.split(\"\\n\\n\")\n",
    "        no_paragraphs = len(paragraphs)\n",
    "        paragraph = paragraphs[0]\n",
    "        paragraph = paragraph.replace(\"\\n\", \" \")\n",
    "        len_title = len(paragraph) + 2        \n",
    "\n",
    "        i = 0 # line number in the annotation file\n",
    "        j = 0 # paragraph number\n",
    "\n",
    "        char_count = len_title   \n",
    "\n",
    "        while i < len(annotations) and j < no_paragraphs:\n",
    "\n",
    "            if char_count + 2 >= annotations[i][0]:\n",
    "\n",
    "                line = annotations[i]\n",
    "\n",
    "                character = line[1]\n",
    "                gold_answer = line[2]\n",
    "                grammatical_number = line[3]\n",
    "                context = paragraph\n",
    "                context = context.rstrip(\", ;-\\n\")\n",
    "\n",
    "                gold_locations = gold_answer.split(\"/\")\n",
    "                my_dic = {\"Prompts\": [gold_answer, \"-\", \"-\", \"-\"]}\n",
    "\n",
    "                for k in range(1, num_templates+1):\n",
    "\n",
    "                    y = char_count\n",
    "                    x = y - 2600\n",
    "\n",
    "                    if x < len_title:\n",
    "                        text = story[len_title:y]\n",
    "\n",
    "                    else:\n",
    "                        x = story[x:y].find(\" \") + x\n",
    "                        text = story[x:y]\n",
    "\n",
    "                    text = text_clean_ending(text)\n",
    "                    text = remove_new_lines(text)\n",
    "\n",
    "                    for num_chap2_tokens in tokens_to_append:\n",
    "                        chapter2_part = tokenizer.decode(chapter2_tokenized[:num_chap2_tokens], skip_special_tokens=True)\n",
    "                        chapter2_part = chapter2_part.rstrip(\", ;-\\n\")\n",
    "                        context = chapter1 + \"\\n\" + text + \"\\n\" + chapter2_part\n",
    "                        prompt, context = create_prompt_clipped(tokenizer, k, context, character, grammatical_number, 512)\n",
    "                        \"\"\"ind1 = prompt.find(text)\n",
    "                        if ind1 != -1:\n",
    "                            prompt = prompt[:ind1] + \"\\n\" + prompt[ind1:]\n",
    "                        else:\n",
    "                            okk += 1\n",
    "                        ind2 = prompt.find(chapter2_part)\n",
    "                        if ind2 != -1:\n",
    "                            prompt = prompt[:ind2] + \"\\n\" + prompt[ind2:]\n",
    "                        else:\n",
    "                            no_story_in_context += 1\"\"\"\n",
    "                        inputs = tokenizer.encode(prompt, return_tensors=\"pt\")\n",
    "                        inputs = inputs.to(device)\n",
    "                        with torch.no_grad():\n",
    "                            outputs = model.generate(inputs)\n",
    "                        out = tokenizer.decode(outputs[0], skip_special_tokens=True)\n",
    "                        match1, match2 = exactly_or_fuzzily_matched(out, gold_locations)\n",
    "                        predictions[item][k][num_chap2_tokens] = out\n",
    "                        result_object = TextInjectionResults(prompt, out, gold_locations, character, k, num_chap2_tokens, story_no, match1, match2)\n",
    "                        all_result_objects[k].append(result_object)\n",
    "                        if write_in_file:\n",
    "                            my_dic[prompt] = [out, num_chap2_tokens, match1, match2]\n",
    "                  \n",
    "\n",
    "                if write_in_file:\n",
    "                    df = pd.DataFrame(data=my_dic, index=[\"output\", \"num_tokens_appended\", \"exact match?\", \"fuzzy match?\"])\n",
    "                    df = (df.T)\n",
    "                    df.to_excel(writer, sheet_name=str(i+1))\n",
    "                    worksheet = writer.sheets[str(i+1)]\n",
    "                    for idx, col in enumerate(df):\n",
    "                        max_len = 75\n",
    "                        worksheet.set_column(idx, idx, max_len, format)\n",
    "\n",
    "                i += 1\n",
    "                print(\"line:\", i)\n",
    "            else:\n",
    "\n",
    "                j += 1\n",
    "                paragraph = paragraphs[j]\n",
    "                paragraph = paragraph.replace(\"\\n\", \" \")\n",
    "                char_count += (len(paragraph) + 2)\n",
    "\n",
    "        if write_in_file:\n",
    "            writer.save()\n",
    "\n",
    "    return predictions, all_result_objects\n",
    "\n"
   ]
  },
  {
   "cell_type": "markdown",
   "id": "24aecf8f-a6f1-4977-8046-8ea5786112af",
   "metadata": {},
   "source": [
    "# All Annotations"
   ]
  },
  {
   "cell_type": "code",
   "execution_count": 3,
   "id": "739451d1-89b5-44e3-88e9-67497492804b",
   "metadata": {},
   "outputs": [],
   "source": [
    "all_annotations = {}\n",
    "\n",
    "for item in dir_list_annotations:\n",
    "    \n",
    "    f = open(os.path.join(path_annotations, item), 'r')\n",
    "    annotations = pd.read_csv(f, sep=\"\\t\")\n",
    "    annotations = annotations.values\n",
    "    f.close()\n",
    "    \n",
    "    all_annotations[item] = annotations"
   ]
  },
  {
   "cell_type": "markdown",
   "id": "e8d55909-9217-4072-95dd-33703bd7fe56",
   "metadata": {},
   "source": [
    "# Preparing the Dataset"
   ]
  },
  {
   "cell_type": "code",
   "execution_count": 2,
   "id": "d4180cbd-0673-4c77-aa0f-86003927ddf4",
   "metadata": {},
   "outputs": [],
   "source": [
    "class TextInjection():\n",
    "    def __init__(self, model, tokenizer, device, chapter1, chapter2, tokens_to_append):\n",
    "        self.model = model\n",
    "        self.tokenizer = tokenizer\n",
    "        self.model = self.model.to(device)\n",
    "        self.device = device\n",
    "        self.chapter1 = chapter1\n",
    "        self.chapter2_tokenized = tokenizer.encode(chapter2)\n",
    "        self.tokens_to_append = tokens_to_append"
   ]
  },
  {
   "cell_type": "code",
   "execution_count": 3,
   "id": "1f92bab2-c7c5-4d43-a2dc-7c70110e1118",
   "metadata": {},
   "outputs": [],
   "source": [
    "class TextInjectionResults():\n",
    "    def __init__(self, prompt, model_out, gold_locations, character, k, tokens_appended, story_no, exact_match, fuzzy_match):\n",
    "        self.prompt = prompt\n",
    "        self.model_out = model_out\n",
    "        self.gold_locations = gold_locations\n",
    "        self.character = character\n",
    "        self.k = k\n",
    "        self.tokens_appended = tokens_appended\n",
    "        self.story_no = story_no\n",
    "        self.exact_match = exact_match\n",
    "        self.fuzzy_match = fuzzy_match"
   ]
  },
  {
   "cell_type": "code",
   "execution_count": 6,
   "id": "f3df1982-7255-4e2b-99c3-afae5f9bb867",
   "metadata": {},
   "outputs": [],
   "source": [
    "path = \"litbank/original/105_persuasion.txt\"\n",
    "\n",
    "with open(path, \"r\") as f:\n",
    "    book = f.read()\n",
    "    \n",
    "indices = []\n",
    "for i in range(1, 100):\n",
    "    chapter_header = \"Chapter \" + str(i) + \"\\n\\n\"\n",
    "    indices.append(book.find(chapter_header))\n",
    "\n",
    "ind1 = indices[0]\n",
    "ind2 = indices[1]\n",
    "i = 2\n",
    "chapters = []\n",
    "while ind2 != -1:\n",
    "    chapters.append(book[ind1:ind2])\n",
    "    ind1 = ind2\n",
    "    ind2 = indices[i]\n",
    "    i += 1   "
   ]
  },
  {
   "cell_type": "code",
   "execution_count": 7,
   "id": "f34d5f1b-a69c-4076-97e8-751b4819ffcb",
   "metadata": {},
   "outputs": [
    {
     "name": "stderr",
     "output_type": "stream",
     "text": [
      "/kuacc/users/bozyurt20/.conda/envs/hf/lib/python3.8/site-packages/transformers/models/t5/tokenization_t5.py:163: FutureWarning: This tokenizer was incorrectly instantiated with a model max length of 512 which will be corrected in Transformers v5.\n",
      "For now, this behavior is kept to avoid breaking backwards compatibility when padding/encoding with `truncation is True`.\n",
      "- Be aware that you SHOULD NOT rely on t5-base automatically truncating your input to 512 when padding/encoding.\n",
      "- If you want to encode/pad to sequences longer than 512 you can either instantiate this tokenizer with `model_max_length` or pass `max_length` when encoding/padding.\n",
      "- To avoid this warning, please instantiate this tokenizer with `model_max_length` set to your preferred value.\n",
      "  warnings.warn(\n"
     ]
    }
   ],
   "source": [
    "tokenizer = T5Tokenizer.from_pretrained(\"t5-base\")"
   ]
  },
  {
   "cell_type": "code",
   "execution_count": 49,
   "id": "3c95ee4b-ad71-4184-a215-731a97405577",
   "metadata": {},
   "outputs": [
    {
     "name": "stderr",
     "output_type": "stream",
     "text": [
      "/kuacc/users/bozyurt20/.conda/envs/hf/lib/python3.8/site-packages/transformers/models/t5/tokenization_t5.py:163: FutureWarning: This tokenizer was incorrectly instantiated with a model max length of 512 which will be corrected in Transformers v5.\n",
      "For now, this behavior is kept to avoid breaking backwards compatibility when padding/encoding with `truncation is True`.\n",
      "- Be aware that you SHOULD NOT rely on t5-base automatically truncating your input to 512 when padding/encoding.\n",
      "- If you want to encode/pad to sequences longer than 512 you can either instantiate this tokenizer with `model_max_length` or pass `max_length` when encoding/padding.\n",
      "- To avoid this warning, please instantiate this tokenizer with `model_max_length` set to your preferred value.\n",
      "  warnings.warn(\n"
     ]
    },
    {
     "ename": "NameError",
     "evalue": "name 'chapters' is not defined",
     "output_type": "error",
     "traceback": [
      "\u001b[0;31m---------------------------------------------------------------------------\u001b[0m",
      "\u001b[0;31mNameError\u001b[0m                                 Traceback (most recent call last)",
      "Cell \u001b[0;32mIn[49], line 6\u001b[0m\n\u001b[1;32m      3\u001b[0m model \u001b[38;5;241m=\u001b[39m T5ForConditionalGeneration\u001b[38;5;241m.\u001b[39mfrom_pretrained(\u001b[38;5;124m\"\u001b[39m\u001b[38;5;124mt5-base\u001b[39m\u001b[38;5;124m\"\u001b[39m)\n\u001b[1;32m      4\u001b[0m device \u001b[38;5;241m=\u001b[39m torch\u001b[38;5;241m.\u001b[39mdevice(\u001b[38;5;124m\"\u001b[39m\u001b[38;5;124mcuda\u001b[39m\u001b[38;5;124m\"\u001b[39m) \u001b[38;5;28;01mif\u001b[39;00m torch\u001b[38;5;241m.\u001b[39mcuda\u001b[38;5;241m.\u001b[39mis_available() \u001b[38;5;28;01melse\u001b[39;00m torch\u001b[38;5;241m.\u001b[39mdevice(\u001b[38;5;124m\"\u001b[39m\u001b[38;5;124mcpu\u001b[39m\u001b[38;5;124m\"\u001b[39m)\n\u001b[0;32m----> 6\u001b[0m chapter1 \u001b[38;5;241m=\u001b[39m remove_new_lines(\u001b[43mchapters\u001b[49m[\u001b[38;5;241m0\u001b[39m])\n\u001b[1;32m      7\u001b[0m paragraph_start_ind \u001b[38;5;241m=\u001b[39m chapters[\u001b[38;5;241m1\u001b[39m]\u001b[38;5;241m.\u001b[39mfind(\u001b[38;5;124m\"\u001b[39m\u001b[38;5;124mMr Shepherd\u001b[39m\u001b[38;5;124m\"\u001b[39m)\n\u001b[1;32m      8\u001b[0m chapter2 \u001b[38;5;241m=\u001b[39m remove_new_lines(chapters[\u001b[38;5;241m1\u001b[39m][paragraph_start_ind:])\n",
      "\u001b[0;31mNameError\u001b[0m: name 'chapters' is not defined"
     ]
    }
   ],
   "source": [
    "tokens_to_append = [x for x in range(0, 501, 30)]\n",
    "\n",
    "model = T5ForConditionalGeneration.from_pretrained(\"t5-base\")\n",
    "device = torch.device(\"cuda\") if torch.cuda.is_available() else torch.device(\"cpu\")\n",
    "\n",
    "chapter1 = remove_new_lines(chapters[0])\n",
    "paragraph_start_ind = chapters[1].find(\"Mr Shepherd\")\n",
    "chapter2 = remove_new_lines(chapters[1][paragraph_start_ind:])\n"
   ]
  },
  {
   "cell_type": "code",
   "execution_count": 6,
   "id": "bc141c02-fd9b-4038-90f5-87f0bbb10e34",
   "metadata": {},
   "outputs": [],
   "source": [
    "tt = [x for x in range(0, 501, 30)]"
   ]
  },
  {
   "cell_type": "code",
   "execution_count": 7,
   "id": "64fe3b2c-2175-4d1e-90ff-ea7f5d54f837",
   "metadata": {},
   "outputs": [
    {
     "data": {
      "text/plain": [
       "[0,\n",
       " 30,\n",
       " 60,\n",
       " 90,\n",
       " 120,\n",
       " 150,\n",
       " 180,\n",
       " 210,\n",
       " 240,\n",
       " 270,\n",
       " 300,\n",
       " 330,\n",
       " 360,\n",
       " 390,\n",
       " 420,\n",
       " 450,\n",
       " 480]"
      ]
     },
     "execution_count": 7,
     "metadata": {},
     "output_type": "execute_result"
    }
   ],
   "source": [
    "tt"
   ]
  },
  {
   "cell_type": "code",
   "execution_count": 28,
   "id": "873d5582-b794-4263-b422-f5a51ff033c0",
   "metadata": {},
   "outputs": [
    {
     "data": {
      "text/plain": [
       "[3, 1825, 1]"
      ]
     },
     "execution_count": 28,
     "metadata": {},
     "output_type": "execute_result"
    }
   ],
   "source": [
    "tokenizer.encode(\" ok \\n\")"
   ]
  },
  {
   "cell_type": "code",
   "execution_count": null,
   "id": "f857560c-e0f2-4e4d-9920-1998ec65a604",
   "metadata": {},
   "outputs": [],
   "source": []
  },
  {
   "cell_type": "code",
   "execution_count": 11,
   "id": "0e7a4aec-3098-4f31-b157-4961f47e34dd",
   "metadata": {},
   "outputs": [],
   "source": [
    "x = tokenizer.encode(\"\"\"Answer the question depending on the context.\n",
    "Context: far. The Kellynch estate should be transmitted whole and entire, as he had received it. Their two confidential friends, Mr Shepherd, who lived in the neighbouring market town, and Lady Russell, were called to advise them; and both father and daughter seemed to expect that something should be struck out by one or the other to remove their embarrassments and reduce their expenditure, without involving the loss of any indulgence of taste or pride. Really, the largest green leaf in this country is a dock-leaf; if one holds it before one, it is like a whole apron, and if one holds it over one's head in rainy weather, it is almost as good as an umbrella, for it is so immensely large. The burdock never grows alone, but where there grows one there always grow several: it is a great delight, and all this delightfulness is snails' food. The great white snails which persons of quality in former times made fricassees of, ate, and said, “Hem, hem! how delicious!” for they thought it tasted so delicate--lived on dock-leaves, and therefore burdock seeds were sown. Now, there was an old manor-house, where they no longer ate snails, they were quite extinct; but the burdocks were not extinct, they grew and grew all over the walks and all the beds; they could not get the mastery over them--it was a whole forest of burdocks. Here and there stood an apple and a plum-tree, or else one never would have thought that it was a garden; all was burdocks, and there lived the two last venerable old snails. Mr Shepherd, a civil, cautious lawyer, who, whatever might be his hold or his views on Sir Walter, would rather have the disagreeable prompted by anybody else, excused himself from offering the slightest hint, and only begged leave to recommend an implicit reference to the excellent judgement of Lady Russell, from whose known good sense he fully expected to have just such resolute measures advised as he meant to see finally adopted. Lady Russell was most anxiously;\n",
    "Question: Where are two old snails?;\n",
    "Answer:\"\"\")"
   ]
  },
  {
   "cell_type": "code",
   "execution_count": 33,
   "id": "256c5cd1-e8a3-4a0e-857e-3cd585e7e728",
   "metadata": {},
   "outputs": [
    {
     "data": {
      "text/plain": [
       "'.'"
      ]
     },
     "execution_count": 33,
     "metadata": {},
     "output_type": "execute_result"
    }
   ],
   "source": [
    "tokenizer.decode([5])"
   ]
  },
  {
   "cell_type": "code",
   "execution_count": 8,
   "id": "c1033565-c822-42f9-aec1-5c614365c5e7",
   "metadata": {
    "collapsed": true,
    "jupyter": {
     "outputs_hidden": true
    },
    "tags": []
   },
   "outputs": [
    {
     "name": "stderr",
     "output_type": "stream",
     "text": [
      "Token indices sequence length is longer than the specified maximum sequence length for this model (2573 > 512). Running this sequence through the model will result in indexing errors\n"
     ]
    },
    {
     "name": "stdout",
     "output_type": "stream",
     "text": [
      "Andersen_story11.txt\n"
     ]
    },
    {
     "name": "stderr",
     "output_type": "stream",
     "text": [
      "/kuacc/users/bozyurt20/.conda/envs/hf/lib/python3.8/site-packages/transformers/generation/utils.py:1273: UserWarning: Neither `max_length` nor `max_new_tokens` has been set, `max_length` will default to 20 (`generation_config.max_length`). Controlling `max_length` via the config is deprecated and `max_length` will be removed from the config in v5 of Transformers -- we recommend using `max_new_tokens` to control the maximum length of the generation.\n",
      "  warnings.warn(\n"
     ]
    },
    {
     "name": "stdout",
     "output_type": "stream",
     "text": [
      "line: 1\n"
     ]
    },
    {
     "ename": "KeyboardInterrupt",
     "evalue": "",
     "output_type": "error",
     "traceback": [
      "\u001b[0;31m---------------------------------------------------------------------------\u001b[0m",
      "\u001b[0;31mKeyboardInterrupt\u001b[0m                         Traceback (most recent call last)",
      "Cell \u001b[0;32mIn[8], line 3\u001b[0m\n\u001b[1;32m      1\u001b[0m text_injection_instance \u001b[38;5;241m=\u001b[39m TextInjection(model, tokenizer, device, chapter1, chapter2, tokens_to_append)\n\u001b[0;32m----> 3\u001b[0m predictions, all_result_objects \u001b[38;5;241m=\u001b[39m \u001b[43mpredictor\u001b[49m\u001b[43m(\u001b[49m\u001b[43mtext_injection_instance\u001b[49m\u001b[43m,\u001b[49m\u001b[43m \u001b[49m\u001b[43mwrite_in_file\u001b[49m\u001b[38;5;241;43m=\u001b[39;49m\u001b[38;5;28;43;01mFalse\u001b[39;49;00m\u001b[43m,\u001b[49m\u001b[43m \u001b[49m\u001b[43mout_path_prefix\u001b[49m\u001b[38;5;241;43m=\u001b[39;49m\u001b[38;5;124;43m\"\u001b[39;49m\u001b[38;5;124;43mText_injection_T5_base_\u001b[39;49m\u001b[38;5;124;43m\"\u001b[39;49m\u001b[43m)\u001b[49m\n",
      "Cell \u001b[0;32mIn[2], line 102\u001b[0m, in \u001b[0;36mpredictor\u001b[0;34m(text_injection_instance, write_in_file, out_path_prefix)\u001b[0m\n\u001b[1;32m    100\u001b[0m inputs \u001b[38;5;241m=\u001b[39m inputs\u001b[38;5;241m.\u001b[39mto(device)\n\u001b[1;32m    101\u001b[0m \u001b[38;5;28;01mwith\u001b[39;00m torch\u001b[38;5;241m.\u001b[39mno_grad():\n\u001b[0;32m--> 102\u001b[0m     outputs \u001b[38;5;241m=\u001b[39m \u001b[43mmodel\u001b[49m\u001b[38;5;241;43m.\u001b[39;49m\u001b[43mgenerate\u001b[49m\u001b[43m(\u001b[49m\u001b[43minputs\u001b[49m\u001b[43m)\u001b[49m\n\u001b[1;32m    103\u001b[0m out \u001b[38;5;241m=\u001b[39m tokenizer\u001b[38;5;241m.\u001b[39mdecode(outputs[\u001b[38;5;241m0\u001b[39m], skip_special_tokens\u001b[38;5;241m=\u001b[39m\u001b[38;5;28;01mTrue\u001b[39;00m)\n\u001b[1;32m    104\u001b[0m match1, match2 \u001b[38;5;241m=\u001b[39m exactly_or_fuzzily_matched(out, gold_locations)\n",
      "File \u001b[0;32m~/.conda/envs/hf/lib/python3.8/site-packages/torch/autograd/grad_mode.py:27\u001b[0m, in \u001b[0;36m_DecoratorContextManager.__call__.<locals>.decorate_context\u001b[0;34m(*args, **kwargs)\u001b[0m\n\u001b[1;32m     24\u001b[0m \u001b[38;5;129m@functools\u001b[39m\u001b[38;5;241m.\u001b[39mwraps(func)\n\u001b[1;32m     25\u001b[0m \u001b[38;5;28;01mdef\u001b[39;00m \u001b[38;5;21mdecorate_context\u001b[39m(\u001b[38;5;241m*\u001b[39margs, \u001b[38;5;241m*\u001b[39m\u001b[38;5;241m*\u001b[39mkwargs):\n\u001b[1;32m     26\u001b[0m     \u001b[38;5;28;01mwith\u001b[39;00m \u001b[38;5;28mself\u001b[39m\u001b[38;5;241m.\u001b[39mclone():\n\u001b[0;32m---> 27\u001b[0m         \u001b[38;5;28;01mreturn\u001b[39;00m \u001b[43mfunc\u001b[49m\u001b[43m(\u001b[49m\u001b[38;5;241;43m*\u001b[39;49m\u001b[43margs\u001b[49m\u001b[43m,\u001b[49m\u001b[43m \u001b[49m\u001b[38;5;241;43m*\u001b[39;49m\u001b[38;5;241;43m*\u001b[39;49m\u001b[43mkwargs\u001b[49m\u001b[43m)\u001b[49m\n",
      "File \u001b[0;32m~/.conda/envs/hf/lib/python3.8/site-packages/transformers/generation/utils.py:1391\u001b[0m, in \u001b[0;36mGenerationMixin.generate\u001b[0;34m(self, inputs, generation_config, logits_processor, stopping_criteria, prefix_allowed_tokens_fn, synced_gpus, **kwargs)\u001b[0m\n\u001b[1;32m   1385\u001b[0m         \u001b[38;5;28;01mraise\u001b[39;00m \u001b[38;5;167;01mValueError\u001b[39;00m(\n\u001b[1;32m   1386\u001b[0m             \u001b[38;5;124mf\u001b[39m\u001b[38;5;124m\"\u001b[39m\u001b[38;5;124mnum_return_sequences has to be 1, but is \u001b[39m\u001b[38;5;132;01m{\u001b[39;00mgeneration_config\u001b[38;5;241m.\u001b[39mnum_return_sequences\u001b[38;5;132;01m}\u001b[39;00m\u001b[38;5;124m when doing\u001b[39m\u001b[38;5;124m\"\u001b[39m\n\u001b[1;32m   1387\u001b[0m             \u001b[38;5;124m\"\u001b[39m\u001b[38;5;124m greedy search.\u001b[39m\u001b[38;5;124m\"\u001b[39m\n\u001b[1;32m   1388\u001b[0m         )\n\u001b[1;32m   1390\u001b[0m     \u001b[38;5;66;03m# 11. run greedy search\u001b[39;00m\n\u001b[0;32m-> 1391\u001b[0m     \u001b[38;5;28;01mreturn\u001b[39;00m \u001b[38;5;28;43mself\u001b[39;49m\u001b[38;5;241;43m.\u001b[39;49m\u001b[43mgreedy_search\u001b[49m\u001b[43m(\u001b[49m\n\u001b[1;32m   1392\u001b[0m \u001b[43m        \u001b[49m\u001b[43minput_ids\u001b[49m\u001b[43m,\u001b[49m\n\u001b[1;32m   1393\u001b[0m \u001b[43m        \u001b[49m\u001b[43mlogits_processor\u001b[49m\u001b[38;5;241;43m=\u001b[39;49m\u001b[43mlogits_processor\u001b[49m\u001b[43m,\u001b[49m\n\u001b[1;32m   1394\u001b[0m \u001b[43m        \u001b[49m\u001b[43mstopping_criteria\u001b[49m\u001b[38;5;241;43m=\u001b[39;49m\u001b[43mstopping_criteria\u001b[49m\u001b[43m,\u001b[49m\n\u001b[1;32m   1395\u001b[0m \u001b[43m        \u001b[49m\u001b[43mpad_token_id\u001b[49m\u001b[38;5;241;43m=\u001b[39;49m\u001b[43mgeneration_config\u001b[49m\u001b[38;5;241;43m.\u001b[39;49m\u001b[43mpad_token_id\u001b[49m\u001b[43m,\u001b[49m\n\u001b[1;32m   1396\u001b[0m \u001b[43m        \u001b[49m\u001b[43meos_token_id\u001b[49m\u001b[38;5;241;43m=\u001b[39;49m\u001b[43mgeneration_config\u001b[49m\u001b[38;5;241;43m.\u001b[39;49m\u001b[43meos_token_id\u001b[49m\u001b[43m,\u001b[49m\n\u001b[1;32m   1397\u001b[0m \u001b[43m        \u001b[49m\u001b[43moutput_scores\u001b[49m\u001b[38;5;241;43m=\u001b[39;49m\u001b[43mgeneration_config\u001b[49m\u001b[38;5;241;43m.\u001b[39;49m\u001b[43moutput_scores\u001b[49m\u001b[43m,\u001b[49m\n\u001b[1;32m   1398\u001b[0m \u001b[43m        \u001b[49m\u001b[43mreturn_dict_in_generate\u001b[49m\u001b[38;5;241;43m=\u001b[39;49m\u001b[43mgeneration_config\u001b[49m\u001b[38;5;241;43m.\u001b[39;49m\u001b[43mreturn_dict_in_generate\u001b[49m\u001b[43m,\u001b[49m\n\u001b[1;32m   1399\u001b[0m \u001b[43m        \u001b[49m\u001b[43msynced_gpus\u001b[49m\u001b[38;5;241;43m=\u001b[39;49m\u001b[43msynced_gpus\u001b[49m\u001b[43m,\u001b[49m\n\u001b[1;32m   1400\u001b[0m \u001b[43m        \u001b[49m\u001b[38;5;241;43m*\u001b[39;49m\u001b[38;5;241;43m*\u001b[39;49m\u001b[43mmodel_kwargs\u001b[49m\u001b[43m,\u001b[49m\n\u001b[1;32m   1401\u001b[0m \u001b[43m    \u001b[49m\u001b[43m)\u001b[49m\n\u001b[1;32m   1403\u001b[0m \u001b[38;5;28;01melif\u001b[39;00m is_contrastive_search_gen_mode:\n\u001b[1;32m   1404\u001b[0m     \u001b[38;5;28;01mif\u001b[39;00m generation_config\u001b[38;5;241m.\u001b[39mnum_return_sequences \u001b[38;5;241m>\u001b[39m \u001b[38;5;241m1\u001b[39m:\n",
      "File \u001b[0;32m~/.conda/envs/hf/lib/python3.8/site-packages/transformers/generation/utils.py:2179\u001b[0m, in \u001b[0;36mGenerationMixin.greedy_search\u001b[0;34m(self, input_ids, logits_processor, stopping_criteria, max_length, pad_token_id, eos_token_id, output_attentions, output_hidden_states, output_scores, return_dict_in_generate, synced_gpus, **model_kwargs)\u001b[0m\n\u001b[1;32m   2176\u001b[0m model_inputs \u001b[38;5;241m=\u001b[39m \u001b[38;5;28mself\u001b[39m\u001b[38;5;241m.\u001b[39mprepare_inputs_for_generation(input_ids, \u001b[38;5;241m*\u001b[39m\u001b[38;5;241m*\u001b[39mmodel_kwargs)\n\u001b[1;32m   2178\u001b[0m \u001b[38;5;66;03m# forward pass to get next token\u001b[39;00m\n\u001b[0;32m-> 2179\u001b[0m outputs \u001b[38;5;241m=\u001b[39m \u001b[38;5;28;43mself\u001b[39;49m\u001b[43m(\u001b[49m\n\u001b[1;32m   2180\u001b[0m \u001b[43m    \u001b[49m\u001b[38;5;241;43m*\u001b[39;49m\u001b[38;5;241;43m*\u001b[39;49m\u001b[43mmodel_inputs\u001b[49m\u001b[43m,\u001b[49m\n\u001b[1;32m   2181\u001b[0m \u001b[43m    \u001b[49m\u001b[43mreturn_dict\u001b[49m\u001b[38;5;241;43m=\u001b[39;49m\u001b[38;5;28;43;01mTrue\u001b[39;49;00m\u001b[43m,\u001b[49m\n\u001b[1;32m   2182\u001b[0m \u001b[43m    \u001b[49m\u001b[43moutput_attentions\u001b[49m\u001b[38;5;241;43m=\u001b[39;49m\u001b[43moutput_attentions\u001b[49m\u001b[43m,\u001b[49m\n\u001b[1;32m   2183\u001b[0m \u001b[43m    \u001b[49m\u001b[43moutput_hidden_states\u001b[49m\u001b[38;5;241;43m=\u001b[39;49m\u001b[43moutput_hidden_states\u001b[49m\u001b[43m,\u001b[49m\n\u001b[1;32m   2184\u001b[0m \u001b[43m\u001b[49m\u001b[43m)\u001b[49m\n\u001b[1;32m   2186\u001b[0m \u001b[38;5;28;01mif\u001b[39;00m synced_gpus \u001b[38;5;129;01mand\u001b[39;00m this_peer_finished:\n\u001b[1;32m   2187\u001b[0m     \u001b[38;5;28;01mcontinue\u001b[39;00m  \u001b[38;5;66;03m# don't waste resources running the code we don't need\u001b[39;00m\n",
      "File \u001b[0;32m~/.conda/envs/hf/lib/python3.8/site-packages/torch/nn/modules/module.py:1194\u001b[0m, in \u001b[0;36mModule._call_impl\u001b[0;34m(self, *input, **kwargs)\u001b[0m\n\u001b[1;32m   1190\u001b[0m \u001b[38;5;66;03m# If we don't have any hooks, we want to skip the rest of the logic in\u001b[39;00m\n\u001b[1;32m   1191\u001b[0m \u001b[38;5;66;03m# this function, and just call forward.\u001b[39;00m\n\u001b[1;32m   1192\u001b[0m \u001b[38;5;28;01mif\u001b[39;00m \u001b[38;5;129;01mnot\u001b[39;00m (\u001b[38;5;28mself\u001b[39m\u001b[38;5;241m.\u001b[39m_backward_hooks \u001b[38;5;129;01mor\u001b[39;00m \u001b[38;5;28mself\u001b[39m\u001b[38;5;241m.\u001b[39m_forward_hooks \u001b[38;5;129;01mor\u001b[39;00m \u001b[38;5;28mself\u001b[39m\u001b[38;5;241m.\u001b[39m_forward_pre_hooks \u001b[38;5;129;01mor\u001b[39;00m _global_backward_hooks\n\u001b[1;32m   1193\u001b[0m         \u001b[38;5;129;01mor\u001b[39;00m _global_forward_hooks \u001b[38;5;129;01mor\u001b[39;00m _global_forward_pre_hooks):\n\u001b[0;32m-> 1194\u001b[0m     \u001b[38;5;28;01mreturn\u001b[39;00m \u001b[43mforward_call\u001b[49m\u001b[43m(\u001b[49m\u001b[38;5;241;43m*\u001b[39;49m\u001b[38;5;28;43minput\u001b[39;49m\u001b[43m,\u001b[49m\u001b[43m \u001b[49m\u001b[38;5;241;43m*\u001b[39;49m\u001b[38;5;241;43m*\u001b[39;49m\u001b[43mkwargs\u001b[49m\u001b[43m)\u001b[49m\n\u001b[1;32m   1195\u001b[0m \u001b[38;5;66;03m# Do not call functions when jit is used\u001b[39;00m\n\u001b[1;32m   1196\u001b[0m full_backward_hooks, non_full_backward_hooks \u001b[38;5;241m=\u001b[39m [], []\n",
      "File \u001b[0;32m~/.conda/envs/hf/lib/python3.8/site-packages/transformers/models/t5/modeling_t5.py:1660\u001b[0m, in \u001b[0;36mT5ForConditionalGeneration.forward\u001b[0;34m(self, input_ids, attention_mask, decoder_input_ids, decoder_attention_mask, head_mask, decoder_head_mask, cross_attn_head_mask, encoder_outputs, past_key_values, inputs_embeds, decoder_inputs_embeds, labels, use_cache, output_attentions, output_hidden_states, return_dict)\u001b[0m\n\u001b[1;32m   1657\u001b[0m         decoder_attention_mask \u001b[38;5;241m=\u001b[39m decoder_attention_mask\u001b[38;5;241m.\u001b[39mto(\u001b[38;5;28mself\u001b[39m\u001b[38;5;241m.\u001b[39mdecoder\u001b[38;5;241m.\u001b[39mfirst_device)\n\u001b[1;32m   1659\u001b[0m \u001b[38;5;66;03m# Decode\u001b[39;00m\n\u001b[0;32m-> 1660\u001b[0m decoder_outputs \u001b[38;5;241m=\u001b[39m \u001b[38;5;28;43mself\u001b[39;49m\u001b[38;5;241;43m.\u001b[39;49m\u001b[43mdecoder\u001b[49m\u001b[43m(\u001b[49m\n\u001b[1;32m   1661\u001b[0m \u001b[43m    \u001b[49m\u001b[43minput_ids\u001b[49m\u001b[38;5;241;43m=\u001b[39;49m\u001b[43mdecoder_input_ids\u001b[49m\u001b[43m,\u001b[49m\n\u001b[1;32m   1662\u001b[0m \u001b[43m    \u001b[49m\u001b[43mattention_mask\u001b[49m\u001b[38;5;241;43m=\u001b[39;49m\u001b[43mdecoder_attention_mask\u001b[49m\u001b[43m,\u001b[49m\n\u001b[1;32m   1663\u001b[0m \u001b[43m    \u001b[49m\u001b[43minputs_embeds\u001b[49m\u001b[38;5;241;43m=\u001b[39;49m\u001b[43mdecoder_inputs_embeds\u001b[49m\u001b[43m,\u001b[49m\n\u001b[1;32m   1664\u001b[0m \u001b[43m    \u001b[49m\u001b[43mpast_key_values\u001b[49m\u001b[38;5;241;43m=\u001b[39;49m\u001b[43mpast_key_values\u001b[49m\u001b[43m,\u001b[49m\n\u001b[1;32m   1665\u001b[0m \u001b[43m    \u001b[49m\u001b[43mencoder_hidden_states\u001b[49m\u001b[38;5;241;43m=\u001b[39;49m\u001b[43mhidden_states\u001b[49m\u001b[43m,\u001b[49m\n\u001b[1;32m   1666\u001b[0m \u001b[43m    \u001b[49m\u001b[43mencoder_attention_mask\u001b[49m\u001b[38;5;241;43m=\u001b[39;49m\u001b[43mattention_mask\u001b[49m\u001b[43m,\u001b[49m\n\u001b[1;32m   1667\u001b[0m \u001b[43m    \u001b[49m\u001b[43mhead_mask\u001b[49m\u001b[38;5;241;43m=\u001b[39;49m\u001b[43mdecoder_head_mask\u001b[49m\u001b[43m,\u001b[49m\n\u001b[1;32m   1668\u001b[0m \u001b[43m    \u001b[49m\u001b[43mcross_attn_head_mask\u001b[49m\u001b[38;5;241;43m=\u001b[39;49m\u001b[43mcross_attn_head_mask\u001b[49m\u001b[43m,\u001b[49m\n\u001b[1;32m   1669\u001b[0m \u001b[43m    \u001b[49m\u001b[43muse_cache\u001b[49m\u001b[38;5;241;43m=\u001b[39;49m\u001b[43muse_cache\u001b[49m\u001b[43m,\u001b[49m\n\u001b[1;32m   1670\u001b[0m \u001b[43m    \u001b[49m\u001b[43moutput_attentions\u001b[49m\u001b[38;5;241;43m=\u001b[39;49m\u001b[43moutput_attentions\u001b[49m\u001b[43m,\u001b[49m\n\u001b[1;32m   1671\u001b[0m \u001b[43m    \u001b[49m\u001b[43moutput_hidden_states\u001b[49m\u001b[38;5;241;43m=\u001b[39;49m\u001b[43moutput_hidden_states\u001b[49m\u001b[43m,\u001b[49m\n\u001b[1;32m   1672\u001b[0m \u001b[43m    \u001b[49m\u001b[43mreturn_dict\u001b[49m\u001b[38;5;241;43m=\u001b[39;49m\u001b[43mreturn_dict\u001b[49m\u001b[43m,\u001b[49m\n\u001b[1;32m   1673\u001b[0m \u001b[43m\u001b[49m\u001b[43m)\u001b[49m\n\u001b[1;32m   1675\u001b[0m sequence_output \u001b[38;5;241m=\u001b[39m decoder_outputs[\u001b[38;5;241m0\u001b[39m]\n\u001b[1;32m   1677\u001b[0m \u001b[38;5;66;03m# Set device for model parallelism\u001b[39;00m\n",
      "File \u001b[0;32m~/.conda/envs/hf/lib/python3.8/site-packages/torch/nn/modules/module.py:1194\u001b[0m, in \u001b[0;36mModule._call_impl\u001b[0;34m(self, *input, **kwargs)\u001b[0m\n\u001b[1;32m   1190\u001b[0m \u001b[38;5;66;03m# If we don't have any hooks, we want to skip the rest of the logic in\u001b[39;00m\n\u001b[1;32m   1191\u001b[0m \u001b[38;5;66;03m# this function, and just call forward.\u001b[39;00m\n\u001b[1;32m   1192\u001b[0m \u001b[38;5;28;01mif\u001b[39;00m \u001b[38;5;129;01mnot\u001b[39;00m (\u001b[38;5;28mself\u001b[39m\u001b[38;5;241m.\u001b[39m_backward_hooks \u001b[38;5;129;01mor\u001b[39;00m \u001b[38;5;28mself\u001b[39m\u001b[38;5;241m.\u001b[39m_forward_hooks \u001b[38;5;129;01mor\u001b[39;00m \u001b[38;5;28mself\u001b[39m\u001b[38;5;241m.\u001b[39m_forward_pre_hooks \u001b[38;5;129;01mor\u001b[39;00m _global_backward_hooks\n\u001b[1;32m   1193\u001b[0m         \u001b[38;5;129;01mor\u001b[39;00m _global_forward_hooks \u001b[38;5;129;01mor\u001b[39;00m _global_forward_pre_hooks):\n\u001b[0;32m-> 1194\u001b[0m     \u001b[38;5;28;01mreturn\u001b[39;00m \u001b[43mforward_call\u001b[49m\u001b[43m(\u001b[49m\u001b[38;5;241;43m*\u001b[39;49m\u001b[38;5;28;43minput\u001b[39;49m\u001b[43m,\u001b[49m\u001b[43m \u001b[49m\u001b[38;5;241;43m*\u001b[39;49m\u001b[38;5;241;43m*\u001b[39;49m\u001b[43mkwargs\u001b[49m\u001b[43m)\u001b[49m\n\u001b[1;32m   1195\u001b[0m \u001b[38;5;66;03m# Do not call functions when jit is used\u001b[39;00m\n\u001b[1;32m   1196\u001b[0m full_backward_hooks, non_full_backward_hooks \u001b[38;5;241m=\u001b[39m [], []\n",
      "File \u001b[0;32m~/.conda/envs/hf/lib/python3.8/site-packages/transformers/models/t5/modeling_t5.py:1052\u001b[0m, in \u001b[0;36mT5Stack.forward\u001b[0;34m(self, input_ids, attention_mask, encoder_hidden_states, encoder_attention_mask, inputs_embeds, head_mask, cross_attn_head_mask, past_key_values, use_cache, output_attentions, output_hidden_states, return_dict)\u001b[0m\n\u001b[1;32m   1039\u001b[0m     layer_outputs \u001b[38;5;241m=\u001b[39m checkpoint(\n\u001b[1;32m   1040\u001b[0m         create_custom_forward(layer_module),\n\u001b[1;32m   1041\u001b[0m         hidden_states,\n\u001b[0;32m   (...)\u001b[0m\n\u001b[1;32m   1049\u001b[0m         \u001b[38;5;28;01mNone\u001b[39;00m,  \u001b[38;5;66;03m# past_key_value is always None with gradient checkpointing\u001b[39;00m\n\u001b[1;32m   1050\u001b[0m     )\n\u001b[1;32m   1051\u001b[0m \u001b[38;5;28;01melse\u001b[39;00m:\n\u001b[0;32m-> 1052\u001b[0m     layer_outputs \u001b[38;5;241m=\u001b[39m \u001b[43mlayer_module\u001b[49m\u001b[43m(\u001b[49m\n\u001b[1;32m   1053\u001b[0m \u001b[43m        \u001b[49m\u001b[43mhidden_states\u001b[49m\u001b[43m,\u001b[49m\n\u001b[1;32m   1054\u001b[0m \u001b[43m        \u001b[49m\u001b[43mattention_mask\u001b[49m\u001b[38;5;241;43m=\u001b[39;49m\u001b[43mextended_attention_mask\u001b[49m\u001b[43m,\u001b[49m\n\u001b[1;32m   1055\u001b[0m \u001b[43m        \u001b[49m\u001b[43mposition_bias\u001b[49m\u001b[38;5;241;43m=\u001b[39;49m\u001b[43mposition_bias\u001b[49m\u001b[43m,\u001b[49m\n\u001b[1;32m   1056\u001b[0m \u001b[43m        \u001b[49m\u001b[43mencoder_hidden_states\u001b[49m\u001b[38;5;241;43m=\u001b[39;49m\u001b[43mencoder_hidden_states\u001b[49m\u001b[43m,\u001b[49m\n\u001b[1;32m   1057\u001b[0m \u001b[43m        \u001b[49m\u001b[43mencoder_attention_mask\u001b[49m\u001b[38;5;241;43m=\u001b[39;49m\u001b[43mencoder_extended_attention_mask\u001b[49m\u001b[43m,\u001b[49m\n\u001b[1;32m   1058\u001b[0m \u001b[43m        \u001b[49m\u001b[43mencoder_decoder_position_bias\u001b[49m\u001b[38;5;241;43m=\u001b[39;49m\u001b[43mencoder_decoder_position_bias\u001b[49m\u001b[43m,\u001b[49m\n\u001b[1;32m   1059\u001b[0m \u001b[43m        \u001b[49m\u001b[43mlayer_head_mask\u001b[49m\u001b[38;5;241;43m=\u001b[39;49m\u001b[43mlayer_head_mask\u001b[49m\u001b[43m,\u001b[49m\n\u001b[1;32m   1060\u001b[0m \u001b[43m        \u001b[49m\u001b[43mcross_attn_layer_head_mask\u001b[49m\u001b[38;5;241;43m=\u001b[39;49m\u001b[43mcross_attn_layer_head_mask\u001b[49m\u001b[43m,\u001b[49m\n\u001b[1;32m   1061\u001b[0m \u001b[43m        \u001b[49m\u001b[43mpast_key_value\u001b[49m\u001b[38;5;241;43m=\u001b[39;49m\u001b[43mpast_key_value\u001b[49m\u001b[43m,\u001b[49m\n\u001b[1;32m   1062\u001b[0m \u001b[43m        \u001b[49m\u001b[43muse_cache\u001b[49m\u001b[38;5;241;43m=\u001b[39;49m\u001b[43muse_cache\u001b[49m\u001b[43m,\u001b[49m\n\u001b[1;32m   1063\u001b[0m \u001b[43m        \u001b[49m\u001b[43moutput_attentions\u001b[49m\u001b[38;5;241;43m=\u001b[39;49m\u001b[43moutput_attentions\u001b[49m\u001b[43m,\u001b[49m\n\u001b[1;32m   1064\u001b[0m \u001b[43m    \u001b[49m\u001b[43m)\u001b[49m\n\u001b[1;32m   1066\u001b[0m \u001b[38;5;66;03m# layer_outputs is a tuple with:\u001b[39;00m\n\u001b[1;32m   1067\u001b[0m \u001b[38;5;66;03m# hidden-states, key-value-states, (self-attention position bias), (self-attention weights), (cross-attention position bias), (cross-attention weights)\u001b[39;00m\n\u001b[1;32m   1068\u001b[0m \u001b[38;5;28;01mif\u001b[39;00m use_cache \u001b[38;5;129;01mis\u001b[39;00m \u001b[38;5;28;01mFalse\u001b[39;00m:\n",
      "File \u001b[0;32m~/.conda/envs/hf/lib/python3.8/site-packages/torch/nn/modules/module.py:1194\u001b[0m, in \u001b[0;36mModule._call_impl\u001b[0;34m(self, *input, **kwargs)\u001b[0m\n\u001b[1;32m   1190\u001b[0m \u001b[38;5;66;03m# If we don't have any hooks, we want to skip the rest of the logic in\u001b[39;00m\n\u001b[1;32m   1191\u001b[0m \u001b[38;5;66;03m# this function, and just call forward.\u001b[39;00m\n\u001b[1;32m   1192\u001b[0m \u001b[38;5;28;01mif\u001b[39;00m \u001b[38;5;129;01mnot\u001b[39;00m (\u001b[38;5;28mself\u001b[39m\u001b[38;5;241m.\u001b[39m_backward_hooks \u001b[38;5;129;01mor\u001b[39;00m \u001b[38;5;28mself\u001b[39m\u001b[38;5;241m.\u001b[39m_forward_hooks \u001b[38;5;129;01mor\u001b[39;00m \u001b[38;5;28mself\u001b[39m\u001b[38;5;241m.\u001b[39m_forward_pre_hooks \u001b[38;5;129;01mor\u001b[39;00m _global_backward_hooks\n\u001b[1;32m   1193\u001b[0m         \u001b[38;5;129;01mor\u001b[39;00m _global_forward_hooks \u001b[38;5;129;01mor\u001b[39;00m _global_forward_pre_hooks):\n\u001b[0;32m-> 1194\u001b[0m     \u001b[38;5;28;01mreturn\u001b[39;00m \u001b[43mforward_call\u001b[49m\u001b[43m(\u001b[49m\u001b[38;5;241;43m*\u001b[39;49m\u001b[38;5;28;43minput\u001b[39;49m\u001b[43m,\u001b[49m\u001b[43m \u001b[49m\u001b[38;5;241;43m*\u001b[39;49m\u001b[38;5;241;43m*\u001b[39;49m\u001b[43mkwargs\u001b[49m\u001b[43m)\u001b[49m\n\u001b[1;32m   1195\u001b[0m \u001b[38;5;66;03m# Do not call functions when jit is used\u001b[39;00m\n\u001b[1;32m   1196\u001b[0m full_backward_hooks, non_full_backward_hooks \u001b[38;5;241m=\u001b[39m [], []\n",
      "File \u001b[0;32m~/.conda/envs/hf/lib/python3.8/site-packages/transformers/models/t5/modeling_t5.py:684\u001b[0m, in \u001b[0;36mT5Block.forward\u001b[0;34m(self, hidden_states, attention_mask, position_bias, encoder_hidden_states, encoder_attention_mask, encoder_decoder_position_bias, layer_head_mask, cross_attn_layer_head_mask, past_key_value, use_cache, output_attentions, return_dict)\u001b[0m\n\u001b[1;32m    681\u001b[0m \u001b[38;5;28;01melse\u001b[39;00m:\n\u001b[1;32m    682\u001b[0m     self_attn_past_key_value, cross_attn_past_key_value \u001b[38;5;241m=\u001b[39m \u001b[38;5;28;01mNone\u001b[39;00m, \u001b[38;5;28;01mNone\u001b[39;00m\n\u001b[0;32m--> 684\u001b[0m self_attention_outputs \u001b[38;5;241m=\u001b[39m \u001b[38;5;28;43mself\u001b[39;49m\u001b[38;5;241;43m.\u001b[39;49m\u001b[43mlayer\u001b[49m\u001b[43m[\u001b[49m\u001b[38;5;241;43m0\u001b[39;49m\u001b[43m]\u001b[49m\u001b[43m(\u001b[49m\n\u001b[1;32m    685\u001b[0m \u001b[43m    \u001b[49m\u001b[43mhidden_states\u001b[49m\u001b[43m,\u001b[49m\n\u001b[1;32m    686\u001b[0m \u001b[43m    \u001b[49m\u001b[43mattention_mask\u001b[49m\u001b[38;5;241;43m=\u001b[39;49m\u001b[43mattention_mask\u001b[49m\u001b[43m,\u001b[49m\n\u001b[1;32m    687\u001b[0m \u001b[43m    \u001b[49m\u001b[43mposition_bias\u001b[49m\u001b[38;5;241;43m=\u001b[39;49m\u001b[43mposition_bias\u001b[49m\u001b[43m,\u001b[49m\n\u001b[1;32m    688\u001b[0m \u001b[43m    \u001b[49m\u001b[43mlayer_head_mask\u001b[49m\u001b[38;5;241;43m=\u001b[39;49m\u001b[43mlayer_head_mask\u001b[49m\u001b[43m,\u001b[49m\n\u001b[1;32m    689\u001b[0m \u001b[43m    \u001b[49m\u001b[43mpast_key_value\u001b[49m\u001b[38;5;241;43m=\u001b[39;49m\u001b[43mself_attn_past_key_value\u001b[49m\u001b[43m,\u001b[49m\n\u001b[1;32m    690\u001b[0m \u001b[43m    \u001b[49m\u001b[43muse_cache\u001b[49m\u001b[38;5;241;43m=\u001b[39;49m\u001b[43muse_cache\u001b[49m\u001b[43m,\u001b[49m\n\u001b[1;32m    691\u001b[0m \u001b[43m    \u001b[49m\u001b[43moutput_attentions\u001b[49m\u001b[38;5;241;43m=\u001b[39;49m\u001b[43moutput_attentions\u001b[49m\u001b[43m,\u001b[49m\n\u001b[1;32m    692\u001b[0m \u001b[43m\u001b[49m\u001b[43m)\u001b[49m\n\u001b[1;32m    693\u001b[0m hidden_states, present_key_value_state \u001b[38;5;241m=\u001b[39m self_attention_outputs[:\u001b[38;5;241m2\u001b[39m]\n\u001b[1;32m    694\u001b[0m attention_outputs \u001b[38;5;241m=\u001b[39m self_attention_outputs[\u001b[38;5;241m2\u001b[39m:]  \u001b[38;5;66;03m# Keep self-attention outputs and relative position weights\u001b[39;00m\n",
      "File \u001b[0;32m~/.conda/envs/hf/lib/python3.8/site-packages/torch/nn/modules/module.py:1194\u001b[0m, in \u001b[0;36mModule._call_impl\u001b[0;34m(self, *input, **kwargs)\u001b[0m\n\u001b[1;32m   1190\u001b[0m \u001b[38;5;66;03m# If we don't have any hooks, we want to skip the rest of the logic in\u001b[39;00m\n\u001b[1;32m   1191\u001b[0m \u001b[38;5;66;03m# this function, and just call forward.\u001b[39;00m\n\u001b[1;32m   1192\u001b[0m \u001b[38;5;28;01mif\u001b[39;00m \u001b[38;5;129;01mnot\u001b[39;00m (\u001b[38;5;28mself\u001b[39m\u001b[38;5;241m.\u001b[39m_backward_hooks \u001b[38;5;129;01mor\u001b[39;00m \u001b[38;5;28mself\u001b[39m\u001b[38;5;241m.\u001b[39m_forward_hooks \u001b[38;5;129;01mor\u001b[39;00m \u001b[38;5;28mself\u001b[39m\u001b[38;5;241m.\u001b[39m_forward_pre_hooks \u001b[38;5;129;01mor\u001b[39;00m _global_backward_hooks\n\u001b[1;32m   1193\u001b[0m         \u001b[38;5;129;01mor\u001b[39;00m _global_forward_hooks \u001b[38;5;129;01mor\u001b[39;00m _global_forward_pre_hooks):\n\u001b[0;32m-> 1194\u001b[0m     \u001b[38;5;28;01mreturn\u001b[39;00m \u001b[43mforward_call\u001b[49m\u001b[43m(\u001b[49m\u001b[38;5;241;43m*\u001b[39;49m\u001b[38;5;28;43minput\u001b[39;49m\u001b[43m,\u001b[49m\u001b[43m \u001b[49m\u001b[38;5;241;43m*\u001b[39;49m\u001b[38;5;241;43m*\u001b[39;49m\u001b[43mkwargs\u001b[49m\u001b[43m)\u001b[49m\n\u001b[1;32m   1195\u001b[0m \u001b[38;5;66;03m# Do not call functions when jit is used\u001b[39;00m\n\u001b[1;32m   1196\u001b[0m full_backward_hooks, non_full_backward_hooks \u001b[38;5;241m=\u001b[39m [], []\n",
      "File \u001b[0;32m~/.conda/envs/hf/lib/python3.8/site-packages/transformers/models/t5/modeling_t5.py:590\u001b[0m, in \u001b[0;36mT5LayerSelfAttention.forward\u001b[0;34m(self, hidden_states, attention_mask, position_bias, layer_head_mask, past_key_value, use_cache, output_attentions)\u001b[0m\n\u001b[1;32m    579\u001b[0m \u001b[38;5;28;01mdef\u001b[39;00m \u001b[38;5;21mforward\u001b[39m(\n\u001b[1;32m    580\u001b[0m     \u001b[38;5;28mself\u001b[39m,\n\u001b[1;32m    581\u001b[0m     hidden_states,\n\u001b[0;32m   (...)\u001b[0m\n\u001b[1;32m    587\u001b[0m     output_attentions\u001b[38;5;241m=\u001b[39m\u001b[38;5;28;01mFalse\u001b[39;00m,\n\u001b[1;32m    588\u001b[0m ):\n\u001b[1;32m    589\u001b[0m     normed_hidden_states \u001b[38;5;241m=\u001b[39m \u001b[38;5;28mself\u001b[39m\u001b[38;5;241m.\u001b[39mlayer_norm(hidden_states)\n\u001b[0;32m--> 590\u001b[0m     attention_output \u001b[38;5;241m=\u001b[39m \u001b[38;5;28;43mself\u001b[39;49m\u001b[38;5;241;43m.\u001b[39;49m\u001b[43mSelfAttention\u001b[49m\u001b[43m(\u001b[49m\n\u001b[1;32m    591\u001b[0m \u001b[43m        \u001b[49m\u001b[43mnormed_hidden_states\u001b[49m\u001b[43m,\u001b[49m\n\u001b[1;32m    592\u001b[0m \u001b[43m        \u001b[49m\u001b[43mmask\u001b[49m\u001b[38;5;241;43m=\u001b[39;49m\u001b[43mattention_mask\u001b[49m\u001b[43m,\u001b[49m\n\u001b[1;32m    593\u001b[0m \u001b[43m        \u001b[49m\u001b[43mposition_bias\u001b[49m\u001b[38;5;241;43m=\u001b[39;49m\u001b[43mposition_bias\u001b[49m\u001b[43m,\u001b[49m\n\u001b[1;32m    594\u001b[0m \u001b[43m        \u001b[49m\u001b[43mlayer_head_mask\u001b[49m\u001b[38;5;241;43m=\u001b[39;49m\u001b[43mlayer_head_mask\u001b[49m\u001b[43m,\u001b[49m\n\u001b[1;32m    595\u001b[0m \u001b[43m        \u001b[49m\u001b[43mpast_key_value\u001b[49m\u001b[38;5;241;43m=\u001b[39;49m\u001b[43mpast_key_value\u001b[49m\u001b[43m,\u001b[49m\n\u001b[1;32m    596\u001b[0m \u001b[43m        \u001b[49m\u001b[43muse_cache\u001b[49m\u001b[38;5;241;43m=\u001b[39;49m\u001b[43muse_cache\u001b[49m\u001b[43m,\u001b[49m\n\u001b[1;32m    597\u001b[0m \u001b[43m        \u001b[49m\u001b[43moutput_attentions\u001b[49m\u001b[38;5;241;43m=\u001b[39;49m\u001b[43moutput_attentions\u001b[49m\u001b[43m,\u001b[49m\n\u001b[1;32m    598\u001b[0m \u001b[43m    \u001b[49m\u001b[43m)\u001b[49m\n\u001b[1;32m    599\u001b[0m     hidden_states \u001b[38;5;241m=\u001b[39m hidden_states \u001b[38;5;241m+\u001b[39m \u001b[38;5;28mself\u001b[39m\u001b[38;5;241m.\u001b[39mdropout(attention_output[\u001b[38;5;241m0\u001b[39m])\n\u001b[1;32m    600\u001b[0m     outputs \u001b[38;5;241m=\u001b[39m (hidden_states,) \u001b[38;5;241m+\u001b[39m attention_output[\u001b[38;5;241m1\u001b[39m:]  \u001b[38;5;66;03m# add attentions if we output them\u001b[39;00m\n",
      "File \u001b[0;32m~/.conda/envs/hf/lib/python3.8/site-packages/torch/nn/modules/module.py:1194\u001b[0m, in \u001b[0;36mModule._call_impl\u001b[0;34m(self, *input, **kwargs)\u001b[0m\n\u001b[1;32m   1190\u001b[0m \u001b[38;5;66;03m# If we don't have any hooks, we want to skip the rest of the logic in\u001b[39;00m\n\u001b[1;32m   1191\u001b[0m \u001b[38;5;66;03m# this function, and just call forward.\u001b[39;00m\n\u001b[1;32m   1192\u001b[0m \u001b[38;5;28;01mif\u001b[39;00m \u001b[38;5;129;01mnot\u001b[39;00m (\u001b[38;5;28mself\u001b[39m\u001b[38;5;241m.\u001b[39m_backward_hooks \u001b[38;5;129;01mor\u001b[39;00m \u001b[38;5;28mself\u001b[39m\u001b[38;5;241m.\u001b[39m_forward_hooks \u001b[38;5;129;01mor\u001b[39;00m \u001b[38;5;28mself\u001b[39m\u001b[38;5;241m.\u001b[39m_forward_pre_hooks \u001b[38;5;129;01mor\u001b[39;00m _global_backward_hooks\n\u001b[1;32m   1193\u001b[0m         \u001b[38;5;129;01mor\u001b[39;00m _global_forward_hooks \u001b[38;5;129;01mor\u001b[39;00m _global_forward_pre_hooks):\n\u001b[0;32m-> 1194\u001b[0m     \u001b[38;5;28;01mreturn\u001b[39;00m \u001b[43mforward_call\u001b[49m\u001b[43m(\u001b[49m\u001b[38;5;241;43m*\u001b[39;49m\u001b[38;5;28;43minput\u001b[39;49m\u001b[43m,\u001b[49m\u001b[43m \u001b[49m\u001b[38;5;241;43m*\u001b[39;49m\u001b[38;5;241;43m*\u001b[39;49m\u001b[43mkwargs\u001b[49m\u001b[43m)\u001b[49m\n\u001b[1;32m   1195\u001b[0m \u001b[38;5;66;03m# Do not call functions when jit is used\u001b[39;00m\n\u001b[1;32m   1196\u001b[0m full_backward_hooks, non_full_backward_hooks \u001b[38;5;241m=\u001b[39m [], []\n",
      "File \u001b[0;32m~/.conda/envs/hf/lib/python3.8/site-packages/transformers/models/t5/modeling_t5.py:515\u001b[0m, in \u001b[0;36mT5Attention.forward\u001b[0;34m(self, hidden_states, mask, key_value_states, position_bias, past_key_value, layer_head_mask, query_length, use_cache, output_attentions)\u001b[0m\n\u001b[1;32m    511\u001b[0m \u001b[38;5;66;03m# get key/value states\u001b[39;00m\n\u001b[1;32m    512\u001b[0m key_states \u001b[38;5;241m=\u001b[39m project(\n\u001b[1;32m    513\u001b[0m     hidden_states, \u001b[38;5;28mself\u001b[39m\u001b[38;5;241m.\u001b[39mk, key_value_states, past_key_value[\u001b[38;5;241m0\u001b[39m] \u001b[38;5;28;01mif\u001b[39;00m past_key_value \u001b[38;5;129;01mis\u001b[39;00m \u001b[38;5;129;01mnot\u001b[39;00m \u001b[38;5;28;01mNone\u001b[39;00m \u001b[38;5;28;01melse\u001b[39;00m \u001b[38;5;28;01mNone\u001b[39;00m\n\u001b[1;32m    514\u001b[0m )\n\u001b[0;32m--> 515\u001b[0m value_states \u001b[38;5;241m=\u001b[39m \u001b[43mproject\u001b[49m\u001b[43m(\u001b[49m\n\u001b[1;32m    516\u001b[0m \u001b[43m    \u001b[49m\u001b[43mhidden_states\u001b[49m\u001b[43m,\u001b[49m\u001b[43m \u001b[49m\u001b[38;5;28;43mself\u001b[39;49m\u001b[38;5;241;43m.\u001b[39;49m\u001b[43mv\u001b[49m\u001b[43m,\u001b[49m\u001b[43m \u001b[49m\u001b[43mkey_value_states\u001b[49m\u001b[43m,\u001b[49m\u001b[43m \u001b[49m\u001b[43mpast_key_value\u001b[49m\u001b[43m[\u001b[49m\u001b[38;5;241;43m1\u001b[39;49m\u001b[43m]\u001b[49m\u001b[43m \u001b[49m\u001b[38;5;28;43;01mif\u001b[39;49;00m\u001b[43m \u001b[49m\u001b[43mpast_key_value\u001b[49m\u001b[43m \u001b[49m\u001b[38;5;129;43;01mis\u001b[39;49;00m\u001b[43m \u001b[49m\u001b[38;5;129;43;01mnot\u001b[39;49;00m\u001b[43m \u001b[49m\u001b[38;5;28;43;01mNone\u001b[39;49;00m\u001b[43m \u001b[49m\u001b[38;5;28;43;01melse\u001b[39;49;00m\u001b[43m \u001b[49m\u001b[38;5;28;43;01mNone\u001b[39;49;00m\n\u001b[1;32m    517\u001b[0m \u001b[43m\u001b[49m\u001b[43m)\u001b[49m\n\u001b[1;32m    519\u001b[0m \u001b[38;5;66;03m# compute scores\u001b[39;00m\n\u001b[1;32m    520\u001b[0m scores \u001b[38;5;241m=\u001b[39m torch\u001b[38;5;241m.\u001b[39mmatmul(\n\u001b[1;32m    521\u001b[0m     query_states, key_states\u001b[38;5;241m.\u001b[39mtranspose(\u001b[38;5;241m3\u001b[39m, \u001b[38;5;241m2\u001b[39m)\n\u001b[1;32m    522\u001b[0m )  \u001b[38;5;66;03m# equivalent of torch.einsum(\"bnqd,bnkd->bnqk\", query_states, key_states), compatible with onnx op>9\u001b[39;00m\n",
      "File \u001b[0;32m~/.conda/envs/hf/lib/python3.8/site-packages/transformers/models/t5/modeling_t5.py:486\u001b[0m, in \u001b[0;36mT5Attention.forward.<locals>.project\u001b[0;34m(hidden_states, proj_layer, key_value_states, past_key_value)\u001b[0m\n\u001b[1;32m    482\u001b[0m \u001b[38;5;124;03m\"\"\"projects hidden states correctly to key/query states\"\"\"\u001b[39;00m\n\u001b[1;32m    483\u001b[0m \u001b[38;5;28;01mif\u001b[39;00m key_value_states \u001b[38;5;129;01mis\u001b[39;00m \u001b[38;5;28;01mNone\u001b[39;00m:\n\u001b[1;32m    484\u001b[0m     \u001b[38;5;66;03m# self-attn\u001b[39;00m\n\u001b[1;32m    485\u001b[0m     \u001b[38;5;66;03m# (batch_size, n_heads, seq_length, dim_per_head)\u001b[39;00m\n\u001b[0;32m--> 486\u001b[0m     hidden_states \u001b[38;5;241m=\u001b[39m shape(\u001b[43mproj_layer\u001b[49m\u001b[43m(\u001b[49m\u001b[43mhidden_states\u001b[49m\u001b[43m)\u001b[49m)\n\u001b[1;32m    487\u001b[0m \u001b[38;5;28;01melif\u001b[39;00m past_key_value \u001b[38;5;129;01mis\u001b[39;00m \u001b[38;5;28;01mNone\u001b[39;00m:\n\u001b[1;32m    488\u001b[0m     \u001b[38;5;66;03m# cross-attn\u001b[39;00m\n\u001b[1;32m    489\u001b[0m     \u001b[38;5;66;03m# (batch_size, n_heads, seq_length, dim_per_head)\u001b[39;00m\n\u001b[1;32m    490\u001b[0m     hidden_states \u001b[38;5;241m=\u001b[39m shape(proj_layer(key_value_states))\n",
      "File \u001b[0;32m~/.conda/envs/hf/lib/python3.8/site-packages/torch/nn/modules/module.py:1194\u001b[0m, in \u001b[0;36mModule._call_impl\u001b[0;34m(self, *input, **kwargs)\u001b[0m\n\u001b[1;32m   1190\u001b[0m \u001b[38;5;66;03m# If we don't have any hooks, we want to skip the rest of the logic in\u001b[39;00m\n\u001b[1;32m   1191\u001b[0m \u001b[38;5;66;03m# this function, and just call forward.\u001b[39;00m\n\u001b[1;32m   1192\u001b[0m \u001b[38;5;28;01mif\u001b[39;00m \u001b[38;5;129;01mnot\u001b[39;00m (\u001b[38;5;28mself\u001b[39m\u001b[38;5;241m.\u001b[39m_backward_hooks \u001b[38;5;129;01mor\u001b[39;00m \u001b[38;5;28mself\u001b[39m\u001b[38;5;241m.\u001b[39m_forward_hooks \u001b[38;5;129;01mor\u001b[39;00m \u001b[38;5;28mself\u001b[39m\u001b[38;5;241m.\u001b[39m_forward_pre_hooks \u001b[38;5;129;01mor\u001b[39;00m _global_backward_hooks\n\u001b[1;32m   1193\u001b[0m         \u001b[38;5;129;01mor\u001b[39;00m _global_forward_hooks \u001b[38;5;129;01mor\u001b[39;00m _global_forward_pre_hooks):\n\u001b[0;32m-> 1194\u001b[0m     \u001b[38;5;28;01mreturn\u001b[39;00m \u001b[43mforward_call\u001b[49m\u001b[43m(\u001b[49m\u001b[38;5;241;43m*\u001b[39;49m\u001b[38;5;28;43minput\u001b[39;49m\u001b[43m,\u001b[49m\u001b[43m \u001b[49m\u001b[38;5;241;43m*\u001b[39;49m\u001b[38;5;241;43m*\u001b[39;49m\u001b[43mkwargs\u001b[49m\u001b[43m)\u001b[49m\n\u001b[1;32m   1195\u001b[0m \u001b[38;5;66;03m# Do not call functions when jit is used\u001b[39;00m\n\u001b[1;32m   1196\u001b[0m full_backward_hooks, non_full_backward_hooks \u001b[38;5;241m=\u001b[39m [], []\n",
      "File \u001b[0;32m~/.conda/envs/hf/lib/python3.8/site-packages/torch/nn/modules/linear.py:114\u001b[0m, in \u001b[0;36mLinear.forward\u001b[0;34m(self, input)\u001b[0m\n\u001b[1;32m    113\u001b[0m \u001b[38;5;28;01mdef\u001b[39;00m \u001b[38;5;21mforward\u001b[39m(\u001b[38;5;28mself\u001b[39m, \u001b[38;5;28minput\u001b[39m: Tensor) \u001b[38;5;241m-\u001b[39m\u001b[38;5;241m>\u001b[39m Tensor:\n\u001b[0;32m--> 114\u001b[0m     \u001b[38;5;28;01mreturn\u001b[39;00m \u001b[43mF\u001b[49m\u001b[38;5;241;43m.\u001b[39;49m\u001b[43mlinear\u001b[49m\u001b[43m(\u001b[49m\u001b[38;5;28;43minput\u001b[39;49m\u001b[43m,\u001b[49m\u001b[43m \u001b[49m\u001b[38;5;28;43mself\u001b[39;49m\u001b[38;5;241;43m.\u001b[39;49m\u001b[43mweight\u001b[49m\u001b[43m,\u001b[49m\u001b[43m \u001b[49m\u001b[38;5;28;43mself\u001b[39;49m\u001b[38;5;241;43m.\u001b[39;49m\u001b[43mbias\u001b[49m\u001b[43m)\u001b[49m\n",
      "\u001b[0;31mKeyboardInterrupt\u001b[0m: "
     ]
    }
   ],
   "source": [
    "text_injection_instance = TextInjection(model, tokenizer, device, chapter1, chapter2, tokens_to_append)\n",
    "\n",
    "predictions, all_result_objects = predictor(text_injection_instance, write_in_file=False, out_path_prefix=\"Text_injection_T5_base_\")"
   ]
  },
  {
   "cell_type": "code",
   "execution_count": 28,
   "id": "13005e11-dd38-442a-bd39-699d9d040a3e",
   "metadata": {},
   "outputs": [
    {
     "data": {
      "text/plain": [
       "13"
      ]
     },
     "execution_count": 28,
     "metadata": {},
     "output_type": "execute_result"
    }
   ],
   "source": [
    "len(tokens_to_append)"
   ]
  },
  {
   "cell_type": "code",
   "execution_count": null,
   "id": "398a4225-9abd-476d-9cc3-72454257cdb9",
   "metadata": {},
   "outputs": [],
   "source": [
    "with open(\"Text_injection_T5_base_predictions.txt\", \"wb\") as f:\n",
    "    pickle.dump(predictions, f)"
   ]
  },
  {
   "cell_type": "code",
   "execution_count": null,
   "id": "99ced4dc-20ac-4fca-89fc-374f33723096",
   "metadata": {},
   "outputs": [],
   "source": [
    "with open(\"Text_injection_T5_base_all_result_objects.txt\", \"wb\") as f:\n",
    "    pickle.dump(all_result_objects, f)"
   ]
  },
  {
   "cell_type": "code",
   "execution_count": 27,
   "id": "ab995415-6563-4131-a6ad-61bca94185b4",
   "metadata": {
    "collapsed": true,
    "jupyter": {
     "outputs_hidden": true
    },
    "tags": []
   },
   "outputs": [
    {
     "data": {
      "text/plain": [
       "{'Andersen_story11.txt': {0: {0: 'True',\n",
       "   10: 'True',\n",
       "   25: 'True',\n",
       "   50: 'True',\n",
       "   75: 'True',\n",
       "   100: 'True',\n",
       "   150: 'True',\n",
       "   200: 'False',\n",
       "   250: 'False',\n",
       "   300: 'False',\n",
       "   350: 'False',\n",
       "   400: 'True',\n",
       "   450: 'False'},\n",
       "  1: {},\n",
       "  2: {},\n",
       "  3: {},\n",
       "  4: {},\n",
       "  5: {},\n",
       "  6: {},\n",
       "  7: {},\n",
       "  8: {},\n",
       "  9: {},\n",
       "  10: {},\n",
       "  11: {},\n",
       "  12: {},\n",
       "  13: {},\n",
       "  14: {},\n",
       "  15: {},\n",
       "  16: {},\n",
       "  17: {},\n",
       "  18: {},\n",
       "  19: {},\n",
       "  20: {},\n",
       "  21: {},\n",
       "  22: {}}}"
      ]
     },
     "execution_count": 27,
     "metadata": {},
     "output_type": "execute_result"
    }
   ],
   "source": [
    "predictions"
   ]
  },
  {
   "cell_type": "markdown",
   "id": "8b03e478-1cda-4839-8414-cc98e93b1018",
   "metadata": {},
   "source": [
    "# Get the Results"
   ]
  },
  {
   "cell_type": "code",
   "execution_count": 4,
   "id": "e6fa3281-95b9-4a08-81c6-3c798dc444b1",
   "metadata": {},
   "outputs": [],
   "source": [
    "with open(\"Text_injection_T5_base_predictions.txt\", \"rb\") as f:\n",
    "    predictions = pickle.load(f)"
   ]
  },
  {
   "cell_type": "code",
   "execution_count": 5,
   "id": "c80cb908-b6ac-4dba-a5bd-c608610aa7bc",
   "metadata": {},
   "outputs": [],
   "source": [
    "with open(\"Text_injection_T5_base_all_result_objects.txt\", \"rb\") as f:\n",
    "    all_result_objects = pickle.load(f)"
   ]
  },
  {
   "cell_type": "code",
   "execution_count": 38,
   "id": "69f2fa9f-2c7b-4bdc-965c-473fc0b40ce9",
   "metadata": {},
   "outputs": [
    {
     "data": {
      "text/plain": [
       "4233"
      ]
     },
     "execution_count": 38,
     "metadata": {},
     "output_type": "execute_result"
    }
   ],
   "source": [
    "len(all_result_objects[1])"
   ]
  },
  {
   "cell_type": "markdown",
   "id": "92964c7c-f4ca-4d2a-95c9-96b01ef0fe10",
   "metadata": {},
   "source": [
    "# Distance Graph"
   ]
  },
  {
   "cell_type": "code",
   "execution_count": 8,
   "id": "5dcbadcd-a831-42e1-9fcf-fc0428a31314",
   "metadata": {},
   "outputs": [],
   "source": [
    "exact_match_distances = {}\n",
    "fuzzy_match_distances = {}\n",
    "non_exact_match_distances = {}\n",
    "non_fuzzy_match_distances = {}\n",
    "\n",
    "number_of_questions_asked = {}\n",
    "not_in_context = {}\n",
    "for k in all_result_objects.keys():\n",
    "\n",
    "    exact_match_distances[k] = []\n",
    "    fuzzy_match_distances[k] = []\n",
    "    non_exact_match_distances[k] = []\n",
    "    non_fuzzy_match_distances[k] = []\n",
    "\n",
    "    #for num_chap2_tokens in all_result_objects[k].keys():\n",
    "    number_of_questions_asked[k] = 0\n",
    "        \n",
    "    for result_object in all_result_objects[k]: #[num_chap2_tokens]:\n",
    "\n",
    "        prompt = result_object.prompt\n",
    "        out = result_object.model_out\n",
    "        gold_locations = result_object.gold_locations\n",
    "        match1 = result_object.exact_match\n",
    "        match2 = result_object.fuzzy_match\n",
    "        \n",
    "        number_of_questions_asked[k] += 1\n",
    "\n",
    "        distances = [1e9 for _ in range(len(gold_locations))]\n",
    "\n",
    "        for num_loc, gold_location in enumerate(gold_locations):\n",
    "            loc_mention = prompt.rfind(gold_location)\n",
    "            if loc_mention != -1:\n",
    "                loc_mention += len(gold_location)\n",
    "                no_tokens = len(tokenizer.encode(prompt[loc_mention:]))\n",
    "                #abs_inv_recency = len(prompt) - loc_mention\n",
    "                #distances[num_loc] = abs_inv_recency\n",
    "                distances[num_loc] = no_tokens\n",
    "                \n",
    "        if min(distances) < 1e8:\n",
    "            \n",
    "            if match1 == \"Yes\":\n",
    "                exact_match_distances[k].append(min(distances))\n",
    "            else:\n",
    "                non_exact_match_distances[k].append(min(distances))\n",
    "\n",
    "            if match2 == \"Yes\":\n",
    "                fuzzy_match_distances[k].append(min(distances))\n",
    "            else:                     \n",
    "                non_fuzzy_match_distances[k].append(min(distances))"
   ]
  },
  {
   "cell_type": "code",
   "execution_count": 9,
   "id": "a93f8c5d-e98b-45b2-a80b-32e096a15124",
   "metadata": {},
   "outputs": [],
   "source": [
    "prompt_no = 13\n",
    "loc_mention_graph = []\n",
    "\n",
    "for dist in exact_match_distances[prompt_no]:\n",
    "    loc_mention_graph.append((dist, 1))\n",
    "    \n",
    "for dist in non_exact_match_distances[prompt_no]:\n",
    "    loc_mention_graph.append((dist, 0))"
   ]
  },
  {
   "cell_type": "code",
   "execution_count": 11,
   "id": "3eb20800-5767-4b5a-ab61-ab6f40b26793",
   "metadata": {},
   "outputs": [
    {
     "ename": "ZeroDivisionError",
     "evalue": "division by zero",
     "output_type": "error",
     "traceback": [
      "\u001b[0;31m---------------------------------------------------------------------------\u001b[0m",
      "\u001b[0;31mZeroDivisionError\u001b[0m                         Traceback (most recent call last)",
      "Cell \u001b[0;32mIn[11], line 1\u001b[0m\n\u001b[0;32m----> 1\u001b[0m \u001b[38;5;28;43msum\u001b[39;49m\u001b[43m(\u001b[49m\u001b[43mexact_match_distances\u001b[49m\u001b[43m[\u001b[49m\u001b[43mprompt_no\u001b[49m\u001b[43m]\u001b[49m\u001b[43m)\u001b[49m\u001b[38;5;241;43m/\u001b[39;49m\u001b[38;5;28;43mlen\u001b[39;49m\u001b[43m(\u001b[49m\u001b[43mexact_match_distances\u001b[49m\u001b[43m[\u001b[49m\u001b[43mprompt_no\u001b[49m\u001b[43m]\u001b[49m\u001b[43m)\u001b[49m\n",
      "\u001b[0;31mZeroDivisionError\u001b[0m: division by zero"
     ]
    }
   ],
   "source": [
    "sum(exact_match_distances[prompt_no])/len(exact_match_distances[prompt_no])"
   ]
  },
  {
   "cell_type": "code",
   "execution_count": 12,
   "id": "af5f79c2-fe6a-4b73-9d74-3c430f9d2618",
   "metadata": {},
   "outputs": [
    {
     "data": {
      "text/plain": [
       "0"
      ]
     },
     "execution_count": 12,
     "metadata": {},
     "output_type": "execute_result"
    }
   ],
   "source": [
    "len(exact_match_distances[prompt_no])"
   ]
  },
  {
   "cell_type": "code",
   "execution_count": 13,
   "id": "dd32c3f7-2c29-4493-a710-0c35b78c0f73",
   "metadata": {},
   "outputs": [
    {
     "data": {
      "text/plain": [
       "294.2927818329278"
      ]
     },
     "execution_count": 13,
     "metadata": {},
     "output_type": "execute_result"
    }
   ],
   "source": [
    "sum(non_exact_match_distances[prompt_no])/len(non_exact_match_distances[prompt_no])"
   ]
  },
  {
   "cell_type": "code",
   "execution_count": 14,
   "id": "3b9ebb82-585f-4279-9da3-1c92906ff6b5",
   "metadata": {},
   "outputs": [
    {
     "data": {
      "text/plain": [
       "2466"
      ]
     },
     "execution_count": 14,
     "metadata": {},
     "output_type": "execute_result"
    }
   ],
   "source": [
    "len(non_exact_match_distances[prompt_no])"
   ]
  },
  {
   "cell_type": "code",
   "execution_count": null,
   "id": "764f5830-06ce-4885-a215-5450bf585d2f",
   "metadata": {
    "tags": []
   },
   "outputs": [],
   "source": [
    "all_distances = [x[0] for x in loc_mention_graph]"
   ]
  },
  {
   "cell_type": "code",
   "execution_count": null,
   "id": "2d7ea144-5b69-4a22-8ded-a2c5b8dc8b88",
   "metadata": {},
   "outputs": [],
   "source": [
    "all_distances = sorted(all_distances)"
   ]
  },
  {
   "cell_type": "code",
   "execution_count": null,
   "id": "c471374b-fc0a-4a41-8cc0-cfc45c379029",
   "metadata": {},
   "outputs": [],
   "source": [
    "min(all_distances)"
   ]
  },
  {
   "cell_type": "code",
   "execution_count": null,
   "id": "b5c18642-f737-4294-b9c3-c1bd860ad782",
   "metadata": {},
   "outputs": [],
   "source": [
    "all_distances[-1]"
   ]
  },
  {
   "cell_type": "code",
   "execution_count": 15,
   "id": "9b2bb21a-06f6-484e-9a98-645a75e6acf8",
   "metadata": {},
   "outputs": [],
   "source": [
    "grap = defaultdict(list)\n",
    "num_data_points = {}\n",
    "for tupl in loc_mention_graph:\n",
    "    for i in range(10):\n",
    "        if 100*i<=tupl[0]<100*i+100:\n",
    "            grap[i].append(tupl)\n",
    "for i in range(10):\n",
    "    num_data_points[i] = len(grap[i])\n",
    "    if len(grap[i]) != 0 and len(grap[i]) > 5:\n",
    "        grap[i] = sum([tupl[1] == 1 for tupl in grap[i]]) / len(grap[i]) * 100\n",
    "    else:\n",
    "        grap[i] = 0\n",
    "grap_tuples = [(key, grap[key]) for key in grap]"
   ]
  },
  {
   "cell_type": "code",
   "execution_count": 16,
   "id": "1bd18252-8a09-4b73-a6ea-037f8afd79ae",
   "metadata": {},
   "outputs": [
    {
     "data": {
      "text/plain": [
       "([<matplotlib.axis.XTick at 0x2b1bd49d8af0>,\n",
       "  <matplotlib.axis.XTick at 0x2b1b17f42100>,\n",
       "  <matplotlib.axis.XTick at 0x2b1bd6a93f40>,\n",
       "  <matplotlib.axis.XTick at 0x2b1bd4c52880>,\n",
       "  <matplotlib.axis.XTick at 0x2b1bd4c52e20>,\n",
       "  <matplotlib.axis.XTick at 0x2b1bd4c5fb50>,\n",
       "  <matplotlib.axis.XTick at 0x2b1bd4c61640>,\n",
       "  <matplotlib.axis.XTick at 0x2b1bd4c61eb0>,\n",
       "  <matplotlib.axis.XTick at 0x2b1bd4c61160>,\n",
       "  <matplotlib.axis.XTick at 0x2b1bd4c64be0>],\n",
       " [Text(0, 0, '0-100\\n50000'),\n",
       "  Text(1, 0, '100-200'),\n",
       "  Text(2, 0, '200-300'),\n",
       "  Text(3, 0, '300-400'),\n",
       "  Text(4, 0, '400-500'),\n",
       "  Text(5, 0, '500-600'),\n",
       "  Text(6, 0, '600-700'),\n",
       "  Text(7, 0, '700-800'),\n",
       "  Text(8, 0, '800-900'),\n",
       "  Text(9, 0, '900-1000')])"
      ]
     },
     "execution_count": 16,
     "metadata": {},
     "output_type": "execute_result"
    },
    {
     "data": {
      "image/png": "[encoded data removed]",
      "text/plain": [
       "<Figure size 640x480 with 1 Axes>"
      ]
     },
     "metadata": {},
     "output_type": "display_data"
    }
   ],
   "source": [
    "plt.bar(*zip(*grap_tuples))\n",
    "plt.xlabel(\"Distance\")\n",
    "plt.ylabel(\"Accuracy(%)\")\n",
    "plt.xticks(np.arange(10), ['0-100\\n50000', '100-200', '200-300', '300-400', \"400-500\", \"500-600\", \"600-700\", \"700-800\", \"800-900\", \"900-1000\"])"
   ]
  },
  {
   "cell_type": "code",
   "execution_count": 17,
   "id": "04279ef9-fdbd-4ccf-8de6-4e3382107783",
   "metadata": {
    "tags": []
   },
   "outputs": [],
   "source": [
    "exact_matches = {}\n",
    "\n",
    "for k in all_result_objects.keys():\n",
    "    exact_matches[k] = []\n",
    "    \n",
    "    for j, result_object in enumerate(all_result_objects[k]): #[num_chap2_tokens]:\n",
    "\n",
    "        prompt = result_object.prompt\n",
    "        out = result_object.model_out\n",
    "        gold_locations = result_object.gold_locations\n",
    "        match1 = result_object.exact_match\n",
    "        match2 = result_object.fuzzy_match\n",
    "        \n",
    "        if match1 == \"Yes\":\n",
    "            exact_matches[k].append(1)\n",
    "        else:\n",
    "            exact_matches[k].append(0)\n",
    "            "
   ]
  },
  {
   "cell_type": "code",
   "execution_count": 18,
   "id": "9213f48d-f017-425e-a77c-6b1af1b6c799",
   "metadata": {},
   "outputs": [],
   "source": [
    "accuracies = {}\n",
    "for k in all_result_objects.keys():\n",
    "    if exact_matches[k] != []:\n",
    "        accuracies[k] = sum(exact_matches[k])/len(exact_matches[k])"
   ]
  },
  {
   "cell_type": "code",
   "execution_count": 19,
   "id": "fe5cce51-5494-4beb-96b7-f7a2f7818f07",
   "metadata": {},
   "outputs": [
    {
     "data": {
      "text/plain": [
       "{1: 0.0,\n",
       " 2: 0.0,\n",
       " 3: 0.0,\n",
       " 4: 0.00023623907394283014,\n",
       " 5: 0.0,\n",
       " 6: 0.0,\n",
       " 7: 0.0,\n",
       " 8: 0.0,\n",
       " 9: 0.0,\n",
       " 10: 0.0,\n",
       " 11: 0.0,\n",
       " 12: 0.0,\n",
       " 13: 0.0,\n",
       " 14: 0.0,\n",
       " 15: 0.0,\n",
       " 16: 0.0,\n",
       " 17: 0.0,\n",
       " 18: 0.0,\n",
       " 19: 0.0,\n",
       " 20: 0.0,\n",
       " 21: 0.0,\n",
       " 22: 0.0,\n",
       " 23: 0.0}"
      ]
     },
     "execution_count": 19,
     "metadata": {},
     "output_type": "execute_result"
    }
   ],
   "source": [
    "accuracies"
   ]
  },
  {
   "cell_type": "code",
   "execution_count": 20,
   "id": "1543e3e9-e783-42d0-848d-8f8e618ae944",
   "metadata": {},
   "outputs": [
    {
     "ename": "NameError",
     "evalue": "name 'tokens_to_append' is not defined",
     "output_type": "error",
     "traceback": [
      "\u001b[0;31m---------------------------------------------------------------------------\u001b[0m",
      "\u001b[0;31mNameError\u001b[0m                                 Traceback (most recent call last)",
      "Cell \u001b[0;32mIn[20], line 6\u001b[0m\n\u001b[1;32m      3\u001b[0m \u001b[38;5;28;01mfor\u001b[39;00m k \u001b[38;5;129;01min\u001b[39;00m all_result_objects\u001b[38;5;241m.\u001b[39mkeys():\n\u001b[1;32m      4\u001b[0m     exact_matches[k] \u001b[38;5;241m=\u001b[39m {}\n\u001b[0;32m----> 6\u001b[0m     \u001b[38;5;28;01mfor\u001b[39;00m no_tok \u001b[38;5;129;01min\u001b[39;00m \u001b[43mtokens_to_append\u001b[49m:\n\u001b[1;32m      7\u001b[0m         exact_matches[k][no_tok] \u001b[38;5;241m=\u001b[39m []\n\u001b[1;32m      9\u001b[0m     \u001b[38;5;28;01mfor\u001b[39;00m j, result_object \u001b[38;5;129;01min\u001b[39;00m \u001b[38;5;28menumerate\u001b[39m(all_result_objects[k]): \u001b[38;5;66;03m#[num_chap2_tokens]:\u001b[39;00m\n",
      "\u001b[0;31mNameError\u001b[0m: name 'tokens_to_append' is not defined"
     ]
    }
   ],
   "source": [
    "exact_matches = {}\n",
    "\n",
    "for k in all_result_objects.keys():\n",
    "    exact_matches[k] = {}\n",
    "    \n",
    "    for no_tok in tokens_to_append:\n",
    "        exact_matches[k][no_tok] = []\n",
    "    \n",
    "    for j, result_object in enumerate(all_result_objects[k]): #[num_chap2_tokens]:\n",
    "\n",
    "        prompt = result_object.prompt\n",
    "        out = result_object.model_out\n",
    "        gold_locations = result_object.gold_locations\n",
    "        match1 = result_object.exact_match\n",
    "        match2 = result_object.fuzzy_match\n",
    "        no_tok = result_object.tokens_appended\n",
    "\n",
    "        if match1 == \"Yes\":\n",
    "            exact_matches[k][no_tok].append(1)\n",
    "        else:\n",
    "            exact_matches[k][no_tok].append(0)\n",
    "\n"
   ]
  },
  {
   "cell_type": "code",
   "execution_count": 75,
   "id": "c8efb2c4-846e-4909-8fa1-f5408a977758",
   "metadata": {},
   "outputs": [],
   "source": [
    "accuracies_no_tok_appended = {}\n",
    "for k in all_result_objects.keys():\n",
    "    accuracies_no_tok_appended[k] = {}\n",
    "    for no_tok in exact_matches[k]:\n",
    "        if exact_matches[k][no_tok] != []:\n",
    "            accuracies_no_tok_appended[k][no_tok] = sum(exact_matches[k][no_tok])/len(exact_matches[k][no_tok])"
   ]
  },
  {
   "cell_type": "code",
   "execution_count": 76,
   "id": "439ae288-a405-4bb3-9fd1-47c4ad40ac63",
   "metadata": {},
   "outputs": [
    {
     "name": "stdout",
     "output_type": "stream",
     "text": [
      "1\n",
      "{0: 0.0, 30: 0.0, 60: 0.0, 90: 0.0, 120: 0.0, 150: 0.0, 180: 0.0, 210: 0.0, 240: 0.0, 270: 0.0, 300: 0.0, 330: 0.0, 360: 0.0, 390: 0.0, 420: 0.0, 450: 0.0, 480: 0.0}\n",
      "2\n",
      "{0: 0.0, 30: 0.0, 60: 0.0, 90: 0.0, 120: 0.0, 150: 0.0, 180: 0.0, 210: 0.0, 240: 0.0, 270: 0.0, 300: 0.0, 330: 0.0, 360: 0.0, 390: 0.0, 420: 0.0, 450: 0.0, 480: 0.0}\n",
      "3\n",
      "{0: 0.0, 30: 0.0, 60: 0.0, 90: 0.0, 120: 0.0, 150: 0.0, 180: 0.0, 210: 0.0, 240: 0.0, 270: 0.0, 300: 0.0, 330: 0.0, 360: 0.0, 390: 0.0, 420: 0.0, 450: 0.0, 480: 0.0}\n",
      "4\n",
      "{0: 0.0, 30: 0.0, 60: 0.0, 90: 0.0, 120: 0.0, 150: 0.0, 180: 0.0, 210: 0.0, 240: 0.0, 270: 0.0, 300: 0.0, 330: 0.004016064257028112, 360: 0.0, 390: 0.0, 420: 0.0, 450: 0.0, 480: 0.0}\n",
      "5\n",
      "{0: 0.0, 30: 0.0, 60: 0.0, 90: 0.0, 120: 0.0, 150: 0.0, 180: 0.0, 210: 0.0, 240: 0.0, 270: 0.0, 300: 0.0, 330: 0.0, 360: 0.0, 390: 0.0, 420: 0.0, 450: 0.0, 480: 0.0}\n",
      "6\n",
      "{0: 0.0, 30: 0.0, 60: 0.0, 90: 0.0, 120: 0.0, 150: 0.0, 180: 0.0, 210: 0.0, 240: 0.0, 270: 0.0, 300: 0.0, 330: 0.0, 360: 0.0, 390: 0.0, 420: 0.0, 450: 0.0, 480: 0.0}\n",
      "7\n",
      "{0: 0.0, 30: 0.0, 60: 0.0, 90: 0.0, 120: 0.0, 150: 0.0, 180: 0.0, 210: 0.0, 240: 0.0, 270: 0.0, 300: 0.0, 330: 0.0, 360: 0.0, 390: 0.0, 420: 0.0, 450: 0.0, 480: 0.0}\n",
      "8\n",
      "{0: 0.0, 30: 0.0, 60: 0.0, 90: 0.0, 120: 0.0, 150: 0.0, 180: 0.0, 210: 0.0, 240: 0.0, 270: 0.0, 300: 0.0, 330: 0.0, 360: 0.0, 390: 0.0, 420: 0.0, 450: 0.0, 480: 0.0}\n",
      "9\n",
      "{0: 0.0, 30: 0.0, 60: 0.0, 90: 0.0, 120: 0.0, 150: 0.0, 180: 0.0, 210: 0.0, 240: 0.0, 270: 0.0, 300: 0.0, 330: 0.0, 360: 0.0, 390: 0.0, 420: 0.0, 450: 0.0, 480: 0.0}\n",
      "10\n",
      "{0: 0.0, 30: 0.0, 60: 0.0, 90: 0.0, 120: 0.0, 150: 0.0, 180: 0.0, 210: 0.0, 240: 0.0, 270: 0.0, 300: 0.0, 330: 0.0, 360: 0.0, 390: 0.0, 420: 0.0, 450: 0.0, 480: 0.0}\n",
      "11\n",
      "{0: 0.0, 30: 0.0, 60: 0.0, 90: 0.0, 120: 0.0, 150: 0.0, 180: 0.0, 210: 0.0, 240: 0.0, 270: 0.0, 300: 0.0, 330: 0.0, 360: 0.0, 390: 0.0, 420: 0.0, 450: 0.0, 480: 0.0}\n",
      "12\n",
      "{0: 0.0, 30: 0.0, 60: 0.0, 90: 0.0, 120: 0.0, 150: 0.0, 180: 0.0, 210: 0.0, 240: 0.0, 270: 0.0, 300: 0.0, 330: 0.0, 360: 0.0, 390: 0.0, 420: 0.0, 450: 0.0, 480: 0.0}\n",
      "13\n",
      "{0: 0.0, 30: 0.0, 60: 0.0, 90: 0.0, 120: 0.0, 150: 0.0, 180: 0.0, 210: 0.0, 240: 0.0, 270: 0.0, 300: 0.0, 330: 0.0, 360: 0.0, 390: 0.0, 420: 0.0, 450: 0.0, 480: 0.0}\n",
      "14\n",
      "{0: 0.0, 30: 0.0, 60: 0.0, 90: 0.0, 120: 0.0, 150: 0.0, 180: 0.0, 210: 0.0, 240: 0.0, 270: 0.0, 300: 0.0, 330: 0.0, 360: 0.0, 390: 0.0, 420: 0.0, 450: 0.0, 480: 0.0}\n",
      "15\n",
      "{0: 0.0, 30: 0.0, 60: 0.0, 90: 0.0, 120: 0.0, 150: 0.0, 180: 0.0, 210: 0.0, 240: 0.0, 270: 0.0, 300: 0.0, 330: 0.0, 360: 0.0, 390: 0.0, 420: 0.0, 450: 0.0, 480: 0.0}\n",
      "16\n",
      "{0: 0.0, 30: 0.0, 60: 0.0, 90: 0.0, 120: 0.0, 150: 0.0, 180: 0.0, 210: 0.0, 240: 0.0, 270: 0.0, 300: 0.0, 330: 0.0, 360: 0.0, 390: 0.0, 420: 0.0, 450: 0.0, 480: 0.0}\n",
      "17\n",
      "{0: 0.0, 30: 0.0, 60: 0.0, 90: 0.0, 120: 0.0, 150: 0.0, 180: 0.0, 210: 0.0, 240: 0.0, 270: 0.0, 300: 0.0, 330: 0.0, 360: 0.0, 390: 0.0, 420: 0.0, 450: 0.0, 480: 0.0}\n",
      "18\n",
      "{0: 0.0, 30: 0.0, 60: 0.0, 90: 0.0, 120: 0.0, 150: 0.0, 180: 0.0, 210: 0.0, 240: 0.0, 270: 0.0, 300: 0.0, 330: 0.0, 360: 0.0, 390: 0.0, 420: 0.0, 450: 0.0, 480: 0.0}\n",
      "19\n",
      "{0: 0.0, 30: 0.0, 60: 0.0, 90: 0.0, 120: 0.0, 150: 0.0, 180: 0.0, 210: 0.0, 240: 0.0, 270: 0.0, 300: 0.0, 330: 0.0, 360: 0.0, 390: 0.0, 420: 0.0, 450: 0.0, 480: 0.0}\n",
      "20\n",
      "{0: 0.0, 30: 0.0, 60: 0.0, 90: 0.0, 120: 0.0, 150: 0.0, 180: 0.0, 210: 0.0, 240: 0.0, 270: 0.0, 300: 0.0, 330: 0.0, 360: 0.0, 390: 0.0, 420: 0.0, 450: 0.0, 480: 0.0}\n",
      "21\n",
      "{0: 0.0, 30: 0.0, 60: 0.0, 90: 0.0, 120: 0.0, 150: 0.0, 180: 0.0, 210: 0.0, 240: 0.0, 270: 0.0, 300: 0.0, 330: 0.0, 360: 0.0, 390: 0.0, 420: 0.0, 450: 0.0, 480: 0.0}\n",
      "22\n",
      "{0: 0.0, 30: 0.0, 60: 0.0, 90: 0.0, 120: 0.0, 150: 0.0, 180: 0.0, 210: 0.0, 240: 0.0, 270: 0.0, 300: 0.0, 330: 0.0, 360: 0.0, 390: 0.0, 420: 0.0, 450: 0.0, 480: 0.0}\n",
      "23\n",
      "{0: 0.0, 30: 0.0, 60: 0.0, 90: 0.0, 120: 0.0, 150: 0.0, 180: 0.0, 210: 0.0, 240: 0.0, 270: 0.0, 300: 0.0, 330: 0.0, 360: 0.0, 390: 0.0, 420: 0.0, 450: 0.0, 480: 0.0}\n"
     ]
    }
   ],
   "source": [
    "for k in all_result_objects.keys():\n",
    "    \n",
    "    if accuracies_no_tok_appended[k]:\n",
    "        print(k)\n",
    "        print(accuracies_no_tok_appended[k])"
   ]
  },
  {
   "cell_type": "code",
   "execution_count": 16,
   "id": "62499176-1fc4-4ce9-8116-e4f423477f64",
   "metadata": {},
   "outputs": [],
   "source": [
    "prompt_no = 13\n",
    "loc_mention_graph = []\n",
    "\n",
    "for dist in fuzzy_match_distances[prompt_no]:\n",
    "    loc_mention_graph.append((dist, 1))\n",
    "    \n",
    "for dist in non_fuzzy_match_distances[prompt_no]:\n",
    "    loc_mention_graph.append((dist, 0))"
   ]
  },
  {
   "cell_type": "code",
   "execution_count": 78,
   "id": "574fa310-d2a5-4532-a2b7-528834c7c6d6",
   "metadata": {},
   "outputs": [
    {
     "data": {
      "text/plain": [
       "244.42857142857142"
      ]
     },
     "execution_count": 78,
     "metadata": {},
     "output_type": "execute_result"
    }
   ],
   "source": [
    "sum(fuzzy_match_distances[prompt_no])/len(fuzzy_match_distances[prompt_no])"
   ]
  },
  {
   "cell_type": "code",
   "execution_count": 79,
   "id": "45968b7c-11f3-446c-9ec4-3f33a03044e1",
   "metadata": {},
   "outputs": [
    {
     "data": {
      "text/plain": [
       "266"
      ]
     },
     "execution_count": 79,
     "metadata": {},
     "output_type": "execute_result"
    }
   ],
   "source": [
    "len(fuzzy_match_distances[prompt_no])"
   ]
  },
  {
   "cell_type": "code",
   "execution_count": 80,
   "id": "fa82404e-844b-400a-b16f-514929fc9b97",
   "metadata": {},
   "outputs": [
    {
     "data": {
      "text/plain": [
       "300.3218181818182"
      ]
     },
     "execution_count": 80,
     "metadata": {},
     "output_type": "execute_result"
    }
   ],
   "source": [
    "sum(non_fuzzy_match_distances[prompt_no])/len(non_fuzzy_match_distances[prompt_no])"
   ]
  },
  {
   "cell_type": "code",
   "execution_count": 81,
   "id": "6af83782-5d1c-4db4-8a66-852bb87b2ed0",
   "metadata": {},
   "outputs": [
    {
     "data": {
      "text/plain": [
       "2200"
      ]
     },
     "execution_count": 81,
     "metadata": {},
     "output_type": "execute_result"
    }
   ],
   "source": [
    "len(non_fuzzy_match_distances[prompt_no])"
   ]
  },
  {
   "cell_type": "code",
   "execution_count": 82,
   "id": "e29630ef-01b9-4f39-88da-d6ff1c235311",
   "metadata": {
    "tags": []
   },
   "outputs": [],
   "source": [
    "all_distances = [x[0] for x in loc_mention_graph]"
   ]
  },
  {
   "cell_type": "code",
   "execution_count": 83,
   "id": "da520336-4195-4d52-a311-1cbe20e89982",
   "metadata": {},
   "outputs": [],
   "source": [
    "all_distances = sorted(all_distances)"
   ]
  },
  {
   "cell_type": "code",
   "execution_count": 84,
   "id": "7334b3fe-ff79-4dfc-a4e4-4ca29ef1409f",
   "metadata": {},
   "outputs": [
    {
     "data": {
      "text/plain": [
       "24"
      ]
     },
     "execution_count": 84,
     "metadata": {},
     "output_type": "execute_result"
    }
   ],
   "source": [
    "min(all_distances)"
   ]
  },
  {
   "cell_type": "code",
   "execution_count": 85,
   "id": "9b45ce86-7fcf-47ff-ab44-e4d7f2042559",
   "metadata": {},
   "outputs": [
    {
     "data": {
      "text/plain": [
       "502"
      ]
     },
     "execution_count": 85,
     "metadata": {},
     "output_type": "execute_result"
    }
   ],
   "source": [
    "all_distances[-1]"
   ]
  },
  {
   "cell_type": "code",
   "execution_count": 30,
   "id": "5c19fe37-795e-492a-8b41-68d21b90ce19",
   "metadata": {},
   "outputs": [],
   "source": [
    "grap = defaultdict(list)\n",
    "num_data_points = {}\n",
    "for tupl in loc_mention_graph:\n",
    "    for i in range(11):\n",
    "        if 50*i<=tupl[0]<50*i+50:\n",
    "            grap[i].append(tupl)\n",
    "for i in range(11):\n",
    "    num_data_points[i] = len(grap[i])\n",
    "    if len(grap[i]) != 0 and len(grap[i]) > 5:\n",
    "        grap[i] = sum([tupl[1] == 1 for tupl in grap[i]]) / len(grap[i]) * 100\n",
    "    else:\n",
    "        grap[i] = 0\n",
    "grap_tuples = [(key, grap[key]) for key in grap]"
   ]
  },
  {
   "cell_type": "code",
   "execution_count": 31,
   "id": "c109dda6-9485-446c-bd15-675ebd8f9a3b",
   "metadata": {},
   "outputs": [
    {
     "data": {
      "text/plain": [
       "[(3, 17.60299625468165),\n",
       " (4, 14.074074074074074),\n",
       " (1, 15.032679738562091),\n",
       " (5, 16.541353383458645),\n",
       " (6, 8.125),\n",
       " (7, 7.741935483870968),\n",
       " (8, 5.902777777777778),\n",
       " (9, 3.8461538461538463),\n",
       " (2, 15.675675675675677),\n",
       " (0, 8.771929824561402),\n",
       " (10, 0.0)]"
      ]
     },
     "execution_count": 31,
     "metadata": {},
     "output_type": "execute_result"
    }
   ],
   "source": [
    "grap_tuples"
   ]
  },
  {
   "cell_type": "code",
   "execution_count": 33,
   "id": "f9932095-9405-4a28-912d-d8a1cc11e202",
   "metadata": {},
   "outputs": [
    {
     "data": {
      "image/png": "[encoded data removed]",
      "text/plain": [
       "<Figure size 1000x500 with 1 Axes>"
      ]
     },
     "metadata": {},
     "output_type": "display_data"
    }
   ],
   "source": [
    "x_points, y_points = zip(*grap_tuples)\n",
    "plt.figure(figsize = (10, 5))\n",
    "plt.bar(x_points, y_points, color=\"orange\")\n",
    "for i in range(len(x_points)):\n",
    "    plt.text(x_points[i], y_points[i], str(round(y_points[i],2)) + \"%\", ha = 'center', bbox = dict(facecolor = 'red', alpha =.2))\n",
    "for i in range(len(x_points)):\n",
    "    plt.text(x_points[i], y_points[i]//2, num_data_points[i],  ha = 'center',\n",
    "             bbox = dict(facecolor = 'white', alpha = .5))\n",
    "plt.xlabel(\"Distance (# tokens)\")\n",
    "plt.ylabel(\"Accuracy (%)\")\n",
    "\n",
    "plt.xticks(np.arange(11), ['0-50', '50-100', '100-150', '150-200', \"200-250\", \"250-300\", \"300-350\", \"350-400\", \"400-450\", \"450-500\", \"500-550\"])\n",
    "plt.savefig('T5_base_fuzzy.png')"
   ]
  },
  {
   "cell_type": "code",
   "execution_count": 20,
   "id": "fee5847b-3829-4a65-b28b-6804817cdea1",
   "metadata": {},
   "outputs": [],
   "source": [
    "grap = defaultdict(list)\n",
    "num_data_points = {}\n",
    "for tupl in loc_mention_graph:\n",
    "    for i in range(10):\n",
    "        if 100*i<=tupl[0]<100*i+100:\n",
    "            grap[i].append(tupl)\n",
    "for i in range(10):\n",
    "    num_data_points[i] = len(grap[i])\n",
    "    if len(grap[i]) != 0 and len(grap[i]) > 5:\n",
    "        grap[i] = sum([tupl[1] == 1 for tupl in grap[i]]) / len(grap[i]) * 100\n",
    "    else:\n",
    "        grap[i] = 0\n",
    "grap_tuples = [(key, grap[key]) for key in grap]"
   ]
  },
  {
   "cell_type": "code",
   "execution_count": 21,
   "id": "3b71a973-f09a-4ec3-bfed-387fa8aa1bce",
   "metadata": {},
   "outputs": [],
   "source": [
    "with open(\"Text_injection_t5_base_graph_points.txt\", \"wb\") as f:\n",
    "    pickle.dump(grap_tuples, f)"
   ]
  },
  {
   "cell_type": "code",
   "execution_count": 34,
   "id": "f7aca8e3-2b6d-48c5-9ee6-bf576ccfc2ef",
   "metadata": {},
   "outputs": [
    {
     "data": {
      "text/plain": [
       "([<matplotlib.axis.XTick at 0x2b1bd65540a0>,\n",
       "  <matplotlib.axis.XTick at 0x2b1bd6554070>,\n",
       "  <matplotlib.axis.XTick at 0x2b1bd6549bb0>,\n",
       "  <matplotlib.axis.XTick at 0x2b1bd605da00>,\n",
       "  <matplotlib.axis.XTick at 0x2b1bd60744f0>,\n",
       "  <matplotlib.axis.XTick at 0x2b1bd6074fa0>,\n",
       "  <matplotlib.axis.XTick at 0x2b1bd61bfa90>,\n",
       "  <matplotlib.axis.XTick at 0x2b1bd605d2e0>,\n",
       "  <matplotlib.axis.XTick at 0x2b1bd61d54f0>,\n",
       "  <matplotlib.axis.XTick at 0x2b1bd61d5fd0>],\n",
       " [Text(0, 0, '0-50'),\n",
       "  Text(1, 0, '50-100'),\n",
       "  Text(2, 0, '100-150'),\n",
       "  Text(3, 0, '150-200'),\n",
       "  Text(4, 0, '200-250'),\n",
       "  Text(5, 0, '250-300'),\n",
       "  Text(6, 0, '300-350'),\n",
       "  Text(7, 0, '350-400'),\n",
       "  Text(8, 0, '400-450'),\n",
       "  Text(9, 0, '450-500')])"
      ]
     },
     "execution_count": 34,
     "metadata": {},
     "output_type": "execute_result"
    },
    {
     "data": {
      "image/png": "[encoded data removed]",
      "text/plain": [
       "<Figure size 640x480 with 1 Axes>"
      ]
     },
     "metadata": {},
     "output_type": "display_data"
    }
   ],
   "source": [
    "plt.bar(*zip(*grap_tuples))\n",
    "plt.xlabel(\"Distance\")\n",
    "plt.ylabel(\"Accuracy(%)\")\n",
    "plt.xticks(np.arange(10), ['0-50', '50-100', '100-150', '150-200', \"200-250\", \"250-300\", \"300-350\", \"350-400\", \"400-450\", \"450-500\"])"
   ]
  },
  {
   "cell_type": "code",
   "execution_count": 90,
   "id": "79d2279f-d995-425d-8169-b3982db19e90",
   "metadata": {},
   "outputs": [
    {
     "data": {
      "text/plain": [
       "([<matplotlib.axis.XTick at 0x2ac4e81a5640>,\n",
       "  <matplotlib.axis.XTick at 0x2ac4e81a5610>,\n",
       "  <matplotlib.axis.XTick at 0x2ac4e81a5100>,\n",
       "  <matplotlib.axis.XTick at 0x2ac4eb7f5fa0>,\n",
       "  <matplotlib.axis.XTick at 0x2ac4eb7f1a90>,\n",
       "  <matplotlib.axis.XTick at 0x2ac4eb7ea580>,\n",
       "  <matplotlib.axis.XTick at 0x2ac4eb7eadf0>,\n",
       "  <matplotlib.axis.XTick at 0x2ac4eb7f15b0>,\n",
       "  <matplotlib.axis.XTick at 0x2ac4eb7ee4f0>,\n",
       "  <matplotlib.axis.XTick at 0x2ac4eb7eefa0>],\n",
       " [Text(0, 0, '0-50'),\n",
       "  Text(1, 0, '50-100'),\n",
       "  Text(2, 0, '100-150'),\n",
       "  Text(3, 0, '150-200'),\n",
       "  Text(4, 0, '200-250'),\n",
       "  Text(5, 0, '250-300'),\n",
       "  Text(6, 0, '300-350'),\n",
       "  Text(7, 0, '350-400'),\n",
       "  Text(8, 0, '400-450'),\n",
       "  Text(9, 0, '450-500')])"
      ]
     },
     "execution_count": 90,
     "metadata": {},
     "output_type": "execute_result"
    },
    {
     "data": {
      "image/png": "[encoded data removed]",
      "text/plain": [
       "<Figure size 640x480 with 1 Axes>"
      ]
     },
     "metadata": {},
     "output_type": "display_data"
    }
   ],
   "source": [
    "plt.bar(*zip(*grap_tuples))\n",
    "plt.xlabel(\"Distance\")\n",
    "plt.ylabel(\"Accuracy(%)\")\n",
    "plt.xticks(np.arange(10), ['0-50', '50-100', '100-150', '150-200', \"200-250\", \"250-300\", \"300-350\", \"350-400\", \"400-450\", \"450-500\"])"
   ]
  },
  {
   "cell_type": "code",
   "execution_count": 34,
   "id": "fbbd7cd6-5c56-4b3d-b0f0-3a26f25c4c40",
   "metadata": {
    "tags": []
   },
   "outputs": [],
   "source": [
    "fuzzy_matches = {}\n",
    "\n",
    "for k in all_result_objects.keys():\n",
    "    fuzzy_matches[k] = []\n",
    "    \n",
    "    for j, result_object in enumerate(all_result_objects[k]): #[num_chap2_tokens]:\n",
    "\n",
    "        prompt = result_object.prompt\n",
    "        out = result_object.model_out\n",
    "        gold_locations = result_object.gold_locations\n",
    "        match1 = result_object.exact_match\n",
    "        match2 = result_object.fuzzy_match\n",
    "        \n",
    "        if match2 == \"Yes\":\n",
    "            fuzzy_matches[k].append(1)\n",
    "        else:\n",
    "            fuzzy_matches[k].append(0)\n",
    "            "
   ]
  },
  {
   "cell_type": "code",
   "execution_count": 35,
   "id": "5be6ea45-1ce5-4ee2-9adc-dbf7e4cc4fd6",
   "metadata": {},
   "outputs": [],
   "source": [
    "accuracies = {}\n",
    "for k in all_result_objects.keys():\n",
    "    if fuzzy_matches[k] != []:\n",
    "        accuracies[k] = sum(fuzzy_matches[k])/len(fuzzy_matches[k])"
   ]
  },
  {
   "cell_type": "code",
   "execution_count": 36,
   "id": "06bd4c53-ac10-4ea5-87c7-50dec6bb640a",
   "metadata": {},
   "outputs": [
    {
     "data": {
      "text/plain": [
       "{1: 0.0004724781478856603,\n",
       " 2: 0.023387668320340185,\n",
       " 3: 0.07583274273564848,\n",
       " 4: 0.0784313725490196,\n",
       " 5: 0.07748641625324829,\n",
       " 6: 0.07795889440113395,\n",
       " 7: 0.07559650366170564,\n",
       " 8: 0.07559650366170564,\n",
       " 9: 0.1552090715804394,\n",
       " 10: 0.15946137491141035,\n",
       " 11: 0.11906449326718639,\n",
       " 12: 0.0009449562957713206,\n",
       " 13: 0.07158043940467754,\n",
       " 14: 0.0760689818095913,\n",
       " 15: 0.07866761162296244,\n",
       " 16: 0.08079376328844791,\n",
       " 17: 0.0744153082919915,\n",
       " 18: 0.07748641625324829,\n",
       " 19: 0.07725017717930546,\n",
       " 20: 0.14505079140089772,\n",
       " 21: 0.1552090715804394,\n",
       " 22: 0.13772738010866997,\n",
       " 23: 0.08197495865816205}"
      ]
     },
     "execution_count": 36,
     "metadata": {},
     "output_type": "execute_result"
    }
   ],
   "source": [
    "accuracies"
   ]
  },
  {
   "cell_type": "code",
   "execution_count": 55,
   "id": "65fc780d-844f-4d92-a99b-176aeb91f76c",
   "metadata": {},
   "outputs": [],
   "source": [
    "fuzzy_matches = {}\n",
    "\n",
    "for k in all_result_objects.keys():\n",
    "    fuzzy_matches[k] = {}\n",
    "    \n",
    "    for no_tok in tokens_to_append:\n",
    "        fuzzy_matches[k][no_tok] = []\n",
    "    \n",
    "    for j, result_object in enumerate(all_result_objects[k]): #[num_chap2_tokens]:\n",
    "\n",
    "        prompt = result_object.prompt\n",
    "        out = result_object.model_out\n",
    "        gold_locations = result_object.gold_locations\n",
    "        match1 = result_object.exact_match\n",
    "        match2 = result_object.fuzzy_match\n",
    "        no_tok = result_object.tokens_appended\n",
    "\n",
    "        if match2 == \"Yes\":\n",
    "            fuzzy_matches[k][no_tok].append(1)\n",
    "        else:\n",
    "            fuzzy_matches[k][no_tok].append(0)\n",
    "\n"
   ]
  },
  {
   "cell_type": "code",
   "execution_count": 57,
   "id": "de63ddce-35a3-4cb7-811a-d55f02412470",
   "metadata": {},
   "outputs": [],
   "source": [
    "accuracies_no_tok_appended = {}\n",
    "for k in all_result_objects.keys():\n",
    "    accuracies_no_tok_appended[k] = {}\n",
    "    for no_tok in fuzzy_matches[k]:\n",
    "        if fuzzy_matches[k][no_tok] != []:\n",
    "            accuracies_no_tok_appended[k][no_tok] = sum(fuzzy_matches[k][no_tok])/len(fuzzy_matches[k][no_tok])"
   ]
  },
  {
   "cell_type": "code",
   "execution_count": 58,
   "id": "83da5df2-cf54-46d6-986d-99da18bd2154",
   "metadata": {},
   "outputs": [
    {
     "name": "stdout",
     "output_type": "stream",
     "text": [
      "1\n",
      "{0: 0.0, 30: 0.004016064257028112, 60: 0.0, 90: 0.004016064257028112, 120: 0.0, 150: 0.0, 180: 0.0, 210: 0.0, 240: 0.0, 270: 0.0, 300: 0.0, 330: 0.0, 360: 0.0, 390: 0.0, 420: 0.0, 450: 0.0, 480: 0.0}\n",
      "2\n",
      "{0: 0.05622489959839357, 30: 0.08032128514056225, 60: 0.03614457831325301, 90: 0.05220883534136546, 120: 0.0642570281124498, 150: 0.028112449799196786, 180: 0.04417670682730924, 210: 0.024096385542168676, 240: 0.004016064257028112, 270: 0.004016064257028112, 300: 0.0, 330: 0.0, 360: 0.004016064257028112, 390: 0.0, 420: 0.0, 450: 0.0, 480: 0.0}\n",
      "3\n",
      "{0: 0.024096385542168676, 30: 0.08433734939759036, 60: 0.08433734939759036, 90: 0.07228915662650602, 120: 0.08433734939759036, 150: 0.07630522088353414, 180: 0.10441767068273092, 210: 0.08835341365461848, 240: 0.08433734939759036, 270: 0.05220883534136546, 300: 0.08433734939759036, 330: 0.08032128514056225, 360: 0.09236947791164658, 390: 0.08433734939759036, 420: 0.10441767068273092, 450: 0.04819277108433735, 480: 0.040160642570281124}\n",
      "4\n",
      "{0: 0.03614457831325301, 30: 0.08032128514056225, 60: 0.06827309236947791, 90: 0.08032128514056225, 120: 0.08032128514056225, 150: 0.0642570281124498, 180: 0.0963855421686747, 210: 0.12449799196787148, 240: 0.08433734939759036, 270: 0.0642570281124498, 300: 0.07630522088353414, 330: 0.09236947791164658, 360: 0.0963855421686747, 390: 0.10441767068273092, 420: 0.0963855421686747, 450: 0.040160642570281124, 480: 0.04819277108433735}\n",
      "5\n",
      "{0: 0.0321285140562249, 30: 0.08032128514056225, 60: 0.05622489959839357, 90: 0.0963855421686747, 120: 0.06827309236947791, 150: 0.06827309236947791, 180: 0.11244979919678715, 210: 0.11646586345381527, 240: 0.09236947791164658, 270: 0.05220883534136546, 300: 0.08032128514056225, 330: 0.09236947791164658, 360: 0.10040160642570281, 390: 0.10441767068273092, 420: 0.06827309236947791, 450: 0.04819277108433735, 480: 0.04819277108433735}\n",
      "6\n",
      "{0: 0.0321285140562249, 30: 0.07630522088353414, 60: 0.07228915662650602, 90: 0.07630522088353414, 120: 0.08032128514056225, 150: 0.09236947791164658, 180: 0.10441767068273092, 210: 0.10040160642570281, 240: 0.08835341365461848, 270: 0.05622489959839357, 300: 0.08835341365461848, 330: 0.08835341365461848, 360: 0.10441767068273092, 390: 0.08433734939759036, 420: 0.09236947791164658, 450: 0.04417670682730924, 480: 0.04417670682730924}\n",
      "7\n",
      "{0: 0.024096385542168676, 30: 0.08032128514056225, 60: 0.07630522088353414, 90: 0.08032128514056225, 120: 0.07228915662650602, 150: 0.0642570281124498, 180: 0.09236947791164658, 210: 0.10040160642570281, 240: 0.08835341365461848, 270: 0.060240963855421686, 300: 0.07228915662650602, 330: 0.08835341365461848, 360: 0.0963855421686747, 390: 0.10040160642570281, 420: 0.10040160642570281, 450: 0.04417670682730924, 480: 0.04417670682730924}\n",
      "8\n",
      "{0: 0.024096385542168676, 30: 0.08032128514056225, 60: 0.07228915662650602, 90: 0.08433734939759036, 120: 0.06827309236947791, 150: 0.06827309236947791, 180: 0.09236947791164658, 210: 0.0963855421686747, 240: 0.08032128514056225, 270: 0.06827309236947791, 300: 0.08032128514056225, 330: 0.07630522088353414, 360: 0.10441767068273092, 390: 0.0963855421686747, 420: 0.10441767068273092, 450: 0.04819277108433735, 480: 0.040160642570281124}\n",
      "9\n",
      "{0: 0.14457831325301204, 30: 0.1927710843373494, 60: 0.18875502008032127, 90: 0.17670682730923695, 120: 0.1927710843373494, 150: 0.19678714859437751, 180: 0.21686746987951808, 210: 0.20883534136546184, 240: 0.20883534136546184, 270: 0.18072289156626506, 300: 0.14056224899598393, 330: 0.1646586345381526, 360: 0.17670682730923695, 390: 0.13654618473895583, 420: 0.08032128514056225, 450: 0.028112449799196786, 480: 0.004016064257028112}\n",
      "10\n",
      "{0: 0.1927710843373494, 30: 0.1927710843373494, 60: 0.1927710843373494, 90: 0.1927710843373494, 120: 0.17670682730923695, 150: 0.26506024096385544, 180: 0.20883534136546184, 210: 0.1927710843373494, 240: 0.21285140562248997, 270: 0.1646586345381526, 300: 0.1566265060240964, 330: 0.1646586345381526, 360: 0.14859437751004015, 390: 0.14056224899598393, 420: 0.07630522088353414, 450: 0.028112449799196786, 480: 0.004016064257028112}\n",
      "11\n",
      "{0: 0.17269076305220885, 30: 0.23293172690763053, 60: 0.1285140562248996, 90: 0.18473895582329317, 120: 0.1927710843373494, 150: 0.22088353413654618, 180: 0.22088353413654618, 210: 0.1646586345381526, 240: 0.14457831325301204, 270: 0.11646586345381527, 300: 0.04417670682730924, 330: 0.008032128514056224, 360: 0.07630522088353414, 390: 0.07630522088353414, 420: 0.020080321285140562, 450: 0.020080321285140562, 480: 0.0}\n",
      "12\n",
      "{0: 0.008032128514056224, 30: 0.004016064257028112, 60: 0.0, 90: 0.0, 120: 0.004016064257028112, 150: 0.0, 180: 0.0, 210: 0.0, 240: 0.0, 270: 0.0, 300: 0.0, 330: 0.0, 360: 0.0, 390: 0.0, 420: 0.0, 450: 0.0, 480: 0.0}\n",
      "13\n",
      "{0: 0.1285140562248996, 30: 0.1566265060240964, 60: 0.0963855421686747, 90: 0.1646586345381526, 120: 0.18072289156626506, 150: 0.11646586345381527, 180: 0.1285140562248996, 210: 0.08032128514056225, 240: 0.03614457831325301, 270: 0.05622489959839357, 300: 0.01606425702811245, 330: 0.004016064257028112, 360: 0.04819277108433735, 390: 0.004016064257028112, 420: 0.0, 450: 0.0, 480: 0.0}\n",
      "14\n",
      "{0: 0.060240963855421686, 30: 0.05622489959839357, 60: 0.060240963855421686, 90: 0.08433734939759036, 120: 0.07630522088353414, 150: 0.07630522088353414, 180: 0.10040160642570281, 210: 0.10441767068273092, 240: 0.08835341365461848, 270: 0.08032128514056225, 300: 0.10843373493975904, 330: 0.10040160642570281, 360: 0.08835341365461848, 390: 0.07630522088353414, 420: 0.0642570281124498, 450: 0.06827309236947791, 480: 0.0}\n",
      "15\n",
      "{0: 0.05220883534136546, 30: 0.07228915662650602, 60: 0.06827309236947791, 90: 0.08835341365461848, 120: 0.05622489959839357, 150: 0.08835341365461848, 180: 0.09236947791164658, 210: 0.10040160642570281, 240: 0.10040160642570281, 270: 0.08835341365461848, 300: 0.12048192771084337, 330: 0.08835341365461848, 360: 0.11244979919678715, 390: 0.08835341365461848, 420: 0.05622489959839357, 450: 0.05622489959839357, 480: 0.008032128514056224}\n",
      "16\n",
      "{0: 0.060240963855421686, 30: 0.07228915662650602, 60: 0.08032128514056225, 90: 0.0963855421686747, 120: 0.07228915662650602, 150: 0.08835341365461848, 180: 0.10843373493975904, 210: 0.11244979919678715, 240: 0.10843373493975904, 270: 0.05622489959839357, 300: 0.11244979919678715, 330: 0.10040160642570281, 360: 0.0963855421686747, 390: 0.08433734939759036, 420: 0.05622489959839357, 450: 0.0642570281124498, 480: 0.004016064257028112}\n",
      "17\n",
      "{0: 0.07228915662650602, 30: 0.07228915662650602, 60: 0.06827309236947791, 90: 0.08433734939759036, 120: 0.07630522088353414, 150: 0.08032128514056225, 180: 0.09236947791164658, 210: 0.08433734939759036, 240: 0.08835341365461848, 270: 0.07228915662650602, 300: 0.10040160642570281, 330: 0.08433734939759036, 360: 0.08433734939759036, 390: 0.07630522088353414, 420: 0.060240963855421686, 450: 0.06827309236947791, 480: 0.0}\n",
      "18\n",
      "{0: 0.07228915662650602, 30: 0.060240963855421686, 60: 0.06827309236947791, 90: 0.06827309236947791, 120: 0.08032128514056225, 150: 0.07228915662650602, 180: 0.10441767068273092, 210: 0.10441767068273092, 240: 0.08835341365461848, 270: 0.08433734939759036, 300: 0.11244979919678715, 330: 0.10040160642570281, 360: 0.10040160642570281, 390: 0.08433734939759036, 420: 0.060240963855421686, 450: 0.05220883534136546, 480: 0.004016064257028112}\n",
      "19\n",
      "{0: 0.0642570281124498, 30: 0.060240963855421686, 60: 0.07630522088353414, 90: 0.07630522088353414, 120: 0.0642570281124498, 150: 0.07630522088353414, 180: 0.08835341365461848, 210: 0.10843373493975904, 240: 0.0963855421686747, 270: 0.08433734939759036, 300: 0.12048192771084337, 330: 0.10441767068273092, 360: 0.08835341365461848, 390: 0.08835341365461848, 420: 0.060240963855421686, 450: 0.05622489959839357, 480: 0.0}\n",
      "20\n",
      "{0: 0.14859437751004015, 30: 0.14056224899598393, 60: 0.1927710843373494, 90: 0.17269076305220885, 120: 0.1566265060240964, 150: 0.18072289156626506, 180: 0.21686746987951808, 210: 0.21285140562248997, 240: 0.18875502008032127, 270: 0.17670682730923695, 300: 0.1606425702811245, 330: 0.17670682730923695, 360: 0.13253012048192772, 390: 0.12048192771084337, 420: 0.06827309236947791, 450: 0.020080321285140562, 480: 0.0}\n",
      "21\n",
      "{0: 0.18072289156626506, 30: 0.1646586345381526, 60: 0.18875502008032127, 90: 0.19678714859437751, 120: 0.1606425702811245, 150: 0.21285140562248997, 180: 0.20883534136546184, 210: 0.20481927710843373, 240: 0.1927710843373494, 270: 0.19678714859437751, 300: 0.1566265060240964, 330: 0.19678714859437751, 360: 0.15261044176706828, 390: 0.13253012048192772, 420: 0.07228915662650602, 450: 0.020080321285140562, 480: 0.0}\n",
      "22\n",
      "{0: 0.18072289156626506, 30: 0.17670682730923695, 60: 0.1927710843373494, 90: 0.1686746987951807, 120: 0.21285140562248997, 150: 0.24497991967871485, 180: 0.22088353413654618, 210: 0.1927710843373494, 240: 0.17269076305220885, 270: 0.15261044176706828, 300: 0.11646586345381527, 330: 0.040160642570281124, 360: 0.10843373493975904, 390: 0.12048192771084337, 420: 0.024096385542168676, 450: 0.012048192771084338, 480: 0.004016064257028112}\n",
      "23\n",
      "{0: 0.1566265060240964, 30: 0.18473895582329317, 60: 0.10040160642570281, 90: 0.12048192771084337, 120: 0.1686746987951807, 150: 0.1566265060240964, 180: 0.14056224899598393, 210: 0.09236947791164658, 240: 0.06827309236947791, 270: 0.0642570281124498, 300: 0.0321285140562249, 330: 0.008032128514056224, 360: 0.04417670682730924, 390: 0.0321285140562249, 420: 0.01606425702811245, 450: 0.008032128514056224, 480: 0.0}\n"
     ]
    }
   ],
   "source": [
    "for k in all_result_objects.keys():\n",
    "    \n",
    "    if accuracies_no_tok_appended[k]:\n",
    "        print(k)\n",
    "        print(accuracies_no_tok_appended[k])"
   ]
  },
  {
   "cell_type": "markdown",
   "id": "38c838f5-ced8-4243-88b9-105334e4bc70",
   "metadata": {},
   "source": [
    "# Visualization"
   ]
  },
  {
   "cell_type": "code",
   "execution_count": 22,
   "id": "d3054836-388e-4557-b06c-827b0ef514d6",
   "metadata": {},
   "outputs": [],
   "source": [
    "with open(\"Text_injection_T5_base_all_result_objects.txt\", \"rb\") as f:\n",
    "    all_result_objects = pickle.load(f)"
   ]
  },
  {
   "cell_type": "code",
   "execution_count": 23,
   "id": "00a9e02c-42b5-46a5-b0ee-8ca6724b1b7f",
   "metadata": {},
   "outputs": [
    {
     "name": "stderr",
     "output_type": "stream",
     "text": [
      "/tmp/ipykernel_213939/1516570849.py:28: FutureWarning: save is not part of the public API, usage can give unexpected results and will be removed in a future version\n",
      "  writer.save()\n"
     ]
    }
   ],
   "source": [
    "for k in [13]: #all_result_objects.keys():\n",
    "    \n",
    "    out_path = \"text_injection_t5_base_outputs_k\" + str(k) + \".xlsx\"\n",
    "    writer = pd.ExcelWriter(out_path, engine='xlsxwriter')\n",
    "    workbook = writer.book\n",
    "    format = workbook.add_format({'text_wrap': True})\n",
    "    my_dic = {\"Prompts\": [\"-\", \"-\", \"-\", \"-\", \"-\"]}\n",
    "    \n",
    "    for j, result_object in enumerate(all_result_objects[k]): #[num_chap2_tokens]:\n",
    "\n",
    "        prompt = result_object.prompt\n",
    "        out = result_object.model_out\n",
    "        gold_locations = result_object.gold_locations\n",
    "        match1 = result_object.exact_match\n",
    "        match2 = result_object.fuzzy_match\n",
    "        num_chap2_tokens = result_object.tokens_appended\n",
    "        \n",
    "        my_dic[prompt] = [gold_locations, out, num_chap2_tokens, match1, match2]\n",
    "        \n",
    "    df = pd.DataFrame(data=my_dic, index=[\"gold_locations\", \"output\", \"num_tokens_appended\", \"exact match?\", \"fuzzy match?\"])\n",
    "    df = (df.T)\n",
    "    df.to_excel(writer, sheet_name=\"output\")\n",
    "    worksheet = writer.sheets[\"output\"]\n",
    "    for idx, col in enumerate(df):\n",
    "        max_len = 75\n",
    "        worksheet.set_column(idx, idx, max_len, format)\n",
    "\n",
    "    writer.save()\n",
    "\n"
   ]
  },
  {
   "cell_type": "code",
   "execution_count": null,
   "id": "e04bad3e-ba1b-4931-9b81-3b4c2b6032f8",
   "metadata": {},
   "outputs": [],
   "source": [
    "for k in all_result_objects.keys():\n",
    "\n",
    "    exact_match_distances[k] = []\n",
    "    fuzzy_match_distances[k] = []\n",
    "    non_exact_match_distances[k] = []\n",
    "    non_fuzzy_match_distances[k] = []\n",
    "\n",
    "    for num_chap2_tokens in all_result_objects[k].keys():\n",
    "        \n",
    "        for result_object in all_result_objects[k][num_chap2_tokens]:\n",
    "            \n",
    "            prompt = result_object.prompt\n",
    "            out = result_object.model_out\n",
    "            gold_locations = result_object.gold_locations\n",
    "            match1 = result_object.exact_match\n",
    "            match2 = result_object.fuzzy_match\n",
    "            \n",
    "            distances = [1e9 for _ in range(len(gold_locations))]\n",
    "            \n",
    "            for num_loc, gold_location in enumerate(gold_locations):\n",
    "                loc_mention = prompt.rfind(gold_location)\n",
    "                if loc_mention != -1:\n",
    "                    loc_mention += len(gold_location)\n",
    "                    abs_inv_recency = len(prompt) - loc_mention\n",
    "                    distances[num_loc] = abs_inv_recency\n",
    "                    \n",
    "            if match1 == \"Yes\":\n",
    "                exact_match_distances[k].append(min(distances))\n",
    "            else:\n",
    "                if not min(distances) < 1e8:\n",
    "                    pass\n",
    "                else:                      \n",
    "                    non_exact_match_distances[k].append(min(distances))\n",
    "            \n",
    "            if match2 == \"Yes\":\n",
    "                fuzzy_match_distances[k].append(min(distances))\n",
    "            else:\n",
    "                if not min(distances) < 1e8:\n",
    "                    pass\n",
    "                else:                      \n",
    "                    non_fuzzy_match_distances[k].append(min(distances))"
   ]
  },
  {
   "cell_type": "code",
   "execution_count": 299,
   "id": "a1cecacc-ea8e-433f-bfcc-96a62ae073d2",
   "metadata": {},
   "outputs": [],
   "source": [
    "prompt_no = 13\n",
    "loc_mention_graph = []\n",
    "\n",
    "for dist in exact_match_distances[prompt_no]:\n",
    "    loc_mention_graph.append((dist, 1))\n",
    "    \n",
    "for dist in non_exact_match_distances[prompt_no]:\n",
    "    loc_mention_graph.append((dist, 0))"
   ]
  },
  {
   "cell_type": "code",
   "execution_count": 300,
   "id": "77c0b68e-005c-46b1-b482-942cbeaced5a",
   "metadata": {},
   "outputs": [
    {
     "data": {
      "text/plain": [
       "667.5952380952381"
      ]
     },
     "execution_count": 300,
     "metadata": {},
     "output_type": "execute_result"
    }
   ],
   "source": [
    "sum(exact_match_distances[prompt_no])/len(exact_match_distances[prompt_no])"
   ]
  },
  {
   "cell_type": "code",
   "execution_count": null,
   "id": "34c99c1a-ec89-4ba6-b9a1-53ce572caad5",
   "metadata": {},
   "outputs": [],
   "source": [
    "len(exact_match_distances[prompt_no])"
   ]
  },
  {
   "cell_type": "code",
   "execution_count": 301,
   "id": "0914f5fd-53dc-4e6d-b6ff-a529396ffdde",
   "metadata": {},
   "outputs": [
    {
     "data": {
      "text/plain": [
       "497.5238095238095"
      ]
     },
     "execution_count": 301,
     "metadata": {},
     "output_type": "execute_result"
    }
   ],
   "source": [
    "sum(non_exact_match_distances[prompt_no])/len(non_exact_match_distances[prompt_no])"
   ]
  },
  {
   "cell_type": "code",
   "execution_count": null,
   "id": "93549b7c-3567-44b9-a1d7-27466c793846",
   "metadata": {},
   "outputs": [],
   "source": [
    "len(non_exact_match_distances[prompt_no])"
   ]
  },
  {
   "cell_type": "code",
   "execution_count": 204,
   "id": "6fa1c231-d240-4959-8d16-02b5c67a069a",
   "metadata": {
    "tags": []
   },
   "outputs": [],
   "source": [
    "all_distances = [x[0] for x in loc_mention_graph]"
   ]
  },
  {
   "cell_type": "code",
   "execution_count": 205,
   "id": "aa36ce40-7719-4522-87ed-3dccf4565bc0",
   "metadata": {},
   "outputs": [],
   "source": [
    "all_distances = sorted(all_distances)"
   ]
  },
  {
   "cell_type": "code",
   "execution_count": 155,
   "id": "14a3388d-1ed9-43c8-b956-863c71a6de48",
   "metadata": {},
   "outputs": [
    {
     "data": {
      "text/plain": [
       "10"
      ]
     },
     "execution_count": 155,
     "metadata": {},
     "output_type": "execute_result"
    }
   ],
   "source": [
    "min(all_distances)"
   ]
  },
  {
   "cell_type": "code",
   "execution_count": 160,
   "id": "722ccf77-54f9-41a6-ad6f-28aaaab8a038",
   "metadata": {},
   "outputs": [
    {
     "data": {
      "text/plain": [
       "3451"
      ]
     },
     "execution_count": 160,
     "metadata": {},
     "output_type": "execute_result"
    }
   ],
   "source": [
    "all_distances[-1]"
   ]
  },
  {
   "cell_type": "code",
   "execution_count": 304,
   "id": "9e01ca49-22e8-4fc7-a2b4-d8709a98390b",
   "metadata": {},
   "outputs": [],
   "source": [
    "grap = defaultdict(list)\n",
    "for tupl in loc_mention_graph:\n",
    "    for i in range(10):\n",
    "        if 350*i<=tupl[0]<350*i+350:\n",
    "            grap[i].append(tupl)\n",
    "for i in range(10):\n",
    "    if len(grap[i]) != 0 and len(grap[i]) > 5:\n",
    "        grap[i] = sum([tupl[1] == 1 for tupl in grap[i]]) / len(grap[i]) * 100\n",
    "    else:\n",
    "        grap[i] = 0\n",
    "grap_tuples = [(key, grap[key]) for key in grap]"
   ]
  },
  {
   "cell_type": "code",
   "execution_count": 309,
   "id": "a7524be8-3abf-4122-a521-9a10f3fbc16d",
   "metadata": {},
   "outputs": [
    {
     "data": {
      "text/plain": [
       "([<matplotlib.axis.XTick at 0x2b5f830886d0>,\n",
       "  <matplotlib.axis.XTick at 0x2b5f830886a0>,\n",
       "  <matplotlib.axis.XTick at 0x2b5f83083d00>,\n",
       "  <matplotlib.axis.XTick at 0x2b5f830c9430>,\n",
       "  <matplotlib.axis.XTick at 0x2b5f830c9940>,\n",
       "  <matplotlib.axis.XTick at 0x2b5f830c9e50>,\n",
       "  <matplotlib.axis.XTick at 0x2b5f830d13a0>,\n",
       "  <matplotlib.axis.XTick at 0x2b5f830d18b0>,\n",
       "  <matplotlib.axis.XTick at 0x2b5f830d1dc0>,\n",
       "  <matplotlib.axis.XTick at 0x2b5f830d7310>],\n",
       " [Text(0, 0, '0-350'),\n",
       "  Text(1, 0, '350-700'),\n",
       "  Text(2, 0, '700-1050'),\n",
       "  Text(3, 0, ''),\n",
       "  Text(4, 0, '1400-1750'),\n",
       "  Text(5, 0, ''),\n",
       "  Text(6, 0, '2100-2450'),\n",
       "  Text(7, 0, ''),\n",
       "  Text(8, 0, ''),\n",
       "  Text(9, 0, '3150-3500')])"
      ]
     },
     "execution_count": 309,
     "metadata": {},
     "output_type": "execute_result"
    },
    {
     "data": {
      "image/png": "[encoded data removed]",
      "text/plain": [
       "<Figure size 432x288 with 1 Axes>"
      ]
     },
     "metadata": {
      "needs_background": "light"
     },
     "output_type": "display_data"
    }
   ],
   "source": [
    "plt.bar(*zip(*grap_tuples))\n",
    "plt.xlabel(\"Distance\")\n",
    "plt.ylabel(\"Accuracy(%)\")\n",
    "plt.xticks(np.arange(10), ['0-350', '350-700', '700-1050', \"\", \"1400-1750\",\"\", \"2100-2450\", \"\", \"\", \"3150-3500\"])"
   ]
  }
 ],
 "metadata": {
  "kernelspec": {
   "display_name": "Python 3 (ipykernel)",
   "language": "python",
   "name": "python3"
  },
  "language_info": {
   "codemirror_mode": {
    "name": "ipython",
    "version": 3
   },
   "file_extension": ".py",
   "mimetype": "text/x-python",
   "name": "python",
   "nbconvert_exporter": "python",
   "pygments_lexer": "ipython3",
   "version": "3.8.13"
  }
 },
 "nbformat": 4,
 "nbformat_minor": 5
}
