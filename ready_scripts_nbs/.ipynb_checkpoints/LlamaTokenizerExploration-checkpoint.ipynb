{
 "cells": [
  {
   "cell_type": "code",
   "execution_count": 2,
   "id": "cbde6cbf-9ae2-4955-8e5d-77d6c7bea6fe",
   "metadata": {},
   "outputs": [],
   "source": [
    "from llama import ModelArgs, Transformer, Tokenizer, LLaMA"
   ]
  },
  {
   "cell_type": "code",
   "execution_count": 5,
   "id": "3c2063dd-af3e-4f80-b348-2c946933173e",
   "metadata": {},
   "outputs": [
    {
     "name": "stderr",
     "output_type": "stream",
     "text": [
      "normalizer.cc(51) LOG(INFO) precompiled_charsmap is empty. use identity normalization.\n"
     ]
    }
   ],
   "source": [
    "tokenizer = Tokenizer(model_path=\"/userfiles/bozyurt20/llama/llama_weights/tokenizer.model\")"
   ]
  },
  {
   "cell_type": "code",
   "execution_count": 12,
   "id": "cea5dd04-d4ca-482e-ac33-7a0a16c9784a",
   "metadata": {},
   "outputs": [],
   "source": [
    "x = tokenizer.encode(\"Hello, how are you\", bos=True, eos=True)"
   ]
  },
  {
   "cell_type": "code",
   "execution_count": 15,
   "id": "1aee13b3-3ca2-4b60-aff0-40b8ed04ec4c",
   "metadata": {},
   "outputs": [
    {
     "ename": "TypeError",
     "evalue": "decode() got an unexpected keyword argument 'skip_special_tokens'",
     "output_type": "error",
     "traceback": [
      "\u001b[0;31m---------------------------------------------------------------------------\u001b[0m",
      "\u001b[0;31mTypeError\u001b[0m                                 Traceback (most recent call last)",
      "Cell \u001b[0;32mIn[15], line 1\u001b[0m\n\u001b[0;32m----> 1\u001b[0m \u001b[43mtokenizer\u001b[49m\u001b[38;5;241;43m.\u001b[39;49m\u001b[43mdecode\u001b[49m\u001b[43m(\u001b[49m\u001b[43mx\u001b[49m\u001b[43m,\u001b[49m\u001b[43m \u001b[49m\u001b[43mskip_special_tokens\u001b[49m\u001b[38;5;241;43m=\u001b[39;49m\u001b[38;5;28;43;01mTrue\u001b[39;49;00m\u001b[43m)\u001b[49m\n",
      "\u001b[0;31mTypeError\u001b[0m: decode() got an unexpected keyword argument 'skip_special_tokens'"
     ]
    }
   ],
   "source": [
    "tokenizer.decode(x, skip_special_tokens=True)"
   ]
  },
  {
   "cell_type": "code",
   "execution_count": 14,
   "id": "9cba65f5-46b2-4d4c-81c3-b88c3c21b383",
   "metadata": {},
   "outputs": [
    {
     "data": {
      "text/plain": [
       "[1, 15043, 29892, 920, 526, 366, 2]"
      ]
     },
     "execution_count": 14,
     "metadata": {},
     "output_type": "execute_result"
    }
   ],
   "source": [
    "x"
   ]
  }
 ],
 "metadata": {
  "kernelspec": {
   "display_name": "Python 3 (ipykernel)",
   "language": "python",
   "name": "python3"
  },
  "language_info": {
   "codemirror_mode": {
    "name": "ipython",
    "version": 3
   },
   "file_extension": ".py",
   "mimetype": "text/x-python",
   "name": "python",
   "nbconvert_exporter": "python",
   "pygments_lexer": "ipython3",
   "version": "3.8.13"
  }
 },
 "nbformat": 4,
 "nbformat_minor": 5
}
