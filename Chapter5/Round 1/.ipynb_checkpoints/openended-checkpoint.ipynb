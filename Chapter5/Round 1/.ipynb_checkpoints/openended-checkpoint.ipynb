{
 "cells": [
  {
   "cell_type": "code",
   "execution_count": 1,
   "id": "81b362a7-ee23-46ef-a91d-e396567f4e5a",
   "metadata": {},
   "outputs": [],
   "source": [
    "from transformers import AutoTokenizer, AutoModelForSeq2SeqLM\n",
    "import transformers\n",
    "import torch\n",
    "\n",
    "import os\n",
    "import nltk\n",
    "import pandas as pd\n",
    "import torch\n",
    "import numpy as np\n",
    "from jinja2 import Template\n",
    "import xmltodict\n",
    "import pickle\n",
    "from collections import defaultdict\n",
    "\n",
    "from fuzzywuzzy import fuzz\n",
    "\n",
    "from nltk.corpus import stopwords\n",
    "from nltk.tokenize import word_tokenize\n",
    "\n",
    "import sys\n",
    "sys.path.append('/scratch/users/bozyurt20/hpc_run/utilities')\n",
    "sys.path.append(\"/scratch/users/bozyurt20/hpc_run/blobs/\")\n",
    "from util_research import *\n",
    "max_len = 512\n",
    "num_layers = 24\n",
    "d_model = 4096"
   ]
  },
  {
   "cell_type": "code",
   "execution_count": 26,
   "id": "04d0c0d7-fa10-46ac-9a3b-c0f0b38aabf9",
   "metadata": {},
   "outputs": [],
   "source": [
    "tokenizer = AutoTokenizer.from_pretrained(\"bigscience/T0pp\", truncation_side=\"right\", add_prefix_space=True)"
   ]
  },
  {
   "cell_type": "code",
   "execution_count": 2,
   "id": "d32aa954-ccd9-4ac8-883d-e4af2856fe99",
   "metadata": {},
   "outputs": [],
   "source": [
    "tokenizer = AutoTokenizer.from_pretrained(\"bigscience/T0pp\", truncation_side=\"right\", add_prefix_space=True)\n",
    "model = AutoModelForSeq2SeqLM.from_pretrained(\"bigscience/T0pp\")#, device_map=\"auto\", load_in_8bit=True)"
   ]
  },
  {
   "cell_type": "code",
   "execution_count": 3,
   "id": "5175b0ef-ae79-4e16-9b9f-af9ec5612b1e",
   "metadata": {},
   "outputs": [],
   "source": [
    "def find_index_one(input_ids, entity_str, index):\n",
    "    \n",
    "    entity_id = tokenizer.encode(entity_str)\n",
    "    if len(entity_id) != 2:\n",
    "        print(\"Not an appropriate entity!\")\n",
    "        return\n",
    "    entity_id = entity_id[0]\n",
    "    \n",
    "    input_ids_list = input_ids.tolist()\n",
    "\n",
    "    all_entity_mention_indices = []\n",
    "    for i, j in enumerate(input_ids_list[0]):\n",
    "        if j == entity_id:\n",
    "            all_entity_mention_indices.append(i)\n",
    "    try:\n",
    "        entity_ind = all_entity_mention_indices[index]\n",
    "        return entity_ind\n",
    "    except:\n",
    "        print(\"entity not found in the input!\")\n",
    "        return"
   ]
  },
  {
   "cell_type": "code",
   "execution_count": 4,
   "id": "113718af-2a4f-4f2e-8538-7a0bcb1607f9",
   "metadata": {},
   "outputs": [],
   "source": [
    "from toy_dataset import contexts"
   ]
  },
  {
   "cell_type": "markdown",
   "id": "46c83bdc-8917-485a-984a-305e86a04cfd",
   "metadata": {},
   "source": [
    "# PART 1: Regular Prompt"
   ]
  },
  {
   "cell_type": "code",
   "execution_count": 5,
   "id": "1262375e-9409-43cd-8b79-20b4fb228335",
   "metadata": {
    "tags": []
   },
   "outputs": [
    {
     "name": "stdout",
     "output_type": "stream",
     "text": [
      "Question: \"Where was John?\"\n",
      "Context: \"John went to the park. John was very happy.\"\n",
      "Answer:\n"
     ]
    }
   ],
   "source": [
    "tm = Template(\"\"\"Question: \"{{question}}\"\n",
    "Context: \"{{context}}\"\n",
    "Answer:\"\"\")\n",
    "\n",
    "context = contexts[0]\n",
    "answer_choices = [\"park\", \"London\", \"kitchen\", \"room\"]\n",
    "question = \"Where was John?\"\n",
    "prompt = tm.render(context=context, question=question)\n",
    "print(prompt)"
   ]
  },
  {
   "cell_type": "code",
   "execution_count": 8,
   "id": "42930c72-3da7-4337-a96a-b89e804904c8",
   "metadata": {},
   "outputs": [
    {
     "name": "stdout",
     "output_type": "stream",
     "text": [
      "new code working-utils\n",
      "new code working-modeling_t5\n",
      "llama generation happening.\n",
      "new code working-modeling_t5\n"
     ]
    }
   ],
   "source": [
    "input_ids = tokenizer.encode(prompt, return_tensors=\"pt\")\n",
    "out = model.generate(input_ids, max_new_tokens=1, return_dict_in_generate=True, output_scores=True)"
   ]
  },
  {
   "cell_type": "code",
   "execution_count": 9,
   "id": "e342e9d1-5f45-4eba-be5f-4312d37caf2c",
   "metadata": {},
   "outputs": [
    {
     "data": {
      "text/plain": [
       "0.2379118651151657"
      ]
     },
     "execution_count": 9,
     "metadata": {},
     "output_type": "execute_result"
    }
   ],
   "source": [
    "next_token_scores = torch.nn.functional.softmax(\n",
    "                out.scores[0], dim=-1\n",
    "            )  # (batch_size * num_beams, vocab_size)\n",
    "loc_token = tokenizer.encode(\"park\")[0]\n",
    "probability = next_token_scores[0][loc_token].item()\n",
    "probability"
   ]
  },
  {
   "cell_type": "code",
   "execution_count": 11,
   "id": "3b549d08-2a97-48ab-8403-a7840d1d0b62",
   "metadata": {},
   "outputs": [
    {
     "data": {
      "text/plain": [
       "0.3644513785839081"
      ]
     },
     "execution_count": 11,
     "metadata": {},
     "output_type": "execute_result"
    }
   ],
   "source": [
    "next_token_scores[0][1079].item()"
   ]
  },
  {
   "cell_type": "code",
   "execution_count": 10,
   "id": "8f4b24e8-efc4-492b-8fb6-769ca13d9745",
   "metadata": {},
   "outputs": [
    {
     "data": {
      "text/plain": [
       "tensor([1079])"
      ]
     },
     "execution_count": 10,
     "metadata": {},
     "output_type": "execute_result"
    }
   ],
   "source": [
    "torch.argmax(out.scores[0], dim=-1)"
   ]
  },
  {
   "cell_type": "code",
   "execution_count": 12,
   "id": "d3958f79-5909-47b3-935e-01156ea9a1d4",
   "metadata": {},
   "outputs": [
    {
     "data": {
      "text/plain": [
       "'John'"
      ]
     },
     "execution_count": 12,
     "metadata": {},
     "output_type": "execute_result"
    }
   ],
   "source": [
    "tokenizer.decode(1079)"
   ]
  },
  {
   "cell_type": "markdown",
   "id": "5ef0a57c-b8cf-4a53-ac56-fff3bd260fd0",
   "metadata": {},
   "source": [
    "# PART 2: Corrupted Run Probabilities"
   ]
  },
  {
   "cell_type": "code",
   "execution_count": 13,
   "id": "38c9b2fe-c5fc-4e9c-8de2-d79327f920fd",
   "metadata": {},
   "outputs": [
    {
     "name": "stdout",
     "output_type": "stream",
     "text": [
      "Question: \"Where was John?\"\n",
      "Context: \"I have never played Monopoly. I am not very happy.\"\n",
      "Answer:\n"
     ]
    }
   ],
   "source": [
    "tm = Template(\"\"\"Question: \"{{question}}\"\n",
    "Context: \"{{context}}\"\n",
    "Answer:\"\"\")\n",
    "\n",
    "context = \"I have never played Monopoly. I am not very happy.\"\n",
    "answer_choices = [\"park\", \"London\", \"kitchen\", \"room\"]\n",
    "question = \"Where was John?\"\n",
    "prompt = tm.render(context=context, question=question)\n",
    "print(prompt)"
   ]
  },
  {
   "cell_type": "code",
   "execution_count": 14,
   "id": "78128356-56a2-4e64-900c-c4b2014b82c0",
   "metadata": {},
   "outputs": [
    {
     "name": "stdout",
     "output_type": "stream",
     "text": [
      "new code working-utils\n",
      "new code working-modeling_t5\n",
      "llama generation happening.\n",
      "new code working-modeling_t5\n"
     ]
    }
   ],
   "source": [
    "input_ids = tokenizer.encode(prompt, return_tensors=\"pt\")\n",
    "out = model.generate(input_ids, max_new_tokens=1, return_dict_in_generate=True, output_scores=True)"
   ]
  },
  {
   "cell_type": "code",
   "execution_count": 15,
   "id": "8e72e1b7-7dfd-4f0a-b479-f90788d2ec4a",
   "metadata": {},
   "outputs": [
    {
     "data": {
      "text/plain": [
       "0.00013248974573798478"
      ]
     },
     "execution_count": 15,
     "metadata": {},
     "output_type": "execute_result"
    }
   ],
   "source": [
    "next_token_scores = torch.nn.functional.softmax(\n",
    "                out.scores[0], dim=-1\n",
    "            )  # (batch_size * num_beams, vocab_size)\n",
    "loc_token = tokenizer.encode(\"park\")[0]\n",
    "probability = next_token_scores[0][loc_token].item()\n",
    "probability"
   ]
  },
  {
   "cell_type": "markdown",
   "id": "33d31d97-ad73-453b-84fa-307dba924a46",
   "metadata": {},
   "source": [
    "# PART 3: Move Character Embeddings"
   ]
  },
  {
   "cell_type": "code",
   "execution_count": 35,
   "id": "5cddb2f1-dcd6-4ad3-a0cd-6b27762a571e",
   "metadata": {},
   "outputs": [
    {
     "name": "stdout",
     "output_type": "stream",
     "text": [
      "Question: \"Where was  John?\"\n",
      "Context: \" John went to the park.  John was very happy.\"\n",
      "Answer:\n"
     ]
    }
   ],
   "source": [
    "tm = Template(\"\"\"Question: \"{{question}}\"\n",
    "Context: \"{{context}}\"\n",
    "Answer:\"\"\")\n",
    "\n",
    "context = contexts[0]\n",
    "answer_choices = [\"park\", \"London\", \"kitchen\", \"room\"]\n",
    "question = \"Where was John?\"\n",
    "prompt = tm.render(context=context, question=question)\n",
    "prompt = prompt.replace(\"John\", \" John\")\n",
    "print(prompt)"
   ]
  },
  {
   "cell_type": "code",
   "execution_count": 36,
   "id": "8d784459-f09e-412a-8494-7fdb785ded70",
   "metadata": {},
   "outputs": [
    {
     "name": "stdout",
     "output_type": "stream",
     "text": [
      "new code working-modeling_t5\n"
     ]
    }
   ],
   "source": [
    "input_ids = tokenizer.encode(prompt, return_tensors=\"pt\")\n",
    "len_input_ids = len(input_ids[0])\n",
    "out = model.encoder(input_ids, output_special=True)\n",
    "special_hidden = out.special_hidden_states # 24 x (1, T, d)\n",
    "    \n",
    "special_reformatted = torch.zeros(num_layers, len_input_ids, d_model) # (24, T, d)\n",
    "for i, hidden in enumerate(special_hidden):\n",
    "    special_reformatted[i:i+1, :, :] = hidden"
   ]
  },
  {
   "cell_type": "code",
   "execution_count": 29,
   "id": "cf793cbb-89cd-4838-bcf3-7e862a336c53",
   "metadata": {},
   "outputs": [
    {
     "data": {
      "text/plain": [
       "tensor([[11860,    10,    96, 25217,    47,  1079,  4609,  1193,  6327,    10,\n",
       "            96, 18300,   877,    12,     8,  2447,     5,  1079,    47,   182,\n",
       "          1095,   535, 11801,    10,     1]])"
      ]
     },
     "execution_count": 29,
     "metadata": {},
     "output_type": "execute_result"
    }
   ],
   "source": [
    "input_ids"
   ]
  },
  {
   "cell_type": "code",
   "execution_count": 37,
   "id": "ca67d36f-48cc-4e83-82ab-362a5a837349",
   "metadata": {},
   "outputs": [
    {
     "data": {
      "text/plain": [
       "tensor([[11860,    10,    96, 25217,    47,  1079,  4609,  1193,  6327,    10,\n",
       "            96,  1079,   877,    12,     8,  2447,     5,  1079,    47,   182,\n",
       "          1095,   535, 11801,    10,     1]])"
      ]
     },
     "execution_count": 37,
     "metadata": {},
     "output_type": "execute_result"
    }
   ],
   "source": [
    "input_ids"
   ]
  },
  {
   "cell_type": "code",
   "execution_count": 34,
   "id": "709fd421-493a-44bc-9da0-c5ea5314fd91",
   "metadata": {},
   "outputs": [
    {
     "data": {
      "text/plain": [
       "[96, 1079, 1]"
      ]
     },
     "execution_count": 34,
     "metadata": {},
     "output_type": "execute_result"
    }
   ],
   "source": [
    "tokenizer.encode(\"\"\"\"     John\"\"\")"
   ]
  },
  {
   "cell_type": "code",
   "execution_count": 38,
   "id": "f79bf4a6-b589-44bf-b662-0d73d0baeed0",
   "metadata": {},
   "outputs": [],
   "source": [
    "entity_ind = find_index_one(input_ids, \"John\", 2)\n",
    "entity_hidden_state = special_reformatted[:, entity_ind, :].unsqueeze(0)"
   ]
  },
  {
   "cell_type": "code",
   "execution_count": 39,
   "id": "3b56efaa-fe46-422a-b70e-2a9efca19a3d",
   "metadata": {},
   "outputs": [
    {
     "name": "stdout",
     "output_type": "stream",
     "text": [
      "Question: \"Where was John?\"\n",
      "Context: \" John I have never played Monopoly. I am not very happy.\"\n",
      "Answer:\n"
     ]
    }
   ],
   "source": [
    "tm = Template(\"\"\"Question: \"{{question}}\"\n",
    "Context: \"{{context}}\"\n",
    "Answer:\"\"\")\n",
    "\n",
    "context = \"I have never played Monopoly. I am not very happy.\"\n",
    "context = \" John \" + context\n",
    "answer_choices = [\"park\", \"London\", \"kitchen\", \"room\"]\n",
    "question = \"Where was John?\"\n",
    "prompt = tm.render(context=context, question=question)\n",
    "print(prompt)"
   ]
  },
  {
   "cell_type": "code",
   "execution_count": 40,
   "id": "e5ed2fe5-255f-45fb-8469-21d6895be117",
   "metadata": {},
   "outputs": [
    {
     "name": "stdout",
     "output_type": "stream",
     "text": [
      "new code working-utils\n",
      "new code working-modeling_t5\n",
      "llama generation happening.\n",
      "new code working-modeling_t5\n"
     ]
    }
   ],
   "source": [
    "input_ids = tokenizer.encode(prompt, return_tensors=\"pt\")\n",
    "entity_inds = [ find_index_one(input_ids, \"John\", 0) ]\n",
    "out = model.generate(input_ids=input_ids, entity_hidden_states=entity_hidden_state, entity_inds=entity_inds, max_new_tokens=1, return_dict_in_generate=True, output_scores=True)    "
   ]
  },
  {
   "cell_type": "code",
   "execution_count": 42,
   "id": "9a391a4d-0b32-43ef-bd3f-9f2db8207ccd",
   "metadata": {},
   "outputs": [
    {
     "data": {
      "text/plain": [
       "3.90733803214971e-05"
      ]
     },
     "execution_count": 42,
     "metadata": {},
     "output_type": "execute_result"
    }
   ],
   "source": [
    "next_token_scores = torch.nn.functional.softmax(\n",
    "                out.scores[0], dim=-1\n",
    "            )  # (batch_size * num_beams, vocab_size)\n",
    "loc_token = tokenizer.encode(\"park\")[0]\n",
    "probability = next_token_scores[0][loc_token].item()\n",
    "probability"
   ]
  },
  {
   "cell_type": "code",
   "execution_count": null,
   "id": "1b5545bc-6e54-4213-858a-3ec0d0cef8ad",
   "metadata": {},
   "outputs": [],
   "source": []
  }
 ],
 "metadata": {
  "kernelspec": {
   "display_name": "Python 3 (ipykernel)",
   "language": "python",
   "name": "python3"
  },
  "language_info": {
   "codemirror_mode": {
    "name": "ipython",
    "version": 3
   },
   "file_extension": ".py",
   "mimetype": "text/x-python",
   "name": "python",
   "nbconvert_exporter": "python",
   "pygments_lexer": "ipython3",
   "version": "3.8.13"
  }
 },
 "nbformat": 4,
 "nbformat_minor": 5
}
