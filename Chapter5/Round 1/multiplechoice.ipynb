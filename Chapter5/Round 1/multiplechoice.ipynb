{
 "cells": [
  {
   "cell_type": "code",
   "execution_count": 19,
   "id": "1a29b66c-06ac-4b12-b842-5b6fe4cbae04",
   "metadata": {},
   "outputs": [],
   "source": [
    "from transformers import AutoTokenizer, AutoModelForSeq2SeqLM\n",
    "import transformers\n",
    "import torch\n",
    "import os\n",
    "import nltk\n",
    "import pandas as pd\n",
    "import torch\n",
    "import numpy as np\n",
    "from jinja2 import Template\n",
    "import xmltodict\n",
    "import pickle\n",
    "from collections import defaultdict\n",
    "from fuzzywuzzy import fuzz\n",
    "from nltk.corpus import stopwords\n",
    "from nltk.tokenize import word_tokenize\n",
    "\n",
    "import sys\n",
    "sys.path.append('/scratch/users/bozyurt20/hpc_run/utilities')\n",
    "sys.path.append(\"/scratch/users/bozyurt20/hpc_run/blobs/\")\n",
    "from util_research import *\n",
    "\n",
    "from toy_dataset import contexts\n",
    "\n",
    "max_len = 512\n",
    "num_layers = 24\n",
    "d_model = 4096"
   ]
  },
  {
   "cell_type": "code",
   "execution_count": 20,
   "id": "8a295e2f-bfdd-4f76-87d4-f92ce640df21",
   "metadata": {
    "collapsed": true,
    "jupyter": {
     "outputs_hidden": true
    },
    "tags": []
   },
   "outputs": [
    {
     "ename": "KeyboardInterrupt",
     "evalue": "",
     "output_type": "error",
     "traceback": [
      "\u001b[0;31m---------------------------------------------------------------------------\u001b[0m",
      "\u001b[0;31mKeyboardInterrupt\u001b[0m                         Traceback (most recent call last)",
      "Cell \u001b[0;32mIn[20], line 2\u001b[0m\n\u001b[1;32m      1\u001b[0m tokenizer \u001b[38;5;241m=\u001b[39m AutoTokenizer\u001b[38;5;241m.\u001b[39mfrom_pretrained(\u001b[38;5;124m\"\u001b[39m\u001b[38;5;124mbigscience/T0pp\u001b[39m\u001b[38;5;124m\"\u001b[39m, truncation_side\u001b[38;5;241m=\u001b[39m\u001b[38;5;124m\"\u001b[39m\u001b[38;5;124mright\u001b[39m\u001b[38;5;124m\"\u001b[39m)\n\u001b[0;32m----> 2\u001b[0m model \u001b[38;5;241m=\u001b[39m \u001b[43mAutoModelForSeq2SeqLM\u001b[49m\u001b[38;5;241;43m.\u001b[39;49m\u001b[43mfrom_pretrained\u001b[49m\u001b[43m(\u001b[49m\u001b[38;5;124;43m\"\u001b[39;49m\u001b[38;5;124;43mbigscience/T0pp\u001b[39;49m\u001b[38;5;124;43m\"\u001b[39;49m\u001b[43m)\u001b[49m\u001b[38;5;66;03m#, device_map=\"auto\", load_in_8bit=True)\u001b[39;00m\n",
      "File \u001b[0;32m~/.conda/envs/hf/lib/python3.8/site-packages/transformers/models/auto/auto_factory.py:471\u001b[0m, in \u001b[0;36m_BaseAutoModelClass.from_pretrained\u001b[0;34m(cls, pretrained_model_name_or_path, *model_args, **kwargs)\u001b[0m\n\u001b[1;32m    469\u001b[0m \u001b[38;5;28;01melif\u001b[39;00m \u001b[38;5;28mtype\u001b[39m(config) \u001b[38;5;129;01min\u001b[39;00m \u001b[38;5;28mcls\u001b[39m\u001b[38;5;241m.\u001b[39m_model_mapping\u001b[38;5;241m.\u001b[39mkeys():\n\u001b[1;32m    470\u001b[0m     model_class \u001b[38;5;241m=\u001b[39m _get_model_class(config, \u001b[38;5;28mcls\u001b[39m\u001b[38;5;241m.\u001b[39m_model_mapping)\n\u001b[0;32m--> 471\u001b[0m     \u001b[38;5;28;01mreturn\u001b[39;00m \u001b[43mmodel_class\u001b[49m\u001b[38;5;241;43m.\u001b[39;49m\u001b[43mfrom_pretrained\u001b[49m\u001b[43m(\u001b[49m\n\u001b[1;32m    472\u001b[0m \u001b[43m        \u001b[49m\u001b[43mpretrained_model_name_or_path\u001b[49m\u001b[43m,\u001b[49m\u001b[43m \u001b[49m\u001b[38;5;241;43m*\u001b[39;49m\u001b[43mmodel_args\u001b[49m\u001b[43m,\u001b[49m\u001b[43m \u001b[49m\u001b[43mconfig\u001b[49m\u001b[38;5;241;43m=\u001b[39;49m\u001b[43mconfig\u001b[49m\u001b[43m,\u001b[49m\u001b[43m \u001b[49m\u001b[38;5;241;43m*\u001b[39;49m\u001b[38;5;241;43m*\u001b[39;49m\u001b[43mhub_kwargs\u001b[49m\u001b[43m,\u001b[49m\u001b[43m \u001b[49m\u001b[38;5;241;43m*\u001b[39;49m\u001b[38;5;241;43m*\u001b[39;49m\u001b[43mkwargs\u001b[49m\n\u001b[1;32m    473\u001b[0m \u001b[43m    \u001b[49m\u001b[43m)\u001b[49m\n\u001b[1;32m    474\u001b[0m \u001b[38;5;28;01mraise\u001b[39;00m \u001b[38;5;167;01mValueError\u001b[39;00m(\n\u001b[1;32m    475\u001b[0m     \u001b[38;5;124mf\u001b[39m\u001b[38;5;124m\"\u001b[39m\u001b[38;5;124mUnrecognized configuration class \u001b[39m\u001b[38;5;132;01m{\u001b[39;00mconfig\u001b[38;5;241m.\u001b[39m\u001b[38;5;18m__class__\u001b[39m\u001b[38;5;132;01m}\u001b[39;00m\u001b[38;5;124m for this kind of AutoModel: \u001b[39m\u001b[38;5;132;01m{\u001b[39;00m\u001b[38;5;28mcls\u001b[39m\u001b[38;5;241m.\u001b[39m\u001b[38;5;18m__name__\u001b[39m\u001b[38;5;132;01m}\u001b[39;00m\u001b[38;5;124m.\u001b[39m\u001b[38;5;130;01m\\n\u001b[39;00m\u001b[38;5;124m\"\u001b[39m\n\u001b[1;32m    476\u001b[0m     \u001b[38;5;124mf\u001b[39m\u001b[38;5;124m\"\u001b[39m\u001b[38;5;124mModel type should be one of \u001b[39m\u001b[38;5;132;01m{\u001b[39;00m\u001b[38;5;124m'\u001b[39m\u001b[38;5;124m, \u001b[39m\u001b[38;5;124m'\u001b[39m\u001b[38;5;241m.\u001b[39mjoin(c\u001b[38;5;241m.\u001b[39m\u001b[38;5;18m__name__\u001b[39m \u001b[38;5;28;01mfor\u001b[39;00m c \u001b[38;5;129;01min\u001b[39;00m \u001b[38;5;28mcls\u001b[39m\u001b[38;5;241m.\u001b[39m_model_mapping\u001b[38;5;241m.\u001b[39mkeys())\u001b[38;5;132;01m}\u001b[39;00m\u001b[38;5;124m.\u001b[39m\u001b[38;5;124m\"\u001b[39m\n\u001b[1;32m    477\u001b[0m )\n",
      "File \u001b[0;32m~/.conda/envs/hf/lib/python3.8/site-packages/transformers/modeling_utils.py:2560\u001b[0m, in \u001b[0;36mPreTrainedModel.from_pretrained\u001b[0;34m(cls, pretrained_model_name_or_path, *model_args, **kwargs)\u001b[0m\n\u001b[1;32m   2557\u001b[0m \u001b[38;5;28;01mif\u001b[39;00m from_pt:\n\u001b[1;32m   2558\u001b[0m     \u001b[38;5;28;01mif\u001b[39;00m \u001b[38;5;129;01mnot\u001b[39;00m is_sharded \u001b[38;5;129;01mand\u001b[39;00m state_dict \u001b[38;5;129;01mis\u001b[39;00m \u001b[38;5;28;01mNone\u001b[39;00m:\n\u001b[1;32m   2559\u001b[0m         \u001b[38;5;66;03m# Time to load the checkpoint\u001b[39;00m\n\u001b[0;32m-> 2560\u001b[0m         state_dict \u001b[38;5;241m=\u001b[39m \u001b[43mload_state_dict\u001b[49m\u001b[43m(\u001b[49m\u001b[43mresolved_archive_file\u001b[49m\u001b[43m)\u001b[49m\n\u001b[1;32m   2562\u001b[0m     \u001b[38;5;66;03m# set dtype to instantiate the model under:\u001b[39;00m\n\u001b[1;32m   2563\u001b[0m     \u001b[38;5;66;03m# 1. If torch_dtype is not None, we use that dtype\u001b[39;00m\n\u001b[1;32m   2564\u001b[0m     \u001b[38;5;66;03m# 2. If torch_dtype is \"auto\", we auto-detect dtype from the loaded state_dict, by checking its first\u001b[39;00m\n\u001b[1;32m   2565\u001b[0m     \u001b[38;5;66;03m#    weights entry that is of a floating type - we assume all floating dtype weights are of the same dtype\u001b[39;00m\n\u001b[1;32m   2566\u001b[0m     \u001b[38;5;66;03m# we also may have config.torch_dtype available, but we won't rely on it till v5\u001b[39;00m\n\u001b[1;32m   2567\u001b[0m     dtype_orig \u001b[38;5;241m=\u001b[39m \u001b[38;5;28;01mNone\u001b[39;00m\n",
      "File \u001b[0;32m~/.conda/envs/hf/lib/python3.8/site-packages/transformers/modeling_utils.py:442\u001b[0m, in \u001b[0;36mload_state_dict\u001b[0;34m(checkpoint_file)\u001b[0m\n\u001b[1;32m    440\u001b[0m     \u001b[38;5;28;01mreturn\u001b[39;00m safe_load_file(checkpoint_file)\n\u001b[1;32m    441\u001b[0m \u001b[38;5;28;01mtry\u001b[39;00m:\n\u001b[0;32m--> 442\u001b[0m     \u001b[38;5;28;01mreturn\u001b[39;00m \u001b[43mtorch\u001b[49m\u001b[38;5;241;43m.\u001b[39;49m\u001b[43mload\u001b[49m\u001b[43m(\u001b[49m\u001b[43mcheckpoint_file\u001b[49m\u001b[43m,\u001b[49m\u001b[43m \u001b[49m\u001b[43mmap_location\u001b[49m\u001b[38;5;241;43m=\u001b[39;49m\u001b[38;5;124;43m\"\u001b[39;49m\u001b[38;5;124;43mcpu\u001b[39;49m\u001b[38;5;124;43m\"\u001b[39;49m\u001b[43m)\u001b[49m\n\u001b[1;32m    443\u001b[0m \u001b[38;5;28;01mexcept\u001b[39;00m \u001b[38;5;167;01mException\u001b[39;00m \u001b[38;5;28;01mas\u001b[39;00m e:\n\u001b[1;32m    444\u001b[0m     \u001b[38;5;28;01mtry\u001b[39;00m:\n",
      "File \u001b[0;32m~/.conda/envs/hf/lib/python3.8/site-packages/torch/serialization.py:789\u001b[0m, in \u001b[0;36mload\u001b[0;34m(f, map_location, pickle_module, weights_only, **pickle_load_args)\u001b[0m\n\u001b[1;32m    787\u001b[0m             \u001b[38;5;28;01mexcept\u001b[39;00m \u001b[38;5;167;01mRuntimeError\u001b[39;00m \u001b[38;5;28;01mas\u001b[39;00m e:\n\u001b[1;32m    788\u001b[0m                 \u001b[38;5;28;01mraise\u001b[39;00m pickle\u001b[38;5;241m.\u001b[39mUnpicklingError(UNSAFE_MESSAGE \u001b[38;5;241m+\u001b[39m \u001b[38;5;28mstr\u001b[39m(e)) \u001b[38;5;28;01mfrom\u001b[39;00m \u001b[38;5;28mNone\u001b[39m\n\u001b[0;32m--> 789\u001b[0m         \u001b[38;5;28;01mreturn\u001b[39;00m \u001b[43m_load\u001b[49m\u001b[43m(\u001b[49m\u001b[43mopened_zipfile\u001b[49m\u001b[43m,\u001b[49m\u001b[43m \u001b[49m\u001b[43mmap_location\u001b[49m\u001b[43m,\u001b[49m\u001b[43m \u001b[49m\u001b[43mpickle_module\u001b[49m\u001b[43m,\u001b[49m\u001b[43m \u001b[49m\u001b[38;5;241;43m*\u001b[39;49m\u001b[38;5;241;43m*\u001b[39;49m\u001b[43mpickle_load_args\u001b[49m\u001b[43m)\u001b[49m\n\u001b[1;32m    790\u001b[0m \u001b[38;5;28;01mif\u001b[39;00m weights_only:\n\u001b[1;32m    791\u001b[0m     \u001b[38;5;28;01mtry\u001b[39;00m:\n",
      "File \u001b[0;32m~/.conda/envs/hf/lib/python3.8/site-packages/torch/serialization.py:1131\u001b[0m, in \u001b[0;36m_load\u001b[0;34m(zip_file, map_location, pickle_module, pickle_file, **pickle_load_args)\u001b[0m\n\u001b[1;32m   1129\u001b[0m unpickler \u001b[38;5;241m=\u001b[39m UnpicklerWrapper(data_file, \u001b[38;5;241m*\u001b[39m\u001b[38;5;241m*\u001b[39mpickle_load_args)\n\u001b[1;32m   1130\u001b[0m unpickler\u001b[38;5;241m.\u001b[39mpersistent_load \u001b[38;5;241m=\u001b[39m persistent_load\n\u001b[0;32m-> 1131\u001b[0m result \u001b[38;5;241m=\u001b[39m \u001b[43munpickler\u001b[49m\u001b[38;5;241;43m.\u001b[39;49m\u001b[43mload\u001b[49m\u001b[43m(\u001b[49m\u001b[43m)\u001b[49m\n\u001b[1;32m   1133\u001b[0m torch\u001b[38;5;241m.\u001b[39m_utils\u001b[38;5;241m.\u001b[39m_validate_loaded_sparse_tensors()\n\u001b[1;32m   1135\u001b[0m \u001b[38;5;28;01mreturn\u001b[39;00m result\n",
      "File \u001b[0;32m~/.conda/envs/hf/lib/python3.8/site-packages/torch/serialization.py:1101\u001b[0m, in \u001b[0;36m_load.<locals>.persistent_load\u001b[0;34m(saved_id)\u001b[0m\n\u001b[1;32m   1099\u001b[0m \u001b[38;5;28;01mif\u001b[39;00m key \u001b[38;5;129;01mnot\u001b[39;00m \u001b[38;5;129;01min\u001b[39;00m loaded_storages:\n\u001b[1;32m   1100\u001b[0m     nbytes \u001b[38;5;241m=\u001b[39m numel \u001b[38;5;241m*\u001b[39m torch\u001b[38;5;241m.\u001b[39m_utils\u001b[38;5;241m.\u001b[39m_element_size(dtype)\n\u001b[0;32m-> 1101\u001b[0m     \u001b[43mload_tensor\u001b[49m\u001b[43m(\u001b[49m\u001b[43mdtype\u001b[49m\u001b[43m,\u001b[49m\u001b[43m \u001b[49m\u001b[43mnbytes\u001b[49m\u001b[43m,\u001b[49m\u001b[43m \u001b[49m\u001b[43mkey\u001b[49m\u001b[43m,\u001b[49m\u001b[43m \u001b[49m\u001b[43m_maybe_decode_ascii\u001b[49m\u001b[43m(\u001b[49m\u001b[43mlocation\u001b[49m\u001b[43m)\u001b[49m\u001b[43m)\u001b[49m\n\u001b[1;32m   1103\u001b[0m \u001b[38;5;28;01mreturn\u001b[39;00m loaded_storages[key]\n",
      "File \u001b[0;32m~/.conda/envs/hf/lib/python3.8/site-packages/torch/serialization.py:1079\u001b[0m, in \u001b[0;36m_load.<locals>.load_tensor\u001b[0;34m(dtype, numel, key, location)\u001b[0m\n\u001b[1;32m   1076\u001b[0m \u001b[38;5;28;01mdef\u001b[39;00m \u001b[38;5;21mload_tensor\u001b[39m(dtype, numel, key, location):\n\u001b[1;32m   1077\u001b[0m     name \u001b[38;5;241m=\u001b[39m \u001b[38;5;124mf\u001b[39m\u001b[38;5;124m'\u001b[39m\u001b[38;5;124mdata/\u001b[39m\u001b[38;5;132;01m{\u001b[39;00mkey\u001b[38;5;132;01m}\u001b[39;00m\u001b[38;5;124m'\u001b[39m\n\u001b[0;32m-> 1079\u001b[0m     storage \u001b[38;5;241m=\u001b[39m \u001b[43mzip_file\u001b[49m\u001b[38;5;241;43m.\u001b[39;49m\u001b[43mget_storage_from_record\u001b[49m\u001b[43m(\u001b[49m\u001b[43mname\u001b[49m\u001b[43m,\u001b[49m\u001b[43m \u001b[49m\u001b[43mnumel\u001b[49m\u001b[43m,\u001b[49m\u001b[43m \u001b[49m\u001b[43mtorch\u001b[49m\u001b[38;5;241;43m.\u001b[39;49m\u001b[43mUntypedStorage\u001b[49m\u001b[43m)\u001b[49m\u001b[38;5;241m.\u001b[39mstorage()\u001b[38;5;241m.\u001b[39muntyped()\n\u001b[1;32m   1080\u001b[0m     \u001b[38;5;66;03m# TODO: Once we decide to break serialization FC, we can\u001b[39;00m\n\u001b[1;32m   1081\u001b[0m     \u001b[38;5;66;03m# stop wrapping with TypedStorage\u001b[39;00m\n\u001b[1;32m   1082\u001b[0m     loaded_storages[key] \u001b[38;5;241m=\u001b[39m torch\u001b[38;5;241m.\u001b[39mstorage\u001b[38;5;241m.\u001b[39mTypedStorage(\n\u001b[1;32m   1083\u001b[0m         wrap_storage\u001b[38;5;241m=\u001b[39mrestore_location(storage, location),\n\u001b[1;32m   1084\u001b[0m         dtype\u001b[38;5;241m=\u001b[39mdtype)\n",
      "\u001b[0;31mKeyboardInterrupt\u001b[0m: "
     ]
    }
   ],
   "source": [
    "tokenizer = AutoTokenizer.from_pretrained(\"bigscience/T0pp\", truncation_side=\"right\")\n",
    "model = AutoModelForSeq2SeqLM.from_pretrained(\"bigscience/T0pp\")#, device_map=\"auto\", load_in_8bit=True)"
   ]
  },
  {
   "cell_type": "code",
   "execution_count": 105,
   "id": "1ee00389-021d-4dd0-81ae-e37166c7b2be",
   "metadata": {},
   "outputs": [],
   "source": [
    "def find_index_one(input_ids, entity_str, index):\n",
    "    \n",
    "    entity_id = tokenizer.encode(entity_str)\n",
    "    if len(entity_id) != 2:\n",
    "        print(\"Not an appropriate entity!\")\n",
    "        return\n",
    "    entity_id = entity_id[0]\n",
    "    \n",
    "    input_ids_list = input_ids.tolist()\n",
    "\n",
    "    all_entity_mention_indices = []\n",
    "    for i, j in enumerate(input_ids_list[0]):\n",
    "        if j == entity_id:\n",
    "            all_entity_mention_indices.append(i)\n",
    "    try:\n",
    "        entity_ind = all_entity_mention_indices[index]\n",
    "        return entity_ind\n",
    "    except:\n",
    "        print(\"entity not found in the input!\")\n",
    "        return"
   ]
  },
  {
   "cell_type": "code",
   "execution_count": 7,
   "id": "c6f7ca59-7cab-44cb-8ba5-113ecdd33f8f",
   "metadata": {},
   "outputs": [
    {
     "name": "stdout",
     "output_type": "stream",
     "text": [
      "park\n",
      "[2447, 1]\n",
      "\n",
      "London\n",
      "[1524, 1]\n",
      "\n",
      "kitchen\n",
      "[1228, 1]\n",
      "\n",
      "room\n",
      "[562, 1]\n",
      "\n",
      "forest\n",
      "[5827, 1]\n",
      "\n"
     ]
    }
   ],
   "source": [
    "for location in [\"park\", \"London\", \"kitchen\", \"room\", \"forest\"]:\n",
    "    loc_tokens = tokenizer.encode(location)\n",
    "    print(location)\n",
    "    print(loc_tokens)\n",
    "    print()"
   ]
  },
  {
   "cell_type": "code",
   "execution_count": 8,
   "id": "c2f23e43-224c-491d-98b5-3432d7c9c31c",
   "metadata": {},
   "outputs": [
    {
     "name": "stdout",
     "output_type": "stream",
     "text": [
      "John\n",
      "[1079, 1]\n",
      "\n",
      "Mary\n",
      "[3790, 1]\n",
      "\n",
      "David\n",
      "[1955, 1]\n",
      "\n",
      "Henry\n",
      "[7780, 1]\n",
      "\n",
      "Lisa\n",
      "[11712, 1]\n",
      "\n"
     ]
    }
   ],
   "source": [
    "for character in [\"John\", \"Mary\", \"David\", \"Henry\", \"Lisa\"]:\n",
    "    char_tokens = tokenizer.encode(character)\n",
    "    print(character)\n",
    "    print(char_tokens)\n",
    "    print()"
   ]
  },
  {
   "cell_type": "code",
   "execution_count": 9,
   "id": "c795f5ca-e502-43db-b419-b2daee4931e4",
   "metadata": {},
   "outputs": [
    {
     "name": "stdout",
     "output_type": "stream",
     "text": [
      " John\n",
      "[1079, 1]\n",
      "\n",
      " Mary\n",
      "[3790, 1]\n",
      "\n",
      " David\n",
      "[1955, 1]\n",
      "\n",
      " Henry\n",
      "[7780, 1]\n",
      "\n",
      " Lisa\n",
      "[11712, 1]\n",
      "\n"
     ]
    }
   ],
   "source": [
    "for character in [\" John\", \" Mary\", \" David\", \" Henry\", \" Lisa\"]:\n",
    "    char_tokens = tokenizer.encode(character)\n",
    "    print(character)\n",
    "    print(char_tokens)\n",
    "    print()"
   ]
  },
  {
   "cell_type": "code",
   "execution_count": 14,
   "id": "21f87a11-33a5-4aea-8a45-cd79aa58740c",
   "metadata": {},
   "outputs": [
    {
     "name": "stdout",
     "output_type": "stream",
     "text": [
      "Read the following context and choose the best option to answer the\n",
      "question.\n",
      "Context: John went to the park. John was very happy.\n",
      "Question: Where\n",
      "Options:\n",
      " - park\n",
      " - London\n",
      " - kitchen\n",
      " - room\n"
     ]
    }
   ],
   "source": [
    "tm = Template(\"\"\"Read the following context and choose the best option to answer the\n",
    "question.\n",
    "Context: {{ context }}\n",
    "Question: {{ question }}\n",
    "Options:\n",
    " - {{ answer_choices | join(\"\\n - \") }}\"\"\")\n",
    "\n",
    "context = contexts[0]\n",
    "answer_choices = [\"park\", \"London\", \"kitchen\", \"room\"]\n",
    "question = \"Where was John?\"\n",
    "prompt = tm.render(context=context, question=question, answer_choices=answer_choices)\n",
    "print(prompt)"
   ]
  },
  {
   "cell_type": "code",
   "execution_count": 17,
   "id": "5e46113f-34dd-4220-9eee-7feef609eeaa",
   "metadata": {},
   "outputs": [],
   "source": [
    "input_ids = tokenizer.encode(prompt, return_tensors=\"pt\")"
   ]
  },
  {
   "cell_type": "code",
   "execution_count": 58,
   "id": "22e985df-0c14-4c89-b0f8-db5c7424fc0c",
   "metadata": {},
   "outputs": [
    {
     "name": "stdout",
     "output_type": "stream",
     "text": [
      "new code working-utils\n",
      "new code working-modeling_t5\n",
      "llama generation happening.\n",
      "new code working-modeling_t5\n"
     ]
    }
   ],
   "source": [
    "out = model.generate(input_ids, max_new_tokens=1, return_dict_in_generate=True, output_scores=True)"
   ]
  },
  {
   "cell_type": "code",
   "execution_count": 59,
   "id": "accedfb2-71a0-4973-b19d-e44ae126e448",
   "metadata": {},
   "outputs": [
    {
     "data": {
      "text/plain": [
       "GreedySearchEncoderDecoderOutput(sequences=tensor([[   0, 2447]]), scores=(tensor([[-58.9907, -13.7392, -17.4525,  ..., -57.0442, -58.7730, -57.9561]]),), encoder_attentions=None, encoder_hidden_states=None, decoder_attentions=None, cross_attentions=None, decoder_hidden_states=None)"
      ]
     },
     "execution_count": 59,
     "metadata": {},
     "output_type": "execute_result"
    }
   ],
   "source": [
    "out"
   ]
  },
  {
   "cell_type": "code",
   "execution_count": 61,
   "id": "17d56643-76c1-4a31-afc9-d2647e91f0eb",
   "metadata": {},
   "outputs": [
    {
     "data": {
      "text/plain": [
       "1"
      ]
     },
     "execution_count": 61,
     "metadata": {},
     "output_type": "execute_result"
    }
   ],
   "source": [
    "len(out.scores)"
   ]
  },
  {
   "cell_type": "code",
   "execution_count": 62,
   "id": "44492c21-4a7d-4686-a466-9f56b0d50407",
   "metadata": {},
   "outputs": [
    {
     "data": {
      "text/plain": [
       "torch.Size([1, 32128])"
      ]
     },
     "execution_count": 62,
     "metadata": {},
     "output_type": "execute_result"
    }
   ],
   "source": [
    "out.scores[0].shape"
   ]
  },
  {
   "cell_type": "code",
   "execution_count": 63,
   "id": "0021c383-a823-4092-acea-55619012690f",
   "metadata": {},
   "outputs": [
    {
     "data": {
      "text/plain": [
       "tensor([2447])"
      ]
     },
     "execution_count": 63,
     "metadata": {},
     "output_type": "execute_result"
    }
   ],
   "source": [
    " torch.argmax(out.scores[0], dim=-1)"
   ]
  },
  {
   "cell_type": "code",
   "execution_count": 64,
   "id": "895300b1-9afc-4260-8977-29647402bd39",
   "metadata": {},
   "outputs": [],
   "source": [
    "next_token_scores = torch.nn.functional.softmax(\n",
    "                out.scores[0], dim=-1\n",
    "            )  # (batch_size * num_beams, vocab_size)"
   ]
  },
  {
   "cell_type": "code",
   "execution_count": 68,
   "id": "e1de8dbf-0dbb-4765-bc01-bacd8e72def2",
   "metadata": {},
   "outputs": [
    {
     "data": {
      "text/plain": [
       "tensor([2447])"
      ]
     },
     "execution_count": 68,
     "metadata": {},
     "output_type": "execute_result"
    }
   ],
   "source": [
    " torch.argmax(next_token_scores, dim=-1)"
   ]
  },
  {
   "cell_type": "code",
   "execution_count": 70,
   "id": "8bb5509e-0e22-4385-aa3b-031a44be30fa",
   "metadata": {},
   "outputs": [
    {
     "data": {
      "text/plain": [
       "tensor([[3.9759e-26, 1.7862e-06, 4.3577e-08,  ..., 2.7846e-25, 4.9429e-26,\n",
       "         1.1188e-25]])"
      ]
     },
     "execution_count": 70,
     "metadata": {},
     "output_type": "execute_result"
    }
   ],
   "source": [
    "next_token_scores"
   ]
  },
  {
   "cell_type": "code",
   "execution_count": 71,
   "id": "321fe12b-e30c-48da-9ddd-797e608ff3ef",
   "metadata": {},
   "outputs": [
    {
     "data": {
      "text/plain": [
       "tensor(0.9900)"
      ]
     },
     "execution_count": 71,
     "metadata": {},
     "output_type": "execute_result"
    }
   ],
   "source": [
    "next_token_scores[0][2447]"
   ]
  },
  {
   "cell_type": "code",
   "execution_count": 80,
   "id": "8c41c459-03d6-42d6-8fda-d4e670b1234c",
   "metadata": {},
   "outputs": [],
   "source": [
    "loc_tokens = []\n",
    "for location in answer_choices:\n",
    "    loc_tokens.append(tokenizer.encode(location)[0])"
   ]
  },
  {
   "cell_type": "code",
   "execution_count": 82,
   "id": "900dde25-2c9d-4c3f-bc11-a4fe33c9f9cf",
   "metadata": {},
   "outputs": [
    {
     "data": {
      "text/plain": [
       "[2447, 1524, 1228, 562]"
      ]
     },
     "execution_count": 82,
     "metadata": {},
     "output_type": "execute_result"
    }
   ],
   "source": [
    "loc_tokens"
   ]
  },
  {
   "cell_type": "code",
   "execution_count": 83,
   "id": "2638ed60-8598-4420-8b56-f19f2cb2ce35",
   "metadata": {},
   "outputs": [],
   "source": [
    "probabilities = {}\n",
    "for loc_token in loc_tokens:\n",
    "    probabilities[loc_token] = next_token_scores[0][loc_token]"
   ]
  },
  {
   "cell_type": "code",
   "execution_count": 84,
   "id": "6af9ad73-b5e4-4f74-8171-98bc7c140013",
   "metadata": {},
   "outputs": [
    {
     "data": {
      "text/plain": [
       "{2447: tensor(0.9900),\n",
       " 1524: tensor(0.0066),\n",
       " 1228: tensor(0.0001),\n",
       " 562: tensor(0.0002)}"
      ]
     },
     "execution_count": 84,
     "metadata": {},
     "output_type": "execute_result"
    }
   ],
   "source": [
    "probabilities"
   ]
  },
  {
   "cell_type": "markdown",
   "id": "cef47e2d-78ea-4a87-b3f5-e3e8ab83ff33",
   "metadata": {},
   "source": [
    "# PART 1: Regular Prompt"
   ]
  },
  {
   "cell_type": "code",
   "execution_count": 85,
   "id": "4227fea9-fdde-4b00-a0df-93afea714eb0",
   "metadata": {
    "tags": []
   },
   "outputs": [
    {
     "name": "stdout",
     "output_type": "stream",
     "text": [
      "Read the following context and choose the best option to answer the\n",
      "question.\n",
      "Context: John went to the park. John was very happy.\n",
      "Question: Where was John?\n",
      "Options:\n",
      " - park\n",
      " - London\n",
      " - kitchen\n",
      " - room\n"
     ]
    }
   ],
   "source": [
    "tm = Template(\"\"\"Read the following context and choose the best option to answer the\n",
    "question.\n",
    "Context: {{ context }}\n",
    "Question: {{ question }}\n",
    "Options:\n",
    " - {{ answer_choices | join(\"\\n - \") }}\"\"\")\n",
    "\n",
    "context = contexts[0]\n",
    "answer_choices = [\"park\", \"London\", \"kitchen\", \"room\"]\n",
    "question = \"Where was John?\"\n",
    "prompt = tm.render(context=context, question=question, answer_choices=answer_choices)\n",
    "print(prompt)"
   ]
  },
  {
   "cell_type": "code",
   "execution_count": 86,
   "id": "150dbfeb-bed5-4f12-82df-a0a2fe2328f3",
   "metadata": {},
   "outputs": [
    {
     "name": "stdout",
     "output_type": "stream",
     "text": [
      "new code working-utils\n",
      "new code working-modeling_t5\n",
      "llama generation happening.\n",
      "new code working-modeling_t5\n"
     ]
    }
   ],
   "source": [
    "input_ids = tokenizer.encode(prompt, return_tensors=\"pt\")\n",
    "out = model.generate(input_ids, max_new_tokens=1, return_dict_in_generate=True, output_scores=True)"
   ]
  },
  {
   "cell_type": "code",
   "execution_count": 95,
   "id": "9f31cc9c-9f46-4e2c-a416-c26385c9f224",
   "metadata": {},
   "outputs": [],
   "source": [
    "next_token_scores = torch.nn.functional.softmax(\n",
    "                out.scores[0], dim=-1\n",
    "            )  # (batch_size * num_beams, vocab_size)\n",
    "\n",
    "loc_tokens = []\n",
    "for location in answer_choices:\n",
    "    loc_tokens.append(tokenizer.encode(location)[0])\n",
    "\n",
    "probabilities = {}\n",
    "for loc_token in loc_tokens:\n",
    "    probabilities[tokenizer.decode(loc_token)] = next_token_scores[0][loc_token].item()"
   ]
  },
  {
   "cell_type": "code",
   "execution_count": 96,
   "id": "e98f0f59-03c3-4b48-91aa-36bfe6466657",
   "metadata": {},
   "outputs": [
    {
     "data": {
      "text/plain": [
       "{'park': 0.9968858361244202,\n",
       " 'London': 0.0008090201881714165,\n",
       " 'kitchen': 3.175687379552983e-05,\n",
       " 'room': 2.1005409507779405e-05}"
      ]
     },
     "execution_count": 96,
     "metadata": {},
     "output_type": "execute_result"
    }
   ],
   "source": [
    "probabilities"
   ]
  },
  {
   "cell_type": "markdown",
   "id": "482a8b92-6497-4668-9d7f-1adf2fb6df7c",
   "metadata": {},
   "source": [
    "# PART 2: Corrupted Run Probabilities"
   ]
  },
  {
   "cell_type": "code",
   "execution_count": 101,
   "id": "9178aa71-9fcf-432d-903c-b0015025518e",
   "metadata": {},
   "outputs": [
    {
     "name": "stdout",
     "output_type": "stream",
     "text": [
      "Read the following context and choose the best option to answer the\n",
      "question.\n",
      "Context: I have never played Monopoly. I am not very happy.\n",
      "Question: Where was John?\n",
      "Options:\n",
      " - park\n",
      " - London\n",
      " - kitchen\n",
      " - room\n"
     ]
    }
   ],
   "source": [
    "tm = Template(\"\"\"Read the following context and choose the best option to answer the\n",
    "question.\n",
    "Context: {{ context }}\n",
    "Question: {{ question }}\n",
    "Options:\n",
    " - {{ answer_choices | join(\"\\n - \") }}\"\"\")\n",
    "\n",
    "context = \"I have never played Monopoly. I am not very happy.\"\n",
    "answer_choices = [\"park\", \"London\", \"kitchen\", \"room\"]\n",
    "question = \"Where was John?\"\n",
    "prompt = tm.render(context=context, question=question, answer_choices=answer_choices)\n",
    "print(prompt)"
   ]
  },
  {
   "cell_type": "code",
   "execution_count": 102,
   "id": "d8ad9331-cabd-4f62-b2c6-3aeefcb9055c",
   "metadata": {},
   "outputs": [
    {
     "name": "stdout",
     "output_type": "stream",
     "text": [
      "new code working-utils\n",
      "new code working-modeling_t5\n",
      "llama generation happening.\n",
      "new code working-modeling_t5\n"
     ]
    }
   ],
   "source": [
    "input_ids = tokenizer.encode(prompt, return_tensors=\"pt\")\n",
    "out = model.generate(input_ids, max_new_tokens=1, return_dict_in_generate=True, output_scores=True)"
   ]
  },
  {
   "cell_type": "code",
   "execution_count": 103,
   "id": "045578ae-b93c-4286-a8b5-3ff983783c09",
   "metadata": {},
   "outputs": [],
   "source": [
    "next_token_scores = torch.nn.functional.softmax(\n",
    "                out.scores[0], dim=-1\n",
    "            )  # (batch_size * num_beams, vocab_size)\n",
    "\n",
    "loc_tokens = []\n",
    "for location in answer_choices:\n",
    "    loc_tokens.append(tokenizer.encode(location)[0])\n",
    "\n",
    "probabilities = {}\n",
    "for loc_token in loc_tokens:\n",
    "    probabilities[tokenizer.decode(loc_token)] = next_token_scores[0][loc_token].item()"
   ]
  },
  {
   "cell_type": "code",
   "execution_count": 104,
   "id": "da7448de-539c-4227-9856-9c5690180a90",
   "metadata": {},
   "outputs": [
    {
     "data": {
      "text/plain": [
       "{'park': 0.18794533610343933,\n",
       " 'London': 0.7177245020866394,\n",
       " 'kitchen': 0.027446743100881577,\n",
       " 'room': 0.041640542447566986}"
      ]
     },
     "execution_count": 104,
     "metadata": {},
     "output_type": "execute_result"
    }
   ],
   "source": [
    "probabilities"
   ]
  },
  {
   "cell_type": "markdown",
   "id": "f03808f1-4c18-4dae-8494-0d97f13ea16f",
   "metadata": {},
   "source": [
    "# PART 3: Move Character Embeddings"
   ]
  },
  {
   "cell_type": "code",
   "execution_count": 106,
   "id": "63aaa434-53ba-4fed-930d-265bac2be515",
   "metadata": {},
   "outputs": [
    {
     "name": "stdout",
     "output_type": "stream",
     "text": [
      "Read the following context and choose the best option to answer the\n",
      "question.\n",
      "Context: John went to the park. John was very happy.\n",
      "Question: Where was John?\n",
      "Options:\n",
      " - park\n",
      " - London\n",
      " - kitchen\n",
      " - room\n"
     ]
    }
   ],
   "source": [
    "tm = Template(\"\"\"Read the following context and choose the best option to answer the\n",
    "question.\n",
    "Context: {{ context }}\n",
    "Question: {{ question }}\n",
    "Options:\n",
    " - {{ answer_choices | join(\"\\n - \") }}\"\"\")\n",
    "\n",
    "context = contexts[0]\n",
    "answer_choices = [\"park\", \"London\", \"kitchen\", \"room\"]\n",
    "question = \"Where was John?\"\n",
    "prompt = tm.render(context=context, question=question, answer_choices=answer_choices)\n",
    "print(prompt)"
   ]
  },
  {
   "cell_type": "code",
   "execution_count": 108,
   "id": "e8f4659d-ccb2-4643-84a8-3303e84c76f4",
   "metadata": {},
   "outputs": [
    {
     "name": "stdout",
     "output_type": "stream",
     "text": [
      "new code working-modeling_t5\n"
     ]
    },
    {
     "ename": "NameError",
     "evalue": "name 'len_input_ids' is not defined",
     "output_type": "error",
     "traceback": [
      "\u001b[0;31m---------------------------------------------------------------------------\u001b[0m",
      "\u001b[0;31mNameError\u001b[0m                                 Traceback (most recent call last)",
      "Cell \u001b[0;32mIn[108], line 5\u001b[0m\n\u001b[1;32m      2\u001b[0m out \u001b[38;5;241m=\u001b[39m model\u001b[38;5;241m.\u001b[39mencoder(input_ids, output_special\u001b[38;5;241m=\u001b[39m\u001b[38;5;28;01mTrue\u001b[39;00m)\n\u001b[1;32m      3\u001b[0m special_hidden \u001b[38;5;241m=\u001b[39m out\u001b[38;5;241m.\u001b[39mspecial_hidden_states \u001b[38;5;66;03m# 24 x (1, T, d)\u001b[39;00m\n\u001b[0;32m----> 5\u001b[0m special_reformatted \u001b[38;5;241m=\u001b[39m torch\u001b[38;5;241m.\u001b[39mzeros(num_layers, \u001b[43mlen_input_ids\u001b[49m, d_model) \u001b[38;5;66;03m# (24, T, d)\u001b[39;00m\n\u001b[1;32m      6\u001b[0m \u001b[38;5;28;01mfor\u001b[39;00m i, hidden \u001b[38;5;129;01min\u001b[39;00m \u001b[38;5;28menumerate\u001b[39m(special_hidden):\n\u001b[1;32m      7\u001b[0m     special_reformatted[i:i\u001b[38;5;241m+\u001b[39m\u001b[38;5;241m1\u001b[39m, :, :] \u001b[38;5;241m=\u001b[39m hidden\n",
      "\u001b[0;31mNameError\u001b[0m: name 'len_input_ids' is not defined"
     ]
    }
   ],
   "source": [
    "input_ids = tokenizer.encode(prompt, return_tensors=\"pt\")\n",
    "len_input_ids = len(input_ids[0])\n",
    "out = model.encoder(input_ids, output_special=True)\n",
    "special_hidden = out.special_hidden_states # 24 x (1, T, d)\n",
    "    \n",
    "special_reformatted = torch.zeros(num_layers, len_input_ids, d_model) # (24, T, d)\n",
    "for i, hidden in enumerate(special_hidden):\n",
    "    special_reformatted[i:i+1, :, :] = hidden"
   ]
  },
  {
   "cell_type": "code",
   "execution_count": 114,
   "id": "05b652f8-b531-4fd7-98a1-11aa958ab38b",
   "metadata": {},
   "outputs": [],
   "source": [
    "entity_ind = find_index_one(input_ids, \"John\", 1)\n",
    "entity_hidden_state = special_reformatted[:, entity_ind, :].unsqueeze(0)"
   ]
  },
  {
   "cell_type": "code",
   "execution_count": 111,
   "id": "b53cacfe-bfb1-4d6a-b4fe-bf151972ec54",
   "metadata": {},
   "outputs": [
    {
     "name": "stdout",
     "output_type": "stream",
     "text": [
      "Read the following context and choose the best option to answer the\n",
      "question.\n",
      "Context: John I have never played Monopoly. I am not very happy.\n",
      "Question: Where was John?\n",
      "Options:\n",
      " - park\n",
      " - London\n",
      " - kitchen\n",
      " - room\n"
     ]
    }
   ],
   "source": [
    "tm = Template(\"\"\"Read the following context and choose the best option to answer the\n",
    "question.\n",
    "Context: {{ context }}\n",
    "Question: {{ question }}\n",
    "Options:\n",
    " - {{ answer_choices | join(\"\\n - \") }}\"\"\")\n",
    "\n",
    "context = \"I have never played Monopoly. I am not very happy.\"\n",
    "context = \"John \" + context\n",
    "answer_choices = [\"park\", \"London\", \"kitchen\", \"room\"]\n",
    "question = \"Where was John?\"\n",
    "prompt = tm.render(context=context, question=question, answer_choices=answer_choices)\n",
    "print(prompt)"
   ]
  },
  {
   "cell_type": "code",
   "execution_count": 120,
   "id": "ba700b56-b731-4f53-ae53-afe9f6a2ab49",
   "metadata": {},
   "outputs": [
    {
     "name": "stdout",
     "output_type": "stream",
     "text": [
      "new code working-utils\n",
      "new code working-modeling_t5\n",
      "llama generation happening.\n",
      "new code working-modeling_t5\n"
     ]
    }
   ],
   "source": [
    "input_ids = tokenizer.encode(prompt, return_tensors=\"pt\")\n",
    "entity_inds = [ find_index_one(input_ids, \"John\", 0) ]\n",
    "out = model.generate(input_ids=input_ids, entity_hidden_states=entity_hidden_state, entity_inds=entity_inds, max_new_tokens=1, return_dict_in_generate=True, output_scores=True)    "
   ]
  },
  {
   "cell_type": "code",
   "execution_count": 122,
   "id": "0d74d32c-8400-4bd2-900d-c10d871a4ffd",
   "metadata": {},
   "outputs": [
    {
     "ename": "TypeError",
     "evalue": "argument 'ids': 'list' object cannot be interpreted as an integer",
     "output_type": "error",
     "traceback": [
      "\u001b[0;31m---------------------------------------------------------------------------\u001b[0m",
      "\u001b[0;31mTypeError\u001b[0m                                 Traceback (most recent call last)",
      "Cell \u001b[0;32mIn[122], line 1\u001b[0m\n\u001b[0;32m----> 1\u001b[0m \u001b[43mtokenizer\u001b[49m\u001b[38;5;241;43m.\u001b[39;49m\u001b[43mdecode\u001b[49m\u001b[43m(\u001b[49m\u001b[43mout\u001b[49m\u001b[43m[\u001b[49m\u001b[38;5;241;43m0\u001b[39;49m\u001b[43m]\u001b[49m\u001b[43m)\u001b[49m\n",
      "File \u001b[0;32m~/.conda/envs/hf/lib/python3.8/site-packages/transformers/tokenization_utils_base.py:3486\u001b[0m, in \u001b[0;36mPreTrainedTokenizerBase.decode\u001b[0;34m(self, token_ids, skip_special_tokens, clean_up_tokenization_spaces, **kwargs)\u001b[0m\n\u001b[1;32m   3483\u001b[0m \u001b[38;5;66;03m# Convert inputs to python lists\u001b[39;00m\n\u001b[1;32m   3484\u001b[0m token_ids \u001b[38;5;241m=\u001b[39m to_py_obj(token_ids)\n\u001b[0;32m-> 3486\u001b[0m \u001b[38;5;28;01mreturn\u001b[39;00m \u001b[38;5;28;43mself\u001b[39;49m\u001b[38;5;241;43m.\u001b[39;49m\u001b[43m_decode\u001b[49m\u001b[43m(\u001b[49m\n\u001b[1;32m   3487\u001b[0m \u001b[43m    \u001b[49m\u001b[43mtoken_ids\u001b[49m\u001b[38;5;241;43m=\u001b[39;49m\u001b[43mtoken_ids\u001b[49m\u001b[43m,\u001b[49m\n\u001b[1;32m   3488\u001b[0m \u001b[43m    \u001b[49m\u001b[43mskip_special_tokens\u001b[49m\u001b[38;5;241;43m=\u001b[39;49m\u001b[43mskip_special_tokens\u001b[49m\u001b[43m,\u001b[49m\n\u001b[1;32m   3489\u001b[0m \u001b[43m    \u001b[49m\u001b[43mclean_up_tokenization_spaces\u001b[49m\u001b[38;5;241;43m=\u001b[39;49m\u001b[43mclean_up_tokenization_spaces\u001b[49m\u001b[43m,\u001b[49m\n\u001b[1;32m   3490\u001b[0m \u001b[43m    \u001b[49m\u001b[38;5;241;43m*\u001b[39;49m\u001b[38;5;241;43m*\u001b[39;49m\u001b[43mkwargs\u001b[49m\u001b[43m,\u001b[49m\n\u001b[1;32m   3491\u001b[0m \u001b[43m\u001b[49m\u001b[43m)\u001b[49m\n",
      "File \u001b[0;32m~/.conda/envs/hf/lib/python3.8/site-packages/transformers/tokenization_utils_fast.py:549\u001b[0m, in \u001b[0;36mPreTrainedTokenizerFast._decode\u001b[0;34m(self, token_ids, skip_special_tokens, clean_up_tokenization_spaces, **kwargs)\u001b[0m\n\u001b[1;32m    547\u001b[0m \u001b[38;5;28;01mif\u001b[39;00m \u001b[38;5;28misinstance\u001b[39m(token_ids, \u001b[38;5;28mint\u001b[39m):\n\u001b[1;32m    548\u001b[0m     token_ids \u001b[38;5;241m=\u001b[39m [token_ids]\n\u001b[0;32m--> 549\u001b[0m text \u001b[38;5;241m=\u001b[39m \u001b[38;5;28;43mself\u001b[39;49m\u001b[38;5;241;43m.\u001b[39;49m\u001b[43m_tokenizer\u001b[49m\u001b[38;5;241;43m.\u001b[39;49m\u001b[43mdecode\u001b[49m\u001b[43m(\u001b[49m\u001b[43mtoken_ids\u001b[49m\u001b[43m,\u001b[49m\u001b[43m \u001b[49m\u001b[43mskip_special_tokens\u001b[49m\u001b[38;5;241;43m=\u001b[39;49m\u001b[43mskip_special_tokens\u001b[49m\u001b[43m)\u001b[49m\n\u001b[1;32m    551\u001b[0m clean_up_tokenization_spaces \u001b[38;5;241m=\u001b[39m (\n\u001b[1;32m    552\u001b[0m     clean_up_tokenization_spaces\n\u001b[1;32m    553\u001b[0m     \u001b[38;5;28;01mif\u001b[39;00m clean_up_tokenization_spaces \u001b[38;5;129;01mis\u001b[39;00m \u001b[38;5;129;01mnot\u001b[39;00m \u001b[38;5;28;01mNone\u001b[39;00m\n\u001b[1;32m    554\u001b[0m     \u001b[38;5;28;01melse\u001b[39;00m \u001b[38;5;28mself\u001b[39m\u001b[38;5;241m.\u001b[39mclean_up_tokenization_spaces\n\u001b[1;32m    555\u001b[0m )\n\u001b[1;32m    556\u001b[0m \u001b[38;5;28;01mif\u001b[39;00m clean_up_tokenization_spaces:\n",
      "\u001b[0;31mTypeError\u001b[0m: argument 'ids': 'list' object cannot be interpreted as an integer"
     ]
    }
   ],
   "source": [
    "tokenizer.decode(out[0])"
   ]
  },
  {
   "cell_type": "code",
   "execution_count": 123,
   "id": "f13cc84f-03d7-4932-af84-2fcd372a0cc6",
   "metadata": {},
   "outputs": [],
   "source": [
    "next_token_scores = torch.nn.functional.softmax(\n",
    "                out.scores[0], dim=-1\n",
    "            )  # (batch_size * num_beams, vocab_size)\n",
    "\n",
    "loc_tokens = []\n",
    "for location in answer_choices:\n",
    "    loc_tokens.append(tokenizer.encode(location)[0])\n",
    "\n",
    "probabilities = {}\n",
    "for loc_token in loc_tokens:\n",
    "    probabilities[tokenizer.decode(loc_token)] = next_token_scores[0][loc_token].item()"
   ]
  },
  {
   "cell_type": "code",
   "execution_count": 124,
   "id": "1208c271-cb72-463b-a380-3b3c89edacc8",
   "metadata": {},
   "outputs": [
    {
     "data": {
      "text/plain": [
       "{'park': 0.18760742247104645,\n",
       " 'London': 0.7060736417770386,\n",
       " 'kitchen': 0.032871078699827194,\n",
       " 'room': 0.047161877155303955}"
      ]
     },
     "execution_count": 124,
     "metadata": {},
     "output_type": "execute_result"
    }
   ],
   "source": [
    "probabilities"
   ]
  },
  {
   "cell_type": "code",
   "execution_count": null,
   "id": "192c2a52-cc10-424e-953c-6ad5bbbe4091",
   "metadata": {},
   "outputs": [],
   "source": []
  }
 ],
 "metadata": {
  "kernelspec": {
   "display_name": "Python 3 (ipykernel)",
   "language": "python",
   "name": "python3"
  },
  "language_info": {
   "codemirror_mode": {
    "name": "ipython",
    "version": 3
   },
   "file_extension": ".py",
   "mimetype": "text/x-python",
   "name": "python",
   "nbconvert_exporter": "python",
   "pygments_lexer": "ipython3",
   "version": "3.8.13"
  }
 },
 "nbformat": 4,
 "nbformat_minor": 5
}
