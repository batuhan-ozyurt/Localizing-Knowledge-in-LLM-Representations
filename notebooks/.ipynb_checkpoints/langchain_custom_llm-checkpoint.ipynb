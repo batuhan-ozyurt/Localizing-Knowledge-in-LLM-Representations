{
 "cells": [
  {
   "cell_type": "code",
   "execution_count": 1,
   "id": "1e6ab9e0-4cda-4306-8d00-6ab95d5a8a53",
   "metadata": {},
   "outputs": [],
   "source": [
    "from langchain.llms.base import LLM\n",
    "from typing import Optional, List, Mapping, Any\n",
    "from transformers import T5Tokenizer, T5ForConditionalGeneration\n",
    "from transformers import AutoTokenizer, AutoModelForSeq2SeqLM\n",
    "import torch \n",
    "\n",
    "device = torch.device(\"cuda\") if torch.cuda.is_available() else torch.device(\"cpu\")"
   ]
  },
  {
   "cell_type": "code",
   "execution_count": 7,
   "id": "75f50240-3b83-4d49-9e90-07f0fe3fcc9b",
   "metadata": {},
   "outputs": [],
   "source": [
    "class CustomLLM(LLM):\n",
    "    \n",
    "    model = 4\n",
    "    tokenizer = 3\n",
    "    def __init__(self):\n",
    "        super(CustomLLM, self).__init__()\n",
    "        self.model = T5ForConditionalGeneration.from_pretrained(\"t5-base\").to(device)\n",
    "        self.tokenizer = T5Tokenizer.from_pretrained(\"t5-base\")\n",
    "    \n",
    "    @property\n",
    "    def _llm_type(self) -> str:\n",
    "        return \"custom\"\n",
    "    \n",
    "    def _call(self, prompt: str, stop: Optional[List[str]] = None) -> str:\n",
    "        if stop is not None:\n",
    "            raise ValueError(\"stop kwargs are not permitted.\")\n",
    "            \n",
    "        tokens = self.tokenizer.encode(prompt, return_tensors=\"pt\")\n",
    "        tokens = tokens.to(device)\n",
    "        outputs = self.model.generate(tokens)\n",
    "        out = self.tokenizer.decode(outputs[0], skip_special_tokens=True)\n",
    "        \n",
    "        return out\n",
    "    \n"
   ]
  },
  {
   "cell_type": "code",
   "execution_count": null,
   "id": "8746950f-03f3-4942-990f-d5e61361415c",
   "metadata": {},
   "outputs": [],
   "source": [
    "class CustomLLM(LLM):\n",
    "    \n",
    "    model = T5ForConditionalGeneration.from_pretrained(\"t5-base\").to(device)\n",
    "    tokenizer = T5Tokenizer.from_pretrained(\"t5-base\")\n",
    "    \n",
    "    #model = AutoModelForSeq2SeqLM.from_pretrained(\"bigscience/T0pp\", cache_dir=\"kuacc/users/bozyurt20/.cache/huggingface/hub\").parallelize()\n",
    "    #tokenizer = AutoTokenizer.from_pretrained(\"bigscience/T0pp\")\n",
    "    \n",
    "    @property\n",
    "    def _llm_type(self) -> str:\n",
    "        return \"custom\"\n",
    "    \n",
    "    def _call(self, prompt: str, stop: Optional[List[str]] = None) -> str:\n",
    "        if stop is not None:\n",
    "            raise ValueError(\"stop kwargs are not permitted.\")\n",
    "            \n",
    "        tokens = self.tokenizer.encode(prompt, return_tensors=\"pt\")\n",
    "        tokens = tokens.to(device)\n",
    "        outputs = self.model.generate(tokens)\n",
    "        out = self.tokenizer.decode(outputs[0], skip_special_tokens=True)\n",
    "        \n",
    "        return out\n",
    "    \n"
   ]
  },
  {
   "cell_type": "code",
   "execution_count": 8,
   "id": "419aafa5-b287-4c28-9ba0-1bbe29bddc64",
   "metadata": {},
   "outputs": [
    {
     "name": "stderr",
     "output_type": "stream",
     "text": [
      "/kuacc/users/bozyurt20/.conda/envs/hf/lib/python3.8/site-packages/transformers/models/t5/tokenization_t5.py:163: FutureWarning: This tokenizer was incorrectly instantiated with a model max length of 512 which will be corrected in Transformers v5.\n",
      "For now, this behavior is kept to avoid breaking backwards compatibility when padding/encoding with `truncation is True`.\n",
      "- Be aware that you SHOULD NOT rely on t5-base automatically truncating your input to 512 when padding/encoding.\n",
      "- If you want to encode/pad to sequences longer than 512 you can either instantiate this tokenizer with `model_max_length` or pass `max_length` when encoding/padding.\n",
      "- To avoid this warning, please instantiate this tokenizer with `model_max_length` set to your preferred value.\n",
      "  warnings.warn(\n"
     ]
    }
   ],
   "source": [
    "llm = CustomLLM()"
   ]
  },
  {
   "cell_type": "code",
   "execution_count": 9,
   "id": "adb9c09e-7724-46f6-b6d0-332d43785583",
   "metadata": {},
   "outputs": [
    {
     "name": "stderr",
     "output_type": "stream",
     "text": [
      "/kuacc/users/bozyurt20/.conda/envs/hf/lib/python3.8/site-packages/transformers/generation/utils.py:1273: UserWarning: Neither `max_length` nor `max_new_tokens` has been set, `max_length` will default to 20 (`generation_config.max_length`). Controlling `max_length` via the config is deprecated and `max_length` will be removed from the config in v5 of Transformers -- we recommend using `max_new_tokens` to control the maximum length of the generation.\n",
      "  warnings.warn(\n"
     ]
    },
    {
     "data": {
      "text/plain": [
       "'Quand a eu lieu la révolution française?'"
      ]
     },
     "execution_count": 9,
     "metadata": {},
     "output_type": "execute_result"
    }
   ],
   "source": [
    "llm(\"When did the French Revolution happen?\")"
   ]
  },
  {
   "cell_type": "code",
   "execution_count": null,
   "id": "da549091-2b18-4ab7-879e-c54009b95962",
   "metadata": {},
   "outputs": [],
   "source": []
  }
 ],
 "metadata": {
  "kernelspec": {
   "display_name": "Python 3 (ipykernel)",
   "language": "python",
   "name": "python3"
  },
  "language_info": {
   "codemirror_mode": {
    "name": "ipython",
    "version": 3
   },
   "file_extension": ".py",
   "mimetype": "text/x-python",
   "name": "python",
   "nbconvert_exporter": "python",
   "pygments_lexer": "ipython3",
   "version": "3.8.13"
  }
 },
 "nbformat": 4,
 "nbformat_minor": 5
}
