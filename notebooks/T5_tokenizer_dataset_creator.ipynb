{
 "cells": [
  {
   "cell_type": "markdown",
   "id": "7c0a9d36-15be-45e7-976e-a85c8b3ce597",
   "metadata": {},
   "source": [
    "# Necessary Imports"
   ]
  },
  {
   "cell_type": "code",
   "execution_count": 1,
   "id": "86ae3e92-1efb-4059-a0d7-fcd1ff0d8bf2",
   "metadata": {},
   "outputs": [],
   "source": [
    "from transformers import T5Tokenizer, T5ForConditionalGeneration\n",
    "from torch.utils.data import Dataset, DataLoader, Sampler\n",
    "import os\n",
    "import nltk\n",
    "import pandas as pd\n",
    "\n",
    "import torch\n",
    "import torch.optim as optim\n",
    "import torch.nn as nn\n",
    "import torch.nn.functional as F\n",
    "\n",
    "from tqdm.auto import tqdm\n",
    "\n",
    "import numpy as np\n",
    "from jinja2 import Template\n",
    "import pickle\n",
    "import random\n",
    "from random import shuffle\n",
    "import torchtext\n",
    "\n",
    "from nltk.corpus import stopwords\n",
    "from nltk.tokenize import word_tokenize"
   ]
  },
  {
   "cell_type": "code",
   "execution_count": 3,
   "id": "c8c275a7-771e-4d42-8d93-a198105ba458",
   "metadata": {},
   "outputs": [],
   "source": [
    "stop_words = set(stopwords.words(\"english\"))\n",
    "\n",
    "num_templates = 23\n",
    "\n",
    "path_andersen = \"/kuacc/users/bozyurt20/ChildrenStories/Andersen\"\n",
    "path_fanny = \"/kuacc/users/bozyurt20/ChildrenStories/Fanny Fern\"\n",
    "path_annotations = \"/kuacc/users/bozyurt20/ChildrenStories/Annotations\"\n",
    "\n",
    "dir_list_andersen = os.listdir(path_andersen)\n",
    "dir_list_fanny = os.listdir(path_fanny)\n",
    "dir_list_annotations = os.listdir(path_annotations)\n",
    "\n",
    "def text_clean_ending(example_text):\n",
    "    example_text = example_text.rstrip(\", ;-\\n\")\n",
    "    if example_text[-1] != \".\":\n",
    "        example_text += \".\"\n",
    "    return example_text\n",
    "\n",
    "def remove_new_lines(text):\n",
    "    paragraphs = text.split(\"\\n\\n\")\n",
    "    new_paragraphs = []\n",
    "    for paragraph in paragraphs:\n",
    "        new_paragraphs.append(paragraph.replace(\"\\n\", \" \"))\n",
    "    new_text = \"\\n\".join(new_paragraphs)\n",
    "    return new_text"
   ]
  },
  {
   "cell_type": "markdown",
   "id": "ab8769f5-afa1-4f40-9c7e-be5ea2cc923f",
   "metadata": {},
   "source": [
    "# Load Tokenizer"
   ]
  },
  {
   "cell_type": "code",
   "execution_count": 2,
   "id": "795f1c29-ed01-4204-8d72-9bcb32bad314",
   "metadata": {},
   "outputs": [
    {
     "name": "stderr",
     "output_type": "stream",
     "text": [
      "/kuacc/users/bozyurt20/.conda/envs/hf/lib/python3.8/site-packages/transformers/models/t5/tokenization_t5.py:163: FutureWarning: This tokenizer was incorrectly instantiated with a model max length of 512 which will be corrected in Transformers v5.\n",
      "For now, this behavior is kept to avoid breaking backwards compatibility when padding/encoding with `truncation is True`.\n",
      "- Be aware that you SHOULD NOT rely on t5-base automatically truncating your input to 512 when padding/encoding.\n",
      "- If you want to encode/pad to sequences longer than 512 you can either instantiate this tokenizer with `model_max_length` or pass `max_length` when encoding/padding.\n",
      "- To avoid this warning, please instantiate this tokenizer with `model_max_length` set to your preferred value.\n",
      "  warnings.warn(\n"
     ]
    }
   ],
   "source": [
    "tokenizer = T5Tokenizer.from_pretrained(\"t5-base\")"
   ]
  },
  {
   "cell_type": "code",
   "execution_count": 3,
   "id": "e36e6edf-eb2b-4030-bb4d-48a16b4163f0",
   "metadata": {},
   "outputs": [],
   "source": [
    "path = \"litbank/original/105_persuasion.txt\""
   ]
  },
  {
   "cell_type": "code",
   "execution_count": 4,
   "id": "87d4b45b-6bd5-4692-b1d5-1fe0ac5b9e6a",
   "metadata": {},
   "outputs": [],
   "source": [
    "with open(path, \"r\") as f:\n",
    "    book = f.read()"
   ]
  },
  {
   "cell_type": "code",
   "execution_count": 19,
   "id": "1f6ec587-9b3f-4456-9768-a100ff953f2f",
   "metadata": {
    "collapsed": true,
    "jupyter": {
     "outputs_hidden": true
    },
    "tags": []
   },
   "outputs": [
    {
     "data": {
      "text/plain": [
       "'Chapter 1 Sir Walter Elliot, of Kellynch Hall, in Somersetshire, was a man who, for his own amusement, never took up any book but the Baronetage; there he found occupation for an idle hour, and consolation in a distressed one; there his faculties were roused into admiration and respect, by contemplating the limited remnant of the earliest patents; there any unwelcome sensations, arising from domestic affairs changed naturally into pity and contempt as he turned over the almost endless creations of the last century; and there, if every other leaf were powerless, he could read his own history with an interest which never failed. This was the page at which the favourite volume always opened: \"ELLIOT OF KELLYNCH HALL. \"Walter Elliot, born March 1, 1760, married, July 15, 1784, Elizabeth, daughter of James Stevenson, Esq. of South Park, in the county of Gloucester, by which lady (who died 1800) he has issue Elizabeth, born June 1, 1785; Anne, born August 9, 1787; a still-born son, November 5, 1789; Mary, born November 20, 1791.\" Precisely such had the paragraph originally stood from the printer\\'s hands; but Sir Walter had improved it by adding, for the information of himself and his family, these words, after the date of Mary\\'s birth-- \"Married, December 16, 1810, Charles, son and heir of Charles Musgrove, Esq. of Uppercross, in the county of Somerset,\" and by inserting most accurately the day of the month on which he had lost his wife. Then followed the history and rise of the ancient and respectable family, in the usual terms; how it had been first settled in Cheshire; how mentioned in Dugdale, serving the office of high sheriff, representing a borough in three successive parliaments, exertions of loyalty, and dignity of baronet, in the first year of Charles II, with all the Marys and Elizabeths they had married; forming altogether two handsome duodecimo pages, and concluding with the arms and motto:--\"Principal seat, Kellynch Hall, in the county of Somerset,\" and Sir Walter\\'s handwriting again in this finale:-- \"Heir presumptive, William Walter Elliot, Esq., great grandson of the second Sir Walter.\" Vanity was the beginning and the end of Sir Walter Elliot\\'s character; vanity of person and of situation. He had been remarkably handsome in his youth; and, at fifty-four, was still a very fine man. Few women could think more of their personal appearance than he did, nor could the valet of any new made lord be more delighted with the place he held in society. He considered the blessing of beauty as inferior only to the blessing of a baronetcy; and the Sir Walter Elliot, who united these gifts, was the constant object of his warmest respect and devotion. His good looks and his rank had one fair claim on his attachment; since to them he must have owed a wife of very superior character to any thing deserved by his own. Lady Elliot had been an excellent woman, sensible and amiable; whose judgement and conduct, if they might be pardoned the youthful infatuation which made her Lady Elliot, had never required indulgence afterwards.--She had humoured, or softened, or concealed his failings, and promoted his real respectability for seventeen years; and though not the very happiest being in the world herself, had found enough in her duties, her friends, and her children, to attach her to life, and make it no matter of indifference to her when she was called on to quit them.--Three girls, the two eldest sixteen and fourteen, was an awful legacy for a mother to bequeath, an awful charge rather, to confide to the authority and guidance of a conceited, silly father. She had, however, one very intimate friend, a sensible, deserving woman, who had been brought, by strong attachment to herself, to settle close by her, in the village of Kellynch; and on her kindness and advice, Lady Elliot mainly relied for the best help and maintenance of the good principles and instruction which she had been anxiously giving her daughters. This friend, and Sir Walter, did not marry, whatever might have been anticipated on that head by their acquaintance. Thirteen years had passed away since Lady Elliot\\'s death, and they were still near neighbours and intimate friends, and one remained a widower, the other a widow. That Lady Russell, of steady age and character, and extremely well provided for, should have no thought of a second marriage, needs no apology to the public, which is rather apt to be unreasonably discontented when a woman does marry again, than when she does not; but Sir Walter\\'s continuing in singleness requires explanation. Be it known then, that Sir Walter, like a good father, (having met with one or two private disappointments in very unreasonable applications), prided himself on remaining single for his dear daughters\\' sake. For one daughter, his eldest, he would really have given up any thing, which he had not been very much tempted to do. Elizabeth had succeeded, at sixteen, to all that was possible, of her mother\\'s rights and consequence; and being very handsome, and very like himself, her influence had always been great, and they had gone on together most happily. His two other children were of very inferior value. Mary had acquired a little artificial importance, by becoming Mrs Charles Musgrove; but Anne, with an elegance of mind and sweetness of character, which must have placed her high with any people of real understanding, was nobody with either father or sister; her word had no weight, her convenience was always to give way--she was only Anne. To Lady Russell, indeed, she was a most dear and highly valued god-daughter, favourite, and friend. Lady Russell loved them all; but it was only in Anne that she could fancy the mother to revive again. A few years before, Anne Elliot had been a very pretty girl, but her bloom had vanished early; and as even in its height, her father had found little to admire in her, (so totally different were her delicate features and mild dark eyes from his own), there could be nothing in them, now that she was faded and thin, to excite his esteem. He had never indulged much hope, he had now none, of ever reading her name in any other page of his favourite work. All equality of alliance must rest with Elizabeth, for Mary had merely connected herself with an old country family of respectability and large fortune, and had therefore given all the honour and received none: Elizabeth would, one day or other, marry suitably. It sometimes happens that a woman is handsomer at twenty-nine than she was ten years before; and, generally speaking, if there has been neither ill health nor anxiety, it is a time of life at which scarcely any charm is lost. It was so with Elizabeth, still the same handsome Miss Elliot that she had begun to be thirteen years ago, and Sir Walter might be excused, therefore, in forgetting her age, or, at least, be deemed only half a fool, for thinking himself and Elizabeth as blooming as ever, amidst the wreck of the good looks of everybody else; for he could plainly see how old all the rest of his family and acquaintance were growing. Anne haggard, Mary coarse, every face in the neighbourhood worsting, and the rapid increase of the crow\\'s foot about Lady Russell\\'s temples had long been a distress to him. Elizabeth did not quite equal her father in personal contentment. Thirteen years had seen her mistress of Kellynch Hall, presiding and directing with a self-possession and decision which could never have given the idea of her being younger than she was. For thirteen years had she been doing the honours, and laying down the domestic law at home, and leading the way to the chaise and four, and walking immediately after Lady Russell out of all the drawing-rooms and dining-rooms in the country. Thirteen winters\\' revolving frosts had seen her opening every ball of credit which a scanty neighbourhood afforded, and thirteen springs shewn their blossoms, as she travelled up to London with her father, for a few weeks\\' annual enjoyment of the great world. She had the remembrance of all this, she had the consciousness of being nine-and-twenty to give her some regrets and some apprehensions; she was fully satisfied of being still quite as handsome as ever, but she felt her approach to the years of danger, and would have rejoiced to be certain of being properly solicited by baronet-blood within the next twelvemonth or two. Then might she again take up the book of books with as much enjoyment as in her early youth, but now she liked it not. Always to be presented with the date of her own birth and see no marriage follow but that of a youngest sister, made the book an evil; and more than once, when her father had left it open on the table near her, had she closed it, with averted eyes, and pushed it away. She had had a disappointment, moreover, which that book, and especially the history of her own family, must ever present the remembrance of. The heir presumptive, the very William Walter Elliot, Esq., whose rights had been so generously supported by her father, had disappointed her. She had, while a very young girl, as soon as she had known him to be, in the event of her having no brother, the future baronet, meant to marry him, and her father had always meant that she should. He had not been known to them as a boy; but soon after Lady Elliot\\'s death, Sir Walter had sought the acquaintance, and though his overtures had not been met with any warmth, he had persevered in seeking it, making allowance for the modest drawing-back of youth; and, in one of their spring excursions to London, when Elizabeth was in her first bloom, Mr Elliot had been forced into the introduction. He was at that time a very young man, just engaged in the study of the law; and Elizabeth found him extremely agreeable, and every plan in his favour was confirmed. He was invited to Kellynch Hall; he was talked of and expected all the rest of the year; but he never came. The following spring he was seen again in town, found equally agreeable, again encouraged, invited, and expected, and again he did not come; and the next tidings were that he was married. Instead of pushing his fortune in the line marked out for the heir of the house of Elliot, he had purchased independence by uniting himself to a rich woman of inferior birth. Sir Walter had resented it. As the head of the house, he felt that he ought to have been consulted, especially after taking the young man so publicly by the hand; \"For they must have been seen together,\" he observed, \"once at Tattersall\\'s, and twice in the lobby of the House of Commons.\" His disapprobation was expressed, but apparently very little regarded. Mr Elliot had attempted no apology, and shewn himself as unsolicitous of being longer noticed by the family, as Sir Walter considered him unworthy of it: all acquaintance between them had ceased. This very awkward history of Mr Elliot was still, after an interval of several years, felt with anger by Elizabeth, who had liked the man for himself, and still more for being her father\\'s heir, and whose strong family pride could see only in him a proper match for Sir Walter Elliot\\'s eldest daughter. There was not a baronet from A to Z whom her feelings could have so willingly acknowledged as an equal. Yet so miserably had he conducted himself, that though she was at this present time (the summer of 1814) wearing black ribbons for his wife, she could not admit him to be worth thinking of again. The disgrace of his first marriage might, perhaps, as there was no reason to suppose it perpetuated by offspring, have been got over, had he not done worse; but he had, as by the accustomary intervention of kind friends, they had been informed, spoken most disrespectfully of them all, most slightingly and contemptuously of the very blood he belonged to, and the honours which were hereafter to be his own. This could not be pardoned. Such were Elizabeth Elliot\\'s sentiments and sensations; such the cares to alloy, the agitations to vary, the sameness and the elegance, the prosperity and the nothingness of her scene of life; such the feelings to give interest to a long, uneventful residence in one country circle, to fill the vacancies which there were no habits of utility abroad, no talents or accomplishments for home, to occupy. But now, another occupation and solicitude of mind was beginning to be added to these. Her father was growing distressed for money. She knew, that when he now took up the Baronetage, it was to drive the heavy bills of his tradespeople, and the unwelcome hints of Mr Shepherd, his agent, from his thoughts. The Kellynch property was good, but not equal to Sir Walter\\'s apprehension of the state required in its possessor. While Lady Elliot lived, there had been method, moderation, and economy, which had just kept him within his income; but with her had died all such right-mindedness, and from that period he had been constantly exceeding it. It had not been possible for him to spend less; he had done nothing but what Sir Walter Elliot was imperiously called on to do; but blameless as he was, he was not only growing dreadfully in debt, but was hearing of it so often, that it became vain to attempt concealing it longer, even partially, from his daughter. He had given her some hints of it the last spring in town; he had gone so far even as to say, \"Can we retrench? Does it occur to you that there is any one article in which we can retrench?\" and Elizabeth, to do her justice, had, in the first ardour of female alarm, set seriously to think what could be done, and had finally proposed these two branches of economy, to cut off some unnecessary charities, and to refrain from new furnishing the drawing-room; to which expedients she afterwards added the happy thought of their taking no present down to Anne, as had been the usual yearly custom. But these measures, however good in themselves, were insufficient for the real extent of the evil, the whole of which Sir Walter found himself obliged to confess to her soon afterwards. Elizabeth had nothing to propose of deeper efficacy. She felt herself ill-used and unfortunate, as did her father; and they were neither of them able to devise any means of lessening their expenses without compromising their dignity, or relinquishing their comforts in a way not to be borne. There was only a small part of his estate that Sir Walter could dispose of; but had every acre been alienable, it would have made no difference. He had condescended to mortgage as far as he had the power, but he would never condescend to sell. No; he would never disgrace his name so far. The Kellynch estate should be transmitted whole and entire, as he had received it. Their two confidential friends, Mr Shepherd, who lived in the neighbouring market town, and Lady Russell, were called to advise them; and both father and daughter seemed to expect that something should be struck out by one or the other to remove their embarrassments and reduce their expenditure, without involving the loss of any indulgence of taste or pride. Chapter 2 Mr Shepherd, a civil, cautious lawyer, who, whatever might be his hold or his views on Sir Walter, would rather have the disagreeable prompted by anybody else, excused himself from offering the slightest hint, and only begged leave to recommend an implicit reference to the excellent judgement of Lady Russell, from whose known good sense he fully expected to have just such resolute measures advised as he meant to see finally adopted. Lady Russell was most anxiously zealous on the subject, and gave it much serious consideration. She was a woman rather of sound than of quick abilities, whose difficulties in coming to any decision in this instance were great, from the opposition of two leading principles. She was of strict integrity herself, with a delicate sense of honour; but she was as desirous of saving Sir Walter\\'s feelings, as solicitous for the credit of the family, as aristocratic in her ideas of what was due to them, as anybody of sense and honesty could well be. She was a benevolent, charitable, good woman, and capable of strong attachments, most correct in her conduct, strict in her notions of decorum, and with manners that were held a standard of good-breeding. She had a cultivated mind, and was, generally'"
      ]
     },
     "execution_count": 19,
     "metadata": {},
     "output_type": "execute_result"
    }
   ],
   "source": [
    "tokens = tokenizer.encode(book)[:3890]\n",
    "tokenizer.decode(tokens)\n"
   ]
  },
  {
   "cell_type": "markdown",
   "id": "4bb891a6-4028-4965-b80b-a66fc305e3a4",
   "metadata": {},
   "source": [
    "# Prompt Creating Function"
   ]
  },
  {
   "cell_type": "code",
   "execution_count": 5,
   "id": "f455d5b6-fb31-46f9-b22d-f77fa3d3f544",
   "metadata": {},
   "outputs": [],
   "source": [
    "def create_prompt_clipped(version, context, character, grammatical_number, max_no_tokens=512):\n",
    "    \n",
    "    if grammatical_number == 'singular':\n",
    "        to_be = 'is'\n",
    "    elif grammatical_number == 'plural':\n",
    "        to_be = 'are'\n",
    "    \n",
    "    if version in [1, 2, 9, 10, 11, 12, 13, 20, 21, 22]:\n",
    "        question = \"Where \" + to_be + \" \" + character + \"?\"\n",
    "    elif version in [4, 5, 7, 8, 15, 16, 18, 19]:\n",
    "        question = \"where \" + character + \" \" + to_be + \".\"\n",
    "    elif version in [3, 14]:\n",
    "        question = \"where \" + character + \" \" + to_be + \"?\"\n",
    "    elif version in [6, 17]:\n",
    "        question = \"where \" + to_be + \" \" + character + \"?\"\n",
    "        \n",
    "    if version == 1 or version == 12:\n",
    "        intro = \"Answer the question depending on the context.\"\n",
    "    elif version == 2 or version == 13:\n",
    "        intro = \"What is the answer?\"\n",
    "    elif version == 3 or version == 14:\n",
    "        intro = \"Can you tell me \"\n",
    "    elif version == 4 or version == 15:\n",
    "        intro = \"Please tell me \"\n",
    "    elif version == 5 or version == 16:\n",
    "        intro = \"Tell me \"\n",
    "    elif version == 6 or version == 17:\n",
    "        intro = \"From the passage, \"\n",
    "    elif version == 7 or version == 18:\n",
    "        intro = \"I want to know \"\n",
    "    elif version == 8 or version == 19:\n",
    "        intro = \"I want to ask \"\n",
    "    elif version == 9 or version == 20:\n",
    "        intro = \"What is the answer to: \"\n",
    "    elif version == 10 or version == 21:\n",
    "        intro = \"Find the answer to: \"\n",
    "    elif version == 11 or version == 22:\n",
    "        intro = \"Answer: \"     \n",
    "    \n",
    "    if version in [1, 2]:\n",
    "        oo = 0\n",
    "        tm = Template(\"\"\"{{ intro }}\n",
    "Context: {{context}};\n",
    "Question: {{question}};\n",
    "Answer: \"\"\")        \n",
    "        prompt = tm.render(intro=intro, context=context, question=question)\n",
    "        \n",
    "        while len(tokenizer.encode(prompt)) > max_no_tokens:\n",
    "            context = tokenizer.encode(context)\n",
    "            diff = len(tokenizer.encode(prompt)) - max_no_tokens\n",
    "            context = context[diff:]\n",
    "            oo += 1\n",
    "            if oo > 4:\n",
    "                context = context[1:]\n",
    "            context = tokenizer.decode(context, skip_special_tokens=True)\n",
    "            prompt = tm.render(intro=intro, context=context, question=question)\n",
    "        \n",
    "    elif version in [3, 4, 5, 6, 7, 8, 9, 10, 11]:\n",
    "        oo = 0\n",
    "        tm = Template(\"{{context}} {{intro}}{{question}}\")\n",
    "        prompt = tm.render(intro=intro, context=context, question=question)\n",
    "        while len(tokenizer.encode(prompt)) > max_no_tokens:\n",
    "            context = tokenizer.encode(context)\n",
    "            diff = len(tokenizer.encode(prompt)) - max_no_tokens\n",
    "            context = context[diff:]            \n",
    "            oo += 1\n",
    "            if oo > 4:\n",
    "                context = context[1:]\n",
    "            context = tokenizer.decode(context, skip_special_tokens=True)\n",
    "            prompt = tm.render(intro=intro, context=context, question=question)\n",
    "        \n",
    "        \n",
    "    elif version in [12, 13]:\n",
    "        oo = 0\n",
    "        tm = Template(\"\"\"{{ intro }}\n",
    "Context: {{context}};\n",
    "Question: {{question}};\n",
    "If you can't find the answer, please respond \"unanswerable\".\n",
    "Answer: \"\"\")\n",
    "        prompt = tm.render(intro=intro, context=context, question=question)\n",
    "        while len(tokenizer.encode(prompt)) > max_no_tokens:\n",
    "            context = tokenizer.encode(context)\n",
    "            diff = len(tokenizer.encode(prompt)) - max_no_tokens\n",
    "            context = context[diff:]\n",
    "            oo += 1\n",
    "            if oo > 4:\n",
    "                context = context[1:]\n",
    "            context = tokenizer.decode(context, skip_special_tokens=True)\n",
    "            prompt = tm.render(intro=intro, context=context, question=question)\n",
    "        \n",
    "    elif version in [14, 15, 16, 17, 18, 19, 20, 21, 22]:\n",
    "        oo = 0\n",
    "        tm = Template('{{context}} {{intro}}{{question}} If you can\\'t find the answer, please respond \"unanswerable\".\"')\n",
    "        prompt = tm.render(intro=intro, context=context, question=question)    \n",
    "        while len(tokenizer.encode(prompt)) > max_no_tokens:\n",
    "            context = tokenizer.encode(context)\n",
    "            diff = len(tokenizer.encode(prompt)) - max_no_tokens\n",
    "            context = context[diff:]\n",
    "            oo += 1\n",
    "            if oo > 4:\n",
    "                context = context[1:]\n",
    "            context = tokenizer.decode(context, skip_special_tokens=True)\n",
    "            prompt = tm.render(intro=intro, context=context, question=question)\n",
    "            \n",
    "    elif version == 23:\n",
    "        oo = 0\n",
    "        prompt = \"Where \" + to_be + \" \" + character + \" in the following text: \" + context + \" Answer: \"\n",
    "        while len(tokenizer.encode(prompt)) > max_no_tokens:\n",
    "            context = tokenizer.encode(context)\n",
    "            diff = len(tokenizer.encode(prompt)) - max_no_tokens\n",
    "            context = context[diff:]\n",
    "            oo += 1\n",
    "            if oo > 4:\n",
    "                context = context[1:]\n",
    "            context = tokenizer.decode(context, skip_special_tokens=True)\n",
    "            prompt = \"Where \" + to_be + \" \" + character + \" in the following text: \" + context + \" Answer: \"\n",
    "        \n",
    "    return prompt, context"
   ]
  },
  {
   "cell_type": "markdown",
   "id": "088a4d63-7edb-44df-bddb-3a6342f8388b",
   "metadata": {},
   "source": [
    "# Get the Annotaions"
   ]
  },
  {
   "cell_type": "code",
   "execution_count": 6,
   "id": "81d34734-205b-4763-9629-39e1b08fba61",
   "metadata": {},
   "outputs": [],
   "source": [
    "all_annotations = {}\n",
    "\n",
    "for item in dir_list_annotations:\n",
    "    \n",
    "    f = open(os.path.join(path_annotations, item), 'r')\n",
    "    annotations = pd.read_csv(f, sep=\"\\t\")\n",
    "    annotations = annotations.values\n",
    "    f.close()\n",
    "    \n",
    "    all_annotations[item] = annotations"
   ]
  },
  {
   "cell_type": "markdown",
   "id": "46504e12-59eb-477f-bdbf-e3c1589bb184",
   "metadata": {},
   "source": [
    "# Create the Dataset Pickle"
   ]
  },
  {
   "cell_type": "code",
   "execution_count": null,
   "id": "a655bb81-a046-4c30-a5ae-dcaa42677b02",
   "metadata": {},
   "outputs": [
    {
     "name": "stderr",
     "output_type": "stream",
     "text": [
      "Token indices sequence length is longer than the specified maximum sequence length for this model (1244 > 512). Running this sequence through the model will result in indexing errors\n"
     ]
    },
    {
     "name": "stdout",
     "output_type": "stream",
     "text": [
      "Andersen_story11.txt\n",
      "Andersen_story12.txt\n",
      "Andersen_story13.txt\n",
      "Andersen_story15.txt\n",
      "Andersen_story16.txt\n",
      "Andersen_story17.txt\n",
      "Andersen_story18.txt\n",
      "Andersen_story1.txt\n",
      "Andersen_story2.txt\n",
      "Andersen_story3.txt\n",
      "Andersen_story5.txt\n",
      "Andersen_story7.txt\n",
      "Andersen_story8.txt\n",
      "Andersen_story9.txt\n",
      "Andersen_story10.txt\n"
     ]
    }
   ],
   "source": [
    "dataset = {}\n",
    "    \n",
    "for k in range(1, num_templates+1):\n",
    "    dataset[k] = []\n",
    "    \n",
    "i = 0\n",
    "\n",
    "for item in dir_list_annotations:\n",
    "        \n",
    "    print(item)        \n",
    "\n",
    "    f = open(os.path.join(path_andersen, item), 'r') \n",
    "    story = f.read()\n",
    "    f.close()\n",
    "\n",
    "    annotations = all_annotations[item]\n",
    "\n",
    "    paragraphs = story.split(\"\\n\\n\")\n",
    "    paragraph = paragraphs[0]\n",
    "    len_title = len(paragraph) + 2        \n",
    "\n",
    "    for line in annotations:\n",
    "\n",
    "        character = line[1]\n",
    "        gold_answer = line[2]\n",
    "        grammatical_number = line[3]\n",
    "\n",
    "        for k in range(1, 24):\n",
    "\n",
    "            data_point = {}\n",
    "\n",
    "            y = line[0]\n",
    "            x = y - 5120\n",
    "\n",
    "            if x < len_title:\n",
    "                text = story[len_title:y]\n",
    "\n",
    "            else:\n",
    "                x = story[x:y].find(\" \") + x\n",
    "                text = story[x:y]\n",
    "\n",
    "            text = text_clean_ending(text)\n",
    "            text = remove_new_lines(text)\n",
    "\n",
    "            prompt, context2 = create_prompt_clipped(k, text, character, grammatical_number, 512)\n",
    "\n",
    "            data_point[\"prompt\"] = prompt\n",
    "            data_point[\"gold_locations\"] = gold_answer\n",
    "            data_point[\"id\"] = i\n",
    "\n",
    "            dataset[k].append(data_point)\n",
    "            \n",
    "            i += 1\n",
    "\n",
    "            "
   ]
  },
  {
   "cell_type": "markdown",
   "id": "c9f94033-3dce-4784-930e-7ef83f801d65",
   "metadata": {},
   "source": [
    "# Save the Dataset in a Pickle"
   ]
  },
  {
   "cell_type": "code",
   "execution_count": null,
   "id": "03f9d60e-71c4-41b3-9d8c-6549d434f5c8",
   "metadata": {},
   "outputs": [],
   "source": [
    "with open(\"T5_tokenizer_dataset.txt\", \"wb\") as f:\n",
    "    pickle.dump(dataset, f)"
   ]
  },
  {
   "cell_type": "code",
   "execution_count": null,
   "id": "dcb7d3fa-4794-47ae-9cbc-b8c9566709e8",
   "metadata": {},
   "outputs": [],
   "source": []
  }
 ],
 "metadata": {
  "kernelspec": {
   "display_name": "Python 3 (ipykernel)",
   "language": "python",
   "name": "python3"
  },
  "language_info": {
   "codemirror_mode": {
    "name": "ipython",
    "version": 3
   },
   "file_extension": ".py",
   "mimetype": "text/x-python",
   "name": "python",
   "nbconvert_exporter": "python",
   "pygments_lexer": "ipython3",
   "version": "3.8.13"
  }
 },
 "nbformat": 4,
 "nbformat_minor": 5
}
